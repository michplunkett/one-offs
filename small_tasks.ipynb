{
 "cells": [
  {
   "cell_type": "markdown",
   "source": [
    "# Maroon Demographic Information"
   ],
   "metadata": {
    "collapsed": false
   }
  },
  {
   "cell_type": "code",
   "execution_count": 7,
   "outputs": [],
   "source": [
    "# Imports\n",
    "import polars as pl\n",
    "\n",
    "from util.files import write_to_json"
   ],
   "metadata": {
    "collapsed": false
   }
  },
  {
   "cell_type": "code",
   "execution_count": 8,
   "outputs": [],
   "source": [
    "# Helper functions\n",
    "def list_to_parsed_list(unparsed_list, fuzzy_func):\n",
    "    parsed_list = []\n",
    "    for l in unparsed_list:\n",
    "        if l == \"\" or l.lower() == \"n/a\" or l.lower() == \"undecided\":\n",
    "            continue\n",
    "        if \",\" in l:\n",
    "            for p in l.lower().split(\",\"):\n",
    "                if p != \"\":\n",
    "                    if fuzzy_func:\n",
    "                        parsed_list.append(fuzzy_func(p.strip()).title())\n",
    "                    else:\n",
    "                        parsed_list.append(p.strip().title())\n",
    "        else:\n",
    "            if fuzzy_func:\n",
    "                parsed_list.append(fuzzy_func(l.lower().strip()).title())\n",
    "            else:\n",
    "                parsed_list.append(l.lower().strip().title())\n",
    "    return parsed_list\n",
    "\n",
    "\n",
    "def fuzzy_study_match(major):\n",
    "    if major == \"cs\":\n",
    "        major = \"computer science\"\n",
    "    elif major in [\"lls\", \"llso\", \"law letters & society\"]:\n",
    "        major = \"law letters and society\"\n",
    "    elif \"econ\" in major:\n",
    "        major = \"economics\"\n",
    "    elif \"public policy\" in major:\n",
    "        major = \"public policy\"\n",
    "    elif \"history\" in major:\n",
    "        major = \"history\"\n",
    "    elif \"visual art\" in major:\n",
    "        major = \"visual art\"\n",
    "    elif \"creative writing\" in major:\n",
    "        major = \"english and creative writing\"\n",
    "    elif major == \"taps\":\n",
    "        major = \"theater and performance studies\"\n",
    "\n",
    "    return major\n",
    "\n",
    "\n",
    "def fuzzy_language_match(lang):\n",
    "    if \"cantonese\" in lang:\n",
    "        lang = \"cantonese\"\n",
    "    elif \"mandarin\" in lang:\n",
    "        lang = \"mandarin\"\n",
    "\n",
    "    return lang"
   ],
   "metadata": {
    "collapsed": false
   }
  },
  {
   "cell_type": "code",
   "execution_count": 9,
   "id": "99394851",
   "metadata": {},
   "outputs": [],
   "source": [
    "# Dealing with and parsing data\n",
    "# Read file\n",
    "df = pl.read_csv(\"scratch/Maroon_2023_Staff_Survey.csv\")\n",
    "\n",
    "# Make Timestamp a DateTime\n",
    "df = df.with_columns(\n",
    "    pl.col(\"Timestamp\")\n",
    "    .str.strptime(\n",
    "        dtype=pl.Datetime, format=\"%Y/%m/%d %l:%M:%S %p %Z\", strict=False\n",
    "    )\n",
    "    .cast(pl.Datetime)\n",
    ")\n",
    "\n",
    "# Get majors data\n",
    "majors = pl.Series(\n",
    "    list_to_parsed_list(df[\"Majors\"].to_list(), fuzzy_study_match)\n",
    ").value_counts()\n",
    "majors.columns = [\"major\", \"counts\"]\n",
    "majors = majors.to_dict(as_series=False)\n",
    "write_to_json(\"scratch/majors.json\", majors)\n",
    "\n",
    "# Get minors data\n",
    "minors = pl.Series(\n",
    "    list_to_parsed_list(df[\"Minors\"].to_list(), fuzzy_study_match)\n",
    ").value_counts()\n",
    "minors.columns = [\"minor\", \"counts\"]\n",
    "minors = minors.to_dict(as_series=False)\n",
    "write_to_json(\"scratch/minors.json\", minors)\n",
    "\n",
    "# Get languages data\n",
    "languages = pl.Series(\n",
    "    list_to_parsed_list(\n",
    "        [v for v in df[\"FluentLanguages\"].to_list() if v != \"\"],\n",
    "        fuzzy_language_match,\n",
    "    )\n",
    ").value_counts()\n",
    "languages.columns = [\"language\", \"counts\"]\n",
    "languages = languages.to_dict(as_series=False)\n",
    "write_to_json(\"scratch/languages.json\", languages)\n",
    "\n",
    "# Get info for word bubble\n",
    "maroon_in_word = pl.Series(\n",
    "    list_to_parsed_list(\n",
    "        [v for v in df[\"MaroonInAWord\"].to_list() if v != \"\"], None\n",
    "    )\n",
    ").value_counts()\n",
    "maroon_in_word.columns = [\"descriptiveWord\", \"counts\"]\n",
    "maroon_in_word = maroon_in_word.to_dict(as_series=False)\n",
    "write_to_json(\"scratch/maroon_in_a_word.json\", maroon_in_word)"
   ]
  },
  {
   "cell_type": "code",
   "execution_count": 181,
   "outputs": [],
   "source": [],
   "metadata": {
    "collapsed": false
   }
  }
 ],
 "metadata": {
  "kernelspec": {
   "display_name": "Python 3 (ipykernel)",
   "language": "python",
   "name": "python3"
  },
  "language_info": {
   "codemirror_mode": {
    "name": "ipython",
    "version": 3
   },
   "file_extension": ".py",
   "mimetype": "text/x-python",
   "name": "python",
   "nbconvert_exporter": "python",
   "pygments_lexer": "ipython3",
   "version": "3.11.3"
  }
 },
 "nbformat": 4,
 "nbformat_minor": 5
}
