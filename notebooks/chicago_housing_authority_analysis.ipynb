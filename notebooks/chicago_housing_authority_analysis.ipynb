{
  "cells": [
    {
      "cell_type": "code",
      "execution_count": 19,
      "id": "initial_id",
      "metadata": {
        "ExecuteTime": {
          "end_time": "2023-08-31T00:36:02.005689Z",
          "start_time": "2023-08-31T00:36:02.002974Z"
        },
        "collapsed": true
      },
      "outputs": [],
      "source": [
        "import polars as pl"
      ]
    },
    {
      "cell_type": "code",
      "execution_count": 27,
      "id": "2d8e489dfa78003a",
      "metadata": {
        "ExecuteTime": {
          "end_time": "2023-08-31T00:39:09.090311Z",
          "start_time": "2023-08-31T00:39:09.081855Z"
        },
        "collapsed": false
      },
      "outputs": [
        {
          "data": {
            "text/html": "<div><style>\n.dataframe > thead > tr > th,\n.dataframe > tbody > tr > td {\n  text-align: right;\n}\n</style>\n<small>shape: (556, 11)</small><table border=\"1\" class=\"dataframe\"><thead><tr><th>Unit_ID</th><th>2015</th><th>2016</th><th>2017</th><th>2018</th><th>2019</th><th>2020</th><th>2021</th><th>2022</th><th>2023</th><th>Sum Payments</th></tr><tr><td>str</td><td>i64</td><td>i64</td><td>i64</td><td>i64</td><td>i64</td><td>i64</td><td>i64</td><td>i64</td><td>i64</td><td>i64</td></tr></thead><tbody><tr><td>&quot;1001324&quot;</td><td>0</td><td>0</td><td>0</td><td>0</td><td>0</td><td>0</td><td>7154</td><td>11379</td><td>1896</td><td>20429</td></tr><tr><td>&quot;1002618&quot;</td><td>10434</td><td>20517</td><td>19479</td><td>20598</td><td>24574</td><td>14452</td><td>18744</td><td>12496</td><td>6248</td><td>147542</td></tr><tr><td>&quot;1003440&quot;</td><td>3870</td><td>7509</td><td>6816</td><td>2840</td><td>0</td><td>0</td><td>0</td><td>0</td><td>0</td><td>21035</td></tr><tr><td>&quot;1004080&quot;</td><td>0</td><td>10103</td><td>9946</td><td>10848</td><td>11489</td><td>12156</td><td>11548</td><td>1133</td><td>0</td><td>67223</td></tr><tr><td>&quot;1005039&quot;</td><td>4620</td><td>7959</td><td>8808</td><td>8808</td><td>11712</td><td>13401</td><td>12676</td><td>14796</td><td>3411</td><td>86191</td></tr><tr><td>&quot;1006397&quot;</td><td>0</td><td>0</td><td>11886</td><td>0</td><td>16005</td><td>15744</td><td>15372</td><td>14240</td><td>7120</td><td>80367</td></tr><tr><td>&quot;1006553&quot;</td><td>5667</td><td>11292</td><td>11493</td><td>12984</td><td>14750</td><td>14839</td><td>17184</td><td>11312</td><td>5656</td><td>105177</td></tr><tr><td>&quot;1006784&quot;</td><td>5430</td><td>10860</td><td>5430</td><td>4818</td><td>7620</td><td>4525</td><td>0</td><td>0</td><td>0</td><td>38683</td></tr><tr><td>&quot;1006998&quot;</td><td>7472</td><td>11934</td><td>10260</td><td>10818</td><td>11349</td><td>13738</td><td>19950</td><td>7980</td><td>0</td><td>93501</td></tr><tr><td>&quot;1007194&quot;</td><td>0</td><td>0</td><td>0</td><td>0</td><td>0</td><td>18963</td><td>21671</td><td>11814</td><td>0</td><td>52448</td></tr><tr><td>&quot;1007527&quot;</td><td>0</td><td>4578</td><td>9408</td><td>11511</td><td>11892</td><td>10110</td><td>8850</td><td>9414</td><td>3004</td><td>68767</td></tr><tr><td>&quot;1007604&quot;</td><td>4692</td><td>9145</td><td>9024</td><td>9024</td><td>9848</td><td>12030</td><td>12780</td><td>5391</td><td>0</td><td>71934</td></tr><tr><td>&hellip;</td><td>&hellip;</td><td>&hellip;</td><td>&hellip;</td><td>&hellip;</td><td>&hellip;</td><td>&hellip;</td><td>&hellip;</td><td>&hellip;</td><td>&hellip;</td><td>&hellip;</td></tr><tr><td>&quot;I7027728&quot;</td><td>4098</td><td>8256</td><td>8340</td><td>8095</td><td>7752</td><td>7608</td><td>6893</td><td>6766</td><td>1016</td><td>58824</td></tr><tr><td>&quot;I7027835&quot;</td><td>4236</td><td>3555</td><td>0</td><td>0</td><td>0</td><td>0</td><td>0</td><td>0</td><td>0</td><td>7791</td></tr><tr><td>&quot;I7028326&quot;</td><td>2766</td><td>5481</td><td>4920</td><td>4920</td><td>7038</td><td>6636</td><td>5133</td><td>4580</td><td>0</td><td>41474</td></tr><tr><td>&quot;I7028473&quot;</td><td>4464</td><td>8892</td><td>0</td><td>0</td><td>0</td><td>0</td><td>0</td><td>0</td><td>0</td><td>13356</td></tr><tr><td>&quot;I7028860&quot;</td><td>5700</td><td>-1900</td><td>0</td><td>0</td><td>0</td><td>0</td><td>7010</td><td>2181</td><td>0</td><td>12991</td></tr><tr><td>&quot;I7028939&quot;</td><td>5838</td><td>11709</td><td>9710</td><td>11842</td><td>0</td><td>0</td><td>0</td><td>0</td><td>0</td><td>39099</td></tr><tr><td>&quot;I7030609&quot;</td><td>2574</td><td>11068</td><td>9286</td><td>10380</td><td>13872</td><td>17879</td><td>17028</td><td>15474</td><td>0</td><td>97561</td></tr><tr><td>&quot;I7030718&quot;</td><td>165</td><td>2170</td><td>8315</td><td>8418</td><td>8196</td><td>9417</td><td>8779</td><td>7990</td><td>0</td><td>53450</td></tr><tr><td>&quot;I7033201&quot;</td><td>0</td><td>4752</td><td>13920</td><td>13920</td><td>13011</td><td>5295</td><td>0</td><td>0</td><td>0</td><td>50898</td></tr><tr><td>&quot;I7034307&quot;</td><td>0</td><td>0</td><td>12588</td><td>12974</td><td>12984</td><td>13010</td><td>11949</td><td>10830</td><td>0</td><td>74335</td></tr><tr><td>&quot;I7034869&quot;</td><td>0</td><td>0</td><td>5914</td><td>8220</td><td>8549</td><td>8604</td><td>8916</td><td>9288</td><td>2322</td><td>51813</td></tr><tr><td>&quot;I9000987&quot;</td><td>6204</td><td>12318</td><td>12228</td><td>12444</td><td>12660</td><td>13230</td><td>11500</td><td>16505</td><td>2462</td><td>99551</td></tr></tbody></table></div>",
            "text/plain": "shape: (556, 11)\n\u250c\u2500\u2500\u2500\u2500\u2500\u2500\u2500\u2500\u2500\u2500\u252c\u2500\u2500\u2500\u2500\u2500\u2500\u2500\u252c\u2500\u2500\u2500\u2500\u2500\u2500\u2500\u252c\u2500\u2500\u2500\u2500\u2500\u2500\u2500\u252c\u2500\u2500\u2500\u252c\u2500\u2500\u2500\u2500\u2500\u2500\u2500\u252c\u2500\u2500\u2500\u2500\u2500\u2500\u2500\u252c\u2500\u2500\u2500\u2500\u2500\u2500\u252c\u2500\u2500\u2500\u2500\u2500\u2500\u2500\u2500\u2500\u2500\u2500\u2500\u2500\u2500\u2510\n\u2502 Unit_ID  \u2506 2015  \u2506 2016  \u2506 2017  \u2506 \u2026 \u2506 2021  \u2506 2022  \u2506 2023 \u2506 Sum Payments \u2502\n\u2502 ---      \u2506 ---   \u2506 ---   \u2506 ---   \u2506   \u2506 ---   \u2506 ---   \u2506 ---  \u2506 ---          \u2502\n\u2502 str      \u2506 i64   \u2506 i64   \u2506 i64   \u2506   \u2506 i64   \u2506 i64   \u2506 i64  \u2506 i64          \u2502\n\u255e\u2550\u2550\u2550\u2550\u2550\u2550\u2550\u2550\u2550\u2550\u256a\u2550\u2550\u2550\u2550\u2550\u2550\u2550\u256a\u2550\u2550\u2550\u2550\u2550\u2550\u2550\u256a\u2550\u2550\u2550\u2550\u2550\u2550\u2550\u256a\u2550\u2550\u2550\u256a\u2550\u2550\u2550\u2550\u2550\u2550\u2550\u256a\u2550\u2550\u2550\u2550\u2550\u2550\u2550\u256a\u2550\u2550\u2550\u2550\u2550\u2550\u256a\u2550\u2550\u2550\u2550\u2550\u2550\u2550\u2550\u2550\u2550\u2550\u2550\u2550\u2550\u2561\n\u2502 1001324  \u2506 0     \u2506 0     \u2506 0     \u2506 \u2026 \u2506 7154  \u2506 11379 \u2506 1896 \u2506 20429        \u2502\n\u2502 1002618  \u2506 10434 \u2506 20517 \u2506 19479 \u2506 \u2026 \u2506 18744 \u2506 12496 \u2506 6248 \u2506 147542       \u2502\n\u2502 1003440  \u2506 3870  \u2506 7509  \u2506 6816  \u2506 \u2026 \u2506 0     \u2506 0     \u2506 0    \u2506 21035        \u2502\n\u2502 1004080  \u2506 0     \u2506 10103 \u2506 9946  \u2506 \u2026 \u2506 11548 \u2506 1133  \u2506 0    \u2506 67223        \u2502\n\u2502 \u2026        \u2506 \u2026     \u2506 \u2026     \u2506 \u2026     \u2506 \u2026 \u2506 \u2026     \u2506 \u2026     \u2506 \u2026    \u2506 \u2026            \u2502\n\u2502 I7033201 \u2506 0     \u2506 4752  \u2506 13920 \u2506 \u2026 \u2506 0     \u2506 0     \u2506 0    \u2506 50898        \u2502\n\u2502 I7034307 \u2506 0     \u2506 0     \u2506 12588 \u2506 \u2026 \u2506 11949 \u2506 10830 \u2506 0    \u2506 74335        \u2502\n\u2502 I7034869 \u2506 0     \u2506 0     \u2506 5914  \u2506 \u2026 \u2506 8916  \u2506 9288  \u2506 2322 \u2506 51813        \u2502\n\u2502 I9000987 \u2506 6204  \u2506 12318 \u2506 12228 \u2506 \u2026 \u2506 11500 \u2506 16505 \u2506 2462 \u2506 99551        \u2502\n\u2514\u2500\u2500\u2500\u2500\u2500\u2500\u2500\u2500\u2500\u2500\u2534\u2500\u2500\u2500\u2500\u2500\u2500\u2500\u2534\u2500\u2500\u2500\u2500\u2500\u2500\u2500\u2534\u2500\u2500\u2500\u2500\u2500\u2500\u2500\u2534\u2500\u2500\u2500\u2534\u2500\u2500\u2500\u2500\u2500\u2500\u2500\u2534\u2500\u2500\u2500\u2500\u2500\u2500\u2500\u2534\u2500\u2500\u2500\u2500\u2500\u2500\u2534\u2500\u2500\u2500\u2500\u2500\u2500\u2500\u2500\u2500\u2500\u2500\u2500\u2500\u2500\u2518"
          },
          "execution_count": 27,
          "metadata": {},
          "output_type": "execute_result"
        }
      ],
      "source": [
        "# Import and munge payments data.\n",
        "payments_df = (\n",
        "    pl.read_csv(\n",
        "        \"./data/payments-15-23.csv\",\n",
        "        dtypes=[\n",
        "            pl.Utf8,\n",
        "            pl.Int64,\n",
        "            pl.Int64,\n",
        "            pl.Int64,\n",
        "            pl.Int64,\n",
        "            pl.Int64,\n",
        "            pl.Int64,\n",
        "            pl.Int64,\n",
        "            pl.Int64,\n",
        "            pl.Int64,\n",
        "        ],\n",
        "    )\n",
        "    .drop([\"Grand Total\"])\n",
        "    .filter(pl.col(\"Unit_ID\") != \"Grand Total\")\n",
        "    .with_columns(pl.all().fill_null(0))\n",
        ")\n",
        "payments_df = payments_df.with_columns(\n",
        "    payments_df.select(pl.all().exclude(\"Unit_ID\")).sum(axis=1).alias(\"Sum Payments\")\n",
        ")"
      ]
    },
    {
      "cell_type": "code",
      "execution_count": 20,
      "id": "2de8ee65d090954d",
      "metadata": {
        "ExecuteTime": {
          "start_time": "2023-08-31T00:36:02.009751Z"
        },
        "collapsed": false
      },
      "outputs": [],
      "source": [
        "# Group inspections per year, remove duplicates, and merge IDs from both sheets.\n",
        "early_years = (\n",
        "    pl.read_csv(\n",
        "        \"./data/inspections_16-18.csv\",\n",
        "        dtypes=[pl.Utf8, pl.Int64, pl.Int64, pl.Int64, pl.Int64],\n",
        "    )\n",
        "    .drop([\"Grand Total\"])\n",
        "    .with_columns(pl.all().fill_null(0))\n",
        ")\n",
        "later_years = pl.read_csv(\n",
        "    \"./data/inspections_19-23.csv\",\n",
        "    dtypes=[\n",
        "        pl.Utf8,\n",
        "        pl.Int64,\n",
        "        pl.Int64,\n",
        "        pl.Int64,\n",
        "        pl.Int64,\n",
        "        pl.Int64,\n",
        "        pl.Int64,\n",
        "    ],\n",
        ").drop([\"Grand Total\"])\n",
        "merged_df = early_years.join(\n",
        "    later_years, left_on=\"Unit_Code\", right_on=\"Unit\", how=\"outer\"\n",
        ")\n",
        "grouped_df = merged_df.groupby(\"Unit_Code\").agg(\n",
        "    pl.col(\"2016\").sum(),\n",
        "    pl.col(\"2017\").sum(),\n",
        "    pl.col(\"2018\").sum(),\n",
        "    pl.col(\"2019\").sum(),\n",
        "    pl.col(\"2020\").sum(),\n",
        "    pl.col(\"2021\").sum(),\n",
        "    pl.col(\"2022\").sum(),\n",
        "    pl.col(\"2023\").sum(),\n",
        ")\n",
        "grouped_df = grouped_df.with_columns(\n",
        "    grouped_df.select(pl.all().exclude(\"Unit_Code\"))\n",
        "    .sum(axis=1)\n",
        "    .alias(\"Sum Inspections\")\n",
        ")"
      ]
    },
    {
      "cell_type": "code",
      "execution_count": 34,
      "id": "50f9847e47194be6",
      "metadata": {
        "ExecuteTime": {
          "end_time": "2023-08-31T01:01:06.810533Z",
          "start_time": "2023-08-31T01:01:06.800995Z"
        },
        "collapsed": false
      },
      "outputs": [
        {
          "data": {
            "text/html": "<div><style>\n.dataframe > thead > tr > th,\n.dataframe > tbody > tr > td {\n  text-align: right;\n}\n</style>\n<small>shape: (715, 3)</small><table border=\"1\" class=\"dataframe\"><thead><tr><th>Unit_Code</th><th>Sum Inspections</th><th>Sum Payments</th></tr><tr><td>str</td><td>i64</td><td>i64</td></tr></thead><tbody><tr><td>&quot;4112043&quot;</td><td>1</td><td>0</td></tr><tr><td>&quot;7035047&quot;</td><td>2</td><td>0</td></tr><tr><td>&quot;4000444&quot;</td><td>15</td><td>70389</td></tr><tr><td>&quot;5000336&quot;</td><td>10</td><td>80211</td></tr><tr><td>&quot;1057120&quot;</td><td>11</td><td>78856</td></tr><tr><td>&quot;4002111&quot;</td><td>13</td><td>55745</td></tr><tr><td>&quot;1007604&quot;</td><td>15</td><td>71934</td></tr><tr><td>&quot;4018094&quot;</td><td>1</td><td>0</td></tr><tr><td>&quot;4231260&quot;</td><td>4</td><td>0</td></tr><tr><td>&quot;4108725&quot;</td><td>2</td><td>0</td></tr><tr><td>&quot;1065114&quot;</td><td>10</td><td>66133</td></tr><tr><td>&quot;4065482&quot;</td><td>3</td><td>9308</td></tr><tr><td>&hellip;</td><td>&hellip;</td><td>&hellip;</td></tr><tr><td>&quot;1062571&quot;</td><td>0</td><td>4491</td></tr><tr><td>&quot;4000354&quot;</td><td>0</td><td>1000</td></tr><tr><td>&quot;4011305&quot;</td><td>0</td><td>3760</td></tr><tr><td>&quot;7028578&quot;</td><td>0</td><td>6993</td></tr><tr><td>&quot;4018782&quot;</td><td>0</td><td>11430</td></tr><tr><td>&quot;4015024&quot;</td><td>0</td><td>6024</td></tr><tr><td>&quot;4015718&quot;</td><td>0</td><td>38430</td></tr><tr><td>&quot;1094504&quot;</td><td>0</td><td>18916</td></tr><tr><td>&quot;I4015851&quot;</td><td>0</td><td>12777</td></tr><tr><td>&quot;1110015&quot;</td><td>0</td><td>47044</td></tr><tr><td>&quot;4016162&quot;</td><td>0</td><td>5671</td></tr><tr><td>&quot;1094404&quot;</td><td>0</td><td>1538</td></tr></tbody></table></div>",
            "text/plain": "shape: (715, 3)\n\u250c\u2500\u2500\u2500\u2500\u2500\u2500\u2500\u2500\u2500\u2500\u2500\u252c\u2500\u2500\u2500\u2500\u2500\u2500\u2500\u2500\u2500\u2500\u2500\u2500\u2500\u2500\u2500\u2500\u2500\u252c\u2500\u2500\u2500\u2500\u2500\u2500\u2500\u2500\u2500\u2500\u2500\u2500\u2500\u2500\u2510\n\u2502 Unit_Code \u2506 Sum Inspections \u2506 Sum Payments \u2502\n\u2502 ---       \u2506 ---             \u2506 ---          \u2502\n\u2502 str       \u2506 i64             \u2506 i64          \u2502\n\u255e\u2550\u2550\u2550\u2550\u2550\u2550\u2550\u2550\u2550\u2550\u2550\u256a\u2550\u2550\u2550\u2550\u2550\u2550\u2550\u2550\u2550\u2550\u2550\u2550\u2550\u2550\u2550\u2550\u2550\u256a\u2550\u2550\u2550\u2550\u2550\u2550\u2550\u2550\u2550\u2550\u2550\u2550\u2550\u2550\u2561\n\u2502 4112043   \u2506 1               \u2506 0            \u2502\n\u2502 7035047   \u2506 2               \u2506 0            \u2502\n\u2502 4000444   \u2506 15              \u2506 70389        \u2502\n\u2502 5000336   \u2506 10              \u2506 80211        \u2502\n\u2502 \u2026         \u2506 \u2026               \u2506 \u2026            \u2502\n\u2502 I4015851  \u2506 0               \u2506 12777        \u2502\n\u2502 1110015   \u2506 0               \u2506 47044        \u2502\n\u2502 4016162   \u2506 0               \u2506 5671         \u2502\n\u2502 1094404   \u2506 0               \u2506 1538         \u2502\n\u2514\u2500\u2500\u2500\u2500\u2500\u2500\u2500\u2500\u2500\u2500\u2500\u2534\u2500\u2500\u2500\u2500\u2500\u2500\u2500\u2500\u2500\u2500\u2500\u2500\u2500\u2500\u2500\u2500\u2500\u2534\u2500\u2500\u2500\u2500\u2500\u2500\u2500\u2500\u2500\u2500\u2500\u2500\u2500\u2500\u2518"
          },
          "execution_count": 34,
          "metadata": {},
          "output_type": "execute_result"
        }
      ],
      "source": [
        "# Combine\n",
        "inspection_payment_df = grouped_df.join(\n",
        "    payments_df, left_on=\"Unit_Code\", right_on=\"Unit_ID\", how=\"outer\"\n",
        ").with_columns(pl.all().fill_null(0))\n",
        "inspection_payment_df = inspection_payment_df.select(\n",
        "    [\"Unit_Code\", \"Sum Inspections\", \"Sum Payments\"]\n",
        ")\n",
        "inspection_payment_df"
      ]
    },
    {
      "cell_type": "code",
      "execution_count": null,
      "id": "ac0a0900a17ffa95",
      "metadata": {
        "collapsed": false
      },
      "outputs": [],
      "source": []
    }
  ],
  "metadata": {
    "kernelspec": {
      "display_name": "Python 3",
      "language": "python",
      "name": "python3"
    },
    "language_info": {
      "codemirror_mode": {
        "name": "ipython",
        "version": 2
      },
      "file_extension": ".py",
      "mimetype": "text/x-python",
      "name": "python",
      "nbconvert_exporter": "python",
      "pygments_lexer": "ipython2",
      "version": "2.7.6"
    }
  },
  "nbformat": 4,
  "nbformat_minor": 5
}
