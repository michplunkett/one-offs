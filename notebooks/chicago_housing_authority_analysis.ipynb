{
 "cells": [
  {
   "cell_type": "code",
   "execution_count": 1,
   "id": "initial_id",
   "metadata": {
    "collapsed": true,
    "ExecuteTime": {
     "end_time": "2023-08-30T21:00:14.098505Z",
     "start_time": "2023-08-30T21:00:13.674164Z"
    }
   },
   "outputs": [],
   "source": [
    "import polars as pl"
   ]
  },
  {
   "cell_type": "code",
   "execution_count": 23,
   "outputs": [
    {
     "name": "stdout",
     "output_type": "stream",
     "text": [
      "shape: (1, 1)\n",
      "┌───────┐\n",
      "│ count │\n",
      "│ ---   │\n",
      "│ u32   │\n",
      "╞═══════╡\n",
      "│ 562   │\n",
      "└───────┘\n",
      "shape: (1, 1)\n",
      "┌───────┐\n",
      "│ count │\n",
      "│ ---   │\n",
      "│ u32   │\n",
      "╞═══════╡\n",
      "│ 438   │\n",
      "└───────┘\n"
     ]
    }
   ],
   "source": [
    "# Group inspections per year, remove duplicates, and merge IDs from both sheets.\n",
    "early_years = pl.read_csv(\n",
    "    \"./data/inspections_16-18.csv\",\n",
    "    dtypes=[pl.Utf8, pl.Int64, pl.Int64, pl.Int64, pl.Int64],\n",
    ").drop([\"Grand Total\"])\n",
    "later_years = pl.read_csv(\n",
    "    \"./data/inspections_19-23.csv\",\n",
    "    dtypes=[\n",
    "        pl.Utf8,\n",
    "        pl.Int64,\n",
    "        pl.Int64,\n",
    "        pl.Int64,\n",
    "        pl.Int64,\n",
    "        pl.Int64,\n",
    "        pl.Int64,\n",
    "    ],\n",
    ").drop([\"Grand Total\"])\n",
    "merged_df = early_years.with_column(pl.all().fill_null(0)).join(\n",
    "    later_years, left_on=\"Unit_Code\", right_on=\"Unit\", how=\"outer\"\n",
    ")\n",
    "grouped_df = merged_df.groupby(\"Unit_Code\").agg(\n",
    "    pl.col(\"2016\").sum(),\n",
    "    pl.col(\"2017\").sum(),\n",
    "    pl.col(\"2018\").sum(),\n",
    "    pl.col(\"2019\").sum(),\n",
    "    pl.col(\"2020\").sum(),\n",
    "    pl.col(\"2021\").sum(),\n",
    "    pl.col(\"2022\").sum(),\n",
    "    pl.col(\"2023\").sum(),\n",
    ")\n",
    "print(grouped_df)\n",
    "print(grouped_df.select(pl.count()))"
   ],
   "metadata": {
    "collapsed": false,
    "ExecuteTime": {
     "end_time": "2023-08-30T21:41:57.652125Z",
     "start_time": "2023-08-30T21:41:57.644276Z"
    }
   },
   "id": "ece6c1513ae6c9ce"
  },
  {
   "cell_type": "code",
   "execution_count": null,
   "outputs": [],
   "source": [],
   "metadata": {
    "collapsed": false
   },
   "id": "27811ecc38af650a"
  }
 ],
 "metadata": {
  "kernelspec": {
   "display_name": "Python 3",
   "language": "python",
   "name": "python3"
  },
  "language_info": {
   "codemirror_mode": {
    "name": "ipython",
    "version": 2
   },
   "file_extension": ".py",
   "mimetype": "text/x-python",
   "name": "python",
   "nbconvert_exporter": "python",
   "pygments_lexer": "ipython2",
   "version": "2.7.6"
  }
 },
 "nbformat": 4,
 "nbformat_minor": 5
}
