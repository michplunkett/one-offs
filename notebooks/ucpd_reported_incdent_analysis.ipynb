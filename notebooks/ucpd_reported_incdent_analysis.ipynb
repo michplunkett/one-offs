{
 "cells": [
  {
   "cell_type": "code",
   "execution_count": 1,
   "id": "initial_id",
   "metadata": {
    "collapsed": true,
    "ExecuteTime": {
     "end_time": "2023-10-05T16:57:07.432980Z",
     "start_time": "2023-10-05T16:57:07.059054Z"
    }
   },
   "outputs": [],
   "source": [
    "import polars as pl"
   ]
  },
  {
   "cell_type": "code",
   "execution_count": 2,
   "outputs": [],
   "source": [
    "# Import incidents and format columns\n",
    "df = pl.read_csv(\n",
    "    \"./data/incident_dump.csv\",\n",
    ").with_columns(\n",
    "    pl.col(\"reported\")\n",
    "    .str.strptime(pl.Datetime, format=\"%Y-%m-%dT%H:%M:%S%z\")\n",
    "    .dt.convert_time_zone(\"America/Chicago\"),\n",
    "    pl.col(\"reported_date\").str.to_date(\"%Y-%m-%d\"),\n",
    "    pl.col(\"validated_location\").str.split(\",\").cast(pl.List(pl.Float64)),\n",
    "    pl.col(\"incident\").str.to_titlecase(),\n",
    ")"
   ],
   "metadata": {
    "collapsed": false,
    "ExecuteTime": {
     "end_time": "2023-10-05T16:57:07.445438Z",
     "start_time": "2023-10-05T16:57:07.434121Z"
    }
   },
   "id": "14f7bbdba7444ce8"
  },
  {
   "cell_type": "code",
   "execution_count": 3,
   "outputs": [
    {
     "data": {
      "text/plain": "shape: (507, 2)\n┌───────────────────────────────────┬───────┐\n│ incident                          ┆ count │\n│ ---                               ┆ ---   │\n│ str                               ┆ u32   │\n╞═══════════════════════════════════╪═══════╡\n│ Theft                             ┆ 934   │\n│ Information                       ┆ 618   │\n│ Found Property                    ┆ 570   │\n│ Information / Theft               ┆ 383   │\n│ …                                 ┆ …     │\n│ Aggravated Assault / Dui / Hit A… ┆ 1     │\n│ Theft From Person / Possession O… ┆ 1     │\n│ Informatio / Edical Call          ┆ 1     │\n│ Found Weapon                      ┆ 1     │\n└───────────────────────────────────┴───────┘",
      "text/html": "<div><style>\n.dataframe > thead > tr > th,\n.dataframe > tbody > tr > td {\n  text-align: right;\n}\n</style>\n<small>shape: (507, 2)</small><table border=\"1\" class=\"dataframe\"><thead><tr><th>incident</th><th>count</th></tr><tr><td>str</td><td>u32</td></tr></thead><tbody><tr><td>&quot;Theft&quot;</td><td>934</td></tr><tr><td>&quot;Information&quot;</td><td>618</td></tr><tr><td>&quot;Found Property…</td><td>570</td></tr><tr><td>&quot;Information / …</td><td>383</td></tr><tr><td>&quot;Medical Call&quot;</td><td>287</td></tr><tr><td>&quot;Battery&quot;</td><td>274</td></tr><tr><td>&quot;Lost Property&quot;</td><td>258</td></tr><tr><td>&quot;Information / …</td><td>231</td></tr><tr><td>&quot;Mental Health …</td><td>221</td></tr><tr><td>&quot;Liquor Law Vio…</td><td>199</td></tr><tr><td>&quot;Found Narcotic…</td><td>155</td></tr><tr><td>&quot;Information / …</td><td>150</td></tr><tr><td>&hellip;</td><td>&hellip;</td></tr><tr><td>&quot;Order Of Prote…</td><td>1</td></tr><tr><td>&quot;Medical Call /…</td><td>1</td></tr><tr><td>&quot;Information / …</td><td>1</td></tr><tr><td>&quot;Traffic Crash …</td><td>1</td></tr><tr><td>&quot;Traffic Violat…</td><td>1</td></tr><tr><td>&quot;Unlawful Posse…</td><td>1</td></tr><tr><td>&quot;Chemical Spill…</td><td>1</td></tr><tr><td>&quot;Information / …</td><td>1</td></tr><tr><td>&quot;Aggravated Ass…</td><td>1</td></tr><tr><td>&quot;Theft From Per…</td><td>1</td></tr><tr><td>&quot;Informatio / E…</td><td>1</td></tr><tr><td>&quot;Found Weapon&quot;</td><td>1</td></tr></tbody></table></div>"
     },
     "execution_count": 3,
     "metadata": {},
     "output_type": "execute_result"
    }
   ],
   "source": [
    "df.groupby([\"incident\"]).agg(pl.count()).sort(\"count\", descending=True)"
   ],
   "metadata": {
    "collapsed": false,
    "ExecuteTime": {
     "end_time": "2023-10-05T16:57:07.453289Z",
     "start_time": "2023-10-05T16:57:07.446180Z"
    }
   },
   "id": "15f78416b84388bc"
  },
  {
   "cell_type": "code",
   "execution_count": 4,
   "outputs": [
    {
     "data": {
      "text/plain": "shape: (444, 2)\n┌───────────────────────────────────┬───────┐\n│ incident                          ┆ count │\n│ ---                               ┆ ---   │\n│ str                               ┆ u32   │\n╞═══════════════════════════════════╪═══════╡\n│ Theft                             ┆ 934   │\n│ Information                       ┆ 618   │\n│ Information / Theft               ┆ 383   │\n│ Battery                           ┆ 274   │\n│ …                                 ┆ …     │\n│ Non-criminal / Property Damage    ┆ 1     │\n│ Traffic Violations Arrest         ┆ 1     │\n│ Information / Missing Person Fou… ┆ 1     │\n│ Information / Traffic Accident    ┆ 1     │\n└───────────────────────────────────┴───────┘",
      "text/html": "<div><style>\n.dataframe > thead > tr > th,\n.dataframe > tbody > tr > td {\n  text-align: right;\n}\n</style>\n<small>shape: (444, 2)</small><table border=\"1\" class=\"dataframe\"><thead><tr><th>incident</th><th>count</th></tr><tr><td>str</td><td>u32</td></tr></thead><tbody><tr><td>&quot;Theft&quot;</td><td>934</td></tr><tr><td>&quot;Information&quot;</td><td>618</td></tr><tr><td>&quot;Information / …</td><td>383</td></tr><tr><td>&quot;Battery&quot;</td><td>274</td></tr><tr><td>&quot;Information / …</td><td>231</td></tr><tr><td>&quot;Liquor Law Vio…</td><td>199</td></tr><tr><td>&quot;Found Narcotic…</td><td>155</td></tr><tr><td>&quot;Information / …</td><td>150</td></tr><tr><td>&quot;Information / …</td><td>120</td></tr><tr><td>&quot;Criminal Damag…</td><td>116</td></tr><tr><td>&quot;Traffic Crash&quot;</td><td>115</td></tr><tr><td>&quot;Injured Person…</td><td>113</td></tr><tr><td>&hellip;</td><td>&hellip;</td></tr><tr><td>&quot;Information / …</td><td>1</td></tr><tr><td>&quot;Traffic Crash …</td><td>1</td></tr><tr><td>&quot;Assist Other A…</td><td>1</td></tr><tr><td>&quot;Unlawful Posse…</td><td>1</td></tr><tr><td>&quot;Information / …</td><td>1</td></tr><tr><td>&quot;Simple Assault…</td><td>1</td></tr><tr><td>&quot;Unlawful Use O…</td><td>1</td></tr><tr><td>&quot;Information / …</td><td>1</td></tr><tr><td>&quot;Non-criminal /…</td><td>1</td></tr><tr><td>&quot;Traffic Violat…</td><td>1</td></tr><tr><td>&quot;Information / …</td><td>1</td></tr><tr><td>&quot;Information / …</td><td>1</td></tr></tbody></table></div>"
     },
     "execution_count": 4,
     "metadata": {},
     "output_type": "execute_result"
    }
   ],
   "source": [
    "excluded_list = [\n",
    "    \"Fondling\",\n",
    "    \"Medical Call\",\n",
    "    \"Luring a Minor\",\n",
    "    \"Lost Property\",\n",
    "    \"Stalking\",\n",
    "    \"Sexual Assault\",\n",
    "    \"Dating\",\n",
    "    \"Stalking\",\n",
    "    \"Domestic\",\n",
    "    \"Sex\",\n",
    "    \"Found Property\",\n",
    "    \"Mental Health\",\n",
    "    \"Harassment by Electronic Means\",\n",
    "    \"Well-Being Check\",\n",
    "    \"Threatening Phone Call\",\n",
    "]\n",
    "df = df.filter(~pl.col(\"incident\").str.contains(\"|\".join(excluded_list)))\n",
    "df.groupby([\"incident\"]).agg(pl.count()).sort(\"count\", descending=True)"
   ],
   "metadata": {
    "collapsed": false,
    "ExecuteTime": {
     "end_time": "2023-10-05T16:57:07.459905Z",
     "start_time": "2023-10-05T16:57:07.452950Z"
    }
   },
   "id": "aaa49407d08352ea"
  },
  {
   "cell_type": "code",
   "execution_count": 4,
   "outputs": [],
   "source": [],
   "metadata": {
    "collapsed": false,
    "ExecuteTime": {
     "end_time": "2023-10-05T16:57:07.476684Z",
     "start_time": "2023-10-05T16:57:07.458992Z"
    }
   },
   "id": "b86c6b7a46dbff85"
  }
 ],
 "metadata": {
  "kernelspec": {
   "display_name": "Python 3",
   "language": "python",
   "name": "python3"
  },
  "language_info": {
   "codemirror_mode": {
    "name": "ipython",
    "version": 2
   },
   "file_extension": ".py",
   "mimetype": "text/x-python",
   "name": "python",
   "nbconvert_exporter": "python",
   "pygments_lexer": "ipython2",
   "version": "2.7.6"
  }
 },
 "nbformat": 4,
 "nbformat_minor": 5
}
