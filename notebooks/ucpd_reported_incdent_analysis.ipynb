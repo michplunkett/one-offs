{
  "cells": [
    {
      "cell_type": "code",
      "execution_count": 1,
      "id": "initial_id",
      "metadata": {
        "ExecuteTime": {
          "end_time": "2024-01-30T23:13:48.991164Z",
          "start_time": "2024-01-30T23:13:48.370440Z"
        },
        "collapsed": true
      },
      "outputs": [],
      "source": [
        "import polars as pl"
      ]
    },
    {
      "cell_type": "code",
      "execution_count": 2,
      "id": "14f7bbdba7444ce8",
      "metadata": {
        "ExecuteTime": {
          "end_time": "2024-01-30T23:13:49.178237Z",
          "start_time": "2024-01-30T23:13:49.160115Z"
        },
        "collapsed": false
      },
      "outputs": [],
      "source": [
        "# Import incidents and format columns\n",
        "df = pl.read_csv(\n",
        "    \"./data/incident_dump.csv\",\n",
        ").with_columns(\n",
        "    pl.col(\"reported\")\n",
        "    .str.strptime(pl.Datetime, format=\"%Y-%m-%dT%H:%M:%S%z\")\n",
        "    .dt.convert_time_zone(\"America/Chicago\"),\n",
        "    pl.col(\"reported_date\").str.to_date(\"%Y-%m-%d\"),\n",
        "    pl.col(\"validated_location\").str.split(\",\").cast(pl.List(pl.Float64)),\n",
        "    pl.col(\"incident\").str.to_lowercase(),\n",
        ")"
      ]
    },
    {
      "cell_type": "code",
      "execution_count": 4,
      "id": "15f78416b84388bc",
      "metadata": {
        "ExecuteTime": {
          "end_time": "2024-01-30T23:13:57.843205Z",
          "start_time": "2024-01-30T23:13:57.834043Z"
        },
        "collapsed": false
      },
      "outputs": [
        {
          "data": {
            "text/html": "<div><style>\n.dataframe > thead > tr > th,\n.dataframe > tbody > tr > td {\n  text-align: right;\n}\n</style>\n<small>shape: (678, 2)</small><table border=\"1\" class=\"dataframe\"><thead><tr><th>incident</th><th>count</th></tr><tr><td>str</td><td>u32</td></tr></thead><tbody><tr><td>&quot;theft&quot;</td><td>2968</td></tr><tr><td>&quot;information&quot;</td><td>1378</td></tr><tr><td>&quot;found property\u2026</td><td>918</td></tr><tr><td>&quot;lost property&quot;</td><td>835</td></tr><tr><td>&quot;traffic violat\u2026</td><td>534</td></tr><tr><td>&quot;information / \u2026</td><td>499</td></tr><tr><td>&quot;liquor law vio\u2026</td><td>443</td></tr><tr><td>&quot;medical call&quot;</td><td>428</td></tr><tr><td>&quot;battery&quot;</td><td>421</td></tr><tr><td>&quot;information / \u2026</td><td>356</td></tr><tr><td>&quot;mental health \u2026</td><td>328</td></tr><tr><td>&quot;injured person\u2026</td><td>319</td></tr><tr><td>&hellip;</td><td>&hellip;</td></tr><tr><td>&quot;non-criminal d\u2026</td><td>1</td></tr><tr><td>&quot;assist other a\u2026</td><td>1</td></tr><tr><td>&quot;non-criminal /\u2026</td><td>1</td></tr><tr><td>&quot;assist other a\u2026</td><td>1</td></tr><tr><td>&quot;information ha\u2026</td><td>1</td></tr><tr><td>&quot;assist other a\u2026</td><td>1</td></tr><tr><td>&quot;information re\u2026</td><td>1</td></tr><tr><td>&quot;information / \u2026</td><td>1</td></tr><tr><td>&quot;robbery / stro\u2026</td><td>1</td></tr><tr><td>&quot;information / \u2026</td><td>1</td></tr><tr><td>&quot;public peace v\u2026</td><td>1</td></tr><tr><td>&quot;traffic violat\u2026</td><td>1</td></tr></tbody></table></div>",
            "text/plain": "shape: (678, 2)\n\u250c\u2500\u2500\u2500\u2500\u2500\u2500\u2500\u2500\u2500\u2500\u2500\u2500\u2500\u2500\u2500\u2500\u2500\u2500\u2500\u2500\u2500\u2500\u2500\u2500\u2500\u2500\u2500\u2500\u2500\u2500\u2500\u2500\u2500\u2500\u2500\u252c\u2500\u2500\u2500\u2500\u2500\u2500\u2500\u2510\n\u2502 incident                          \u2506 count \u2502\n\u2502 ---                               \u2506 ---   \u2502\n\u2502 str                               \u2506 u32   \u2502\n\u255e\u2550\u2550\u2550\u2550\u2550\u2550\u2550\u2550\u2550\u2550\u2550\u2550\u2550\u2550\u2550\u2550\u2550\u2550\u2550\u2550\u2550\u2550\u2550\u2550\u2550\u2550\u2550\u2550\u2550\u2550\u2550\u2550\u2550\u2550\u2550\u256a\u2550\u2550\u2550\u2550\u2550\u2550\u2550\u2561\n\u2502 theft                             \u2506 2968  \u2502\n\u2502 information                       \u2506 1378  \u2502\n\u2502 found property                    \u2506 918   \u2502\n\u2502 lost property                     \u2506 835   \u2502\n\u2502 \u2026                                 \u2506 \u2026     \u2502\n\u2502 robbery / strong armed / delayed\u2026 \u2506 1     \u2502\n\u2502 information / non-criminal prope\u2026 \u2506 1     \u2502\n\u2502 public peace violation / warrant\u2026 \u2506 1     \u2502\n\u2502 traffic violation / warrant       \u2506 1     \u2502\n\u2514\u2500\u2500\u2500\u2500\u2500\u2500\u2500\u2500\u2500\u2500\u2500\u2500\u2500\u2500\u2500\u2500\u2500\u2500\u2500\u2500\u2500\u2500\u2500\u2500\u2500\u2500\u2500\u2500\u2500\u2500\u2500\u2500\u2500\u2500\u2500\u2534\u2500\u2500\u2500\u2500\u2500\u2500\u2500\u2518"
          },
          "execution_count": 4,
          "metadata": {},
          "output_type": "execute_result"
        }
      ],
      "source": [
        "df.groupby([\"incident\"]).agg(pl.count()).sort(\"count\", descending=True)"
      ]
    },
    {
      "cell_type": "code",
      "execution_count": 5,
      "id": "aaa49407d08352ea",
      "metadata": {
        "ExecuteTime": {
          "end_time": "2024-01-30T23:13:58.997313Z",
          "start_time": "2024-01-30T23:13:58.984923Z"
        },
        "collapsed": false
      },
      "outputs": [
        {
          "data": {
            "text/html": "<div><style>\n.dataframe > thead > tr > th,\n.dataframe > tbody > tr > td {\n  text-align: right;\n}\n</style>\n<small>shape: (678, 2)</small><table border=\"1\" class=\"dataframe\"><thead><tr><th>incident</th><th>count</th></tr><tr><td>str</td><td>u32</td></tr></thead><tbody><tr><td>&quot;theft&quot;</td><td>2968</td></tr><tr><td>&quot;information&quot;</td><td>1378</td></tr><tr><td>&quot;found property\u2026</td><td>918</td></tr><tr><td>&quot;lost property&quot;</td><td>835</td></tr><tr><td>&quot;traffic violat\u2026</td><td>534</td></tr><tr><td>&quot;information / \u2026</td><td>499</td></tr><tr><td>&quot;liquor law vio\u2026</td><td>443</td></tr><tr><td>&quot;medical call&quot;</td><td>428</td></tr><tr><td>&quot;battery&quot;</td><td>421</td></tr><tr><td>&quot;information / \u2026</td><td>356</td></tr><tr><td>&quot;mental health \u2026</td><td>328</td></tr><tr><td>&quot;injured person\u2026</td><td>319</td></tr><tr><td>&hellip;</td><td>&hellip;</td></tr><tr><td>&quot;fire / acciden\u2026</td><td>1</td></tr><tr><td>&quot;other&quot;</td><td>1</td></tr><tr><td>&quot;threat&quot;</td><td>1</td></tr><tr><td>&quot;interfering / \u2026</td><td>1</td></tr><tr><td>&quot;arson by fire&quot;</td><td>1</td></tr><tr><td>&quot;deceptive prac\u2026</td><td>1</td></tr><tr><td>&quot;information / \u2026</td><td>1</td></tr><tr><td>&quot;assist other a\u2026</td><td>1</td></tr><tr><td>&quot;information / \u2026</td><td>1</td></tr><tr><td>&quot;information / \u2026</td><td>1</td></tr><tr><td>&quot;information / \u2026</td><td>1</td></tr><tr><td>&quot;dui / possessi\u2026</td><td>1</td></tr></tbody></table></div>",
            "text/plain": "shape: (678, 2)\n\u250c\u2500\u2500\u2500\u2500\u2500\u2500\u2500\u2500\u2500\u2500\u2500\u2500\u2500\u2500\u2500\u2500\u2500\u2500\u2500\u2500\u2500\u2500\u2500\u2500\u2500\u2500\u2500\u2500\u2500\u2500\u2500\u2500\u2500\u2500\u2500\u252c\u2500\u2500\u2500\u2500\u2500\u2500\u2500\u2510\n\u2502 incident                          \u2506 count \u2502\n\u2502 ---                               \u2506 ---   \u2502\n\u2502 str                               \u2506 u32   \u2502\n\u255e\u2550\u2550\u2550\u2550\u2550\u2550\u2550\u2550\u2550\u2550\u2550\u2550\u2550\u2550\u2550\u2550\u2550\u2550\u2550\u2550\u2550\u2550\u2550\u2550\u2550\u2550\u2550\u2550\u2550\u2550\u2550\u2550\u2550\u2550\u2550\u256a\u2550\u2550\u2550\u2550\u2550\u2550\u2550\u2561\n\u2502 theft                             \u2506 2968  \u2502\n\u2502 information                       \u2506 1378  \u2502\n\u2502 found property                    \u2506 918   \u2502\n\u2502 lost property                     \u2506 835   \u2502\n\u2502 \u2026                                 \u2506 \u2026     \u2502\n\u2502 information / found weapon        \u2506 1     \u2502\n\u2502 information / harassment by tele\u2026 \u2506 1     \u2502\n\u2502 information / notice of order of\u2026 \u2506 1     \u2502\n\u2502 dui / possession of narcotic      \u2506 1     \u2502\n\u2514\u2500\u2500\u2500\u2500\u2500\u2500\u2500\u2500\u2500\u2500\u2500\u2500\u2500\u2500\u2500\u2500\u2500\u2500\u2500\u2500\u2500\u2500\u2500\u2500\u2500\u2500\u2500\u2500\u2500\u2500\u2500\u2500\u2500\u2500\u2500\u2534\u2500\u2500\u2500\u2500\u2500\u2500\u2500\u2518"
          },
          "execution_count": 5,
          "metadata": {},
          "output_type": "execute_result"
        }
      ],
      "source": [
        "excluded_list = [\n",
        "    \"Fondling\",\n",
        "    \"Medical Call\",\n",
        "    \"Luring a Minor\",\n",
        "    \"Lost Property\",\n",
        "    \"Stalking\",\n",
        "    \"Sexual Assault\",\n",
        "    \"Dating\",\n",
        "    \"Stalking\",\n",
        "    \"Domestic\",\n",
        "    \"Sex\",\n",
        "    \"Found Property\",\n",
        "    \"Mental Health\",\n",
        "    \"Harassment by Electronic Means\",\n",
        "    \"Well-Being\",\n",
        "    \"Threatening Phone Call\",\n",
        "    \"Medical Transport\",\n",
        "    \"Warrant\",\n",
        "    \"Lost Wallet\",\n",
        "    \"Fire Alarm\",\n",
        "    \"Chemical Spill\",\n",
        "    \"Suspicious Mail\",\n",
        "    \"Eavesdropping\",\n",
        "    \"Sex Offense\",\n",
        "    \"Sex Offender\",\n",
        "    \"Sex Crime\",\n",
        "    \"Domestic Aggravated Battery\",\n",
        "    \"Dating Violence\",\n",
        "    \"Harassing Messages\",\n",
        "]\n",
        "df = df.filter(~pl.col(\"incident\").str.contains(\"|\".join(excluded_list)))\n",
        "df.groupby([\"incident\"]).agg(pl.count()).sort(\"count\", descending=True)"
      ]
    },
    {
      "cell_type": "code",
      "execution_count": 6,
      "id": "3237c7e6914efbd",
      "metadata": {
        "ExecuteTime": {
          "end_time": "2024-01-30T23:14:01.728546Z",
          "start_time": "2024-01-30T23:14:01.718742Z"
        },
        "collapsed": false
      },
      "outputs": [],
      "source": [
        "def list_to_parsed_set(unparsed_list: [str]):\n",
        "    unparsed_list.sort()\n",
        "    parsed_set = set()\n",
        "    for element in unparsed_list:\n",
        "        if \"/\" in element:\n",
        "            for p in element.split(r\"\\s?/\\s?\"):\n",
        "                fmt_element = p.strip().lower()\n",
        "                if p:\n",
        "                    parsed_set.add(fmt_element)\n",
        "        else:\n",
        "            fmt_element = element.strip().lower()\n",
        "            parsed_set.add(fmt_element)\n",
        "    return parsed_set"
      ]
    },
    {
      "cell_type": "code",
      "execution_count": 7,
      "id": "b86c6b7a46dbff85",
      "metadata": {
        "ExecuteTime": {
          "end_time": "2024-01-30T23:14:02.960834Z",
          "start_time": "2024-01-30T23:14:02.955408Z"
        },
        "collapsed": false
      },
      "outputs": [
        {
          "name": "stdout",
          "output_type": "stream",
          "text": [
            "{'reckless discharge of firearm', 'disorderly conduct / telephone threat', 'robbery-strong arm', 'arson by fire', 'information report / disturbance', 'information / missing person found', 'information report / stuck elevator', 'aggravated battery of a police officer', 'weapon violation', 'assist other agency / shot fired', 'sex offender / prohibited zone', 'deceptive practice / fraud', 'violation of order of protection', 'non-criminal damage to vehicle', 'traffic crash / hit and run / property damage only', 'theft of service', 'information / arrest', 'non-criminal / death investigation', 'attempted theft', 'deceptive practice / credit card fraud', 'traffic crash / hit and run property damage', 'shot fired / criminal damage to vehicle', 'information / missing person', 'found drug paraphernalia', 'lost wallet', 'unlawful possession of a handgun', 'assist other agency / attempted armed robbery', 'sick person', 'deceptive practice / theft of lost or mislaid property', 'unlawful possession of weapon', 'traffic crash / hit and run / personal injury', 'information report / traffic', 'information / missing property', 'possession of a controlled substance', 'unlawful possession of firearm', 'simple battery', 'fire / accidental', 'information / non-criminal property damage', 'non-criminal / fire', 'traffic / warrant arrest', 'fleeing or attempting to elude police', 'information / aggravated battery / cutting instrument', 'damage to vehicle', 'possession of drug paraphernalia', 'information / aggravated domestic assault', 'criminal damage to property / vandalism', 'damage to property', 'stolen vehicle recovery', 'assist other agency / traffic crash', 'assist other agency / theft', 'information / hit and run traffic crash / personal injury', 'information / domestic aggravated assault', 'information / aggravated battery / armed robbery', 'arrest on warrant', 'domestic assault / criminal damage to property', 'liquor law violation', 'public peace violation / threat', 'false fire alarm', 'damage to uc vehicle', 'information / damage to property', 'information / found narcotic', 'threatening phone call', 'found property', 'traffic accident', 'attempted theft from person', 'information / theft of motor vehicle', 'damage to property / non-criminal / fire', 'fire / smoke', 'information / disorderly conduct', 'fire / property damage', 'bomb threat', 'information / harassment via electronic means', 'information / telephone threat', 'possession of narcotic', 'traffic crash arrest', 'information / threatening call', 'found key', 'theft / ucpd arrest warrant', 'unlawful possession of a weapon', 'information / fire', 'assist other agency / domestic assault', 'deceptive', 'non-criminal / property', 'traffic violation arrest', 'assist other agency / theft from motor vehicle', 'mental health transport', 'interference with police officer', 'weapon recovery', 'theft from motor vehicle', 'information / motor vehicle theft', 'traffic crash / minor injury / hit and run', 'information / injured person', 'assist other agency / attempted robbery', 'assist other agency motor vehicle theft and recovery', 'deceptive practice / possession of lost / mislaid property', 'information / deceptive practice', 'trespass to property', 'order of protection arrest', 'medical call / injured person', 'information / possession of cannabis', 'attempted theft from motor vehicle', 'information / assist other agency', 'information / theft and recovery of motor vehicle', 'medical call / warrant', 'non-criminal informational report', 'order of protection notification', 'information / traffic crash / hit and run / property damage', 'information / disturbance', 'domestic disturbance', 'non-criminal property', 'information / recovered vehicle', 'safety hazard / non-criminal offense', 'information / criminal trespass', 'battery', 'aggravated battery', 'information / public indecency', 'unlawful possession of a firearm', 'traffic crash report', 'aggravated battery / robbery', 'disorderly conduct', 'motor vehicle accident', 'traffic crash / injured person', 'non-criminal offense', 'attempted armed robbery', 'information / recovered motor vehicle', 'information / violation of order of protection', 'lost / recovered property', 'medical transport', 'warrant / resisting arrest', 'information report / aggravated battery', 'medical call / sick person', 'information / attempted home invasion', 'theft of lost / mislaid property', 'medical call', 'assist other agency / battery', 'information / armed robbery', 'assist other agency / unlawful possession of a weapon', 'smoke alarm', 'assist other agency / aggravated vehicular hijacking', 'reckless discharge of a firearm', 'dating violence', 'weapon turn-in', 'simple assault', 'assist other agency / recovered vehicle', 'information / criminal trespass to vehicle', 'information / haz mat event', 'non-criminal damage to property / fire', 'criminal damage to property / defacement', 'traffic crash property damage / hit and run', 'narcotic arrest', 'fire alarm', 'stalking / dating violence', 'information / assault and harassment by electronic means', 'assault', 'assist other agency / assault', 'information / accidental fire', 'suspect narcotic found', 'assault / domestic', 'sex offense', 'information / cyberstalking', 'traffic violation / dui', 'death investigation', 'traffic crash / hit tand run / property damage', 'non-criminal / recovery / automobile', 'information / unlawful discharge of a firearm', 'armed robbery', 'possession of marijuana', 'interfering / obstructing police', 'unlawful use of weapon', 'found narcotic', 'information / traffic accident', 'information / traffic crash / damage to uc property', 'threat', 'assist other agency / criminal sexual abuse', 'theft / financial identity theft', 'information / unlawful discharge of a weapon', 'motor vehicle theft / recovery', 'information', 'elevator entrapment', 'assist other agency / criminal trespass to land', 'non-criminal fire', 'recovered motor vehicle / unlawful use of weapon', 'suspicious activity', 'burglary', 'traffic arrest', 'damaged property', 'information / lost phone', 'information / robbery / carjacking', 'traffic violation / warrant', 'information report / delayed', 'information / shot fired / damage to property', 'obstructing peace officer', 'assist other agency / recovered motor vehicle', 'suspicious package', 'traffic violation / obstruct police officer', 'traffic violation and warrant arrest', 'criminal trespass to land', 'battery / simple', 'aggravated battery of police officer', 'harassment by electronic means / hate crime', 'information / armed robbery / vehicular hijacking', 'information / aggravated battery / domestic', 'non- criminal', 'criminal damage to property', 'assist other agency / vehicular hijacking', 'information / suspicious letter', 'delayed robbery', 'obstructing police / reckless conduct', 'assist other agency / criminal trespass', 'haz mat / injured person', 'information / aggravated domestic battery', 'information / domestic dispute', 'motor vehicle theft / attempted', 'resisting arrest / traffic violation', 'unlawful possession of ammunition', 'information / criminal sexual abuse', 'information / medical transport', 'information / criminal trespass to land', 'information / stalking', 'other crime', 'deceptive practice / forgery', 'assist other agency / robbery', 'simple assault battery', 'criminal trespass to residence', 'motor vehicle recovery', 'telephone threat', 'assist other agency / aggravated robbery', 'assist other agency / traffic violation', 'assist other agency / motor vehicle recovery', 'information / suspicious person', 'injured person', 'attempted vehicular hijacking', 'armed robbery arrest', 'criminal damage to motor vehicle', 'possession of stolen motor vehicle', 'information / dog bite', 'weapon arrest', 'well-being check', 'other vehicle offense', 'stolen motor vehicle recovery', 'non-criminal incident', 'information / traffic accident / property damage', 'trespass', 'information / sexual assault / fondling', 'information / domestic battery', 'information / traffic violation', 'attempted robbery', 'information / vehicle crash', 'information / murder', 'medical call / illness', 'information / harassment', 'non-criminal / missing person', 'sex offender / failure to register', 'traffic crash / hit and run / property damage', 'information / death investigation', 'deceptive practice / financial identity theft', 'information / assault / damage to property', 'information / attempted robbery', 'assist other agency / motor vehicle theft', 'deceptive practice / fraudulent check', 'information / unlawful discharge of weapon', 'miscellaneous incident report', 'criminal sexual assault / stalking', 'criminal trespass to motor vehicle', 'information / well-being check', 'information report / medical call', 'information / traffic crash / personal injury', 'missing person', 'obscene phone call', 'lost property', 'recovered vehicle plate', 'assist other agency', 'motor vehicle theft', 'information / telephone harassment', 'notice of order of protection', 'possession of controlled substance', 'information / traffic crash / personal injury / hit and run', 'property damage / fire', 'fire / damage to personal property', 'other offense', 'criminal damage to vehicle', 'information / attempted motor vehicle theft', 'domestic battery / battery to police officer', 'theft from person', 'information / shot fired / criminal damage to property', 'information / burglary', 'information / traffic arrest', 'non-criminal / property damage', 'chemical spill', 'delayed burglary', 'aggravated assault / dui / hit and run', 'other non-criminal property', 'aggravated battery of a protected employee', 'traffic crash / minor injury', 'traffic crash / personal injury', 'accident report', 'battery of police officer / unlawful possession of firearm / resisting police', 'information / suspicious vehicle', 'information / weapon violation', 'assist other agency / indecent exposure', 'information / sex offense / fondling', 'information / shot fired / damage to vehicle', 'information / unlawful possession of firearm', 'information / theft', 'information / assault', 'information / well-being', 'information / suspicious package', 'information criminal damage to property', 'traffic and warrant arrest', 'information / chemical spill', 'non-criminal / damage to vehicle', 'harassing telephone call', 'robbery-aggravated', 'shot fired', 'information / aggravated robbery / vehicular hijacking', 'assist other agency / death investigation', 'found suspect marijuana', 'dui arrest', 'information / attempted armed robbery / aggravated battery', 'information / threat by electronic means', 'assist other agency / warrant', 'non-criminal complaint', 'aggravated assault / police officer', 'information / battery', 'theft / purse snatch', 'traffic offense', 'noise complaint', 'traffic accident / property damage', 'information / shot fired', 'found weapon', 'traffic crash / recovered motor vehicle / unlawful possession of a weapon', 'deceptive practice', 'assist other agency / homicide / attempted vehicular hijacking', 'stalking / cyberstalking', 'information / robbery / vehicle hijacking', 'harassment / electronic means', 'criminal trespass to vehicle', 'assist other agency / missing person', 'illegal consumption by minor', 'information / robbery / vehicular hijacking', 'information / attempted aggravated vehicular hijacking', 'alarm', 'suspicious mail', 'information / harassment by electronic means', 'assist other agency / fire', 'information / traffic crash', 'assist other agency / criminal damage to vehicle', 'public peace violation / bomb threat', 'traffic violation / resisting arrest / possession of cannabis', 'information / harassing email', 'fire / non-criminal', 'criminal damage to property / criminal defacement / hate crime', 'unlawful possession of weapon / obstructing police / traffic offense', 'information / aggravated vehicular hijacking', 'information / homicide', 'obstructing a peace officer', 'information / attempted burglary', 'information / fraud', 'information / harassing phone call`', 'drug law violation', 'information / criminal damage to property', 'traffic crash / minor personal injury / hit and run', 'information / accidental injury', 'hate crime / telephone threat', 'miscellaneous incident', 'theft / recovery of motor vehicle', 'robbery', 'robbery / attempted', 'information / notice of order of protection', 'public peace violation / warrant arrest', 'disturbance', 'information report / smell of gas', 'liquor law violation / public way', 'assist other agency / found person', 'sex offense / public indecency', 'notification of order of protection', 'haz-mat incident', 'information / unlawful possession of weapon', 'information / theft from motor vehicle', 'reckless driving', 'unlawful use of a weapon arrest', 'information / trespass warning', 'lost / found property', 'assist other agency / criminal trespass to vehicle', 'motor vehicle theft recovery', 'non-criminal event', 'information / robbery arrest', 'unlawful use of a weapon / dui', 'assist other agency / attempted burglary', 'financial identity theft', 'information / traffic crash / hit and run / personal injury', 'assist other agency / aggravated robbery / vehicle hijacking', 'theft from vehicle', 'assist other agency / mental health transport', 'assist other agency / traffic crash / hit and run', 'criminal trespass to vehicle / assist other agency', 'information / damage to property / fire', 'information / sexual assault', 'information / trespass to property', 'recovered motor vehicle / foreign steal', 'information / attempted armed robbery', 'information / order of protection', 'assist other agency / criminal damage to property', 'property damage', 'false police report', 'information / aggravated battery', 'missing person found', 'information / harassment by telephone', 'information / murder / aggravated battery', 'non-criminal property damage', 'narcotic', 'traffic collision', 'traffic violation / warrant arrest', 'warrant / traffic violation', 'information / harassing phone call', 'found property / narcotic', 'found person', 'information / domestic aggravated battery', 'criminal trespass', 'fire / damage to property', 'hazardous material incident', 'possession of narcotic with intent to deliver', 'information / unlawful possession of a firearm', 'other / non-criminal', 'attempted theft of motor vehicle', 'assist other agency / unlawful discharge of a weapon', 'attempted burglary', 'information / sexual abuse', 'assist other agency / domestic disturbance', 'information / lost property', 'deceptive practice / unauthorized use of computer', 'information report / mental transport', 'information / accidental shooting', 'assist other agency / armed robbery', 'information / attempted sexual assault', 'traffic crash / hit and run', 'information / arson / fire', 'criminal damage to property / criminal defacement', 'eavesdropping', 'information / unlawful discharge of firearm', 'unlawful use of a weapon', 'information / robbery', 'aggravated domestic battery', 'information / attempted aggravated robbery', 'person down', 'arson / criminal damage to property', 'information / unlawful use of a weapon', 'attempted motor vehicle theft', 'homicide', 'information / medical call', 'information / robbery / aggravated vehicular hijacking', 'traffic crash / property damage', 'theft of lost or mislaid property', 'criminal trespass to property', 'aggravated battery to police officer', 'robbery / strong armed / delayed report', 'information / liquor law violation', 'other', 'information / domestic issue', 'haz mat incident', 'deceptive practice / telephone scam', 'information / assault / resisting police', 'aggravated vehicular carjacking', 'criminal sexual abuse', 'injured person / damage to property', 'other crime vs. person', 'fraud', 'aggravated battery / other deadly weapon', 'dui / possession of narcotic', 'information / / domestic battery', 'damage to property / non-criminal', 'information / traffic crash / damage', 'ambulance request', 'unlawful possession of firearm / dui', 'possession of stolen property', 'battery-simple', 'traffic accident / hit and run', 'animal bite', 'shot fired / aggravated assault / damage to property', 'criminal damage to property / criminal trespass to land', 'found wallet', 'information / armed robbery / motor vehicle theft', 'trespass warning', 'deceptive practice / impersonation', 'criminal defacement', 'mental health call', 'information / attempted theft', 'information / suspicious activity', 'damage to property / traffic crash', 'information / forged prescription', 'information / traffic crash / hit and run', 'interference with public officer', 'information / reckless driving', 'assist other agency / unlawful use of a weapon', 'traffic crash / property damage only', 'fire', 'information / vehicle fire', 'injured person / accidental', 'information / damage to vehicle', 'battery / simple / theft / criminal damage to property', 'burglary / attempted', 'information / vehicle recovery', 'information / warrant', 'information / homicide / aggravated battery', 'information / sex crime', 'information / deceptive practice / fraud', 'information / mental health', 'information / indecent exposure', 'sexual assault / fondling', 'suspicious person', 'damage to city property', 'reckless conduct', 'accidental injury', 'deceptive practice / counterfeit check', 'information / domestic disturbance', 'fire alarm / smoke', 'telephone harassment', 'cyber stalking', 'traffic crash / pedestrian', 'traffic crash hit and run', 'found / suspect narcotic', 'information / arson', 'information / non-criminal damage to property', 'found suspect narcotic', 'harassment by electronic means', 'deceptive practice / counterfeit document', 'non-criminal missing property', 'harassment by telephone', 'hazardous material event', 'irregular condition', 'information / burglary / home invasion', 'information / suspicious phone call', 'theft of motorcycle', 'motor vehicle theft and recovery', 'information / aggravated assault / violation of order of protection', 'injured person / liquor law violation', 'traffic crash / personal injury / hit and run', 'information / criminal damage to vehicle', 'assist other agency / warrant arrest', 'information / trespass to motor vehicle', 'information harassment', 'stalking', 'information / dui', 'information / threat', 'aggravated battery / cutting instrument', 'recovered stolen motor vehicle', 'robbery / attempted strong arm', 'aggravated assault / domestic', 'assist other agency / aggravated battery', 'traffic crash', 'information / attempted theft from person', 'criminal sexual assault', 'information / motor vehicle recovery', 'aggravated vehicular hijacking', 'information / found person', 'damage to property / fire', 'information / weapon turn-in', 'assist other agency / stalking', 'assist other agency / weapon violation', 'found narcotic paraphernalia', 'attempted aggravated robbery', 'aggravated discharge of a firearm', 'information / criminal sexual assault', 'disturbance / damage to property', 'assist other agency / criminal sexual assault', 'outside agency warrant arrest', 'traffic violation', 'aggravated battery / domestic', 'non-criminal / weapon turn-in', 'battery / public indecency', 'possession of crack cocaine', 'information / reckless discharge of a weapon', 'theft from motor vehicle / public way', 'traffic accident / personal injury', 'theft from person / possession of stolen motor vehicle', 'non-criminal report', 'information / found weapon', 'information / harassing email message', 'battery / resisting arrest', 'simple battery / delayed', 'warrant arrest', 'expired license / narcotic', 'public indecency', 'public peace violation', 'intimidation / extortion', 'information / unlawful restraint', 'recovered vehicle', 'recovered motor vehicle', 'information / fondling', 'battery / criminal trespass to land', 'information / trespass', 'information / elevator entrapment', 'assist other agency / theft from person', 'information / motor vehicle theft and recovery', 'motor vehicle recovery / arrest', 'harassing phone call', 'assist other agency / domestic battery', 'assist other agency / arson', 'assist other agency / burglary', 'information / non-criminal', 'theft of motor vehicle', 'information / cyber scam', 'theft / battery', 'harassing message', 'domestic aggravated battery / senior citizen', 'information / recovered vehicle / arrest', 'aggravated assault / battery', 'information / reckless discharge of a firearm', 'battery / domestic', 'theft / delayed', 'assist other agency / aggravated assault', 'information / unlawful use of weapon', 'assist other agency / recovered firearm', 'medical call / ill person', 'non-criminal / damaged property', 'information / personation of peace officer', 'information / sex offense / non-forcible', 'information / aggravated criminal sexual assault', 'aggravated assault of police officer', 'non-criminal damage', 'non-criminal', 'vehicular hijacking', 'information / vehicular carjacking', 'other crime against person', 'traffic crash / damage to property', 'information / luring a minor', 'information report', 'information / aggravated assault', 'warrant', 'information / attempted vehicular hijacking', 'traffic crash / property / hit and run', 'dui', 'information / bomb threat', 'non-criminal damage to property', 'theft', 'information / hit and run / personal injury', 'unlawful discharge of firearm', 'information / sex offense', 'information / theft from person', 'non-criminal other', 'public peace violation / false police report', 'possession of cannabis', 'information / aggravated robbery / vehicle hijacking', 'theft / criminal trespass to land', 'information / trespass to land', 'information / vehicular hijacking', 'information / smoke', 'sex related', 'information / aggravated robbery', 'information / mental health transport', 'other violation', 'aggravated battery / other dangerous weapon', 'information / trespass to vehicle', 'information / vehicle hijacking', 'information / criminal damage to motor vehicle', 'unlawful discharge of a firearm', 'theft by deception', 'assist other agency / possession of stolen motor vehicle', 'deliver narcotic', 'domestic battery', 'deceptive practice / theft of service', 'traffic crash / property damage / hit and run', 'deceptive practice / identity theft', 'information / armed robbery / vehicle hijacking', 'miscellaneous', 'information / criminal trespass to property', 'fondling', 'information / fire alarm', 'information / traffic accident / personal injury', 'information / theft of service', 'deceptive practice / computer fraud', 'liquor law violation / injured person', 'haz mat incident / chemical spill', 'information / threatening phone call', 'security alarm', 'robbery / strong arm', 'aggravated assault', 'aggravated robbery'}\n"
          ]
        }
      ],
      "source": [
        "print(list_to_parsed_set(df[\"incident\"].to_list()))"
      ]
    },
    {
      "cell_type": "code",
      "execution_count": null,
      "id": "925ca09f1a15edbd",
      "metadata": {
        "collapsed": false
      },
      "outputs": [],
      "source": []
    }
  ],
  "metadata": {
    "kernelspec": {
      "display_name": "Python 3",
      "language": "python",
      "name": "python3"
    },
    "language_info": {
      "codemirror_mode": {
        "name": "ipython",
        "version": 2
      },
      "file_extension": ".py",
      "mimetype": "text/x-python",
      "name": "python",
      "nbconvert_exporter": "python",
      "pygments_lexer": "ipython2",
      "version": "2.7.6"
    }
  },
  "nbformat": 4,
  "nbformat_minor": 5
}
