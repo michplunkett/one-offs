{
 "cells": [
  {
   "cell_type": "code",
   "execution_count": 5,
   "id": "initial_id",
   "metadata": {
    "collapsed": true,
    "ExecuteTime": {
     "end_time": "2023-10-05T05:55:51.155728Z",
     "start_time": "2023-10-05T05:55:51.151510Z"
    }
   },
   "outputs": [],
   "source": [
    "import polars as pl"
   ]
  },
  {
   "cell_type": "code",
   "execution_count": 6,
   "outputs": [],
   "source": [
    "# Import incidents and format columns\n",
    "df = pl.read_csv(\n",
    "    \"./data/incident_dump.csv\",\n",
    ").with_columns(\n",
    "    pl.col(\"reported\")\n",
    "    .str.strptime(pl.Datetime, format=\"%Y-%m-%dT%H:%M:%S%z\")\n",
    "    .dt.convert_time_zone(\"America/Chicago\"),\n",
    "    pl.col(\"reported_date\").str.to_date(\"%Y-%m-%d\"),\n",
    "    pl.col(\"validated_location\").str.split(\",\").cast(pl.List(pl.Float64)),\n",
    ")"
   ],
   "metadata": {
    "collapsed": false,
    "ExecuteTime": {
     "end_time": "2023-10-05T05:55:51.173818Z",
     "start_time": "2023-10-05T05:55:51.160205Z"
    }
   },
   "id": "14f7bbdba7444ce8"
  },
  {
   "cell_type": "code",
   "execution_count": 7,
   "outputs": [
    {
     "data": {
      "text/plain": "shape: (516, 2)\n┌───────────────────────────────────┬───────┐\n│ incident                          ┆ count │\n│ ---                               ┆ ---   │\n│ str                               ┆ u32   │\n╞═══════════════════════════════════╪═══════╡\n│ Theft                             ┆ 934   │\n│ Information                       ┆ 618   │\n│ Found Property                    ┆ 570   │\n│ Information / Theft               ┆ 381   │\n│ …                                 ┆ …     │\n│ Aggravated Battery / Robbery      ┆ 1     │\n│ Assist Other Agency / Death Inve… ┆ 1     │\n│ Weapon Arrest                     ┆ 1     │\n│ Information / Accidental Shootin… ┆ 1     │\n└───────────────────────────────────┴───────┘",
      "text/html": "<div><style>\n.dataframe > thead > tr > th,\n.dataframe > tbody > tr > td {\n  text-align: right;\n}\n</style>\n<small>shape: (516, 2)</small><table border=\"1\" class=\"dataframe\"><thead><tr><th>incident</th><th>count</th></tr><tr><td>str</td><td>u32</td></tr></thead><tbody><tr><td>&quot;Theft&quot;</td><td>934</td></tr><tr><td>&quot;Information&quot;</td><td>618</td></tr><tr><td>&quot;Found Property…</td><td>570</td></tr><tr><td>&quot;Information / …</td><td>381</td></tr><tr><td>&quot;Medical Call&quot;</td><td>287</td></tr><tr><td>&quot;Battery&quot;</td><td>274</td></tr><tr><td>&quot;Lost Property&quot;</td><td>258</td></tr><tr><td>&quot;Information / …</td><td>231</td></tr><tr><td>&quot;Mental Health …</td><td>221</td></tr><tr><td>&quot;Liquor Law Vio…</td><td>199</td></tr><tr><td>&quot;Found Narcotic…</td><td>155</td></tr><tr><td>&quot;Information / …</td><td>150</td></tr><tr><td>&hellip;</td><td>&hellip;</td></tr><tr><td>&quot;Non-criminal D…</td><td>1</td></tr><tr><td>&quot;Deceptive Prac…</td><td>1</td></tr><tr><td>&quot;Information / …</td><td>1</td></tr><tr><td>&quot;Shots Fired / …</td><td>1</td></tr><tr><td>&quot;Obstructing a …</td><td>1</td></tr><tr><td>&quot;Traffic Crash …</td><td>1</td></tr><tr><td>&quot;Haz Mat Incide…</td><td>1</td></tr><tr><td>&quot;Medical Call /…</td><td>1</td></tr><tr><td>&quot;Aggravated Bat…</td><td>1</td></tr><tr><td>&quot;Assist Other A…</td><td>1</td></tr><tr><td>&quot;Weapon Arrest&quot;</td><td>1</td></tr><tr><td>&quot;Information / …</td><td>1</td></tr></tbody></table></div>"
     },
     "execution_count": 7,
     "metadata": {},
     "output_type": "execute_result"
    }
   ],
   "source": [
    "df.groupby([\"incident\"]).agg(pl.count()).sort(\"count\", descending=True)"
   ],
   "metadata": {
    "collapsed": false,
    "ExecuteTime": {
     "end_time": "2023-10-05T05:55:51.174847Z",
     "start_time": "2023-10-05T05:55:51.169592Z"
    }
   },
   "id": "15f78416b84388bc"
  },
  {
   "cell_type": "code",
   "execution_count": 8,
   "outputs": [
    {
     "data": {
      "text/plain": "shape: (444, 2)\n┌───────────────────────────────────┬───────┐\n│ incident                          ┆ count │\n│ ---                               ┆ ---   │\n│ str                               ┆ u32   │\n╞═══════════════════════════════════╪═══════╡\n│ Theft                             ┆ 934   │\n│ Information                       ┆ 618   │\n│ Information / Theft               ┆ 381   │\n│ Battery                           ┆ 274   │\n│ …                                 ┆ …     │\n│ Information / Traffic Crash / Pe… ┆ 1     │\n│ Information / Injured Person      ┆ 1     │\n│ Public Peace Violation / False P… ┆ 1     │\n│ Attempted Robbery                 ┆ 1     │\n└───────────────────────────────────┴───────┘",
      "text/html": "<div><style>\n.dataframe > thead > tr > th,\n.dataframe > tbody > tr > td {\n  text-align: right;\n}\n</style>\n<small>shape: (444, 2)</small><table border=\"1\" class=\"dataframe\"><thead><tr><th>incident</th><th>count</th></tr><tr><td>str</td><td>u32</td></tr></thead><tbody><tr><td>&quot;Theft&quot;</td><td>934</td></tr><tr><td>&quot;Information&quot;</td><td>618</td></tr><tr><td>&quot;Information / …</td><td>381</td></tr><tr><td>&quot;Battery&quot;</td><td>274</td></tr><tr><td>&quot;Information / …</td><td>231</td></tr><tr><td>&quot;Liquor Law Vio…</td><td>199</td></tr><tr><td>&quot;Found Narcotic…</td><td>155</td></tr><tr><td>&quot;Information / …</td><td>150</td></tr><tr><td>&quot;Information / …</td><td>120</td></tr><tr><td>&quot;Criminal Damag…</td><td>116</td></tr><tr><td>&quot;Traffic Crash&quot;</td><td>115</td></tr><tr><td>&quot;Injured Person…</td><td>113</td></tr><tr><td>&hellip;</td><td>&hellip;</td></tr><tr><td>&quot;Battery of Pol…</td><td>1</td></tr><tr><td>&quot;Information / …</td><td>1</td></tr><tr><td>&quot;Haz Mat Incide…</td><td>1</td></tr><tr><td>&quot;Deceptive Prac…</td><td>1</td></tr><tr><td>&quot;Theft of Lost/…</td><td>1</td></tr><tr><td>&quot;Information / …</td><td>1</td></tr><tr><td>&quot;Battery / Publ…</td><td>1</td></tr><tr><td>&quot;Interference w…</td><td>1</td></tr><tr><td>&quot;Information / …</td><td>1</td></tr><tr><td>&quot;Information / …</td><td>1</td></tr><tr><td>&quot;Public Peace V…</td><td>1</td></tr><tr><td>&quot;Attempted Robb…</td><td>1</td></tr></tbody></table></div>"
     },
     "execution_count": 8,
     "metadata": {},
     "output_type": "execute_result"
    }
   ],
   "source": [
    "excluded_list = [\n",
    "    \"Fondling\",\n",
    "    \"Medical Call\",\n",
    "    \"Lost Property\",\n",
    "    \"Stalking\",\n",
    "    \"Sexual Assault\",\n",
    "    \"Dating\",\n",
    "    \"Stalking\",\n",
    "    \"Domestic\",\n",
    "    \"Sex\",\n",
    "    \"Found Property\",\n",
    "    \"Mental Health\",\n",
    "    \"Harassment by Electronic Means\",\n",
    "    \"Well-Being Check\",\n",
    "    \"Threatening Phone Call\",\n",
    "]\n",
    "df = df.filter(~pl.col(\"incident\").str.contains(\"|\".join(excluded_list)))\n",
    "df.groupby([\"incident\"]).agg(pl.count()).sort(\"count\", descending=True)"
   ],
   "metadata": {
    "collapsed": false,
    "ExecuteTime": {
     "end_time": "2023-10-05T05:55:51.183875Z",
     "start_time": "2023-10-05T05:55:51.176468Z"
    }
   },
   "id": "aaa49407d08352ea"
  },
  {
   "cell_type": "code",
   "execution_count": 8,
   "outputs": [],
   "source": [],
   "metadata": {
    "collapsed": false,
    "ExecuteTime": {
     "end_time": "2023-10-05T05:55:51.184273Z",
     "start_time": "2023-10-05T05:55:51.182831Z"
    }
   },
   "id": "b86c6b7a46dbff85"
  }
 ],
 "metadata": {
  "kernelspec": {
   "display_name": "Python 3",
   "language": "python",
   "name": "python3"
  },
  "language_info": {
   "codemirror_mode": {
    "name": "ipython",
    "version": 2
   },
   "file_extension": ".py",
   "mimetype": "text/x-python",
   "name": "python",
   "nbconvert_exporter": "python",
   "pygments_lexer": "ipython2",
   "version": "2.7.6"
  }
 },
 "nbformat": 4,
 "nbformat_minor": 5
}
