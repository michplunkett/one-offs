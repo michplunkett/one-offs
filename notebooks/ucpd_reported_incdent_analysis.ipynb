{
 "cells": [
  {
   "cell_type": "code",
   "execution_count": 1,
   "id": "initial_id",
   "metadata": {
    "collapsed": true,
    "ExecuteTime": {
     "end_time": "2023-09-29T01:19:20.172710Z",
     "start_time": "2023-09-29T01:19:20.096159Z"
    }
   },
   "outputs": [],
   "source": [
    "import polars as pl"
   ]
  },
  {
   "cell_type": "code",
   "execution_count": 2,
   "outputs": [],
   "source": [
    "# Import incidents and format columns\n",
    "df = pl.read_csv(\n",
    "    \"./data/incident_dump.csv\",\n",
    ").with_columns(\n",
    "    pl.col(\"reported\")\n",
    "    .str.strptime(pl.Datetime, format=\"%Y-%m-%dT%H:%M:%S%z\")\n",
    "    .dt.convert_time_zone(\"America/Chicago\"),\n",
    "    pl.col(\"reported_date\").str.to_date(\"%Y-%m-%d\"),\n",
    "    pl.col(\"validated_location\").str.split(\",\").cast(pl.List(pl.Float64)),\n",
    ")"
   ],
   "metadata": {
    "collapsed": false,
    "ExecuteTime": {
     "end_time": "2023-09-29T01:19:20.203905Z",
     "start_time": "2023-09-29T01:19:20.171808Z"
    }
   },
   "id": "14f7bbdba7444ce8"
  },
  {
   "cell_type": "code",
   "execution_count": 3,
   "outputs": [
    {
     "data": {
      "text/plain": "shape: (521, 2)\n┌───────────────────────────────────┬───────┐\n│ incident                          ┆ count │\n│ ---                               ┆ ---   │\n│ str                               ┆ u32   │\n╞═══════════════════════════════════╪═══════╡\n│ Theft                             ┆ 930   │\n│ Information                       ┆ 618   │\n│ Found Property                    ┆ 567   │\n│ Information / Theft               ┆ 378   │\n│ …                                 ┆ …     │\n│ Assist Other Agency / Stalking    ┆ 1     │\n│ Traffic Crash / Recovered Motor … ┆ 1     │\n│ Information / Reckless Discharge… ┆ 1     │\n│ Information / Arson               ┆ 1     │\n└───────────────────────────────────┴───────┘",
      "text/html": "<div><style>\n.dataframe > thead > tr > th,\n.dataframe > tbody > tr > td {\n  text-align: right;\n}\n</style>\n<small>shape: (521, 2)</small><table border=\"1\" class=\"dataframe\"><thead><tr><th>incident</th><th>count</th></tr><tr><td>str</td><td>u32</td></tr></thead><tbody><tr><td>&quot;Theft&quot;</td><td>930</td></tr><tr><td>&quot;Information&quot;</td><td>618</td></tr><tr><td>&quot;Found Property…</td><td>567</td></tr><tr><td>&quot;Information / …</td><td>378</td></tr><tr><td>&quot;Medical Call&quot;</td><td>287</td></tr><tr><td>&quot;Battery&quot;</td><td>273</td></tr><tr><td>&quot;Lost Property&quot;</td><td>257</td></tr><tr><td>&quot;Information / …</td><td>228</td></tr><tr><td>&quot;Mental Health …</td><td>220</td></tr><tr><td>&quot;Liquor Law Vio…</td><td>196</td></tr><tr><td>&quot;Found Narcotic…</td><td>155</td></tr><tr><td>&quot;Information / …</td><td>150</td></tr><tr><td>&hellip;</td><td>&hellip;</td></tr><tr><td>&quot;Found Keys&quot;</td><td>1</td></tr><tr><td>&quot;Deceptive Prac…</td><td>1</td></tr><tr><td>&quot;Interference w…</td><td>1</td></tr><tr><td>&quot;Assist Other A…</td><td>1</td></tr><tr><td>&quot;Information / …</td><td>1</td></tr><tr><td>&quot;Information / …</td><td>1</td></tr><tr><td>&quot;Information / …</td><td>1</td></tr><tr><td>&quot;Assist Other A…</td><td>1</td></tr><tr><td>&quot;Assist Other A…</td><td>1</td></tr><tr><td>&quot;Traffic Crash …</td><td>1</td></tr><tr><td>&quot;Information / …</td><td>1</td></tr><tr><td>&quot;Information / …</td><td>1</td></tr></tbody></table></div>"
     },
     "execution_count": 3,
     "metadata": {},
     "output_type": "execute_result"
    }
   ],
   "source": [
    "df.groupby([\"incident\"]).agg(pl.count()).sort(\"count\", descending=True)"
   ],
   "metadata": {
    "collapsed": false,
    "ExecuteTime": {
     "end_time": "2023-09-29T01:19:20.220580Z",
     "start_time": "2023-09-29T01:19:20.204743Z"
    }
   },
   "id": "15f78416b84388bc"
  },
  {
   "cell_type": "code",
   "execution_count": 4,
   "outputs": [
    {
     "data": {
      "text/plain": "shape: (454, 2)\n┌───────────────────────────────────┬───────┐\n│ incident                          ┆ count │\n│ ---                               ┆ ---   │\n│ str                               ┆ u32   │\n╞═══════════════════════════════════╪═══════╡\n│ Theft                             ┆ 930   │\n│ Information                       ┆ 618   │\n│ Information / Theft               ┆ 378   │\n│ Battery                           ┆ 273   │\n│ …                                 ┆ …     │\n│ Non-Criminal / Damage to Propert… ┆ 1     │\n│ Injured Person / Liquor Law Viol… ┆ 1     │\n│ Criminal Damage to Vehicles       ┆ 1     │\n│ Information / Attempt Burglary    ┆ 1     │\n└───────────────────────────────────┴───────┘",
      "text/html": "<div><style>\n.dataframe > thead > tr > th,\n.dataframe > tbody > tr > td {\n  text-align: right;\n}\n</style>\n<small>shape: (454, 2)</small><table border=\"1\" class=\"dataframe\"><thead><tr><th>incident</th><th>count</th></tr><tr><td>str</td><td>u32</td></tr></thead><tbody><tr><td>&quot;Theft&quot;</td><td>930</td></tr><tr><td>&quot;Information&quot;</td><td>618</td></tr><tr><td>&quot;Information / …</td><td>378</td></tr><tr><td>&quot;Battery&quot;</td><td>273</td></tr><tr><td>&quot;Information / …</td><td>228</td></tr><tr><td>&quot;Liquor Law Vio…</td><td>196</td></tr><tr><td>&quot;Found Narcotic…</td><td>155</td></tr><tr><td>&quot;Information / …</td><td>150</td></tr><tr><td>&quot;Information / …</td><td>120</td></tr><tr><td>&quot;Criminal Damag…</td><td>116</td></tr><tr><td>&quot;Traffic Crash&quot;</td><td>115</td></tr><tr><td>&quot;Injured Person…</td><td>113</td></tr><tr><td>&hellip;</td><td>&hellip;</td></tr><tr><td>&quot;Arson / Crimin…</td><td>1</td></tr><tr><td>&quot;Information / …</td><td>1</td></tr><tr><td>&quot;Attempted Thef…</td><td>1</td></tr><tr><td>&quot;Information / …</td><td>1</td></tr><tr><td>&quot;Public Peace V…</td><td>1</td></tr><tr><td>&quot;Information / …</td><td>1</td></tr><tr><td>&quot;Information / …</td><td>1</td></tr><tr><td>&quot;Traffic Crash …</td><td>1</td></tr><tr><td>&quot;Non-Criminal /…</td><td>1</td></tr><tr><td>&quot;Injured Person…</td><td>1</td></tr><tr><td>&quot;Criminal Damag…</td><td>1</td></tr><tr><td>&quot;Information / …</td><td>1</td></tr></tbody></table></div>"
     },
     "execution_count": 4,
     "metadata": {},
     "output_type": "execute_result"
    }
   ],
   "source": [
    "excluded_list = [\n",
    "    \"Medical Call\",\n",
    "    \"Lost Property\",\n",
    "    \"Stalking\",\n",
    "    \"Sexual Assault\",\n",
    "    \"Dating\",\n",
    "    \"Stalking\",\n",
    "    \"Domestic\",\n",
    "    \"Sex\",\n",
    "    \"Found Property\",\n",
    "    \"Mental Health\",\n",
    "    \"Harassment by Electronic Means\",\n",
    "    \"Well-Being Check\",\n",
    "    \"Threatening Phone Call\",\n",
    "]\n",
    "df = df.filter(~pl.col(\"incident\").str.contains(\"|\".join(excluded_list)))\n",
    "df.groupby([\"incident\"]).agg(pl.count()).sort(\"count\", descending=True)"
   ],
   "metadata": {
    "collapsed": false,
    "ExecuteTime": {
     "end_time": "2023-09-29T01:19:20.230727Z",
     "start_time": "2023-09-29T01:19:20.219801Z"
    }
   },
   "id": "aaa49407d08352ea"
  },
  {
   "cell_type": "code",
   "execution_count": 4,
   "outputs": [],
   "source": [],
   "metadata": {
    "collapsed": false,
    "ExecuteTime": {
     "end_time": "2023-09-29T01:19:20.247396Z",
     "start_time": "2023-09-29T01:19:20.229254Z"
    }
   },
   "id": "b86c6b7a46dbff85"
  }
 ],
 "metadata": {
  "kernelspec": {
   "display_name": "Python 3",
   "language": "python",
   "name": "python3"
  },
  "language_info": {
   "codemirror_mode": {
    "name": "ipython",
    "version": 2
   },
   "file_extension": ".py",
   "mimetype": "text/x-python",
   "name": "python",
   "nbconvert_exporter": "python",
   "pygments_lexer": "ipython2",
   "version": "2.7.6"
  }
 },
 "nbformat": 4,
 "nbformat_minor": 5
}
