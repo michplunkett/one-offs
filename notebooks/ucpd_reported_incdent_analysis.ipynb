{
  "cells": [
    {
      "cell_type": "code",
      "execution_count": 1,
      "id": "initial_id",
      "metadata": {
        "ExecuteTime": {
          "end_time": "2024-02-28T07:06:56.257950Z",
          "start_time": "2024-02-28T07:06:56.223833Z"
        },
        "collapsed": true
      },
      "outputs": [],
      "source": [
        "from datetime import date\n",
        "\n",
        "import polars as pl\n",
        "\n",
        "from util.general import list_to_parsed_set"
      ]
    },
    {
      "cell_type": "code",
      "execution_count": 2,
      "id": "14f7bbdba7444ce8",
      "metadata": {
        "ExecuteTime": {
          "end_time": "2024-02-28T07:06:56.273116Z",
          "start_time": "2024-02-28T07:06:56.259248Z"
        },
        "collapsed": false
      },
      "outputs": [],
      "source": [
        "# Import incidents and format columns\n",
        "df = pl.read_csv(\n",
        "    \"./data/incident_dump.csv\",\n",
        ").with_columns(\n",
        "    pl.col(\"reported\")\n",
        "    .str.strptime(pl.Datetime, format=\"%Y-%m-%dT%H:%M:%S%z\")\n",
        "    .dt.convert_time_zone(\"America/Chicago\"),\n",
        "    pl.col(\"reported_date\").str.to_date(\"%Y-%m-%d\"),\n",
        "    pl.col(\"validated_location\").str.split(\",\").cast(pl.List(pl.Float64)),\n",
        ")"
      ]
    },
    {
      "cell_type": "code",
      "execution_count": 3,
      "id": "15f78416b84388bc",
      "metadata": {
        "ExecuteTime": {
          "end_time": "2024-02-28T07:06:56.280071Z",
          "start_time": "2024-02-28T07:06:56.273778Z"
        },
        "collapsed": false
      },
      "outputs": [
        {
          "data": {
            "text/html": "<div><style>\n.dataframe > thead > tr > th,\n.dataframe > tbody > tr > td {\n  text-align: right;\n}\n</style>\n<small>shape: (677, 2)</small><table border=\"1\" class=\"dataframe\"><thead><tr><th>incident</th><th>count</th></tr><tr><td>str</td><td>u32</td></tr></thead><tbody><tr><td>&quot;Theft&quot;</td><td>2981</td></tr><tr><td>&quot;Information&quot;</td><td>1383</td></tr><tr><td>&quot;Found Property\u2026</td><td>930</td></tr><tr><td>&quot;Lost Property&quot;</td><td>843</td></tr><tr><td>&quot;Traffic Violat\u2026</td><td>534</td></tr><tr><td>&quot;Information / \u2026</td><td>519</td></tr><tr><td>&quot;Liquor Law Vio\u2026</td><td>447</td></tr><tr><td>&quot;Medical Call&quot;</td><td>438</td></tr><tr><td>&quot;Battery&quot;</td><td>425</td></tr><tr><td>&quot;Information / \u2026</td><td>358</td></tr><tr><td>&quot;Mental Health \u2026</td><td>332</td></tr><tr><td>&quot;Injured Person\u2026</td><td>321</td></tr><tr><td>&hellip;</td><td>&hellip;</td></tr><tr><td>&quot;Information / \u2026</td><td>1</td></tr><tr><td>&quot;Information / \u2026</td><td>1</td></tr><tr><td>&quot;Motor Vehicle \u2026</td><td>1</td></tr><tr><td>&quot;Fire Alarm / S\u2026</td><td>1</td></tr><tr><td>&quot;Robbery / Atte\u2026</td><td>1</td></tr><tr><td>&quot;Information / \u2026</td><td>1</td></tr><tr><td>&quot;Sex Offense&quot;</td><td>1</td></tr><tr><td>&quot;Aggravated Dis\u2026</td><td>1</td></tr><tr><td>&quot;Aggravated Bat\u2026</td><td>1</td></tr><tr><td>&quot;Domestic Aggra\u2026</td><td>1</td></tr><tr><td>&quot;Battery / Publ\u2026</td><td>1</td></tr><tr><td>&quot;Information / \u2026</td><td>1</td></tr></tbody></table></div>",
            "text/plain": "shape: (677, 2)\n\u250c\u2500\u2500\u2500\u2500\u2500\u2500\u2500\u2500\u2500\u2500\u2500\u2500\u2500\u2500\u2500\u2500\u2500\u2500\u2500\u2500\u2500\u2500\u2500\u2500\u2500\u2500\u2500\u2500\u2500\u2500\u2500\u2500\u2500\u2500\u2500\u252c\u2500\u2500\u2500\u2500\u2500\u2500\u2500\u2510\n\u2502 incident                          \u2506 count \u2502\n\u2502 ---                               \u2506 ---   \u2502\n\u2502 str                               \u2506 u32   \u2502\n\u255e\u2550\u2550\u2550\u2550\u2550\u2550\u2550\u2550\u2550\u2550\u2550\u2550\u2550\u2550\u2550\u2550\u2550\u2550\u2550\u2550\u2550\u2550\u2550\u2550\u2550\u2550\u2550\u2550\u2550\u2550\u2550\u2550\u2550\u2550\u2550\u256a\u2550\u2550\u2550\u2550\u2550\u2550\u2550\u2561\n\u2502 Theft                             \u2506 2981  \u2502\n\u2502 Information                       \u2506 1383  \u2502\n\u2502 Found Property                    \u2506 930   \u2502\n\u2502 Lost Property                     \u2506 843   \u2502\n\u2502 \u2026                                 \u2506 \u2026     \u2502\n\u2502 Aggravated Battery of Police Off\u2026 \u2506 1     \u2502\n\u2502 Domestic Aggravated Battery / Se\u2026 \u2506 1     \u2502\n\u2502 Battery / Public Indecency        \u2506 1     \u2502\n\u2502 Information / Medical Transport   \u2506 1     \u2502\n\u2514\u2500\u2500\u2500\u2500\u2500\u2500\u2500\u2500\u2500\u2500\u2500\u2500\u2500\u2500\u2500\u2500\u2500\u2500\u2500\u2500\u2500\u2500\u2500\u2500\u2500\u2500\u2500\u2500\u2500\u2500\u2500\u2500\u2500\u2500\u2500\u2534\u2500\u2500\u2500\u2500\u2500\u2500\u2500\u2518"
          },
          "execution_count": 3,
          "metadata": {},
          "output_type": "execute_result"
        }
      ],
      "source": [
        "df.groupby([\"incident\"]).agg(pl.count()).sort(\"count\", descending=True)"
      ]
    },
    {
      "cell_type": "code",
      "execution_count": 4,
      "id": "e67f22a399d54aeb",
      "metadata": {
        "ExecuteTime": {
          "end_time": "2024-02-28T07:06:56.302149Z",
          "start_time": "2024-02-28T07:06:56.283833Z"
        },
        "collapsed": false
      },
      "outputs": [
        {
          "name": "stdout",
          "output_type": "stream",
          "text": [
            "{'Lost', 'Safety Hazard', 'Vehicle Crash', 'Criminal Trespass to Vehicle', 'Public Indecency', 'Expired License', 'Reckless Discharge of Firearm', 'Illegal Consumption by Minor', 'Battery to Police Officer', 'Domestic Battery', 'Shot Fired', 'Illness', 'Other Crime against Person', 'Criminal Trespass', 'Noise Complaint', 'Defacement', 'Person Down', 'Non-Criminal', 'Damage to UC Vehicle', 'Assist Other Agency Motor Vehicle Theft and Recovery', 'Narcotic', 'Possession of Narcotic', 'Theft by Deception', 'Failure to Register', 'Forged Prescription', 'Aggravated Vehicular Carjacking', 'Simple Assault', 'Non-Criminal Damage', 'Bomb Threat', 'Miscellaneous Incident', 'Indecent Exposure', 'Order of Protection Notification', 'Stalking', 'Interference with Public Officer', 'Criminal Trespass to Residence', 'Other', 'Battery-Simple', 'Attempted', 'Hate Crime', 'Hit and Run Traffic Crash', 'Stolen Motor Vehicle Recovery', 'Unlawful Possession of Firearm', 'Criminal Sexual Assault', 'Suspect Narcotic', 'Suspect Narcotic Found', 'Simple Battery', 'Domestic Dispute', 'Obstruct Police Officer', 'Non-Criminal Other', 'Attempted Theft from Motor Vehicle', 'Fraudulent Check', 'Reckless Discharge of a Weapon', 'Attempted Vehicular Hijacking', 'Damage to Vehicle', 'Notification of Order of Protection', 'Non-Forcible', 'Traffic Arrest', 'Murder', 'Non-Criminal Complaint', 'Found Narcotic', 'Damage', 'Weapon Arrest', 'Order of Protection', 'Lost Phone', 'Sexual Assault', 'Aggravated Battery to Police Officer', 'Property', 'Strong Arm', 'Accidental Injury', 'Haz Mat', 'Theft and Recovery of Motor Vehicle', 'Domestic Disturbance', 'Medical Call', 'Other Crime', 'Traffic Crash Hit and Run', 'Disturbance', 'Unlawful Use of Weapon', 'Motor Vehicle Theft', 'Possession of Narcotic with Intent to Deliver', 'Traffic Violation and Warrant Arrest', 'Mental Health', 'Warrant Arrest', 'Narcotic Delivery', 'Counterfeit Check', 'Accidental Fire', 'Prohibited Zone', 'Aggravated Battery of a Police Officer', 'Carjacking', 'Theft', 'Sex Crime', 'Reckless Driving', 'Forgery', 'Disorderly Conduct', 'Non-Criminal Damage to Property', 'Attempted Robbery', 'Arrest', 'Damage to City Property', 'Motor Vehicle Accident', 'Smoke', 'Sex Related', 'Vandalism', 'Possession of Cannabis', 'Assist Other Agency', 'Non-Criminal Offense', 'Deceptive Practice', 'Harassing Phone Call', 'Drug Law Violation', 'Personation of Peace Officer', 'Senior Citizen', 'Stuck Elevator', 'Attempted Home Invasion', 'Weapon Turn-In', 'Narcotic Arrest', 'Robbery', 'Interfering', 'False Police Report', 'Stolen Vehicle Recovery', 'Harassing Telephone Call', 'Harassing Message', 'Domestic', 'Arrest on Warrant', 'Domestic Issue', 'Telephone Threat', 'Attempted Theft', 'Traffic Offense', 'Delayed Report', 'Luring a Minor', 'Accident Report', 'Non-Criminal Damage to Vehicle', 'Suspicious Letter', 'Elevator Entrapment', 'DUI', 'Theft of Service', 'Domestic Aggravated Battery', 'Domestic Assault', 'Non-Criminal Informational Report', 'Unlawful Possession of a Weapon', 'Personal Injury', 'Chemical Spill', 'Obstructing a Peace Officer', 'Aggravated Domestic Assault', 'Other Vehicle Offense', 'Other Non-Criminal Property', 'Cyber Scam', 'Unlawful Discharge of a Firearm', 'Attempted Sexual Assault', 'Unlawful Restraint', 'Trespass to Motor Vehicle', 'Motor Vehicle Recovery', 'Information Report', 'Miscellaneous', 'Well-Being', 'Other Deadly Weapon', 'Missing Person', 'Unlawful Discharge of a Weapon', 'Recovered Firearm', 'Alarm', 'Criminal Trespass to Land', 'Battery', 'False Fire Alarm', 'Sex Offender', 'Vehicular Carjacking', 'Unlawful Use of a Weapon Arrest', 'Intimidation', 'Recovered Motor Vehicle', 'Possession of Stolen Property', 'Warrant', 'Found Key', 'Possession of Lost', 'Ambulance Request', 'Recovered Stolen Motor Vehicle', 'Extortion', 'Information', 'Delayed', 'Harassing Email Message', 'Reckless Conduct', 'Hit and Run Property Damage', 'Found Weapon', 'Minor Personal Injury', 'Armed Robbery', 'Simple Assault Battery', 'Possession of Marijuana', 'Harassment by Telephone', 'Traffic and Warrant Arrest', 'Threat', 'Other Violation', 'Traffic Violation Arrest', 'Missing Person Found', 'Haz Mat Incident', 'Hit and Run', 'Aggravated Battery of Police Officer', 'Theft from Motor Vehicle', 'Resisting Arrest', 'Possession of Crack Cocaine', 'Unauthorized Use of Computer', 'Possession of Stolen Motor Vehicle', 'Smoke Alarm', 'Fleeing or Attempting to Elude Police', 'Dog Bite', 'Threatening Phone Call', 'Possession of Controlled Substance', 'Suspicious Person', 'Public Way', 'Trespass to Land', 'Other Dangerous Weapon', 'Criminal Sexual Abuse', 'Criminal Trespass to Motor Vehicle', 'Aggravated Assault', 'Vehicle Hijacking', 'Dating Violence', 'Criminal Damage to Property', 'Sexual Abuse', 'Suspicious Mail', 'Unlawful Discharge of Weapon', 'Sex Offense', 'Electronic Means', 'Recovered Vehicle Plate', 'Haz Mat Event', 'Other Crime Vs. Person', 'Harassment by Electronic Means', 'Obscene Phone Call', 'Mental Health Transport', 'Public Peace Violation', 'Attempted Theft of Motor Vehicle', 'Robbery-Strong Arm', 'Attempted Motor Vehicle Theft', 'Injured Person', 'Threatening Call', 'Unlawful Possession of a Handgun', 'Traffic', 'Robbery-Aggravated', 'Property Damage Only', 'Accidental', 'Hazardous Material Event', 'Attempted Theft from Person', 'Suspicious Package', 'Obstructing Police', 'Traffic Violation', 'Order of Protection Arrest', 'Medical Transport', 'Eavesdropping', 'Fire Alarm', 'Found Narcotic Paraphernalia', 'Found', 'Threat by Electronic Means', 'Aggravated Battery', 'Homicide', 'Accidental Shooting', 'Telephone Scam', 'Weapon Recovery', 'Possession of Drug Paraphernalia', 'Theft of Lost', 'Aggravated Robbery', 'Resisting Police', 'Identity Theft', 'Outside Agency Warrant Arrest', 'Property Damage', 'Harassment', 'Attempted Burglary', 'Haz-Mat Incident', 'Purse Snatch', 'Traffic Crash', 'Unlawful Possession of Weapon', 'Home Invasion', 'Recovery of Motor Vehicle', 'Criminal Damage to Motor Vehicle', 'Damage to Personal Property', 'Found Person', 'Aggravated Vehicular Hijacking', 'Traffic Accident', 'Information Criminal Damage to Property', 'Trespass', 'Financial Identity Theft', 'Found Drug Paraphernalia', 'Criminal Trespass to Property', 'Non-Criminal Report', 'Mental Health Call', 'Theft of Lost or Mislaid Property', 'Mislaid Property', 'Interference with Police Officer', 'Domestic Aggravated Assault', 'Damage to UC Property', 'Non-Criminal Property', 'Criminal Defacement', 'Armed Robbery Arrest', 'Motor Vehicle Theft and Recovery', 'Possession of a Controlled Substance', 'Missing Property', 'Traffic Crash Report', 'Vehicular Hijacking', 'Ill Person', 'Non-Criminal Property Damage', 'Theft of Motorcycle', 'Found Wallet', 'Well-Being Check', 'Mental Transport', 'Non-Criminal Event', 'Automobile', 'Assault', 'Liquor Law Violation', 'Attempted Aggravated Robbery', 'Found Property', 'Theft of Motor Vehicle', 'DUI Arrest', 'Aggravated Discharge of a Firearm', 'Strong Armed', 'Unlawful Possession of Ammunition', 'Burglary', 'Fondling', 'Weapon Violation', 'Unlawful Use of a Weapon', 'Minor Injury', 'Lost Wallet', 'Police Officer', 'Battery of Police Officer', 'Counterfeit Document', 'Vehicle Fire', 'Notice of Order of Protection', 'Delayed Burglary', 'Traffic Crash Arrest', 'Aggravated Criminal Sexual Assault', 'Damaged Property', 'Attempted Armed Robbery', 'Deliver Narcotic', 'Smell of Gas', 'Harassing Email', 'Delayed Robbery', 'Non-Criminal Incident', 'Theft from Vehicle', 'Assault and Harassment by Electronic Means', 'Pedestrian', 'Non-Criminal Fire', 'Arson by Fire', 'Death Investigation', 'Foreign Steal', 'Reckless Discharge of a Firearm', 'Criminal Damage to Vehicle', 'Lost Property', 'Irregular Condition', 'Traffic Crash Property Damage', 'Fraud', 'Miscellaneous Incident Report', 'Information Harassment', 'Robbery Arrest', 'Trespass Warning', 'Vehicle Recovery', 'Deceptive', 'Found Suspect Marijuana', 'Telephone Harassment', 'Trespass to Vehicle', 'Non-Criminal Missing Property', 'Suspicious Vehicle', 'Trespass to Property', 'Traffic Collision', 'Unlawful Discharge of Firearm', 'Impersonation', 'Other Offense', 'Obstructing Peace Officer', 'Credit Card Fraud', 'Unlawful Possession of a Firearm', 'Fire', 'Arson', 'Theft from Person', 'Sick Person', 'UCPD Arrest Warrant', 'Aggravated Battery of a Protected Employee', 'Aggravated Domestic Battery', 'Recovered Vehicle', 'Motor Vehicle Theft Recovery', 'Found Suspect Narcotic', 'Aggravated Assault of Police Officer', 'Simple', 'Violation of Order of Protection', 'Cutting Instrument', 'Harassment Via Electronic Means', 'Cyberstalking', 'Recovery', 'Computer Fraud', 'Security Alarm', 'Animal Bite', 'Attempted Aggravated Vehicular Hijacking', 'Recovered Property', 'Attempted Strong Arm', 'Damage to Property', 'Suspicious Activity', 'Hazardous Material Incident', 'Suspicious Phone Call'}\n"
          ]
        }
      ],
      "source": [
        "print(list_to_parsed_set(df[\"incident\"].to_list()))"
      ]
    },
    {
      "cell_type": "code",
      "execution_count": 5,
      "id": "aaa49407d08352ea",
      "metadata": {
        "ExecuteTime": {
          "end_time": "2024-02-28T07:06:56.325088Z",
          "start_time": "2024-02-28T07:06:56.288144Z"
        },
        "collapsed": false
      },
      "outputs": [
        {
          "data": {
            "text/html": "<div><style>\n.dataframe > thead > tr > th,\n.dataframe > tbody > tr > td {\n  text-align: right;\n}\n</style>\n<small>shape: (677, 2)</small><table border=\"1\" class=\"dataframe\"><thead><tr><th>incident</th><th>count</th></tr><tr><td>str</td><td>u32</td></tr></thead><tbody><tr><td>&quot;Theft&quot;</td><td>2981</td></tr><tr><td>&quot;Information&quot;</td><td>1383</td></tr><tr><td>&quot;Found Property\u2026</td><td>930</td></tr><tr><td>&quot;Lost Property&quot;</td><td>843</td></tr><tr><td>&quot;Traffic Violat\u2026</td><td>534</td></tr><tr><td>&quot;Information / \u2026</td><td>519</td></tr><tr><td>&quot;Liquor Law Vio\u2026</td><td>447</td></tr><tr><td>&quot;Medical Call&quot;</td><td>438</td></tr><tr><td>&quot;Battery&quot;</td><td>425</td></tr><tr><td>&quot;Information / \u2026</td><td>358</td></tr><tr><td>&quot;Mental Health \u2026</td><td>332</td></tr><tr><td>&quot;Injured Person\u2026</td><td>321</td></tr><tr><td>&hellip;</td><td>&hellip;</td></tr><tr><td>&quot;Information / \u2026</td><td>1</td></tr><tr><td>&quot;Unlawful Posse\u2026</td><td>1</td></tr><tr><td>&quot;Recovered Vehi\u2026</td><td>1</td></tr><tr><td>&quot;Unlawful Use o\u2026</td><td>1</td></tr><tr><td>&quot;Aggravated Ass\u2026</td><td>1</td></tr><tr><td>&quot;Information / \u2026</td><td>1</td></tr><tr><td>&quot;Battery of Pol\u2026</td><td>1</td></tr><tr><td>&quot;Information / \u2026</td><td>1</td></tr><tr><td>&quot;Information / \u2026</td><td>1</td></tr><tr><td>&quot;Recovered Stol\u2026</td><td>1</td></tr><tr><td>&quot;Information / \u2026</td><td>1</td></tr><tr><td>&quot;Non-Criminal D\u2026</td><td>1</td></tr></tbody></table></div>",
            "text/plain": "shape: (677, 2)\n\u250c\u2500\u2500\u2500\u2500\u2500\u2500\u2500\u2500\u2500\u2500\u2500\u2500\u2500\u2500\u2500\u2500\u2500\u2500\u2500\u2500\u2500\u2500\u2500\u2500\u2500\u2500\u2500\u2500\u2500\u2500\u2500\u2500\u2500\u2500\u2500\u252c\u2500\u2500\u2500\u2500\u2500\u2500\u2500\u2510\n\u2502 incident                          \u2506 count \u2502\n\u2502 ---                               \u2506 ---   \u2502\n\u2502 str                               \u2506 u32   \u2502\n\u255e\u2550\u2550\u2550\u2550\u2550\u2550\u2550\u2550\u2550\u2550\u2550\u2550\u2550\u2550\u2550\u2550\u2550\u2550\u2550\u2550\u2550\u2550\u2550\u2550\u2550\u2550\u2550\u2550\u2550\u2550\u2550\u2550\u2550\u2550\u2550\u256a\u2550\u2550\u2550\u2550\u2550\u2550\u2550\u2561\n\u2502 Theft                             \u2506 2981  \u2502\n\u2502 Information                       \u2506 1383  \u2502\n\u2502 Found Property                    \u2506 930   \u2502\n\u2502 Lost Property                     \u2506 843   \u2502\n\u2502 \u2026                                 \u2506 \u2026     \u2502\n\u2502 Information / Order of Protectio\u2026 \u2506 1     \u2502\n\u2502 Recovered Stolen Motor Vehicle    \u2506 1     \u2502\n\u2502 Information / Accidental Shootin\u2026 \u2506 1     \u2502\n\u2502 Non-Criminal Damage               \u2506 1     \u2502\n\u2514\u2500\u2500\u2500\u2500\u2500\u2500\u2500\u2500\u2500\u2500\u2500\u2500\u2500\u2500\u2500\u2500\u2500\u2500\u2500\u2500\u2500\u2500\u2500\u2500\u2500\u2500\u2500\u2500\u2500\u2500\u2500\u2500\u2500\u2500\u2500\u2534\u2500\u2500\u2500\u2500\u2500\u2500\u2500\u2518"
          },
          "execution_count": 5,
          "metadata": {},
          "output_type": "execute_result"
        }
      ],
      "source": [
        "excluded_list = [\n",
        "    \"Aggravated Criminal Sexual Assault\",\n",
        "    \"Aggravated Domestic Assault\",\n",
        "    \"Aggravated Domestic Battery\",\n",
        "    \"Attempted Sexual Assault\",\n",
        "    \"Criminal Sexual Abuse\",\n",
        "    \"Criminal Sexual Assault\",\n",
        "    \"Dating Violence\",\n",
        "    \"Domestic Aggravated Assault\",\n",
        "    \"Domestic Aggravated Battery\",\n",
        "    \"Domestic Assault\",\n",
        "    \"Domestic Battery\",\n",
        "    \"Domestic Dispute\",\n",
        "    \"Domestic Disturbance\",\n",
        "    \"Domestic Issue\",\n",
        "    \"Domestic\",\n",
        "    \"Eavesdropping\",\n",
        "    \"Fondling\",\n",
        "    \"Harassing Messages\",\n",
        "    \"Harassment by Electronic Means\",\n",
        "    \"Indecent Exposure\",\n",
        "    \"Luring a Minor\",\n",
        "    \"Medical Call\",\n",
        "    \"Medical Transport\",\n",
        "    \"Mental Health\",\n",
        "    \"Sex Crime\",\n",
        "    \"Sex Offender\",\n",
        "    \"Sex Offense\",\n",
        "    \"Sex Related\",\n",
        "    \"Sexual Abuse\",\n",
        "    \"Sexual Assault\",\n",
        "    \"Stalking\",\n",
        "    \"Suspicious Mail\",\n",
        "    \"Threatening Phone Call\",\n",
        "    \"Violation of Order of Protection\",\n",
        "    \"Warrant\",\n",
        "    \"Well-Being\",\n",
        "]\n",
        "# df = df.filter(~pl.col(\"incident\").str.contains(\"|\".join(excluded_list)))\n",
        "df.groupby([\"incident\"]).agg(pl.count()).sort(\"count\", descending=True)"
      ]
    },
    {
      "cell_type": "code",
      "execution_count": 6,
      "id": "b86c6b7a46dbff85",
      "metadata": {
        "ExecuteTime": {
          "end_time": "2024-02-28T07:06:56.325235Z",
          "start_time": "2024-02-28T07:06:56.295866Z"
        },
        "collapsed": false
      },
      "outputs": [
        {
          "name": "stdout",
          "output_type": "stream",
          "text": [
            "{'Lost', 'Safety Hazard', 'Vehicle Crash', 'Criminal Trespass to Vehicle', 'Public Indecency', 'Expired License', 'Reckless Discharge of Firearm', 'Illegal Consumption by Minor', 'Battery to Police Officer', 'Domestic Battery', 'Shot Fired', 'Illness', 'Other Crime against Person', 'Criminal Trespass', 'Noise Complaint', 'Defacement', 'Person Down', 'Non-Criminal', 'Damage to UC Vehicle', 'Assist Other Agency Motor Vehicle Theft and Recovery', 'Narcotic', 'Possession of Narcotic', 'Theft by Deception', 'Failure to Register', 'Forged Prescription', 'Aggravated Vehicular Carjacking', 'Simple Assault', 'Non-Criminal Damage', 'Bomb Threat', 'Miscellaneous Incident', 'Indecent Exposure', 'Order of Protection Notification', 'Stalking', 'Interference with Public Officer', 'Criminal Trespass to Residence', 'Other', 'Battery-Simple', 'Attempted', 'Hate Crime', 'Hit and Run Traffic Crash', 'Stolen Motor Vehicle Recovery', 'Unlawful Possession of Firearm', 'Criminal Sexual Assault', 'Suspect Narcotic', 'Suspect Narcotic Found', 'Simple Battery', 'Domestic Dispute', 'Obstruct Police Officer', 'Non-Criminal Other', 'Attempted Theft from Motor Vehicle', 'Fraudulent Check', 'Reckless Discharge of a Weapon', 'Attempted Vehicular Hijacking', 'Damage to Vehicle', 'Notification of Order of Protection', 'Non-Forcible', 'Traffic Arrest', 'Murder', 'Non-Criminal Complaint', 'Found Narcotic', 'Damage', 'Weapon Arrest', 'Order of Protection', 'Lost Phone', 'Sexual Assault', 'Aggravated Battery to Police Officer', 'Property', 'Strong Arm', 'Accidental Injury', 'Haz Mat', 'Theft and Recovery of Motor Vehicle', 'Domestic Disturbance', 'Medical Call', 'Other Crime', 'Traffic Crash Hit and Run', 'Disturbance', 'Unlawful Use of Weapon', 'Motor Vehicle Theft', 'Possession of Narcotic with Intent to Deliver', 'Traffic Violation and Warrant Arrest', 'Mental Health', 'Warrant Arrest', 'Narcotic Delivery', 'Counterfeit Check', 'Accidental Fire', 'Prohibited Zone', 'Aggravated Battery of a Police Officer', 'Carjacking', 'Theft', 'Sex Crime', 'Reckless Driving', 'Forgery', 'Disorderly Conduct', 'Non-Criminal Damage to Property', 'Attempted Robbery', 'Arrest', 'Damage to City Property', 'Motor Vehicle Accident', 'Smoke', 'Sex Related', 'Vandalism', 'Possession of Cannabis', 'Assist Other Agency', 'Non-Criminal Offense', 'Deceptive Practice', 'Harassing Phone Call', 'Drug Law Violation', 'Personation of Peace Officer', 'Senior Citizen', 'Stuck Elevator', 'Attempted Home Invasion', 'Weapon Turn-In', 'Narcotic Arrest', 'Robbery', 'Interfering', 'False Police Report', 'Stolen Vehicle Recovery', 'Harassing Telephone Call', 'Harassing Message', 'Domestic', 'Arrest on Warrant', 'Domestic Issue', 'Telephone Threat', 'Attempted Theft', 'Traffic Offense', 'Delayed Report', 'Luring a Minor', 'Accident Report', 'Non-Criminal Damage to Vehicle', 'Suspicious Letter', 'Elevator Entrapment', 'DUI', 'Theft of Service', 'Domestic Aggravated Battery', 'Domestic Assault', 'Non-Criminal Informational Report', 'Unlawful Possession of a Weapon', 'Personal Injury', 'Chemical Spill', 'Obstructing a Peace Officer', 'Aggravated Domestic Assault', 'Other Vehicle Offense', 'Other Non-Criminal Property', 'Cyber Scam', 'Unlawful Discharge of a Firearm', 'Attempted Sexual Assault', 'Unlawful Restraint', 'Trespass to Motor Vehicle', 'Motor Vehicle Recovery', 'Information Report', 'Miscellaneous', 'Well-Being', 'Other Deadly Weapon', 'Missing Person', 'Unlawful Discharge of a Weapon', 'Recovered Firearm', 'Alarm', 'Criminal Trespass to Land', 'Battery', 'False Fire Alarm', 'Sex Offender', 'Vehicular Carjacking', 'Unlawful Use of a Weapon Arrest', 'Intimidation', 'Recovered Motor Vehicle', 'Possession of Stolen Property', 'Warrant', 'Found Key', 'Possession of Lost', 'Ambulance Request', 'Recovered Stolen Motor Vehicle', 'Extortion', 'Information', 'Delayed', 'Harassing Email Message', 'Reckless Conduct', 'Hit and Run Property Damage', 'Found Weapon', 'Minor Personal Injury', 'Armed Robbery', 'Simple Assault Battery', 'Possession of Marijuana', 'Harassment by Telephone', 'Traffic and Warrant Arrest', 'Threat', 'Other Violation', 'Traffic Violation Arrest', 'Missing Person Found', 'Haz Mat Incident', 'Hit and Run', 'Aggravated Battery of Police Officer', 'Theft from Motor Vehicle', 'Resisting Arrest', 'Possession of Crack Cocaine', 'Unauthorized Use of Computer', 'Possession of Stolen Motor Vehicle', 'Smoke Alarm', 'Fleeing or Attempting to Elude Police', 'Dog Bite', 'Threatening Phone Call', 'Possession of Controlled Substance', 'Suspicious Person', 'Public Way', 'Trespass to Land', 'Other Dangerous Weapon', 'Criminal Sexual Abuse', 'Criminal Trespass to Motor Vehicle', 'Aggravated Assault', 'Vehicle Hijacking', 'Dating Violence', 'Criminal Damage to Property', 'Sexual Abuse', 'Suspicious Mail', 'Unlawful Discharge of Weapon', 'Sex Offense', 'Electronic Means', 'Recovered Vehicle Plate', 'Haz Mat Event', 'Other Crime Vs. Person', 'Harassment by Electronic Means', 'Obscene Phone Call', 'Mental Health Transport', 'Public Peace Violation', 'Attempted Theft of Motor Vehicle', 'Robbery-Strong Arm', 'Attempted Motor Vehicle Theft', 'Injured Person', 'Threatening Call', 'Unlawful Possession of a Handgun', 'Traffic', 'Robbery-Aggravated', 'Property Damage Only', 'Accidental', 'Hazardous Material Event', 'Attempted Theft from Person', 'Suspicious Package', 'Obstructing Police', 'Traffic Violation', 'Order of Protection Arrest', 'Medical Transport', 'Eavesdropping', 'Fire Alarm', 'Found Narcotic Paraphernalia', 'Found', 'Threat by Electronic Means', 'Aggravated Battery', 'Homicide', 'Accidental Shooting', 'Telephone Scam', 'Weapon Recovery', 'Possession of Drug Paraphernalia', 'Theft of Lost', 'Aggravated Robbery', 'Resisting Police', 'Identity Theft', 'Outside Agency Warrant Arrest', 'Property Damage', 'Harassment', 'Attempted Burglary', 'Haz-Mat Incident', 'Purse Snatch', 'Traffic Crash', 'Unlawful Possession of Weapon', 'Home Invasion', 'Recovery of Motor Vehicle', 'Criminal Damage to Motor Vehicle', 'Damage to Personal Property', 'Found Person', 'Aggravated Vehicular Hijacking', 'Traffic Accident', 'Information Criminal Damage to Property', 'Trespass', 'Financial Identity Theft', 'Found Drug Paraphernalia', 'Criminal Trespass to Property', 'Non-Criminal Report', 'Mental Health Call', 'Theft of Lost or Mislaid Property', 'Mislaid Property', 'Interference with Police Officer', 'Domestic Aggravated Assault', 'Damage to UC Property', 'Non-Criminal Property', 'Criminal Defacement', 'Armed Robbery Arrest', 'Motor Vehicle Theft and Recovery', 'Possession of a Controlled Substance', 'Missing Property', 'Traffic Crash Report', 'Vehicular Hijacking', 'Ill Person', 'Non-Criminal Property Damage', 'Theft of Motorcycle', 'Found Wallet', 'Well-Being Check', 'Mental Transport', 'Non-Criminal Event', 'Automobile', 'Assault', 'Liquor Law Violation', 'Attempted Aggravated Robbery', 'Found Property', 'Theft of Motor Vehicle', 'DUI Arrest', 'Aggravated Discharge of a Firearm', 'Strong Armed', 'Unlawful Possession of Ammunition', 'Burglary', 'Fondling', 'Weapon Violation', 'Unlawful Use of a Weapon', 'Minor Injury', 'Lost Wallet', 'Police Officer', 'Battery of Police Officer', 'Counterfeit Document', 'Vehicle Fire', 'Notice of Order of Protection', 'Delayed Burglary', 'Traffic Crash Arrest', 'Aggravated Criminal Sexual Assault', 'Damaged Property', 'Attempted Armed Robbery', 'Deliver Narcotic', 'Smell of Gas', 'Harassing Email', 'Delayed Robbery', 'Non-Criminal Incident', 'Theft from Vehicle', 'Assault and Harassment by Electronic Means', 'Pedestrian', 'Non-Criminal Fire', 'Arson by Fire', 'Death Investigation', 'Foreign Steal', 'Reckless Discharge of a Firearm', 'Criminal Damage to Vehicle', 'Lost Property', 'Irregular Condition', 'Traffic Crash Property Damage', 'Fraud', 'Miscellaneous Incident Report', 'Information Harassment', 'Robbery Arrest', 'Trespass Warning', 'Vehicle Recovery', 'Deceptive', 'Found Suspect Marijuana', 'Telephone Harassment', 'Trespass to Vehicle', 'Non-Criminal Missing Property', 'Suspicious Vehicle', 'Trespass to Property', 'Traffic Collision', 'Unlawful Discharge of Firearm', 'Impersonation', 'Other Offense', 'Obstructing Peace Officer', 'Credit Card Fraud', 'Unlawful Possession of a Firearm', 'Fire', 'Arson', 'Theft from Person', 'Sick Person', 'UCPD Arrest Warrant', 'Aggravated Battery of a Protected Employee', 'Aggravated Domestic Battery', 'Recovered Vehicle', 'Motor Vehicle Theft Recovery', 'Found Suspect Narcotic', 'Aggravated Assault of Police Officer', 'Simple', 'Violation of Order of Protection', 'Cutting Instrument', 'Harassment Via Electronic Means', 'Cyberstalking', 'Recovery', 'Computer Fraud', 'Security Alarm', 'Animal Bite', 'Attempted Aggravated Vehicular Hijacking', 'Recovered Property', 'Attempted Strong Arm', 'Damage to Property', 'Suspicious Activity', 'Hazardous Material Incident', 'Suspicious Phone Call'}\n"
          ]
        }
      ],
      "source": [
        "print(list_to_parsed_set(df[\"incident\"].to_list()))"
      ]
    },
    {
      "cell_type": "code",
      "execution_count": 7,
      "id": "925ca09f1a15edbd",
      "metadata": {
        "ExecuteTime": {
          "end_time": "2024-02-28T07:06:56.325746Z",
          "start_time": "2024-02-28T07:06:56.302384Z"
        },
        "collapsed": false
      },
      "outputs": [
        {
          "data": {
            "text/plain": "387"
          },
          "execution_count": 7,
          "metadata": {},
          "output_type": "execute_result"
        }
      ],
      "source": [
        "len(list_to_parsed_set(df[\"incident\"].to_list()))"
      ]
    },
    {
      "cell_type": "code",
      "execution_count": 8,
      "id": "27c01bc37608766e",
      "metadata": {
        "ExecuteTime": {
          "end_time": "2024-02-28T07:06:56.326429Z",
          "start_time": "2024-02-28T07:06:56.305703Z"
        },
        "collapsed": false
      },
      "outputs": [
        {
          "data": {
            "text/html": "<div><style>\n.dataframe > thead > tr > th,\n.dataframe > tbody > tr > td {\n  text-align: right;\n}\n</style>\n<small>shape: (5, 12)</small><table border=\"1\" class=\"dataframe\"><thead><tr><th>comments</th><th>disposition</th><th>incident</th><th>location</th><th>occurred</th><th>predicted_incident</th><th>reported</th><th>reported_date</th><th>season</th><th>ucpd_id</th><th>validated_address</th><th>validated_location</th></tr><tr><td>str</td><td>str</td><td>str</td><td>str</td><td>str</td><td>str</td><td>datetime[\u03bcs, America/Chicago]</td><td>date</td><td>str</td><td>str</td><td>str</td><td>list[f64]</td></tr></thead><tbody><tr><td>&quot;Unknown subjec\u2026</td><td>&quot;Referred&quot;</td><td>&quot;Information / \u2026</td><td>&quot;4950 S. Chicag\u2026</td><td>&quot;2/26/24 2:15 A\u2026</td><td>null</td><td>2024-02-26 16:40:00 CST</td><td>2024-02-26</td><td>&quot;Winter&quot;</td><td>&quot;2024-007641&quot;</td><td>&quot;4950 South Chi\u2026</td><td>[41.804531, -87.584494]</td></tr><tr><td>&quot;2019 Kia Optim\u2026</td><td>&quot;Referred&quot;</td><td>&quot;Information / \u2026</td><td>&quot;5341 S. Maryla\u2026</td><td>&quot;2/26/24 5:00 P\u2026</td><td>null</td><td>2024-02-26 20:16:00 CST</td><td>2024-02-26</td><td>&quot;Winter&quot;</td><td>&quot;2024-007672&quot;</td><td>&quot;5341 S MARYLAN\u2026</td><td>[41.797757, -87.605034]</td></tr><tr><td>&quot;Two unknown su\u2026</td><td>&quot;CPD&quot;</td><td>&quot;Information / \u2026</td><td>&quot;1526 E. 53rd S\u2026</td><td>&quot;2/26/24 10:30 \u2026</td><td>null</td><td>2024-02-26 22:40:00 CST</td><td>2024-02-26</td><td>&quot;Winter&quot;</td><td>&quot;2024-007690&quot;</td><td>&quot;1526 E 53RD ST\u2026</td><td>[41.799611, -87.588343]</td></tr><tr><td>&quot;Unknown suspec\u2026</td><td>&quot;Open&quot;</td><td>&quot;Burglary&quot;</td><td>&quot;6300 S. Univer\u2026</td><td>&quot;2/23/24 to 2/2\u2026</td><td>null</td><td>2024-02-26 06:12:00 CST</td><td>2024-02-26</td><td>&quot;Winter&quot;</td><td>&quot;24-00192&quot;</td><td>&quot;6300 S UNIVERS\u2026</td><td>[41.780454, -87.597322]</td></tr><tr><td>&quot;A person kicke\u2026</td><td>&quot;Arrest&quot;</td><td>&quot;Criminal Damag\u2026</td><td>&quot;5700 S. Maryla\u2026</td><td>&quot;2/26/24 9:16 A\u2026</td><td>null</td><td>2024-02-26 09:18:00 CST</td><td>2024-02-26</td><td>&quot;Winter&quot;</td><td>&quot;24-00193&quot;</td><td>&quot;5700 S MARYLAN\u2026</td><td>[41.790399, -87.605017]</td></tr></tbody></table></div>",
            "text/plain": "shape: (5, 12)\n\u250c\u2500\u2500\u2500\u2500\u2500\u2500\u2500\u2500\u2500\u2500\u2500\u2500\u252c\u2500\u2500\u2500\u2500\u2500\u2500\u2500\u2500\u2500\u2500\u2500\u2500\u252c\u2500\u2500\u2500\u2500\u2500\u2500\u2500\u2500\u2500\u2500\u2500\u252c\u2500\u2500\u2500\u2500\u2500\u2500\u2500\u2500\u2500\u2500\u2500\u252c\u2500\u2500\u2500\u252c\u2500\u2500\u2500\u2500\u2500\u2500\u2500\u2500\u252c\u2500\u2500\u2500\u2500\u2500\u2500\u2500\u2500\u2500\u2500\u2500\u252c\u2500\u2500\u2500\u2500\u2500\u2500\u2500\u2500\u2500\u2500\u2500\u252c\u2500\u2500\u2500\u2500\u2500\u2500\u2500\u2500\u2500\u2500\u2500\u2510\n\u2502 comments   \u2506 dispositio \u2506 incident  \u2506 location  \u2506 \u2026 \u2506 season \u2506 ucpd_id   \u2506 validated \u2506 validated \u2502\n\u2502 ---        \u2506 n          \u2506 ---       \u2506 ---       \u2506   \u2506 ---    \u2506 ---       \u2506 _address  \u2506 _location \u2502\n\u2502 str        \u2506 ---        \u2506 str       \u2506 str       \u2506   \u2506 str    \u2506 str       \u2506 ---       \u2506 ---       \u2502\n\u2502            \u2506 str        \u2506           \u2506           \u2506   \u2506        \u2506           \u2506 str       \u2506 list[f64] \u2502\n\u255e\u2550\u2550\u2550\u2550\u2550\u2550\u2550\u2550\u2550\u2550\u2550\u2550\u256a\u2550\u2550\u2550\u2550\u2550\u2550\u2550\u2550\u2550\u2550\u2550\u2550\u256a\u2550\u2550\u2550\u2550\u2550\u2550\u2550\u2550\u2550\u2550\u2550\u256a\u2550\u2550\u2550\u2550\u2550\u2550\u2550\u2550\u2550\u2550\u2550\u256a\u2550\u2550\u2550\u256a\u2550\u2550\u2550\u2550\u2550\u2550\u2550\u2550\u256a\u2550\u2550\u2550\u2550\u2550\u2550\u2550\u2550\u2550\u2550\u2550\u256a\u2550\u2550\u2550\u2550\u2550\u2550\u2550\u2550\u2550\u2550\u2550\u256a\u2550\u2550\u2550\u2550\u2550\u2550\u2550\u2550\u2550\u2550\u2550\u2561\n\u2502 Unknown    \u2506 Referred   \u2506 Informati \u2506 4950 S.   \u2506 \u2026 \u2506 Winter \u2506 2024-0076 \u2506 4950      \u2506 [41.80453 \u2502\n\u2502 subject    \u2506            \u2506 on /      \u2506 Chicago   \u2506   \u2506        \u2506 41        \u2506 South     \u2506 1, -87.58 \u2502\n\u2502 smashed    \u2506            \u2506 Criminal  \u2506 Beach Dr. \u2506   \u2506        \u2506           \u2506 Chicago   \u2506 4494]     \u2502\n\u2502 the sunr\u2026  \u2506            \u2506 Damage    \u2506 (Parki\u2026   \u2506   \u2506        \u2506           \u2506 Beach     \u2506           \u2502\n\u2502            \u2506            \u2506 to\u2026       \u2506           \u2506   \u2506        \u2506           \u2506 Drive, \u2026  \u2506           \u2502\n\u2502 2019 Kia   \u2506 Referred   \u2506 Informati \u2506 5341 S.   \u2506 \u2026 \u2506 Winter \u2506 2024-0076 \u2506 5341 S    \u2506 [41.79775 \u2502\n\u2502 Optima     \u2506            \u2506 on /      \u2506 Maryland  \u2506   \u2506        \u2506 72        \u2506 MARYLAND  \u2506 7, -87.60 \u2502\n\u2502 parked and \u2506            \u2506 Motor     \u2506 Ave.      \u2506   \u2506        \u2506           \u2506 AVE,      \u2506 5034]     \u2502\n\u2502 secur\u2026     \u2506            \u2506 Vehicle   \u2506 (Public   \u2506   \u2506        \u2506           \u2506 CHICAGO,  \u2506           \u2502\n\u2502            \u2506            \u2506 Thef\u2026     \u2506 Wa\u2026       \u2506   \u2506        \u2506           \u2506 IL\u2026       \u2506           \u2502\n\u2502 Two        \u2506 CPD        \u2506 Informati \u2506 1526 E.   \u2506 \u2026 \u2506 Winter \u2506 2024-0076 \u2506 1526 E    \u2506 [41.79961 \u2502\n\u2502 unknown    \u2506            \u2506 on / Aggr \u2506 53rd St.  \u2506   \u2506        \u2506 90        \u2506 53RD ST,  \u2506 1, -87.58 \u2502\n\u2502 suspects   \u2506            \u2506 avated    \u2506 (Public   \u2506   \u2506        \u2506           \u2506 CHICAGO,  \u2506 8343]     \u2502\n\u2502 in a white \u2506            \u2506 Robbery   \u2506 Way)      \u2506   \u2506        \u2506           \u2506 IL, 606\u2026  \u2506           \u2502\n\u2502 \u2026          \u2506            \u2506           \u2506           \u2506   \u2506        \u2506           \u2506           \u2506           \u2502\n\u2502 Unknown    \u2506 Open       \u2506 Burglary  \u2506 6300 S.   \u2506 \u2026 \u2506 Winter \u2506 24-00192  \u2506 6300 S    \u2506 [41.78045 \u2502\n\u2502 suspect(s) \u2506            \u2506           \u2506 Universit \u2506   \u2506        \u2506           \u2506 UNIVERSIT \u2506 4, -87.59 \u2502\n\u2502 forced     \u2506            \u2506           \u2506 y Ave.    \u2506   \u2506        \u2506           \u2506 Y AVE,    \u2506 7322]     \u2502\n\u2502 entry \u2026    \u2506            \u2506           \u2506 (S. Wood\u2026 \u2506   \u2506        \u2506           \u2506 CHICAGO,  \u2506           \u2502\n\u2502            \u2506            \u2506           \u2506           \u2506   \u2506        \u2506           \u2506 \u2026         \u2506           \u2502\n\u2502 A person   \u2506 Arrest     \u2506 Criminal  \u2506 5700 S.   \u2506 \u2026 \u2506 Winter \u2506 24-00193  \u2506 5700 S    \u2506 [41.79039 \u2502\n\u2502 kicked the \u2506            \u2506 Damage to \u2506 Maryland  \u2506   \u2506        \u2506           \u2506 MARYLAND  \u2506 9, -87.60 \u2502\n\u2502 fender of  \u2506            \u2506 Vehicle   \u2506 Ave.      \u2506   \u2506        \u2506           \u2506 AVE,      \u2506 5017]     \u2502\n\u2502 a \u2026        \u2506            \u2506           \u2506 (Public   \u2506   \u2506        \u2506           \u2506 CHICAGO,  \u2506           \u2502\n\u2502            \u2506            \u2506           \u2506 Wa\u2026       \u2506   \u2506        \u2506           \u2506 IL\u2026       \u2506           \u2502\n\u2514\u2500\u2500\u2500\u2500\u2500\u2500\u2500\u2500\u2500\u2500\u2500\u2500\u2534\u2500\u2500\u2500\u2500\u2500\u2500\u2500\u2500\u2500\u2500\u2500\u2500\u2534\u2500\u2500\u2500\u2500\u2500\u2500\u2500\u2500\u2500\u2500\u2500\u2534\u2500\u2500\u2500\u2500\u2500\u2500\u2500\u2500\u2500\u2500\u2500\u2534\u2500\u2500\u2500\u2534\u2500\u2500\u2500\u2500\u2500\u2500\u2500\u2500\u2534\u2500\u2500\u2500\u2500\u2500\u2500\u2500\u2500\u2500\u2500\u2500\u2534\u2500\u2500\u2500\u2500\u2500\u2500\u2500\u2500\u2500\u2500\u2500\u2534\u2500\u2500\u2500\u2500\u2500\u2500\u2500\u2500\u2500\u2500\u2500\u2518"
          },
          "execution_count": 8,
          "metadata": {},
          "output_type": "execute_result"
        }
      ],
      "source": [
        "df.head()"
      ]
    },
    {
      "cell_type": "code",
      "execution_count": 9,
      "id": "a1ceb2499ac5fd2d",
      "metadata": {
        "ExecuteTime": {
          "end_time": "2024-02-28T07:06:56.326947Z",
          "start_time": "2024-02-28T07:06:56.308985Z"
        },
        "collapsed": false
      },
      "outputs": [
        {
          "data": {
            "text/html": "<div><style>\n.dataframe > thead > tr > th,\n.dataframe > tbody > tr > td {\n  text-align: right;\n}\n</style>\n<small>shape: (5, 13)</small><table border=\"1\" class=\"dataframe\"><thead><tr><th>comments</th><th>disposition</th><th>incident</th><th>location</th><th>occurred</th><th>predicted_incident</th><th>reported</th><th>reported_date</th><th>season</th><th>ucpd_id</th><th>validated_address</th><th>validated_location</th><th>year</th></tr><tr><td>str</td><td>str</td><td>str</td><td>str</td><td>str</td><td>str</td><td>datetime[\u03bcs, America/Chicago]</td><td>date</td><td>str</td><td>str</td><td>str</td><td>list[f64]</td><td>i32</td></tr></thead><tbody><tr><td>&quot;Unknown subjec\u2026</td><td>&quot;Referred&quot;</td><td>&quot;Information / \u2026</td><td>&quot;4950 S. Chicag\u2026</td><td>&quot;2/26/24 2:15 A\u2026</td><td>null</td><td>2024-02-26 16:40:00 CST</td><td>2024-02-26</td><td>&quot;Winter&quot;</td><td>&quot;2024-007641&quot;</td><td>&quot;4950 South Chi\u2026</td><td>[41.804531, -87.584494]</td><td>2024</td></tr><tr><td>&quot;2019 Kia Optim\u2026</td><td>&quot;Referred&quot;</td><td>&quot;Information / \u2026</td><td>&quot;5341 S. Maryla\u2026</td><td>&quot;2/26/24 5:00 P\u2026</td><td>null</td><td>2024-02-26 20:16:00 CST</td><td>2024-02-26</td><td>&quot;Winter&quot;</td><td>&quot;2024-007672&quot;</td><td>&quot;5341 S MARYLAN\u2026</td><td>[41.797757, -87.605034]</td><td>2024</td></tr><tr><td>&quot;Two unknown su\u2026</td><td>&quot;CPD&quot;</td><td>&quot;Information / \u2026</td><td>&quot;1526 E. 53rd S\u2026</td><td>&quot;2/26/24 10:30 \u2026</td><td>null</td><td>2024-02-26 22:40:00 CST</td><td>2024-02-26</td><td>&quot;Winter&quot;</td><td>&quot;2024-007690&quot;</td><td>&quot;1526 E 53RD ST\u2026</td><td>[41.799611, -87.588343]</td><td>2024</td></tr><tr><td>&quot;Unknown suspec\u2026</td><td>&quot;Open&quot;</td><td>&quot;Burglary&quot;</td><td>&quot;6300 S. Univer\u2026</td><td>&quot;2/23/24 to 2/2\u2026</td><td>null</td><td>2024-02-26 06:12:00 CST</td><td>2024-02-26</td><td>&quot;Winter&quot;</td><td>&quot;24-00192&quot;</td><td>&quot;6300 S UNIVERS\u2026</td><td>[41.780454, -87.597322]</td><td>2024</td></tr><tr><td>&quot;A person kicke\u2026</td><td>&quot;Arrest&quot;</td><td>&quot;Criminal Damag\u2026</td><td>&quot;5700 S. Maryla\u2026</td><td>&quot;2/26/24 9:16 A\u2026</td><td>null</td><td>2024-02-26 09:18:00 CST</td><td>2024-02-26</td><td>&quot;Winter&quot;</td><td>&quot;24-00193&quot;</td><td>&quot;5700 S MARYLAN\u2026</td><td>[41.790399, -87.605017]</td><td>2024</td></tr></tbody></table></div>",
            "text/plain": "shape: (5, 13)\n\u250c\u2500\u2500\u2500\u2500\u2500\u2500\u2500\u2500\u2500\u2500\u2500\u2500\u252c\u2500\u2500\u2500\u2500\u2500\u2500\u2500\u2500\u2500\u2500\u2500\u2500\u252c\u2500\u2500\u2500\u2500\u2500\u2500\u2500\u2500\u2500\u2500\u2500\u2500\u252c\u2500\u2500\u2500\u2500\u2500\u2500\u2500\u2500\u2500\u2500\u2500\u2500\u252c\u2500\u2500\u2500\u252c\u2500\u2500\u2500\u2500\u2500\u2500\u2500\u2500\u2500\u2500\u2500\u252c\u2500\u2500\u2500\u2500\u2500\u2500\u2500\u2500\u2500\u2500\u2500\u252c\u2500\u2500\u2500\u2500\u2500\u2500\u2500\u2500\u2500\u2500\u2500\u252c\u2500\u2500\u2500\u2500\u2500\u2500\u2510\n\u2502 comments   \u2506 dispositio \u2506 incident   \u2506 location   \u2506 \u2026 \u2506 ucpd_id   \u2506 validated \u2506 validated \u2506 year \u2502\n\u2502 ---        \u2506 n          \u2506 ---        \u2506 ---        \u2506   \u2506 ---       \u2506 _address  \u2506 _location \u2506 ---  \u2502\n\u2502 str        \u2506 ---        \u2506 str        \u2506 str        \u2506   \u2506 str       \u2506 ---       \u2506 ---       \u2506 i32  \u2502\n\u2502            \u2506 str        \u2506            \u2506            \u2506   \u2506           \u2506 str       \u2506 list[f64] \u2506      \u2502\n\u255e\u2550\u2550\u2550\u2550\u2550\u2550\u2550\u2550\u2550\u2550\u2550\u2550\u256a\u2550\u2550\u2550\u2550\u2550\u2550\u2550\u2550\u2550\u2550\u2550\u2550\u256a\u2550\u2550\u2550\u2550\u2550\u2550\u2550\u2550\u2550\u2550\u2550\u2550\u256a\u2550\u2550\u2550\u2550\u2550\u2550\u2550\u2550\u2550\u2550\u2550\u2550\u256a\u2550\u2550\u2550\u256a\u2550\u2550\u2550\u2550\u2550\u2550\u2550\u2550\u2550\u2550\u2550\u256a\u2550\u2550\u2550\u2550\u2550\u2550\u2550\u2550\u2550\u2550\u2550\u256a\u2550\u2550\u2550\u2550\u2550\u2550\u2550\u2550\u2550\u2550\u2550\u256a\u2550\u2550\u2550\u2550\u2550\u2550\u2561\n\u2502 Unknown    \u2506 Referred   \u2506 Informatio \u2506 4950 S.    \u2506 \u2026 \u2506 2024-0076 \u2506 4950      \u2506 [41.80453 \u2506 2024 \u2502\n\u2502 subject    \u2506            \u2506 n /        \u2506 Chicago    \u2506   \u2506 41        \u2506 South     \u2506 1, -87.58 \u2506      \u2502\n\u2502 smashed    \u2506            \u2506 Criminal   \u2506 Beach Dr.  \u2506   \u2506           \u2506 Chicago   \u2506 4494]     \u2506      \u2502\n\u2502 the sunr\u2026  \u2506            \u2506 Damage to\u2026 \u2506 (Parki\u2026    \u2506   \u2506           \u2506 Beach     \u2506           \u2506      \u2502\n\u2502            \u2506            \u2506            \u2506            \u2506   \u2506           \u2506 Drive, \u2026  \u2506           \u2506      \u2502\n\u2502 2019 Kia   \u2506 Referred   \u2506 Informatio \u2506 5341 S.    \u2506 \u2026 \u2506 2024-0076 \u2506 5341 S    \u2506 [41.79775 \u2506 2024 \u2502\n\u2502 Optima     \u2506            \u2506 n / Motor  \u2506 Maryland   \u2506   \u2506 72        \u2506 MARYLAND  \u2506 7, -87.60 \u2506      \u2502\n\u2502 parked and \u2506            \u2506 Vehicle    \u2506 Ave.       \u2506   \u2506           \u2506 AVE,      \u2506 5034]     \u2506      \u2502\n\u2502 secur\u2026     \u2506            \u2506 Thef\u2026      \u2506 (Public    \u2506   \u2506           \u2506 CHICAGO,  \u2506           \u2506      \u2502\n\u2502            \u2506            \u2506            \u2506 Wa\u2026        \u2506   \u2506           \u2506 IL\u2026       \u2506           \u2506      \u2502\n\u2502 Two        \u2506 CPD        \u2506 Informatio \u2506 1526 E.    \u2506 \u2026 \u2506 2024-0076 \u2506 1526 E    \u2506 [41.79961 \u2506 2024 \u2502\n\u2502 unknown    \u2506            \u2506 n /        \u2506 53rd St.   \u2506   \u2506 90        \u2506 53RD ST,  \u2506 1, -87.58 \u2506      \u2502\n\u2502 suspects   \u2506            \u2506 Aggravated \u2506 (Public    \u2506   \u2506           \u2506 CHICAGO,  \u2506 8343]     \u2506      \u2502\n\u2502 in a white \u2506            \u2506 Robbery    \u2506 Way)       \u2506   \u2506           \u2506 IL, 606\u2026  \u2506           \u2506      \u2502\n\u2502 \u2026          \u2506            \u2506            \u2506            \u2506   \u2506           \u2506           \u2506           \u2506      \u2502\n\u2502 Unknown    \u2506 Open       \u2506 Burglary   \u2506 6300 S.    \u2506 \u2026 \u2506 24-00192  \u2506 6300 S    \u2506 [41.78045 \u2506 2024 \u2502\n\u2502 suspect(s) \u2506            \u2506            \u2506 University \u2506   \u2506           \u2506 UNIVERSIT \u2506 4, -87.59 \u2506      \u2502\n\u2502 forced     \u2506            \u2506            \u2506 Ave. (S.   \u2506   \u2506           \u2506 Y AVE,    \u2506 7322]     \u2506      \u2502\n\u2502 entry \u2026    \u2506            \u2506            \u2506 Wood\u2026      \u2506   \u2506           \u2506 CHICAGO,  \u2506           \u2506      \u2502\n\u2502            \u2506            \u2506            \u2506            \u2506   \u2506           \u2506 \u2026         \u2506           \u2506      \u2502\n\u2502 A person   \u2506 Arrest     \u2506 Criminal   \u2506 5700 S.    \u2506 \u2026 \u2506 24-00193  \u2506 5700 S    \u2506 [41.79039 \u2506 2024 \u2502\n\u2502 kicked the \u2506            \u2506 Damage to  \u2506 Maryland   \u2506   \u2506           \u2506 MARYLAND  \u2506 9, -87.60 \u2506      \u2502\n\u2502 fender of  \u2506            \u2506 Vehicle    \u2506 Ave.       \u2506   \u2506           \u2506 AVE,      \u2506 5017]     \u2506      \u2502\n\u2502 a \u2026        \u2506            \u2506            \u2506 (Public    \u2506   \u2506           \u2506 CHICAGO,  \u2506           \u2506      \u2502\n\u2502            \u2506            \u2506            \u2506 Wa\u2026        \u2506   \u2506           \u2506 IL\u2026       \u2506           \u2506      \u2502\n\u2514\u2500\u2500\u2500\u2500\u2500\u2500\u2500\u2500\u2500\u2500\u2500\u2500\u2534\u2500\u2500\u2500\u2500\u2500\u2500\u2500\u2500\u2500\u2500\u2500\u2500\u2534\u2500\u2500\u2500\u2500\u2500\u2500\u2500\u2500\u2500\u2500\u2500\u2500\u2534\u2500\u2500\u2500\u2500\u2500\u2500\u2500\u2500\u2500\u2500\u2500\u2500\u2534\u2500\u2500\u2500\u2534\u2500\u2500\u2500\u2500\u2500\u2500\u2500\u2500\u2500\u2500\u2500\u2534\u2500\u2500\u2500\u2500\u2500\u2500\u2500\u2500\u2500\u2500\u2500\u2534\u2500\u2500\u2500\u2500\u2500\u2500\u2500\u2500\u2500\u2500\u2500\u2534\u2500\u2500\u2500\u2500\u2500\u2500\u2518"
          },
          "execution_count": 9,
          "metadata": {},
          "output_type": "execute_result"
        }
      ],
      "source": [
        "df_filtered = df.filter(pl.col(\"reported_date\") > date(2019, 12, 31)).filter(\n",
        "    pl.col(\"reported_date\").dt.month() <= 2\n",
        ")\n",
        "df_filtered = df_filtered.with_columns(\n",
        "    (df_filtered[\"reported_date\"].dt.year()).alias(\"year\")\n",
        ")\n",
        "df_filtered.head()"
      ]
    },
    {
      "cell_type": "code",
      "execution_count": 10,
      "id": "bfa47f86dc68c0d",
      "metadata": {
        "ExecuteTime": {
          "end_time": "2024-02-28T07:06:56.327225Z",
          "start_time": "2024-02-28T07:06:56.313766Z"
        },
        "collapsed": false
      },
      "outputs": [
        {
          "data": {
            "text/html": "<div><style>\n.dataframe > thead > tr > th,\n.dataframe > tbody > tr > td {\n  text-align: right;\n}\n</style>\n<small>shape: (5, 2)</small><table border=\"1\" class=\"dataframe\"><thead><tr><th>year</th><th>count</th></tr><tr><td>i32</td><td>u32</td></tr></thead><tbody><tr><td>2020</td><td>191</td></tr><tr><td>2021</td><td>180</td></tr><tr><td>2022</td><td>224</td></tr><tr><td>2023</td><td>285</td></tr><tr><td>2024</td><td>290</td></tr></tbody></table></div>",
            "text/plain": "shape: (5, 2)\n\u250c\u2500\u2500\u2500\u2500\u2500\u2500\u252c\u2500\u2500\u2500\u2500\u2500\u2500\u2500\u2510\n\u2502 year \u2506 count \u2502\n\u2502 ---  \u2506 ---   \u2502\n\u2502 i32  \u2506 u32   \u2502\n\u255e\u2550\u2550\u2550\u2550\u2550\u2550\u256a\u2550\u2550\u2550\u2550\u2550\u2550\u2550\u2561\n\u2502 2020 \u2506 191   \u2502\n\u2502 2021 \u2506 180   \u2502\n\u2502 2022 \u2506 224   \u2502\n\u2502 2023 \u2506 285   \u2502\n\u2502 2024 \u2506 290   \u2502\n\u2514\u2500\u2500\u2500\u2500\u2500\u2500\u2534\u2500\u2500\u2500\u2500\u2500\u2500\u2500\u2518"
          },
          "execution_count": 10,
          "metadata": {},
          "output_type": "execute_result"
        }
      ],
      "source": [
        "df_filtered.groupby(\"year\").count().sort(by=\"year\")"
      ]
    },
    {
      "cell_type": "code",
      "execution_count": 11,
      "id": "2bf6a78f35dd8ca1",
      "metadata": {
        "ExecuteTime": {
          "end_time": "2024-02-28T07:06:56.354290Z",
          "start_time": "2024-02-28T07:06:56.319240Z"
        },
        "collapsed": false
      },
      "outputs": [
        {
          "data": {
            "text/html": "<div><style>\n.dataframe > thead > tr > th,\n.dataframe > tbody > tr > td {\n  text-align: right;\n}\n</style>\n<small>shape: (0, 13)</small><table border=\"1\" class=\"dataframe\"><thead><tr><th>comments</th><th>disposition</th><th>incident</th><th>location</th><th>occurred</th><th>predicted_incident</th><th>reported</th><th>reported_date</th><th>season</th><th>ucpd_id</th><th>validated_address</th><th>validated_location</th><th>year</th></tr><tr><td>str</td><td>str</td><td>str</td><td>str</td><td>str</td><td>str</td><td>datetime[\u03bcs, America/Chicago]</td><td>date</td><td>str</td><td>str</td><td>str</td><td>list[f64]</td><td>i32</td></tr></thead><tbody></tbody></table></div>",
            "text/plain": "shape: (0, 13)\n\u250c\u2500\u2500\u2500\u2500\u2500\u2500\u2500\u2500\u2500\u2500\u252c\u2500\u2500\u2500\u2500\u2500\u2500\u2500\u2500\u2500\u2500\u2500\u2500\u2500\u252c\u2500\u2500\u2500\u2500\u2500\u2500\u2500\u2500\u2500\u2500\u252c\u2500\u2500\u2500\u2500\u2500\u2500\u2500\u2500\u2500\u2500\u252c\u2500\u2500\u2500\u252c\u2500\u2500\u2500\u2500\u2500\u2500\u2500\u2500\u2500\u252c\u2500\u2500\u2500\u2500\u2500\u2500\u2500\u2500\u2500\u2500\u2500\u2500\u2500\u2500\u2500\u252c\u2500\u2500\u2500\u2500\u2500\u2500\u2500\u2500\u2500\u2500\u2500\u2500\u2500\u2500\u252c\u2500\u2500\u2500\u2500\u2500\u2500\u2510\n\u2502 comments \u2506 disposition \u2506 incident \u2506 location \u2506 \u2026 \u2506 ucpd_id \u2506 validated_add \u2506 validated_lo \u2506 year \u2502\n\u2502 ---      \u2506 ---         \u2506 ---      \u2506 ---      \u2506   \u2506 ---     \u2506 ress          \u2506 cation       \u2506 ---  \u2502\n\u2502 str      \u2506 str         \u2506 str      \u2506 str      \u2506   \u2506 str     \u2506 ---           \u2506 ---          \u2506 i32  \u2502\n\u2502          \u2506             \u2506          \u2506          \u2506   \u2506         \u2506 str           \u2506 list[f64]    \u2506      \u2502\n\u255e\u2550\u2550\u2550\u2550\u2550\u2550\u2550\u2550\u2550\u2550\u256a\u2550\u2550\u2550\u2550\u2550\u2550\u2550\u2550\u2550\u2550\u2550\u2550\u2550\u256a\u2550\u2550\u2550\u2550\u2550\u2550\u2550\u2550\u2550\u2550\u256a\u2550\u2550\u2550\u2550\u2550\u2550\u2550\u2550\u2550\u2550\u256a\u2550\u2550\u2550\u256a\u2550\u2550\u2550\u2550\u2550\u2550\u2550\u2550\u2550\u256a\u2550\u2550\u2550\u2550\u2550\u2550\u2550\u2550\u2550\u2550\u2550\u2550\u2550\u2550\u2550\u256a\u2550\u2550\u2550\u2550\u2550\u2550\u2550\u2550\u2550\u2550\u2550\u2550\u2550\u2550\u256a\u2550\u2550\u2550\u2550\u2550\u2550\u2561\n\u2514\u2500\u2500\u2500\u2500\u2500\u2500\u2500\u2500\u2500\u2500\u2534\u2500\u2500\u2500\u2500\u2500\u2500\u2500\u2500\u2500\u2500\u2500\u2500\u2500\u2534\u2500\u2500\u2500\u2500\u2500\u2500\u2500\u2500\u2500\u2500\u2534\u2500\u2500\u2500\u2500\u2500\u2500\u2500\u2500\u2500\u2500\u2534\u2500\u2500\u2500\u2534\u2500\u2500\u2500\u2500\u2500\u2500\u2500\u2500\u2500\u2534\u2500\u2500\u2500\u2500\u2500\u2500\u2500\u2500\u2500\u2500\u2500\u2500\u2500\u2500\u2500\u2534\u2500\u2500\u2500\u2500\u2500\u2500\u2500\u2500\u2500\u2500\u2500\u2500\u2500\u2500\u2534\u2500\u2500\u2500\u2500\u2500\u2500\u2518"
          },
          "execution_count": 11,
          "metadata": {},
          "output_type": "execute_result"
        }
      ],
      "source": [
        "VIOLENT_INCIDENT_TYPES = [\n",
        "    \"aggravated assault of police officer\",\n",
        "    \"aggravated assault\",\n",
        "    \"aggravated battery of a police officer\",\n",
        "    \"aggravated battery of police officer\",\n",
        "    \"aggravated battery to police officer\",\n",
        "    \"aggravated criminal sexual assault\",\n",
        "    \"aggravated discharge of a firearm\",\n",
        "    \"aggravated domestic battery\",\n",
        "    \"aggravated robbery\",\n",
        "    \"aggravated vehicular hijacking\",\n",
        "    \"armed robbery\",\n",
        "    \"arson\",\n",
        "    \"assault and harassment by electronic means\",\n",
        "    \"assault\",\n",
        "    \"attempted aggravated robbery\",\n",
        "    \"attempted armed robbery\",\n",
        "    \"attempted sexual assault\",\n",
        "    \"bomb threat\",\n",
        "    \"dating violence\",\n",
        "    \"domestic aggravated battery\",\n",
        "    \"homicide\",\n",
        "    \"murder\",\n",
        "    \"sex offense\",\n",
        "    \"sexual assault\",\n",
        "]\n",
        "\n",
        "\n",
        "df_filtered = df_filtered.filter(\n",
        "    pl.col(\"incident\").str.contains(\"|\".join(VIOLENT_INCIDENT_TYPES))\n",
        ")\n",
        "df_filtered"
      ]
    },
    {
      "cell_type": "code",
      "execution_count": 12,
      "id": "7585d5fef849992d",
      "metadata": {
        "ExecuteTime": {
          "end_time": "2024-02-28T07:06:56.369610Z",
          "start_time": "2024-02-28T07:06:56.322273Z"
        },
        "collapsed": false
      },
      "outputs": [
        {
          "data": {
            "text/html": "<div><style>\n.dataframe > thead > tr > th,\n.dataframe > tbody > tr > td {\n  text-align: right;\n}\n</style>\n<small>shape: (0, 2)</small><table border=\"1\" class=\"dataframe\"><thead><tr><th>year</th><th>count</th></tr><tr><td>i32</td><td>u32</td></tr></thead><tbody></tbody></table></div>",
            "text/plain": "shape: (0, 2)\n\u250c\u2500\u2500\u2500\u2500\u2500\u2500\u252c\u2500\u2500\u2500\u2500\u2500\u2500\u2500\u2510\n\u2502 year \u2506 count \u2502\n\u2502 ---  \u2506 ---   \u2502\n\u2502 i32  \u2506 u32   \u2502\n\u255e\u2550\u2550\u2550\u2550\u2550\u2550\u256a\u2550\u2550\u2550\u2550\u2550\u2550\u2550\u2561\n\u2514\u2500\u2500\u2500\u2500\u2500\u2500\u2534\u2500\u2500\u2500\u2500\u2500\u2500\u2500\u2518"
          },
          "execution_count": 12,
          "metadata": {},
          "output_type": "execute_result"
        }
      ],
      "source": [
        "df_filtered.groupby(\"year\").count().sort(by=\"year\")"
      ]
    },
    {
      "cell_type": "code",
      "execution_count": 12,
      "id": "cdc462d5212cae11",
      "metadata": {
        "ExecuteTime": {
          "end_time": "2024-02-28T07:06:56.370708Z",
          "start_time": "2024-02-28T07:06:56.325038Z"
        },
        "collapsed": false
      },
      "outputs": [],
      "source": []
    }
  ],
  "metadata": {
    "kernelspec": {
      "display_name": "Python 3",
      "language": "python",
      "name": "python3"
    },
    "language_info": {
      "codemirror_mode": {
        "name": "ipython",
        "version": 2
      },
      "file_extension": ".py",
      "mimetype": "text/x-python",
      "name": "python",
      "nbconvert_exporter": "python",
      "pygments_lexer": "ipython2",
      "version": "2.7.6"
    }
  },
  "nbformat": 4,
  "nbformat_minor": 5
}
