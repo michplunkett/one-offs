{
 "cells": [
  {
   "cell_type": "code",
   "execution_count": 31,
   "id": "initial_id",
   "metadata": {
    "collapsed": true,
    "ExecuteTime": {
     "end_time": "2024-01-08T07:21:23.117022Z",
     "start_time": "2024-01-08T07:21:23.106991Z"
    }
   },
   "outputs": [],
   "source": [
    "import polars as pl"
   ]
  },
  {
   "cell_type": "code",
   "execution_count": 32,
   "outputs": [],
   "source": [
    "# Import incidents and format columns\n",
    "df = pl.read_csv(\n",
    "    \"./data/incident_dump.csv\",\n",
    ").with_columns(\n",
    "    pl.col(\"reported\")\n",
    "    .str.strptime(pl.Datetime, format=\"%Y-%m-%dT%H:%M:%S%z\")\n",
    "    .dt.convert_time_zone(\"America/Chicago\"),\n",
    "    pl.col(\"reported_date\").str.to_date(\"%Y-%m-%d\"),\n",
    "    pl.col(\"validated_location\").str.split(\",\").cast(pl.List(pl.Float64)),\n",
    "    pl.col(\"incident\").str.to_lowercase(),\n",
    ")"
   ],
   "metadata": {
    "collapsed": false,
    "ExecuteTime": {
     "end_time": "2024-01-08T07:21:23.131342Z",
     "start_time": "2024-01-08T07:21:23.118386Z"
    }
   },
   "id": "14f7bbdba7444ce8"
  },
  {
   "cell_type": "code",
   "execution_count": 33,
   "outputs": [
    {
     "data": {
      "text/plain": "shape: (719, 2)\n┌───────────────────────────────────┬───────┐\n│ incident                          ┆ count │\n│ ---                               ┆ ---   │\n│ str                               ┆ u32   │\n╞═══════════════════════════════════╪═══════╡\n│ theft                             ┆ 2956  │\n│ information                       ┆ 1366  │\n│ found property                    ┆ 914   │\n│ lost property                     ┆ 828   │\n│ …                                 ┆ …     │\n│ criminal damage to property / cr… ┆ 1     │\n│ information / domestic dispute    ┆ 1     │\n│ traffic crash / property / hit a… ┆ 1     │\n│ recovered vehicle plate           ┆ 1     │\n└───────────────────────────────────┴───────┘",
      "text/html": "<div><style>\n.dataframe > thead > tr > th,\n.dataframe > tbody > tr > td {\n  text-align: right;\n}\n</style>\n<small>shape: (719, 2)</small><table border=\"1\" class=\"dataframe\"><thead><tr><th>incident</th><th>count</th></tr><tr><td>str</td><td>u32</td></tr></thead><tbody><tr><td>&quot;theft&quot;</td><td>2956</td></tr><tr><td>&quot;information&quot;</td><td>1366</td></tr><tr><td>&quot;found property…</td><td>914</td></tr><tr><td>&quot;lost property&quot;</td><td>828</td></tr><tr><td>&quot;traffic violat…</td><td>533</td></tr><tr><td>&quot;information / …</td><td>488</td></tr><tr><td>&quot;liquor law vio…</td><td>440</td></tr><tr><td>&quot;medical call&quot;</td><td>420</td></tr><tr><td>&quot;battery&quot;</td><td>418</td></tr><tr><td>&quot;information / …</td><td>351</td></tr><tr><td>&quot;mental health …</td><td>321</td></tr><tr><td>&quot;injured person…</td><td>319</td></tr><tr><td>&hellip;</td><td>&hellip;</td></tr><tr><td>&quot;information / …</td><td>1</td></tr><tr><td>&quot;property damag…</td><td>1</td></tr><tr><td>&quot;domestic batte…</td><td>1</td></tr><tr><td>&quot;non-criminal /…</td><td>1</td></tr><tr><td>&quot;expired licens…</td><td>1</td></tr><tr><td>&quot;non-criminal c…</td><td>1</td></tr><tr><td>&quot;aggravated bat…</td><td>1</td></tr><tr><td>&quot;information / …</td><td>1</td></tr><tr><td>&quot;criminal damag…</td><td>1</td></tr><tr><td>&quot;information / …</td><td>1</td></tr><tr><td>&quot;traffic crash …</td><td>1</td></tr><tr><td>&quot;recovered vehi…</td><td>1</td></tr></tbody></table></div>"
     },
     "execution_count": 33,
     "metadata": {},
     "output_type": "execute_result"
    }
   ],
   "source": [
    "df.groupby([\"incident\"]).agg(pl.count()).sort(\"count\", descending=True)"
   ],
   "metadata": {
    "collapsed": false,
    "ExecuteTime": {
     "end_time": "2024-01-08T07:21:23.137941Z",
     "start_time": "2024-01-08T07:21:23.128940Z"
    }
   },
   "id": "15f78416b84388bc"
  },
  {
   "cell_type": "code",
   "execution_count": 34,
   "outputs": [
    {
     "data": {
      "text/plain": "shape: (719, 2)\n┌───────────────────────────────────┬───────┐\n│ incident                          ┆ count │\n│ ---                               ┆ ---   │\n│ str                               ┆ u32   │\n╞═══════════════════════════════════╪═══════╡\n│ theft                             ┆ 2956  │\n│ information                       ┆ 1366  │\n│ found property                    ┆ 914   │\n│ lost property                     ┆ 828   │\n│ …                                 ┆ …     │\n│ intimidation / extortion          ┆ 1     │\n│ information / aggravated battery… ┆ 1     │\n│ arrest on warrant                 ┆ 1     │\n│ traffic violation arrest          ┆ 1     │\n└───────────────────────────────────┴───────┘",
      "text/html": "<div><style>\n.dataframe > thead > tr > th,\n.dataframe > tbody > tr > td {\n  text-align: right;\n}\n</style>\n<small>shape: (719, 2)</small><table border=\"1\" class=\"dataframe\"><thead><tr><th>incident</th><th>count</th></tr><tr><td>str</td><td>u32</td></tr></thead><tbody><tr><td>&quot;theft&quot;</td><td>2956</td></tr><tr><td>&quot;information&quot;</td><td>1366</td></tr><tr><td>&quot;found property…</td><td>914</td></tr><tr><td>&quot;lost property&quot;</td><td>828</td></tr><tr><td>&quot;traffic violat…</td><td>533</td></tr><tr><td>&quot;information / …</td><td>488</td></tr><tr><td>&quot;liquor law vio…</td><td>440</td></tr><tr><td>&quot;medical call&quot;</td><td>420</td></tr><tr><td>&quot;battery&quot;</td><td>418</td></tr><tr><td>&quot;information / …</td><td>351</td></tr><tr><td>&quot;mental health …</td><td>321</td></tr><tr><td>&quot;injured person…</td><td>319</td></tr><tr><td>&hellip;</td><td>&hellip;</td></tr><tr><td>&quot;damage to uc v…</td><td>1</td></tr><tr><td>&quot;assist other a…</td><td>1</td></tr><tr><td>&quot;information / …</td><td>1</td></tr><tr><td>&quot;theft / crimin…</td><td>1</td></tr><tr><td>&quot;aggravated bat…</td><td>1</td></tr><tr><td>&quot;fire / acciden…</td><td>1</td></tr><tr><td>&quot;fire / smoke&quot;</td><td>1</td></tr><tr><td>&quot;lost / recover…</td><td>1</td></tr><tr><td>&quot;intimidation /…</td><td>1</td></tr><tr><td>&quot;information / …</td><td>1</td></tr><tr><td>&quot;arrest on warr…</td><td>1</td></tr><tr><td>&quot;traffic violat…</td><td>1</td></tr></tbody></table></div>"
     },
     "execution_count": 34,
     "metadata": {},
     "output_type": "execute_result"
    }
   ],
   "source": [
    "excluded_list = [\n",
    "    \"Fondling\",\n",
    "    \"Medical Call\",\n",
    "    \"Luring a Minor\",\n",
    "    \"Lost Property\",\n",
    "    \"Stalking\",\n",
    "    \"Sexual Assault\",\n",
    "    \"Dating\",\n",
    "    \"Stalking\",\n",
    "    \"Domestic\",\n",
    "    \"Sex\",\n",
    "    \"Found Property\",\n",
    "    \"Mental Health\",\n",
    "    \"Harassment by Electronic Means\",\n",
    "    \"Well-Being\",\n",
    "    \"Threatening Phone Call\",\n",
    "    \"Medical Transport\",\n",
    "    \"Warrant\",\n",
    "    \"Lost Wallet\",\n",
    "    \"Fire Alarm\",\n",
    "    \"Chemical Spill\",\n",
    "    \"Suspicious Mail\",\n",
    "    \"Eavesdropping\",\n",
    "    \"Sex Offense\",\n",
    "    \"Sex Offender\",\n",
    "    \"Sex Crime\",\n",
    "    \"Domestic Aggravated Battery\",\n",
    "    \"Dating Violence\",\n",
    "    \"Harassing Messages\",\n",
    "]\n",
    "df = df.filter(~pl.col(\"incident\").str.contains(\"|\".join(excluded_list)))\n",
    "df.groupby([\"incident\"]).agg(pl.count()).sort(\"count\", descending=True)"
   ],
   "metadata": {
    "collapsed": false,
    "ExecuteTime": {
     "end_time": "2024-01-08T07:21:23.143048Z",
     "start_time": "2024-01-08T07:21:23.135552Z"
    }
   },
   "id": "aaa49407d08352ea"
  },
  {
   "cell_type": "code",
   "execution_count": 35,
   "outputs": [],
   "source": [
    "def list_to_parsed_set(unparsed_list: [str]):\n",
    "    unparsed_list.sort()\n",
    "    parsed_set = set()\n",
    "    for element in unparsed_list:\n",
    "        if \"/\" in element:\n",
    "            for p in element.split(\" / \"):\n",
    "                fmt_element = p.strip().lower()\n",
    "                if p:\n",
    "                    parsed_set.add(fmt_element)\n",
    "        else:\n",
    "            fmt_element = element.strip().lower()\n",
    "            parsed_set.add(fmt_element)\n",
    "    return parsed_set"
   ],
   "metadata": {
    "collapsed": false,
    "ExecuteTime": {
     "end_time": "2024-01-08T07:21:23.147377Z",
     "start_time": "2024-01-08T07:21:23.145449Z"
    }
   },
   "id": "3237c7e6914efbd"
  },
  {
   "cell_type": "code",
   "execution_count": 36,
   "outputs": [
    {
     "name": "stdout",
     "output_type": "stream",
     "text": [
      "{'damage to property', 'obstructing a peace officer', 'theft', 'dating violence', 'theft from motor vehicles', 'fleeing or attempting to elude police', 'non-criminal damage', 'theft of motorcycle', 'cyberstalking', 'suspicious person', 'theft and recovery of motor vehicle', 'non criminal incident', 'other dangerous weapon', 'attempted vehicular hijacking', 'hate crime', 'possession of a controlled substance', 'obscene phone calls', 'mislaid property', 'damage to city property', 'order of protection arrest', 'traffic arrest', 'threatening phone call', 'resisting arrest', 'harassment by electronic means', 'possession of stolen motor vehicle', 'indecent exposure', 'found', 'possession of cannabis', 'possession of drug paraphernalia', 'traffic violation', 'vandalism', 'other vehicle offenses', 'bomb threat', 'illness', 'deceptive practice', 'harassing phone call`', 'attempt theft from motor vehicle', 'assault and harassment by electronic means', 'unlawful use of weapons', 'aggravated vehicular carjacking', 'minor injury', 'damage to uc property', 'motor vehicle theft and recovery', 'cyber stalking', 'robbery arrest', 'criminal trespass', 'pedestrian', 'motor vehicle accident', 'delayed', 'domestic dispute', 'domestic disturbance', 'illegal consumption by minor', 'aggravated battery of police officer', 'homicide', 'dui', 'attempted theft from person', 'false police report', 'trespass warning', 'recovered motor vehicle', 'stolen vehicle recovery', 'traffic crash property damage', 'stolen motor vehicle recovery', 'suspicious phone call', 'defacement', 'weapon violation', 'narcotics arrest', 'trespass', 'threatening calls', 'vehicle fire', 'obscene phone call', 'suspicious package', 'luring a minor', 'fire', 'found wallet', 'aggravated criminal sexual assault', 'simple assault', 'criminal trespass to vehicle', 'traffic violations arrest', 'public indecency', 'hit and run', 'minor personal injury', 'non-criminal property', 'unlawful discharge of firearm', 'missing person found', 'traffic violation and warrant arrest', 'unauthorized use of computer', 'delayed burglary', 'attempt home invasion', 'theft from vehicle', 'robbery', 'missing person', 'interference with police officer', 'reckless conduct', 'vehicle hijacking', 'suspect narcotics found', 'expired license', 'non-criminal', 'reckless discharge of a weapon', 'unlawful possession of firearm', 'arson', 'damaged property', 'recovered firearm', 'hazardous material incident', 'eavesdropping', 'battery', 'failure to register', 'found narcotics paraphernalia', 'safety hazard', 'suspect narcotics', 'non criminal', 'forged prescription', 'attempt robbery', 'sexual assault', 'attempted theft of motor vehicle', 'weapon turn-in', 'accident report', 'threats by electronic means', 'possession of crack cocaine', 'other crime', 'counterfeit documents', 'traffic and warrant arrest', 'haz-mat incident', 'criminal trespass to land', 'unlawful possession of weapons', 'cyber scam', 'chemical spill', 'unlawful use of weapon', 'intimidation', 'simple', 'theft from motor vehicle', 'financial identity theft', 'other deadly weapon', 'harassment by telephone', 'murder', 'strong arm', 'recovered vehicle plate', 'accidental', 'recovered property', 'attempted motor vehicle theft', 'harassment', 'personal injury', 'reckless discharge of firearm', 'suspicious vehicle', 'unlawful use of a weapon arrest', 'vehicular carjacking', 'strong armed', '/ domestic battery', 'warrant arrest', 'robbery-aggravated', 'recovered vehicle', 'aggravated battery of a protected employee', 'criminal damage to motor vehicle', 'cutting instrument', 'recovery of motor vehicle', 'aggravated battery to police officer', 'non-forcible', 'hazardous material event', 'assist other agency', 'ucpd arrest warrant', 'recovered motor vehicles', 'telephone threats', 'assault', 'automobile', 'unlawful use of a weapon', 'weapon recovery', 'other', 'interference with public officer', 'battery of police officers', 'damage to vehicles', 'motor vehicle theft recovery', 'sex offender', 'security alarm', 'theft by deception', 'found weapon', 'theft of lost', 'order of protection', 'ill person', 'attempted robbery', 'other crime vs. person', 'counterfeit check', 'deceptive', 'damage to uc vehicle', 'armed robbery', 'attempt burglary', 'traffic crash report', 'non-criminal complaint', 'possession of narcotics', 'battery to police officer', 'unlawful possession of a handgun', 'possession of controlled substance', 'suspicious activity', 'simple assault battery', 'traffic violation arrest', 'notification of order of protection', 'criminal trespass to property', 'medical transport', 'mental health transport', 'property', 'attempt aggravated robbery', 'traffic violations', 'suspicious mail', 'vehicle recovery', 'traffic offenses', 'criminal defacement', 'found drug paraphernalia', 'harassment via electronic means', 'credit card fraud', 'disorderly conduct', 'found property', 'accidental injury', 'harassing messages', 'non-criminal damage to property', 'fondling', 'theft of services', 'harassing telephone calls', 'sick person', 'trespass to land', 'traffic offense', 'missing property', 'aggravated domestic assault', 'fraud', 'harassing phone calls', 'found person', 'domestic', 'criminal trespass to vehicleassist other agency', 'home invasion', 'attempt armed robbery', 'domestic aggravated assault', 'mental transport', 'miscellaneous incident report', 'theft from person', 'motor vehicle theft', 'harassing email messages', 'attempted theft', 'attempted', 'well-being', 'possession of narcotics with intent to deliver', 'obstruct police officers', 'criminal damage to property', 'possession of controlled substances', 'aggravated battery', 'attempted burglary', 'suspicious persons', 'non-criminal damage to vehicle', 'traffic crash arrest', 'damage to vehicle', 'personation of peace officer', 'death investigation', 'property damage', 'attempt motor vehicle theft', 'lost property', 'identity theft', 'lost phone', 'hit and run property damage', 'attempted aggravated robbery', 'accidental fire', 'aggravated battery of a police officer', 'public way', 'non-criminal fire', 'aggravated assault of police officer', 'ambulance request', 'vehicular hijacking', 'reckless discharge of a firearm', 'theft of motor vehicle', 'criminal sexual assault', 'obstructing peace officer', 'alarm', 'irregular conditions', 'theft of lost or mislaid property', 'deliver narcotics', 'extortion', 'motor vehicle recovery', 'sex related', 'haz mat incident', 'criminal damage to vehicle', 'trespass to property', 'electronic means', 'arson by fire', 'lost wallet', 'attempt aggravated vehicular hijacking', 'arrest on warrant', 'found suspect narcotics', 'miscellaneous', 'deceptive practices', 'battery-simple', 'harassing email', 'information', 'arrest', 'traffic collision', 'telephone threat', 'unlawful possession of a weapon', 'recovered stolen motor vehicle', 'false fire alarm', 'information harassment', 'traffic', 'criminal damage to vehicles', 'unlawful possession of ammunition', 'injured person', 'delayed robbery', 'domestic assault', 'threat', 'other offense', 'criminal sexual abuse', 'fraudulent check', 'mental health call', 'aggravated domestic battery', 'senior citizen', 'personal injuries', 'recovery', 'carjacking', 'dui arrest', 'attempted armed robbery', 'domestic aggravated battery', 'warrant arrests', 'notice of order of protection', 'animal bite', 'criminal trespass to motor vehicle', 'well-being check', 'non criminal damage to property', 'found keys', 'stalking', 'possession of lost', 'smoke', 'burglary', 'information report', 'attempt theft', 'non-criminal event', 'unlawful discharge of a weapon', 'attempt sexual assault', 'armed robbery arrest', 'lost', 'possession of marijuana', 'possession of stolen property', 'attempt vehicular hijacking', 'stuck elevator', 'non-criminal incident', 'delayed report', 'weapon arrest', 'public peace violation', 'accidental shooting', 'liquor law violation', 'vehicle crash', 'fraudulent checks', 'sex offense', 'non-criminal informational report', 'attempted strong arm', 'theft of service', 'non- criminal', 'unlawful restraint', 'suspicious letter', 'traffic accident', 'impersonation', 'medical call', 'non-criminal other', 'elevator entrapment', 'other violation', 'found narcotics', 'suspicious phone calls', 'hit and run traffic crash', 'computer fraud', 'resisting police', 'trespass to motor vehicle', 'non-criminal report', 'non-criminal offense', 'domestic issue', 'obstructing police', 'non-criminal property damage', 'sex crime', 'other non-criminal property', 'aggravated robbery', 'violation of order of protection', 'damage to personal property', 'traffic arrests', 'found suspect marijuana', 'sexual abuse', 'damage', 'aggravated discharge of a firearm', 'haz mat event', 'property damage only', 'shots fired', 'narcotics', 'non-criminal missing property', 'mental health', 'unlawful possession of weapon', 'miscellaneous incident', 'criminal trespass to residence', 'drug law violation', 'disturbance', 'smell of gas', 'unlawful discharge of a firearm', 'domestic battery', 'aggravated vehicular hijacking', 'telephone scam', 'weapons violation', 'haz mat', 'assist other agency motor vehicle theft and recovery', 'forgery', 'outside agency warrant arrest', 'noise complaint', 'robbery-strong arm', 'dog bite', 'traffic crash', 'smoke alarm', 'simple battery', 'telephone harassment', 'foreign steal', 'trespass to vehicle', 'reckless driving', 'aggravated assault', 'prohibited zone', 'police officer', 'fire alarm', 'attempt theft from person', 'unlawful possession of a firearm', 'warrant', 'irregular condition', 'attempted aggravated vehicular hijacking', 'found suspect narcotic', 'person down', 'threats', 'interfering', 'purse snatch', 'unlawful discharge of weapon', 'other crime against person', 'order of protection notification'}\n"
     ]
    }
   ],
   "source": [
    "print(list_to_parsed_set(df[\"incident\"].to_list()))"
   ],
   "metadata": {
    "collapsed": false,
    "ExecuteTime": {
     "end_time": "2024-01-08T07:21:23.214882Z",
     "start_time": "2024-01-08T07:21:23.147616Z"
    }
   },
   "id": "b86c6b7a46dbff85"
  },
  {
   "cell_type": "code",
   "execution_count": 36,
   "outputs": [],
   "source": [],
   "metadata": {
    "collapsed": false,
    "ExecuteTime": {
     "end_time": "2024-01-08T07:21:23.231477Z",
     "start_time": "2024-01-08T07:21:23.158307Z"
    }
   },
   "id": "fc4e2c3d9952718a"
  }
 ],
 "metadata": {
  "kernelspec": {
   "display_name": "Python 3",
   "language": "python",
   "name": "python3"
  },
  "language_info": {
   "codemirror_mode": {
    "name": "ipython",
    "version": 2
   },
   "file_extension": ".py",
   "mimetype": "text/x-python",
   "name": "python",
   "nbconvert_exporter": "python",
   "pygments_lexer": "ipython2",
   "version": "2.7.6"
  }
 },
 "nbformat": 4,
 "nbformat_minor": 5
}
