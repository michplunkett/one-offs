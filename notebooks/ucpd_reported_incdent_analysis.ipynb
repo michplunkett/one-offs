{
 "cells": [
  {
   "cell_type": "code",
   "execution_count": 181,
   "id": "initial_id",
   "metadata": {
    "collapsed": true,
    "ExecuteTime": {
     "end_time": "2024-02-12T19:21:00.446185Z",
     "start_time": "2024-02-12T19:21:00.416882Z"
    }
   },
   "outputs": [],
   "source": [
    "import re\n",
    "from typing import Tuple\n",
    "\n",
    "import polars as pl"
   ]
  },
  {
   "cell_type": "code",
   "execution_count": 182,
   "id": "2f5e14b3ee78bcc8",
   "metadata": {
    "collapsed": false,
    "ExecuteTime": {
     "end_time": "2024-02-12T19:21:00.447225Z",
     "start_time": "2024-02-12T19:21:00.424761Z"
    }
   },
   "outputs": [],
   "source": [
    "ORDINAL_STREET_REGEX = r\"E\\. \\d{2}[a-z]{2} St.\"\n",
    "\n",
    "\n",
    "def list_to_parsed_set(unparsed_list: [str]):\n",
    "    unparsed_list.sort()\n",
    "    parsed_set = set()\n",
    "    for element in unparsed_list:\n",
    "        if \"/\" in element:\n",
    "            for p in element.split(r\" / \"):\n",
    "                fmt_element = p.strip().lower()\n",
    "                if p:\n",
    "                    parsed_set.add(fmt_element)\n",
    "        else:\n",
    "            fmt_element = element.strip().lower()\n",
    "            parsed_set.add(fmt_element)\n",
    "    return parsed_set\n",
    "\n",
    "\n",
    "def create_street_tuple(street: str, blvd: bool = False) -> Tuple[str, str, str]:\n",
    "    street_type = \"Ave.\" if not blvd else \"Blvd.\"\n",
    "\n",
    "    return street, f\"S. {street}\", f\"S. {street} {street_type}\"\n",
    "\n",
    "\n",
    "STREET_CORRECTIONS = [\n",
    "    create_street_tuple(\"Blackstone\"),\n",
    "    create_street_tuple(\"Cottage Grove\"),\n",
    "    create_street_tuple(\"Cornell\"),\n",
    "    create_street_tuple(\"Dorchester\"),\n",
    "    create_street_tuple(\"Drexel\"),\n",
    "    create_street_tuple(\"East View Park\"),\n",
    "    create_street_tuple(\"East End\"),\n",
    "    create_street_tuple(\"Ellis\"),\n",
    "    create_street_tuple(\"Everett\"),\n",
    "    create_street_tuple(\"Greenwood\"),\n",
    "    create_street_tuple(\"Harper\"),\n",
    "    create_street_tuple(\"Hyde Park\", blvd=True),\n",
    "    create_street_tuple(\"Ingleside\"),\n",
    "    create_street_tuple(\"Kenwood\"),\n",
    "    create_street_tuple(\"Kimbark\"),\n",
    "    create_street_tuple(\"Lake Park\"),\n",
    "    (\"Lake Shore\", \"S. Lake Shore\", \"S. Lake Shore Dr.\"),\n",
    "    (\"Madison Park\", \"E. Madison Park\", \"E. Madison Park\"),\n",
    "    create_street_tuple(\"Maryland\"),\n",
    "    create_street_tuple(\"Oakenwald\"),\n",
    "    create_street_tuple(\"Oakwood\", blvd=True),\n",
    "    (\"Ridgewood\", \"S. Ridgewood\", \"S. Ridgewood Ct.\"),\n",
    "    create_street_tuple(\"Stony Island\"),\n",
    "    create_street_tuple(\"University\"),\n",
    "    create_street_tuple(\"Woodlawn\"),\n",
    "]"
   ]
  },
  {
   "cell_type": "code",
   "execution_count": 183,
   "id": "14f7bbdba7444ce8",
   "metadata": {
    "collapsed": false,
    "ExecuteTime": {
     "end_time": "2024-02-12T19:21:00.465341Z",
     "start_time": "2024-02-12T19:21:00.428723Z"
    }
   },
   "outputs": [],
   "source": [
    "# Import incidents and format columns\n",
    "df = pl.read_csv(\n",
    "    \"./data/incident_dump.csv\",\n",
    ").with_columns(\n",
    "    pl.col(\"reported\")\n",
    "    .str.strptime(pl.Datetime, format=\"%Y-%m-%dT%H:%M:%S%z\")\n",
    "    .dt.convert_time_zone(\"America/Chicago\"),\n",
    "    pl.col(\"reported_date\").str.to_date(\"%Y-%m-%d\"),\n",
    "    pl.col(\"validated_location\").str.split(\",\").cast(pl.List(pl.Float64)),\n",
    "    pl.col(\"incident\").str.to_lowercase(),\n",
    ")"
   ]
  },
  {
   "cell_type": "code",
   "execution_count": 184,
   "id": "15f78416b84388bc",
   "metadata": {
    "collapsed": false,
    "ExecuteTime": {
     "end_time": "2024-02-12T19:21:00.466007Z",
     "start_time": "2024-02-12T19:21:00.443599Z"
    }
   },
   "outputs": [
    {
     "data": {
      "text/plain": "shape: (680, 2)\n┌───────────────────────────────────┬───────┐\n│ incident                          ┆ count │\n│ ---                               ┆ ---   │\n│ str                               ┆ u32   │\n╞═══════════════════════════════════╪═══════╡\n│ theft                             ┆ 2975  │\n│ information                       ┆ 1380  │\n│ found property                    ┆ 922   │\n│ lost property                     ┆ 838   │\n│ …                                 ┆ …     │\n│ criminal damage to motor vehicle  ┆ 1     │\n│ recovered motor vehicle / foreig… ┆ 1     │\n│ traffic violation / warrant       ┆ 1     │\n│ information / harassment by tele… ┆ 1     │\n└───────────────────────────────────┴───────┘",
      "text/html": "<div><style>\n.dataframe > thead > tr > th,\n.dataframe > tbody > tr > td {\n  text-align: right;\n}\n</style>\n<small>shape: (680, 2)</small><table border=\"1\" class=\"dataframe\"><thead><tr><th>incident</th><th>count</th></tr><tr><td>str</td><td>u32</td></tr></thead><tbody><tr><td>&quot;theft&quot;</td><td>2975</td></tr><tr><td>&quot;information&quot;</td><td>1380</td></tr><tr><td>&quot;found property…</td><td>922</td></tr><tr><td>&quot;lost property&quot;</td><td>838</td></tr><tr><td>&quot;traffic violat…</td><td>534</td></tr><tr><td>&quot;information / …</td><td>511</td></tr><tr><td>&quot;liquor law vio…</td><td>443</td></tr><tr><td>&quot;medical call&quot;</td><td>431</td></tr><tr><td>&quot;battery&quot;</td><td>423</td></tr><tr><td>&quot;information / …</td><td>357</td></tr><tr><td>&quot;mental health …</td><td>330</td></tr><tr><td>&quot;injured person…</td><td>319</td></tr><tr><td>&hellip;</td><td>&hellip;</td></tr><tr><td>&quot;person down&quot;</td><td>1</td></tr><tr><td>&quot;aggravated bat…</td><td>1</td></tr><tr><td>&quot;robbery / atte…</td><td>1</td></tr><tr><td>&quot;information / …</td><td>1</td></tr><tr><td>&quot;criminal damag…</td><td>1</td></tr><tr><td>&quot;threat&quot;</td><td>1</td></tr><tr><td>&quot;assist other a…</td><td>1</td></tr><tr><td>&quot;simple battery…</td><td>1</td></tr><tr><td>&quot;criminal damag…</td><td>1</td></tr><tr><td>&quot;recovered moto…</td><td>1</td></tr><tr><td>&quot;traffic violat…</td><td>1</td></tr><tr><td>&quot;information / …</td><td>1</td></tr></tbody></table></div>"
     },
     "execution_count": 184,
     "metadata": {},
     "output_type": "execute_result"
    }
   ],
   "source": [
    "df.groupby([\"incident\"]).agg(pl.count()).sort(\"count\", descending=True)"
   ]
  },
  {
   "cell_type": "code",
   "execution_count": 185,
   "id": "e67f22a399d54aeb",
   "metadata": {
    "collapsed": false,
    "ExecuteTime": {
     "end_time": "2024-02-12T19:21:00.466445Z",
     "start_time": "2024-02-12T19:21:00.455109Z"
    }
   },
   "outputs": [
    {
     "name": "stdout",
     "output_type": "stream",
     "text": [
      "{'damage to personal property', 'vehicle crash', 'motor vehicle theft and recovery', 'weapon recovery', 'assist other agency motor vehicle theft and recovery', 'found wallet', 'traffic collision', 'injured person', 'domestic battery', 'trespass to land', 'safety hazard', 'suspicious person', 'trespass to motor vehicle', 'traffic', 'theft of motor vehicle', 'expired license', 'fraud', 'harassing message', 'possession of controlled substance', 'suspect narcotic', 'minor injury', 'harassment by electronic means', '/ domestic battery', 'burglary', 'hazardous material incident', 'noise complaint', 'unlawful discharge of firearm', 'order of protection notification', 'found narcotic', 'accident report', 'robbery-aggravated', 'suspicious vehicle', 'disorderly conduct', 'sex offense', 'motor vehicle theft', 'bomb threat', 'threatening phone call', 'indecent exposure', 'shot fired', 'attempted aggravated robbery', 'interfering', 'delayed robbery', 'suspicious activity', 'suspicious mail', 'found suspect marijuana', 'unlawful possession of ammunition', 'simple battery', 'reckless conduct', 'prohibited zone', 'non-criminal incident', 'mental health call', 'automobile', 'robbery-strong arm', 'purse snatch', 'other dangerous weapon', 'traffic arrest', 'damage to uc vehicle', 'vehicular carjacking', 'recovered motor vehicle', 'hit and run traffic crash', 'harassing telephone call', 'ill person', 'weapon arrest', 'aggravated battery of a protected employee', 'person down', 'vehicle fire', 'possession of narcotic', 'narcotic delivery', 'cyberstalking', 'intimidation', 'property damage only', 'criminal damage to vehicle', 'fleeing or attempting to elude police', 'interference with police officer', 'non-criminal property damage', 'chemical spill', 'minor personal injury', 'other deadly weapon', 'elevator entrapment', 'telephone scam', 'hit and run', 'traffic crash report', 'theft of service', 'public indecency', 'pedestrian', 'smoke alarm', 'attempted armed robbery', 'theft of motorcycle', 'theft from person', 'attempted theft from person', 'motor vehicle recovery', 'fire alarm', 'traffic crash hit and run', 'resisting arrest', 'suspicious phone call', 'obscene phone call', 'eavesdropping', 'other offense', 'theft and recovery of motor vehicle', 'delayed report', 'sex offender', 'threat', 'dui', 'warrant arrest', 'disturbance', 'drug law violation', 'stuck elevator', 'impersonation', 'non-criminal report', 'non-criminal offense', 'accidental', 'other crime against person', 'possession of narcotic with intent to deliver', 'unlawful discharge of a weapon', 'illness', 'false police report', 'cutting instrument', 'criminal trespass', 'non-criminal fire', 'resisting police', 'found drug paraphernalia', 'mislaid property', 'domestic issue', 'strong armed', 'information report', 'cyber scam', 'irregular condition', 'arson', 'lost', 'vandalism', 'other non-criminal property', 'domestic', 'illegal consumption by minor', 'recovered stolen motor vehicle', 'possession of stolen motor vehicle', 'sick person', 'deliver narcotic', 'attempted theft of motor vehicle', 'fraudulent check', 'theft from motor vehicle', 'harassment by telephone', 'non-criminal damage to property', 'possession of drug paraphernalia', 'aggravated vehicular hijacking', 'attempted theft', 'reckless discharge of a weapon', 'attempted vehicular hijacking', 'possession of cannabis', 'stolen motor vehicle recovery', 'found', 'theft of lost', 'attempted burglary', 'non-criminal damage', 'criminal sexual assault', 'miscellaneous incident report', 'computer fraud', 'violation of order of protection', 'reckless driving', 'traffic crash property damage', 'hit tand run', 'found narcotic paraphernalia', 'financial identity theft', 'home invasion', 'public peace violation', 'missing person found', 'senior citizen', 'smoke', 'forged prescription', 'aggravated battery to police officer', 'sex related', 'attempted aggravated vehicular hijacking', 'battery-simple', 'sex crime', 'foreign steal', 'vehicular hijacking', 'lost wallet', 'damage to property', 'sexual abuse', 'unlawful discharge of weapon', 'unlawful restraint', 'recovered property', 'cyber stalking', 'homicide', 'motor vehicle accident', 'haz mat event', 'attempted strong arm', 'accidental injury', 'telephone threat', 'assault and harassment by electronic means', 'miscellaneous', 'non-criminal property', 'non- criminal', 'theft of lost or mislaid property', 'extortion', 'reckless discharge of a firearm', 'unlawful possession of firearm', 'simple assault', 'simple', 'damage to uc property', 'dating violence', 'weapon turn-in', 'credit card fraud', 'traffic violation', 'suspicious letter', 'aggravated battery of police officer', 'defacement', 'aggravated criminal sexual assault', 'death investigation', 'missing person', 'threatening call', 'unlawful possession of weapon', 'stolen vehicle recovery', 'unlawful possession of a weapon', 'other', 'theft', 'aggravated discharge of a firearm', 'mental health transport', 'obstructing police', 'strong arm', 'criminal trespass to land', 'mental transport', 'ucpd arrest warrant', 'domestic aggravated assault', 'robbery arrest', 'unlawful use of a weapon arrest', 'information harassment', 'recovery of motor vehicle', 'counterfeit document', 'trespass warning', 'traffic violation and warrant arrest', 'information', 'possession of a controlled substance', 'recovered vehicle plate', 'weapon violation', 'order of protection', 'unlawful use of weapon', 'criminal trespass to property', 'non-criminal informational report', 'animal bite', 'alarm', 'dui arrest', 'non-criminal event', 'unlawful possession of a handgun', 'recovered firearm', 'possession of crack cocaine', 'arrest', 'non-criminal damage to vehicle', 'criminal trespass to residence', 'attempted theft from motor vehicle', 'other violation', 'non-criminal other', 'found suspect narcotic', 'information criminal damage to property', 'attempted home invasion', 'vehicle hijacking', 'assist other agency', 'accidental shooting', 'forgery', 'well-being check', 'other crime', 'notice of order of protection', 'luring a minor', 'public way', 'well-being', 'battery to police officer', 'damage to vehicle', 'found person', 'sexual assault', 'possession of lost', 'criminal defacement', 'reckless discharge of firearm', 'battery', 'armed robbery arrest', 'lost property', 'fire', 'deceptive', 'armed robbery', 'damage', 'traffic violation arrest', 'failure to register', 'missing property', 'trespass to vehicle', 'unlawful possession of a firearm', 'criminal damage to property', 'theft by deception', 'harassing email', 'stalking', 'accidental fire', 'battery of police officer', 'damaged property', 'police officer', 'warrant', 'counterfeit check', 'aggravated robbery', 'deceptive practice', 'outside agency warrant arrest', 'harassing phone call`', 'obstructing a peace officer', 'lost phone', 'aggravated domestic battery', 'assault', 'delayed', 'identity theft', 'aggravated battery', 'carjacking', 'criminal trespass to motor vehicle', 'haz-mat incident', 'unlawful discharge of a firearm', 'robbery', 'attempted robbery', 'damage to city property', 'traffic offense', 'suspicious package', 'traffic crash', 'miscellaneous incident', 'attempted motor vehicle theft', 'aggravated battery of a police officer', 'arson by fire', 'non-criminal missing property', 'trespass', 'dog bite', 'traffic and warrant arrest', 'narcotic', 'aggravated domestic assault', 'electronic means', 'vehicle recovery', 'domestic disturbance', 'harassment', 'other vehicle offense', 'possession of stolen property', 'hate crime', 'security alarm', 'traffic crash arrest', 'mental health', 'obstructing peace officer', 'simple assault battery', 'traffic accident', 'threat by electronic means', 'attempted sexual assault', 'unlawful use of a weapon', 'criminal trespass to vehicle', 'hit and run property damage', 'false fire alarm', 'unauthorized use of computer', 'personal injury', 'interference with public officer', 'found key', 'haz mat incident', 'ambulance request', 'suspect narcotic found', 'motor vehicle theft recovery', 'medical call', 'murder', 'fondling', 'recovered vehicle', 'harassing email message', 'non-criminal complaint', 'criminal damage to motor vehicle', 'domestic aggravated battery', 'haz mat', 'order of protection arrest', 'medical transport', 'trespass to property', 'obstruct police officer', 'non-criminal', 'liquor law violation', 'delayed burglary', 'notification of order of protection', 'theft from vehicle', 'domestic assault', 'found weapon', 'personation of peace officer', 'smell of gas', 'criminal sexual abuse', 'attempted', 'possession of marijuana', 'telephone harassment', 'aggravated vehicular carjacking', 'found property', 'other crime vs. person', 'harassing phone call', 'property', 'harassment via electronic means', 'narcotic arrest', 'property damage', 'hazardous material event', 'non-forcible', 'domestic dispute', 'aggravated assault', 'arrest on warrant', 'aggravated assault of police officer', 'recovery'}\n"
     ]
    }
   ],
   "source": [
    "print(list_to_parsed_set(df[\"incident\"].to_list()))"
   ]
  },
  {
   "cell_type": "code",
   "execution_count": 186,
   "id": "aaa49407d08352ea",
   "metadata": {
    "collapsed": false,
    "ExecuteTime": {
     "end_time": "2024-02-12T19:21:00.466747Z",
     "start_time": "2024-02-12T19:21:00.458023Z"
    }
   },
   "outputs": [
    {
     "data": {
      "text/plain": "shape: (680, 2)\n┌───────────────────────────────────┬───────┐\n│ incident                          ┆ count │\n│ ---                               ┆ ---   │\n│ str                               ┆ u32   │\n╞═══════════════════════════════════╪═══════╡\n│ theft                             ┆ 2975  │\n│ information                       ┆ 1380  │\n│ found property                    ┆ 922   │\n│ lost property                     ┆ 838   │\n│ …                                 ┆ …     │\n│ unlawful possession of ammunitio… ┆ 1     │\n│ aggravated battery / domestic     ┆ 1     │\n│ shot fired / criminal damage to … ┆ 1     │\n│ information / unlawful possessio… ┆ 1     │\n└───────────────────────────────────┴───────┘",
      "text/html": "<div><style>\n.dataframe > thead > tr > th,\n.dataframe > tbody > tr > td {\n  text-align: right;\n}\n</style>\n<small>shape: (680, 2)</small><table border=\"1\" class=\"dataframe\"><thead><tr><th>incident</th><th>count</th></tr><tr><td>str</td><td>u32</td></tr></thead><tbody><tr><td>&quot;theft&quot;</td><td>2975</td></tr><tr><td>&quot;information&quot;</td><td>1380</td></tr><tr><td>&quot;found property…</td><td>922</td></tr><tr><td>&quot;lost property&quot;</td><td>838</td></tr><tr><td>&quot;traffic violat…</td><td>534</td></tr><tr><td>&quot;information / …</td><td>511</td></tr><tr><td>&quot;liquor law vio…</td><td>443</td></tr><tr><td>&quot;medical call&quot;</td><td>431</td></tr><tr><td>&quot;battery&quot;</td><td>423</td></tr><tr><td>&quot;information / …</td><td>357</td></tr><tr><td>&quot;mental health …</td><td>330</td></tr><tr><td>&quot;injured person…</td><td>319</td></tr><tr><td>&hellip;</td><td>&hellip;</td></tr><tr><td>&quot;information / …</td><td>1</td></tr><tr><td>&quot;outside agency…</td><td>1</td></tr><tr><td>&quot;information / …</td><td>1</td></tr><tr><td>&quot;found wallet&quot;</td><td>1</td></tr><tr><td>&quot;information / …</td><td>1</td></tr><tr><td>&quot;eavesdropping&quot;</td><td>1</td></tr><tr><td>&quot;assist other a…</td><td>1</td></tr><tr><td>&quot;assist other a…</td><td>1</td></tr><tr><td>&quot;unlawful posse…</td><td>1</td></tr><tr><td>&quot;aggravated bat…</td><td>1</td></tr><tr><td>&quot;shot fired / c…</td><td>1</td></tr><tr><td>&quot;information / …</td><td>1</td></tr></tbody></table></div>"
     },
     "execution_count": 186,
     "metadata": {},
     "output_type": "execute_result"
    }
   ],
   "source": [
    "excluded_list = [\n",
    "    \"Fondling\",\n",
    "    \"Medical Call\",\n",
    "    \"Luring a Minor\",\n",
    "    \"Lost Property\",\n",
    "    \"Stalking\",\n",
    "    \"Sexual Assault\",\n",
    "    \"Dating\",\n",
    "    \"Stalking\",\n",
    "    \"Domestic\",\n",
    "    \"Sex\",\n",
    "    \"Found Property\",\n",
    "    \"Mental Health\",\n",
    "    \"Harassment by Electronic Means\",\n",
    "    \"Well-Being\",\n",
    "    \"Threatening Phone Call\",\n",
    "    \"Medical Transport\",\n",
    "    \"Warrant\",\n",
    "    \"Lost Wallet\",\n",
    "    \"Fire Alarm\",\n",
    "    \"Chemical Spill\",\n",
    "    \"Suspicious Mail\",\n",
    "    \"Eavesdropping\",\n",
    "    \"Sex Offense\",\n",
    "    \"Sex Offender\",\n",
    "    \"Sex Crime\",\n",
    "    \"Domestic Aggravated Battery\",\n",
    "    \"Dating Violence\",\n",
    "    \"Harassing Messages\",\n",
    "]\n",
    "df = df.filter(~pl.col(\"incident\").str.contains(\"|\".join(excluded_list)))\n",
    "df.groupby([\"incident\"]).agg(pl.count()).sort(\"count\", descending=True)"
   ]
  },
  {
   "cell_type": "code",
   "execution_count": 187,
   "id": "b86c6b7a46dbff85",
   "metadata": {
    "collapsed": false,
    "ExecuteTime": {
     "end_time": "2024-02-12T19:21:00.473801Z",
     "start_time": "2024-02-12T19:21:00.468702Z"
    }
   },
   "outputs": [
    {
     "name": "stdout",
     "output_type": "stream",
     "text": [
      "{'damage to personal property', 'vehicle crash', 'motor vehicle theft and recovery', 'weapon recovery', 'assist other agency motor vehicle theft and recovery', 'found wallet', 'traffic collision', 'injured person', 'domestic battery', 'trespass to land', 'safety hazard', 'suspicious person', 'trespass to motor vehicle', 'traffic', 'theft of motor vehicle', 'expired license', 'fraud', 'harassing message', 'possession of controlled substance', 'suspect narcotic', 'minor injury', 'harassment by electronic means', '/ domestic battery', 'burglary', 'hazardous material incident', 'noise complaint', 'unlawful discharge of firearm', 'order of protection notification', 'found narcotic', 'accident report', 'robbery-aggravated', 'suspicious vehicle', 'disorderly conduct', 'sex offense', 'motor vehicle theft', 'bomb threat', 'threatening phone call', 'indecent exposure', 'shot fired', 'attempted aggravated robbery', 'interfering', 'delayed robbery', 'suspicious activity', 'suspicious mail', 'found suspect marijuana', 'unlawful possession of ammunition', 'simple battery', 'reckless conduct', 'prohibited zone', 'non-criminal incident', 'mental health call', 'automobile', 'robbery-strong arm', 'purse snatch', 'other dangerous weapon', 'traffic arrest', 'damage to uc vehicle', 'vehicular carjacking', 'recovered motor vehicle', 'hit and run traffic crash', 'harassing telephone call', 'ill person', 'weapon arrest', 'aggravated battery of a protected employee', 'person down', 'vehicle fire', 'possession of narcotic', 'narcotic delivery', 'cyberstalking', 'intimidation', 'property damage only', 'criminal damage to vehicle', 'fleeing or attempting to elude police', 'interference with police officer', 'non-criminal property damage', 'chemical spill', 'minor personal injury', 'other deadly weapon', 'elevator entrapment', 'telephone scam', 'hit and run', 'traffic crash report', 'theft of service', 'public indecency', 'pedestrian', 'smoke alarm', 'attempted armed robbery', 'theft of motorcycle', 'theft from person', 'attempted theft from person', 'motor vehicle recovery', 'fire alarm', 'traffic crash hit and run', 'resisting arrest', 'suspicious phone call', 'obscene phone call', 'eavesdropping', 'other offense', 'theft and recovery of motor vehicle', 'delayed report', 'sex offender', 'threat', 'dui', 'warrant arrest', 'disturbance', 'drug law violation', 'stuck elevator', 'impersonation', 'non-criminal report', 'non-criminal offense', 'accidental', 'other crime against person', 'possession of narcotic with intent to deliver', 'unlawful discharge of a weapon', 'illness', 'false police report', 'cutting instrument', 'criminal trespass', 'non-criminal fire', 'resisting police', 'found drug paraphernalia', 'mislaid property', 'domestic issue', 'strong armed', 'information report', 'cyber scam', 'irregular condition', 'arson', 'lost', 'vandalism', 'other non-criminal property', 'domestic', 'illegal consumption by minor', 'recovered stolen motor vehicle', 'possession of stolen motor vehicle', 'sick person', 'deliver narcotic', 'attempted theft of motor vehicle', 'fraudulent check', 'theft from motor vehicle', 'harassment by telephone', 'non-criminal damage to property', 'possession of drug paraphernalia', 'aggravated vehicular hijacking', 'attempted theft', 'reckless discharge of a weapon', 'attempted vehicular hijacking', 'possession of cannabis', 'stolen motor vehicle recovery', 'found', 'theft of lost', 'attempted burglary', 'non-criminal damage', 'criminal sexual assault', 'miscellaneous incident report', 'computer fraud', 'violation of order of protection', 'reckless driving', 'traffic crash property damage', 'hit tand run', 'found narcotic paraphernalia', 'financial identity theft', 'home invasion', 'public peace violation', 'missing person found', 'senior citizen', 'smoke', 'forged prescription', 'aggravated battery to police officer', 'sex related', 'attempted aggravated vehicular hijacking', 'battery-simple', 'sex crime', 'foreign steal', 'vehicular hijacking', 'lost wallet', 'damage to property', 'sexual abuse', 'unlawful discharge of weapon', 'unlawful restraint', 'recovered property', 'cyber stalking', 'homicide', 'motor vehicle accident', 'haz mat event', 'attempted strong arm', 'accidental injury', 'telephone threat', 'assault and harassment by electronic means', 'miscellaneous', 'non-criminal property', 'non- criminal', 'theft of lost or mislaid property', 'extortion', 'reckless discharge of a firearm', 'unlawful possession of firearm', 'simple assault', 'simple', 'damage to uc property', 'dating violence', 'weapon turn-in', 'credit card fraud', 'traffic violation', 'suspicious letter', 'aggravated battery of police officer', 'defacement', 'aggravated criminal sexual assault', 'death investigation', 'missing person', 'threatening call', 'unlawful possession of weapon', 'stolen vehicle recovery', 'unlawful possession of a weapon', 'other', 'theft', 'aggravated discharge of a firearm', 'mental health transport', 'obstructing police', 'strong arm', 'criminal trespass to land', 'mental transport', 'ucpd arrest warrant', 'domestic aggravated assault', 'robbery arrest', 'unlawful use of a weapon arrest', 'information harassment', 'recovery of motor vehicle', 'counterfeit document', 'trespass warning', 'traffic violation and warrant arrest', 'information', 'possession of a controlled substance', 'recovered vehicle plate', 'weapon violation', 'order of protection', 'unlawful use of weapon', 'criminal trespass to property', 'non-criminal informational report', 'animal bite', 'alarm', 'dui arrest', 'non-criminal event', 'unlawful possession of a handgun', 'recovered firearm', 'possession of crack cocaine', 'arrest', 'non-criminal damage to vehicle', 'criminal trespass to residence', 'attempted theft from motor vehicle', 'other violation', 'non-criminal other', 'found suspect narcotic', 'information criminal damage to property', 'attempted home invasion', 'vehicle hijacking', 'assist other agency', 'accidental shooting', 'forgery', 'well-being check', 'other crime', 'notice of order of protection', 'luring a minor', 'public way', 'well-being', 'battery to police officer', 'damage to vehicle', 'found person', 'sexual assault', 'possession of lost', 'criminal defacement', 'reckless discharge of firearm', 'battery', 'armed robbery arrest', 'lost property', 'fire', 'deceptive', 'armed robbery', 'damage', 'traffic violation arrest', 'failure to register', 'missing property', 'trespass to vehicle', 'unlawful possession of a firearm', 'criminal damage to property', 'theft by deception', 'harassing email', 'stalking', 'accidental fire', 'battery of police officer', 'damaged property', 'police officer', 'warrant', 'counterfeit check', 'aggravated robbery', 'deceptive practice', 'outside agency warrant arrest', 'harassing phone call`', 'obstructing a peace officer', 'lost phone', 'aggravated domestic battery', 'assault', 'delayed', 'identity theft', 'aggravated battery', 'carjacking', 'criminal trespass to motor vehicle', 'haz-mat incident', 'unlawful discharge of a firearm', 'robbery', 'attempted robbery', 'damage to city property', 'traffic offense', 'suspicious package', 'traffic crash', 'miscellaneous incident', 'attempted motor vehicle theft', 'aggravated battery of a police officer', 'arson by fire', 'non-criminal missing property', 'trespass', 'dog bite', 'traffic and warrant arrest', 'narcotic', 'aggravated domestic assault', 'electronic means', 'vehicle recovery', 'domestic disturbance', 'harassment', 'other vehicle offense', 'possession of stolen property', 'hate crime', 'security alarm', 'traffic crash arrest', 'mental health', 'obstructing peace officer', 'simple assault battery', 'traffic accident', 'threat by electronic means', 'attempted sexual assault', 'unlawful use of a weapon', 'criminal trespass to vehicle', 'hit and run property damage', 'false fire alarm', 'unauthorized use of computer', 'personal injury', 'interference with public officer', 'found key', 'haz mat incident', 'ambulance request', 'suspect narcotic found', 'motor vehicle theft recovery', 'medical call', 'murder', 'fondling', 'recovered vehicle', 'harassing email message', 'non-criminal complaint', 'criminal damage to motor vehicle', 'domestic aggravated battery', 'haz mat', 'order of protection arrest', 'medical transport', 'trespass to property', 'obstruct police officer', 'non-criminal', 'liquor law violation', 'delayed burglary', 'notification of order of protection', 'theft from vehicle', 'domestic assault', 'found weapon', 'personation of peace officer', 'smell of gas', 'criminal sexual abuse', 'attempted', 'possession of marijuana', 'telephone harassment', 'aggravated vehicular carjacking', 'found property', 'other crime vs. person', 'harassing phone call', 'property', 'harassment via electronic means', 'narcotic arrest', 'property damage', 'hazardous material event', 'non-forcible', 'domestic dispute', 'aggravated assault', 'arrest on warrant', 'aggravated assault of police officer', 'recovery'}\n"
     ]
    }
   ],
   "source": [
    "print(list_to_parsed_set(df[\"incident\"].to_list()))"
   ]
  },
  {
   "cell_type": "markdown",
   "id": "bc068bd76389f233",
   "metadata": {
    "collapsed": false
   },
   "source": []
  },
  {
   "cell_type": "code",
   "execution_count": 188,
   "id": "925ca09f1a15edbd",
   "metadata": {
    "collapsed": false,
    "ExecuteTime": {
     "end_time": "2024-02-12T19:21:00.478837Z",
     "start_time": "2024-02-12T19:21:00.476767Z"
    }
   },
   "outputs": [
    {
     "data": {
      "text/plain": "392"
     },
     "execution_count": 188,
     "metadata": {},
     "output_type": "execute_result"
    }
   ],
   "source": [
    "len(list_to_parsed_set(df[\"incident\"].to_list()))"
   ]
  },
  {
   "cell_type": "code",
   "execution_count": 189,
   "id": "928b434184777ff7",
   "metadata": {
    "collapsed": false,
    "ExecuteTime": {
     "end_time": "2024-02-12T19:21:00.485950Z",
     "start_time": "2024-02-12T19:21:00.479482Z"
    }
   },
   "outputs": [
    {
     "data": {
      "text/plain": "shape: (1_751, 11)\n┌───────────┬───────────┬───────────┬───────────┬───┬───────────┬───────────┬───────────┬──────────┐\n│ comments  ┆ dispositi ┆ incident  ┆ location  ┆ … ┆ reported_ ┆ ucpd_id   ┆ validated ┆ validate │\n│ ---       ┆ on        ┆ ---       ┆ ---       ┆   ┆ date      ┆ ---       ┆ _address  ┆ d_locati │\n│ str       ┆ ---       ┆ str       ┆ str       ┆   ┆ ---       ┆ str       ┆ ---       ┆ on       │\n│           ┆ str       ┆           ┆           ┆   ┆ date      ┆           ┆ str       ┆ ---      │\n│           ┆           ┆           ┆           ┆   ┆           ┆           ┆           ┆ list[f64 │\n│           ┆           ┆           ┆           ┆   ┆           ┆           ┆           ┆ ]        │\n╞═══════════╪═══════════╪═══════════╪═══════════╪═══╪═══════════╪═══════════╪═══════════╪══════════╡\n│ Two       ┆ Referred  ┆ informati ┆ S. Dorche ┆ … ┆ 2024-02-0 ┆ 2024-0053 ┆ between   ┆ [41.8008 │\n│ unknown   ┆           ┆ on /      ┆ ster Ave. ┆   ┆ 9         ┆ 01        ┆ E. 51st   ┆ 94, -87. │\n│ suspects  ┆           ┆ theft     ┆ between   ┆   ┆           ┆           ┆ St. and,  ┆ 59668]   │\n│ took mail ┆           ┆           ┆ E. 51…    ┆   ┆           ┆           ┆ S. Dorc…  ┆          │\n│ f…        ┆           ┆           ┆           ┆   ┆           ┆           ┆           ┆          │\n│ Person    ┆ Referred  ┆ informati ┆ S. Blacks ┆ … ┆ 2024-02-0 ┆ 2024-0050 ┆ and S.    ┆ [41.7933 │\n│ reports a ┆           ┆ on /      ┆ tone Ave. ┆   ┆ 7         ┆ 40        ┆ Blackston ┆ , -87.59 │\n│ document  ┆           ┆ theft     ┆ between   ┆   ┆           ┆           ┆ e Ave,    ┆ 2458]    │\n│ was ta…   ┆           ┆           ┆ E. 55…    ┆   ┆           ┆           ┆ between,  ┆          │\n│           ┆           ┆           ┆           ┆   ┆           ┆           ┆ …         ┆          │\n│ Package   ┆ Referred  ┆ informati ┆ S. Ellis  ┆ … ┆ 2024-02-0 ┆ 2024-0050 ┆ and S.    ┆ [41.7951 │\n│ taken     ┆           ┆ on /      ┆ Ave.      ┆   ┆ 7         ┆ 52        ┆ Ellis     ┆ 96, -87. │\n│ from      ┆           ┆ theft     ┆ between   ┆   ┆           ┆           ┆ Ave,      ┆ 586625]  │\n│ vestibule ┆           ┆           ┆ E. 54th   ┆   ┆           ┆           ┆ between,  ┆          │\n│ of …      ┆           ┆           ┆ St…       ┆   ┆           ┆           ┆ IL 60…    ┆          │\n│ Victim    ┆ CPD       ┆ informati ┆ S. East   ┆ … ┆ 2024-02-0 ┆ 24-00130  ┆ between   ┆ [41.8022 │\n│ reported  ┆           ┆ on /      ┆ End Ave.  ┆   ┆ 7         ┆           ┆ E. 50th   ┆ 57, -87. │\n│ she was   ┆           ┆ criminal  ┆ between   ┆   ┆           ┆           ┆ St. and,  ┆ 605867]  │\n│ sexually… ┆           ┆ sexual    ┆ E. 50th…  ┆   ┆           ┆           ┆ S. East…  ┆          │\n│           ┆           ┆ as…       ┆           ┆   ┆           ┆           ┆           ┆          │\n│ …         ┆ …         ┆ …         ┆ …         ┆ … ┆ …         ┆ …         ┆ …         ┆ …        │\n│ Unknown   ┆ Open      ┆ burglary  ┆ S.        ┆ … ┆ 2011-01-0 ┆ X0008     ┆ between   ┆ [41.7896 │\n│ person    ┆           ┆           ┆ Kimbark   ┆   ┆ 3         ┆           ┆ E. 57th   ┆ 07, -87. │\n│ entered   ┆           ┆           ┆ Ave.      ┆   ┆           ┆           ┆ St. and,  ┆ 596414]  │\n│ residenti ┆           ┆           ┆ between   ┆   ┆           ┆           ┆ S. Kimb…  ┆          │\n│ …         ┆           ┆           ┆ E. 57th … ┆   ┆           ┆           ┆           ┆          │\n│ Unknown   ┆ Open      ┆ theft     ┆ E. 53rd   ┆ … ┆ 2011-01-0 ┆ X0009     ┆ between   ┆ [41.7933 │\n│ person    ┆           ┆           ┆ St.       ┆   ┆ 3         ┆           ┆ S.        ┆ 42, -87. │\n│ took two  ┆           ┆           ┆ between   ┆   ┆           ┆           ┆ Greenwood ┆ 598113]  │\n│ electric… ┆           ┆           ┆ S. Greenw ┆   ┆           ┆           ┆ Ave. and, ┆          │\n│           ┆           ┆           ┆ ood…      ┆   ┆           ┆           ┆ E…        ┆          │\n│ Two       ┆ Closed    ┆ informati ┆ E. 54th   ┆ … ┆ 2011-01-0 ┆ X0010     ┆ between   ┆ [41.7931 │\n│ unknown   ┆           ┆ on        ┆ St.       ┆   ┆ 3         ┆           ┆ S.        ┆ 66, -87. │\n│ youths    ┆           ┆           ┆ between   ┆   ┆           ┆           ┆ Maryland  ┆ 603788]  │\n│ approache ┆           ┆           ┆ S.        ┆   ┆           ┆           ┆ Ave. and, ┆          │\n│ d ma…     ┆           ┆           ┆ Maryland  ┆   ┆           ┆           ┆ E.…       ┆          │\n│           ┆           ┆           ┆ …         ┆   ┆           ┆           ┆           ┆          │\n│ Unknown   ┆ Open      ┆ burglary  ┆ S.        ┆ … ┆ 2011-01-0 ┆ X0004     ┆ between   ┆ [41.8022 │\n│ person    ┆           ┆           ┆ Kimbark   ┆   ┆ 2         ┆           ┆ E. 50th   ┆ 57, -87. │\n│ entered   ┆           ┆           ┆ Ave.      ┆   ┆           ┆           ┆ St. and,  ┆ 605867]  │\n│ residenti ┆           ┆           ┆ between   ┆   ┆           ┆           ┆ S. Kimb…  ┆          │\n│ …         ┆           ┆           ┆ E. 50th … ┆   ┆           ┆           ┆           ┆          │\n└───────────┴───────────┴───────────┴───────────┴───┴───────────┴───────────┴───────────┴──────────┘",
      "text/html": "<div><style>\n.dataframe > thead > tr > th,\n.dataframe > tbody > tr > td {\n  text-align: right;\n}\n</style>\n<small>shape: (1_751, 11)</small><table border=\"1\" class=\"dataframe\"><thead><tr><th>comments</th><th>disposition</th><th>incident</th><th>location</th><th>occurred</th><th>predicted_incident</th><th>reported</th><th>reported_date</th><th>ucpd_id</th><th>validated_address</th><th>validated_location</th></tr><tr><td>str</td><td>str</td><td>str</td><td>str</td><td>str</td><td>str</td><td>datetime[μs, America/Chicago]</td><td>date</td><td>str</td><td>str</td><td>list[f64]</td></tr></thead><tbody><tr><td>&quot;Two unknown su…</td><td>&quot;Referred&quot;</td><td>&quot;information / …</td><td>&quot;S. Dorchester …</td><td>&quot;2/9/24 12:10 P…</td><td>null</td><td>2024-02-09 12:18:00 CST</td><td>2024-02-09</td><td>&quot;2024-005301&quot;</td><td>&quot;between E. 51s…</td><td>[41.800894, -87.59668]</td></tr><tr><td>&quot;Person reports…</td><td>&quot;Referred&quot;</td><td>&quot;information / …</td><td>&quot;S. Blackstone …</td><td>&quot;1/25/24 2:40 P…</td><td>null</td><td>2024-02-07 12:04:00 CST</td><td>2024-02-07</td><td>&quot;2024-005040&quot;</td><td>&quot;and S. Blackst…</td><td>[41.7933, -87.592458]</td></tr><tr><td>&quot;Package taken …</td><td>&quot;Referred&quot;</td><td>&quot;information / …</td><td>&quot;S. Ellis Ave. …</td><td>&quot;2/6/24 5:00 PM…</td><td>null</td><td>2024-02-07 14:22:00 CST</td><td>2024-02-07</td><td>&quot;2024-005052&quot;</td><td>&quot;and S. Ellis A…</td><td>[41.795196, -87.586625]</td></tr><tr><td>&quot;Victim reporte…</td><td>&quot;CPD&quot;</td><td>&quot;information / …</td><td>&quot;S. East End Av…</td><td>&quot;10/20/23 3:00 …</td><td>null</td><td>2024-02-07 17:23:00 CST</td><td>2024-02-07</td><td>&quot;24-00130&quot;</td><td>&quot;between E. 50t…</td><td>[41.802257, -87.605867]</td></tr><tr><td>&quot;Suspect observ…</td><td>&quot;CPD&quot;</td><td>&quot;information / …</td><td>&quot;E. 54th St. be…</td><td>&quot;2/4/24 1:20 PM…</td><td>null</td><td>2024-02-04 13:22:00 CST</td><td>2024-02-04</td><td>&quot;2024-004615&quot;</td><td>&quot;between S. Woo…</td><td>[41.793722, -87.5949]</td></tr><tr><td>&quot;A person walki…</td><td>&quot;CPD&quot;</td><td>&quot;information / …</td><td>&quot;S. Dorchester …</td><td>&quot;2/2/24 10:45 P…</td><td>null</td><td>2024-02-02 23:13:00 CST</td><td>2024-02-02</td><td>&quot;2024-004492&quot;</td><td>&quot;between E. 51s…</td><td>[41.800894, -87.59668]</td></tr><tr><td>&quot;Unknown person…</td><td>&quot;CPD&quot;</td><td>&quot;information / …</td><td>&quot;S. Kenwood Ave…</td><td>&quot;1/30/24 7:30 A…</td><td>null</td><td>2024-01-30 20:33:00 CST</td><td>2024-01-30</td><td>&quot;2024-004004&quot;</td><td>&quot;and South Kenw…</td><td>[41.791219, -87.606736]</td></tr><tr><td>&quot;Unknown person…</td><td>&quot;CPD&quot;</td><td>&quot;information / …</td><td>&quot;S. Kimbark Ave…</td><td>&quot;1/30/24 8:15 P…</td><td>null</td><td>2024-01-30 20:46:00 CST</td><td>2024-01-30</td><td>&quot;2024-004007&quot;</td><td>&quot;between E. 53r…</td><td>[41.798003, -87.594163]</td></tr><tr><td>&quot;Person reports…</td><td>&quot;Closed&quot;</td><td>&quot;lost property&quot;</td><td>&quot;S. Ellis Ave. …</td><td>&quot;1/30/24 6:00 P…</td><td>null</td><td>2024-01-30 22:07:00 CST</td><td>2024-01-30</td><td>&quot;24-00112&quot;</td><td>&quot;between E. 55t…</td><td>[41.794767, -87.591675]</td></tr><tr><td>&quot;Unknown person…</td><td>&quot;Referred&quot;</td><td>&quot;information / …</td><td>&quot;S. Kenwood Ave…</td><td>&quot;1/27/24 to 1/2…</td><td>null</td><td>2024-01-29 22:33:00 CST</td><td>2024-01-29</td><td>&quot;2024-003903&quot;</td><td>&quot;between E. 57t…</td><td>[41.789607, -87.596414]</td></tr><tr><td>&quot;Two people eng…</td><td>&quot;Open&quot;</td><td>&quot;battery&quot;</td><td>&quot;S. Blackstone …</td><td>&quot;1/28/24 9:05 P…</td><td>null</td><td>2024-01-28 21:13:00 CST</td><td>2024-01-28</td><td>&quot;24-00104&quot;</td><td>&quot;between E. 58t…</td><td>[41.787795, -87.59652]</td></tr><tr><td>&quot;Unknown person…</td><td>&quot;CPD&quot;</td><td>&quot;information / …</td><td>&quot;S. Ingleside A…</td><td>&quot;1/22/24 9:00 A…</td><td>null</td><td>2024-01-23 00:46:00 CST</td><td>2024-01-23</td><td>&quot;2024-003047&quot;</td><td>&quot;and South Ingl…</td><td>[41.782871, -87.589117]</td></tr><tr><td>&hellip;</td><td>&hellip;</td><td>&hellip;</td><td>&hellip;</td><td>&hellip;</td><td>&hellip;</td><td>&hellip;</td><td>&hellip;</td><td>&hellip;</td><td>&hellip;</td><td>&hellip;</td></tr><tr><td>&quot;Unknown person…</td><td>&quot;Open&quot;</td><td>&quot;theft&quot;</td><td>&quot;S. Dorchester …</td><td>&quot;1/8/11 9:30 AM…</td><td>null</td><td>2011-01-08 16:39:00 CST</td><td>2011-01-08</td><td>&quot;X0039&quot;</td><td>&quot;between E. 57t…</td><td>[41.789607, -87.596414]</td></tr><tr><td>&quot;Unknown person…</td><td>&quot;Open&quot;</td><td>&quot;criminal damag…</td><td>&quot;S. University …</td><td>&quot;1/6/11 to 1/7/…</td><td>null</td><td>2011-01-07 13:00:00 CST</td><td>2011-01-07</td><td>&quot;X0029&quot;</td><td>&quot;and S. Univers…</td><td>[41.795196, -87.586625]</td></tr><tr><td>&quot;One male struc…</td><td>&quot;Closed&quot;</td><td>&quot;battery&quot;</td><td>&quot;S. University …</td><td>&quot;1/7/11 11:22 P…</td><td>null</td><td>2011-01-07 23:22:00 CST</td><td>2011-01-07</td><td>&quot;X0033&quot;</td><td>&quot;and S. Univers…</td><td>[41.791219, -87.606736]</td></tr><tr><td>&quot;Wallet taken f…</td><td>&quot;Open&quot;</td><td>&quot;theft&quot;</td><td>&quot;E. 57th St. be…</td><td>&quot;1/5/11 6:15 PM…</td><td>null</td><td>2011-01-05 21:32:00 CST</td><td>2011-01-05</td><td>&quot;X0025&quot;</td><td>&quot;and E. 57th St…</td><td>[41.74341, -87.591609]</td></tr><tr><td>&quot;Man kicked and…</td><td>&quot;Arrest&quot;</td><td>&quot;criminal damag…</td><td>&quot;E. 63rd St. be…</td><td>&quot;1/4/11 3:28 AM…</td><td>null</td><td>2011-01-04 03:28:00 CST</td><td>2011-01-04</td><td>&quot;X0012&quot;</td><td>&quot;and E. 63rd St…</td><td>[41.74341, -87.591609]</td></tr><tr><td>&quot;Three males at…</td><td>&quot;Arrest&quot;</td><td>&quot;attempted robb…</td><td>&quot;E. 53rd St. be…</td><td>&quot;1/4/11 7:13 PM…</td><td>null</td><td>2011-01-04 19:13:00 CST</td><td>2011-01-04</td><td>&quot;X0016&quot;</td><td>&quot;and E. 53rd St…</td><td>[41.780016, -87.600449]</td></tr><tr><td>&quot;UCPD officers …</td><td>&quot;Closed&quot;</td><td>&quot;found property…</td><td>&quot;E. 50th St. be…</td><td>&quot;1/4/11 8:12 PM…</td><td>null</td><td>2011-01-04 20:12:00 CST</td><td>2011-01-04</td><td>&quot;X0018&quot;</td><td>&quot;and E. 50th St…</td><td>[41.731245, -87.599793]</td></tr><tr><td>&quot;Unknown person…</td><td>&quot;Open&quot;</td><td>&quot;theft from mot…</td><td>&quot;S. Woodlawn Av…</td><td>&quot;1/2/11 to1/3/1…</td><td>null</td><td>2011-01-03 08:46:00 CST</td><td>2011-01-03</td><td>&quot;X0006&quot;</td><td>&quot;and South Wood…</td><td>[41.782871, -87.589117]</td></tr><tr><td>&quot;Unknown person…</td><td>&quot;Open&quot;</td><td>&quot;burglary&quot;</td><td>&quot;S. Kimbark Ave…</td><td>&quot;12/13/10 to 1/…</td><td>null</td><td>2011-01-03 14:51:00 CST</td><td>2011-01-03</td><td>&quot;X0008&quot;</td><td>&quot;between E. 57t…</td><td>[41.789607, -87.596414]</td></tr><tr><td>&quot;Unknown person…</td><td>&quot;Open&quot;</td><td>&quot;theft&quot;</td><td>&quot;E. 53rd St. be…</td><td>&quot;1/3/11 2:00 PM…</td><td>null</td><td>2011-01-03 17:46:00 CST</td><td>2011-01-03</td><td>&quot;X0009&quot;</td><td>&quot;between S. Gre…</td><td>[41.793342, -87.598113]</td></tr><tr><td>&quot;Two unknown yo…</td><td>&quot;Closed&quot;</td><td>&quot;information&quot;</td><td>&quot;E. 54th St. be…</td><td>&quot;1/3/11 6:25 PM…</td><td>null</td><td>2011-01-03 18:30:00 CST</td><td>2011-01-03</td><td>&quot;X0010&quot;</td><td>&quot;between S. Mar…</td><td>[41.793166, -87.603788]</td></tr><tr><td>&quot;Unknown person…</td><td>&quot;Open&quot;</td><td>&quot;burglary&quot;</td><td>&quot;S. Kimbark Ave…</td><td>&quot;12/11/10 to 12…</td><td>null</td><td>2011-01-02 10:39:00 CST</td><td>2011-01-02</td><td>&quot;X0004&quot;</td><td>&quot;between E. 50t…</td><td>[41.802257, -87.605867]</td></tr></tbody></table></div>"
     },
     "execution_count": 189,
     "metadata": {},
     "output_type": "execute_result"
    }
   ],
   "source": [
    "df.filter(pl.col(\"location\").str.contains(\" between \")).filter(\n",
    "    ~pl.col(\"location\").str.contains(\" to \")\n",
    ")"
   ]
  },
  {
   "cell_type": "code",
   "execution_count": 190,
   "id": "f63c35cb49b0ff83",
   "metadata": {
    "collapsed": false,
    "ExecuteTime": {
     "end_time": "2024-02-12T19:21:00.510941Z",
     "start_time": "2024-02-12T19:21:00.485741Z"
    }
   },
   "outputs": [
    {
     "data": {
      "text/plain": "shape: (81, 11)\n┌───────────┬───────────┬───────────┬───────────┬───┬───────────┬───────────┬───────────┬──────────┐\n│ comments  ┆ dispositi ┆ incident  ┆ location  ┆ … ┆ reported_ ┆ ucpd_id   ┆ validated ┆ validate │\n│ ---       ┆ on        ┆ ---       ┆ ---       ┆   ┆ date      ┆ ---       ┆ _address  ┆ d_locati │\n│ str       ┆ ---       ┆ str       ┆ str       ┆   ┆ ---       ┆ str       ┆ ---       ┆ on       │\n│           ┆ str       ┆           ┆           ┆   ┆ date      ┆           ┆ str       ┆ ---      │\n│           ┆           ┆           ┆           ┆   ┆           ┆           ┆           ┆ list[f64 │\n│           ┆           ┆           ┆           ┆   ┆           ┆           ┆           ┆ ]        │\n╞═══════════╪═══════════╪═══════════╪═══════════╪═══╪═══════════╪═══════════╪═══════════╪══════════╡\n│ Electroni ┆ Open      ┆ harassmen ┆ E. 61st   ┆ … ┆ 2023-12-2 ┆ 23-01269  ┆ between   ┆ [41.7950 │\n│ c harassm ┆           ┆ t by elec ┆ St.       ┆   ┆ 8         ┆           ┆ S.        ┆ 6, -87.5 │\n│ ent       ┆           ┆ tronic    ┆ Street    ┆   ┆           ┆           ┆ Greenwood ┆ 96557]   │\n│ report    ┆           ┆ means     ┆ between   ┆   ┆           ┆           ┆ Ave. to,  ┆          │\n│ doc…      ┆           ┆           ┆ S. Gr…    ┆   ┆           ┆           ┆ E.…       ┆          │\n│ Two       ┆ Referred  ┆ informati ┆ S. Stony  ┆ … ┆ 2023-08-3 ┆ 2023-0304 ┆ to S.     ┆ [41.7896 │\n│ suitcases ┆           ┆ on /      ┆ Island    ┆   ┆ 1         ┆ 12        ┆ Stony     ┆ 07, -87. │\n│ taken     ┆           ┆ theft     ┆ Ave. E.   ┆   ┆           ┆           ┆ Island,   ┆ 596414]  │\n│ from      ┆           ┆           ┆ 57th St.… ┆   ┆           ┆           ┆ Chicago,  ┆          │\n│ off-cam…  ┆           ┆           ┆           ┆   ┆           ┆           ┆ IL        ┆          │\n│ Person    ┆ Closed    ┆ lost      ┆ 1330 E.   ┆ … ┆ 2023-08-2 ┆ 23-00810  ┆ 1330 East ┆ [41.7952 │\n│ reported  ┆           ┆ property  ┆ 53rd St.  ┆   ┆ 9         ┆           ┆ 53rd      ┆ 31, -87. │\n│ loss of   ┆           ┆           ┆ to E.     ┆   ┆           ┆           ┆ Street,   ┆ 587464]  │\n│ ID card … ┆           ┆           ┆ 55th St.  ┆   ┆           ┆           ┆ Chicago,  ┆          │\n│           ┆           ┆           ┆ …         ┆   ┆           ┆           ┆ …         ┆          │\n│ Person    ┆ Closed    ┆ lost      ┆ 1100 E.   ┆ … ┆ 2023-04-2 ┆ 23-00386  ┆ 1100 E.   ┆ [41.7961 │\n│ lost      ┆           ┆ property  ┆ 57th St.  ┆   ┆ 4         ┆           ┆ 57th St   ┆ 89, -87. │\n│ wallet    ┆           ┆           ┆ to 1526   ┆   ┆           ┆           ┆ to,       ┆ 588537]  │\n│ while     ┆           ┆           ┆ E. 55th…  ┆   ┆           ┆           ┆ Chicago,  ┆          │\n│ walking   ┆           ┆           ┆           ┆   ┆           ┆           ┆ IL …      ┆          │\n│ …         ┆ …         ┆ …         ┆ …         ┆ … ┆ …         ┆ …         ┆ …         ┆ …        │\n│ Power     ┆ Closed    ┆ informati ┆ E. 55th   ┆ … ┆ 2012-05-1 ┆ B00443    ┆ St. to,   ┆ [41.7895 │\n│ outage    ┆           ┆ on        ┆ St. to E. ┆   ┆ 4         ┆           ┆ to E.     ┆ 62, -87. │\n│ reported  ┆           ┆           ┆ 58th St.  ┆   ┆           ┆           ┆ 55th,     ┆ 601259]  │\n│ in the    ┆           ┆           ┆ /S. E…    ┆   ┆           ┆           ┆ Chicago,  ┆          │\n│ are…      ┆           ┆           ┆           ┆   ┆           ┆           ┆ IL …      ┆          │\n│ Woman     ┆ Closed    ┆ lost      ┆ between   ┆ … ┆ 2012-04-1 ┆ B00331    ┆ between   ┆ [41.7995 │\n│ reported  ┆           ┆ property  ┆ E. 53rd   ┆   ┆ 9         ┆           ┆ East 53rd ┆ 03, -87. │\n│ losing    ┆           ┆           ┆ St. and   ┆   ┆           ┆           ┆ Street,   ┆ 590451]  │\n│ her       ┆           ┆           ┆ S. Black… ┆   ┆           ┆           ┆ Chicag…   ┆          │\n│ wallet    ┆           ┆           ┆           ┆   ┆           ┆           ┆           ┆          │\n│ Woman     ┆ Open      ┆ theft     ┆ 5500 S.   ┆ … ┆ 2011-05-2 ┆ A00270    ┆ 5500      ┆ [41.7914 │\n│ reported  ┆           ┆           ┆ Lake Park ┆   ┆ 6         ┆           ┆ South     ┆ 07, -87. │\n│ her       ┆           ┆           ┆ Ave. to   ┆   ┆           ┆           ┆ Lake Park ┆ 598074]  │\n│ wallet    ┆           ┆           ┆ 5700 S…   ┆   ┆           ┆           ┆ Avenue    ┆          │\n│ taken …   ┆           ┆           ┆           ┆   ┆           ┆           ┆ to, …     ┆          │\n│ Man       ┆ Closed    ┆ lost      ┆ E. 59th   ┆ … ┆ 2011-05-2 ┆ A00248    ┆ and East  ┆ [41.7877 │\n│ reported  ┆           ┆ property  ┆ St. and   ┆   ┆ 0         ┆           ┆ 59th      ┆ 67, -87. │\n│ losing    ┆           ┆           ┆ S. Univer ┆   ┆           ┆           ┆ Street    ┆ 598015]  │\n│ keys as   ┆           ┆           ┆ sity Av…  ┆   ┆           ┆           ┆ to,       ┆          │\n│ he w…     ┆           ┆           ┆           ┆   ┆           ┆           ┆ Chicago…  ┆          │\n└───────────┴───────────┴───────────┴───────────┴───┴───────────┴───────────┴───────────┴──────────┘",
      "text/html": "<div><style>\n.dataframe > thead > tr > th,\n.dataframe > tbody > tr > td {\n  text-align: right;\n}\n</style>\n<small>shape: (81, 11)</small><table border=\"1\" class=\"dataframe\"><thead><tr><th>comments</th><th>disposition</th><th>incident</th><th>location</th><th>occurred</th><th>predicted_incident</th><th>reported</th><th>reported_date</th><th>ucpd_id</th><th>validated_address</th><th>validated_location</th></tr><tr><td>str</td><td>str</td><td>str</td><td>str</td><td>str</td><td>str</td><td>datetime[μs, America/Chicago]</td><td>date</td><td>str</td><td>str</td><td>list[f64]</td></tr></thead><tbody><tr><td>&quot;Electronic har…</td><td>&quot;Open&quot;</td><td>&quot;harassment by …</td><td>&quot;E. 61st St. St…</td><td>&quot;11/30/23 to 12…</td><td>null</td><td>2023-12-28 10:32:00 CST</td><td>2023-12-28</td><td>&quot;23-01269&quot;</td><td>&quot;between S. Gre…</td><td>[41.79506, -87.596557]</td></tr><tr><td>&quot;Two suitcases …</td><td>&quot;Referred&quot;</td><td>&quot;information / …</td><td>&quot;S. Stony Islan…</td><td>&quot;8/30/23 to 8/3…</td><td>null</td><td>2023-08-31 14:06:00 CDT</td><td>2023-08-31</td><td>&quot;2023-030412&quot;</td><td>&quot;to S. Stony Is…</td><td>[41.789607, -87.596414]</td></tr><tr><td>&quot;Person reporte…</td><td>&quot;Closed&quot;</td><td>&quot;lost property&quot;</td><td>&quot;1330 E. 53rd S…</td><td>&quot;8/29/23 11:30 …</td><td>null</td><td>2023-08-29 15:06:00 CDT</td><td>2023-08-29</td><td>&quot;23-00810&quot;</td><td>&quot;1330 East 53rd…</td><td>[41.795231, -87.587464]</td></tr><tr><td>&quot;Person lost wa…</td><td>&quot;Closed&quot;</td><td>&quot;lost property&quot;</td><td>&quot;1100 E. 57th S…</td><td>&quot;4/17/23 10:00 …</td><td>null</td><td>2023-04-24 14:39:00 CDT</td><td>2023-04-24</td><td>&quot;23-00386&quot;</td><td>&quot;1100 E. 57th S…</td><td>[41.796189, -87.588537]</td></tr><tr><td>&quot;Person reports…</td><td>&quot;Closed&quot;</td><td>&quot;lost property&quot;</td><td>&quot;1101 E. 56th S…</td><td>&quot;2/20/23 to 2/2…</td><td>null</td><td>2023-02-21 16:34:00 CST</td><td>2023-02-21</td><td>&quot;23-00171&quot;</td><td>&quot;1101 E. 56th S…</td><td>[41.792279, -87.599954]</td></tr><tr><td>&quot;Person lost wr…</td><td>&quot;Closed&quot;</td><td>&quot;lost property&quot;</td><td>&quot;929 E.E. 57th …</td><td>&quot;12/13/21 8:45 …</td><td>null</td><td>2021-12-16 16:25:00 CST</td><td>2021-12-16</td><td>&quot;21-00908&quot;</td><td>&quot;to E. 57th and…</td><td>[41.791374, -87.601302]</td></tr><tr><td>&quot;Person reports…</td><td>&quot;Closed&quot;</td><td>&quot;lost wallet&quot;</td><td>&quot;5100 S. Blacks…</td><td>&quot;12/11/21 4:02 …</td><td>null</td><td>2021-12-11 16:02:00 CST</td><td>2021-12-11</td><td>&quot;21-00889&quot;</td><td>&quot;5100 South Bla…</td><td>[41.789735, -87.601538]</td></tr><tr><td>&quot;Person reporte…</td><td>&quot;Closed&quot;</td><td>&quot;lost property&quot;</td><td>&quot;5400 S. Shore …</td><td>&quot;7/6/21 1:30 AM…</td><td>null</td><td>2021-07-06 20:38:00 CDT</td><td>2021-07-06</td><td>&quot;21-00391&quot;</td><td>&quot;5400 S. Shore …</td><td>[41.791024, -87.604903]</td></tr><tr><td>&quot;Person lost IL…</td><td>&quot;Closed&quot;</td><td>&quot;lost property&quot;</td><td>&quot;E. 57th St. an…</td><td>&quot;6/16/21 2:30 P…</td><td>null</td><td>2021-06-16 16:51:00 CDT</td><td>2021-06-16</td><td>&quot;21-00345&quot;</td><td>&quot;and East 57th …</td><td>[41.791347, -87.604938]</td></tr><tr><td>&quot;Person lost ce…</td><td>&quot;Closed&quot;</td><td>&quot;lost property&quot;</td><td>&quot;E. 60th St. an…</td><td>&quot;5/21/21 3:40 P…</td><td>null</td><td>2021-05-21 18:35:00 CDT</td><td>2021-05-21</td><td>&quot;21-00288&quot;</td><td>&quot;and East 60th …</td><td>[41.795044, -87.598097]</td></tr><tr><td>&quot;Person reports…</td><td>&quot;Closed&quot;</td><td>&quot;lost property&quot;</td><td>&quot;1100 E. 57th S…</td><td>&quot;3/6/20 7:30 PM…</td><td>null</td><td>2020-03-06 23:18:00 CST</td><td>2020-03-06</td><td>&quot;20-00183&quot;</td><td>&quot;1100 E. 57th S…</td><td>[41.78589, -87.603493]</td></tr><tr><td>&quot;Person reports…</td><td>&quot;Closed&quot;</td><td>&quot;lost property&quot;</td><td>&quot;929 E. 57th St…</td><td>&quot;9/9/19 7:20 PM…</td><td>null</td><td>2019-09-09 20:27:00 CDT</td><td>2019-09-09</td><td>&quot;19-00881&quot;</td><td>&quot;929 East 57th …</td><td>[41.799953, -87.596405]</td></tr><tr><td>&hellip;</td><td>&hellip;</td><td>&hellip;</td><td>&hellip;</td><td>&hellip;</td><td>&hellip;</td><td>&hellip;</td><td>&hellip;</td><td>&hellip;</td><td>&hellip;</td><td>&hellip;</td></tr><tr><td>&quot;iPhone lost be…</td><td>&quot;Closed&quot;</td><td>&quot;lost property&quot;</td><td>&quot;6031 S. Ellis …</td><td>&quot;3/2/13 9:45 PM…</td><td>null</td><td>2013-03-02 23:30:00 CST</td><td>2013-03-02</td><td>&quot;C00226&quot;</td><td>&quot;6031 South Ell…</td><td>[41.792279, -87.599954]</td></tr><tr><td>&quot;Individual rep…</td><td>&quot;Closed&quot;</td><td>&quot;lost property&quot;</td><td>&quot;E. 53rd St. an…</td><td>&quot;2/27/13 2:30 P…</td><td>null</td><td>2013-02-27 18:19:00 CST</td><td>2013-02-27</td><td>&quot;C00213&quot;</td><td>&quot;and East 53rd …</td><td>[41.799459, -87.595018]</td></tr><tr><td>&quot;Woman reported…</td><td>&quot;Closed&quot;</td><td>&quot;lost property&quot;</td><td>&quot;5550 S. Univer…</td><td>&quot;1/27/13 11:10 …</td><td>null</td><td>2013-01-27 11:39:00 CST</td><td>2013-01-27</td><td>&quot;C00110&quot;</td><td>&quot;5550 South Uni…</td><td>[41.792279, -87.599954]</td></tr><tr><td>&quot;Man reports lo…</td><td>&quot;Closed&quot;</td><td>&quot;lost property&quot;</td><td>&quot;5400 S. Ingles…</td><td>&quot;1/8/13 7:30 PM…</td><td>null</td><td>2013-01-09 10:19:00 CST</td><td>2013-01-09</td><td>&quot;C00033&quot;</td><td>&quot;5400 South Ing…</td><td>[41.796998, -87.587886]</td></tr><tr><td>&quot;Wallet taken f…</td><td>&quot;Open&quot;</td><td>&quot;theft&quot;</td><td>&quot;E. 55th St. an…</td><td>&quot;11/3/12 1:55 P…</td><td>null</td><td>2012-11-03 15:34:00 CDT</td><td>2012-11-03</td><td>&quot;B01366&quot;</td><td>&quot;and East 55th …</td><td>[41.795044, -87.598097]</td></tr><tr><td>&quot;Man reports lo…</td><td>&quot;Closed&quot;</td><td>&quot;lost property&quot;</td><td>&quot;6103 S. Univer…</td><td>&quot;10/21/12 12:00…</td><td>null</td><td>2012-10-21 15:53:00 CDT</td><td>2012-10-21</td><td>&quot;B01264&quot;</td><td>&quot;6103 South Uni…</td><td>[41.792972, -87.599928]</td></tr><tr><td>&quot;Woman lost her…</td><td>&quot;Closed&quot;</td><td>&quot;lost property&quot;</td><td>&quot;220 W. Garfiel…</td><td>&quot;10/20/12 10:40…</td><td>null</td><td>2012-10-20 23:44:00 CDT</td><td>2012-10-20</td><td>&quot;B01256&quot;</td><td>&quot;220 W. Garfiel…</td><td>[41.795326, -87.601231]</td></tr><tr><td>&quot;Man lost cell …</td><td>&quot;Closed&quot;</td><td>&quot;lost property&quot;</td><td>&quot;E. 61st St. to…</td><td>&quot;8/18/12 2:00 P…</td><td>null</td><td>2012-08-20 09:36:00 CDT</td><td>2012-08-20</td><td>&quot;B00903&quot;</td><td>&quot;St. to, E. 61s…</td><td>[41.799471, -87.594402]</td></tr><tr><td>&quot;Power outage r…</td><td>&quot;Closed&quot;</td><td>&quot;information&quot;</td><td>&quot;E. 55th St. to…</td><td>&quot;5/14/12 4:50 P…</td><td>&quot;Armed Robbery …</td><td>2012-05-14 16:55:00 CDT</td><td>2012-05-14</td><td>&quot;B00443&quot;</td><td>&quot;St. to, to E. …</td><td>[41.789562, -87.601259]</td></tr><tr><td>&quot;Woman reported…</td><td>&quot;Closed&quot;</td><td>&quot;lost property&quot;</td><td>&quot;between E. 53r…</td><td>&quot;4/18/12 to 4/1…</td><td>null</td><td>2012-04-19 10:09:00 CDT</td><td>2012-04-19</td><td>&quot;B00331&quot;</td><td>&quot;between East 5…</td><td>[41.799503, -87.590451]</td></tr><tr><td>&quot;Woman reported…</td><td>&quot;Open&quot;</td><td>&quot;theft&quot;</td><td>&quot;5500 S. Lake P…</td><td>&quot;5/26/11 8:45 A…</td><td>null</td><td>2011-05-26 17:54:00 CDT</td><td>2011-05-26</td><td>&quot;A00270&quot;</td><td>&quot;5500 South Lak…</td><td>[41.791407, -87.598074]</td></tr><tr><td>&quot;Man reported l…</td><td>&quot;Closed&quot;</td><td>&quot;lost property&quot;</td><td>&quot;E. 59th St. an…</td><td>&quot;5/20/11 10:00 …</td><td>null</td><td>2011-05-20 13:57:00 CDT</td><td>2011-05-20</td><td>&quot;A00248&quot;</td><td>&quot;and East 59th …</td><td>[41.787767, -87.598015]</td></tr></tbody></table></div>"
     },
     "execution_count": 190,
     "metadata": {},
     "output_type": "execute_result"
    }
   ],
   "source": [
    "df.filter(pl.col(\"location\").str.contains(\" to \"))"
   ]
  },
  {
   "cell_type": "code",
   "execution_count": 191,
   "id": "5e9e449e2d0393c5",
   "metadata": {
    "collapsed": false,
    "ExecuteTime": {
     "end_time": "2024-02-12T19:21:00.511143Z",
     "start_time": "2024-02-12T19:21:00.491627Z"
    }
   },
   "outputs": [],
   "source": [
    "STREET_CORRECTIONS_FINAL = [s for _, _, s in STREET_CORRECTIONS]\n",
    "STREET_CORRECTIONS_FINAL.extend([\"S. Shore Dr.\", \"Midway Plaisance\"])\n",
    "\n",
    "\n",
    "def parse_between_address(addr: str) -> None:\n",
    "    ordinal_streets = re.findall(r\"E\\. \\d{2}[a-z]{2} \\w+\", addr)\n",
    "    ordinal_streets.sort()\n",
    "    ordinals = list(map(int, re.findall(r\"E\\. (\\d{2})[a-z]{2} \\w+\", addr)))\n",
    "    ordinals.sort()\n",
    "    non_ordinal_streets = [s for s in STREET_CORRECTIONS_FINAL if s in addr]\n",
    "\n",
    "    if len(ordinals) == 2 and ordinals[1] - ordinals[0] != 1:\n",
    "        print(addr)\n",
    "        print(f\"Large ordinals: {ordinals}\")\n",
    "    elif len(ordinals) == 2 and len(non_ordinal_streets) == 1:\n",
    "        if ordinals[1] - ordinals[0] != 1:\n",
    "            print(addr)\n",
    "            print(ordinal_streets, non_ordinal_streets)\n",
    "        return\n",
    "        # print(f\"{ordinals[0]}20 {non_ordinal_streets[0]}\")\n",
    "    elif len(non_ordinal_streets) > 1 and len(ordinals) == 1:\n",
    "        return\n",
    "        # print(f\"{non_ordinal_streets[0]} and {ordinal_streets[0]}\")\n",
    "        # print(f\"{non_ordinal_streets[1]} and {ordinal_streets[0]}\")\n",
    "    else:\n",
    "        print(addr)\n",
    "        print(ordinal_streets, non_ordinal_streets)\n",
    "    print(\"----\")"
   ]
  },
  {
   "cell_type": "code",
   "execution_count": 192,
   "id": "d98b0d04f48ae15b",
   "metadata": {
    "collapsed": false,
    "ExecuteTime": {
     "end_time": "2024-02-12T19:21:00.521788Z",
     "start_time": "2024-02-12T19:21:00.493828Z"
    }
   },
   "outputs": [],
   "source": [
    "between_addr = (\n",
    "    df.filter(pl.col(\"location\").str.contains(\" between \"))\n",
    "    .filter(~pl.col(\"location\").str.contains(\" to \"))[\"location\"]\n",
    "    .to_list()\n",
    ")\n",
    "\n",
    "# Do NOT geocode if it has the word 'to'\n",
    "\n",
    "# between_addr = df.filter(pl.col(\"location\").str.contains(\" to \"))[\"location\"].to_list()"
   ]
  },
  {
   "cell_type": "code",
   "execution_count": 193,
   "id": "2bbb30cd35124fdb",
   "metadata": {
    "collapsed": false,
    "ExecuteTime": {
     "end_time": "2024-02-12T19:21:00.550222Z",
     "start_time": "2024-02-12T19:21:00.501847Z"
    }
   },
   "outputs": [
    {
     "name": "stdout",
     "output_type": "stream",
     "text": [
      "S. Ellis Ave. between E. 55th St. and E. 62nd St.\n",
      "Large ordinals: [55, 62]\n",
      "----\n",
      "E. Hyde Park Blvd. between S. Drexel Ave. and S. Ellis Ave.\n",
      "[] ['S. Drexel Ave.', 'S. Ellis Ave.']\n",
      "----\n",
      "E. Madison Park between S. Kimbark Ave. and S. Kenwood Ave.\n",
      "[] ['S. Kenwood Ave.', 'S. Kimbark Ave.', 'E. Madison Park']\n",
      "----\n",
      "E. Madison Park between S. Woodlawn Ave. and S. Dorchester Ave.\n",
      "[] ['S. Dorchester Ave.', 'E. Madison Park', 'S. Woodlawn Ave.']\n",
      "----\n",
      "S. Cottage Grove Ave. between E. 60th St. and E. 53rd St. (CTA Bus)\n",
      "Large ordinals: [53, 60]\n",
      "----\n",
      "E. Hyde Park Blvd. between S. Cornell Ave. and S. East End Ave.\n",
      "[] ['S. Cornell Ave.', 'S. East End Ave.']\n",
      "----\n",
      "E. Hyde Park Blvd. between S. Greenwood Ave. and S. University Ave.\n",
      "[] ['S. Greenwood Ave.', 'S. University Ave.']\n",
      "----\n",
      "S. Lake Shore Dr. between E. 43rd St. and E. 46th St.\n",
      "Large ordinals: [43, 46]\n",
      "----\n",
      "E. Hyde Park Blvd. between S. Greenwood Ave. and S. University Ave.\n",
      "[] ['S. Greenwood Ave.', 'S. University Ave.']\n",
      "----\n",
      "E. Hyde Park Blvd. between S. Kenwood Ave. and S. Dorchester Ave.\n",
      "[] ['S. Dorchester Ave.', 'S. Kenwood Ave.']\n",
      "----\n",
      "Berkeley between E. 44th St. and E. 45th St. (Alley)\n",
      "['E. 44th St', 'E. 45th St'] []\n",
      "----\n",
      "E. Madison Park between S. Woodlawn Ave. and S. Dorchester Ave.\n",
      "[] ['S. Dorchester Ave.', 'E. Madison Park', 'S. Woodlawn Ave.']\n",
      "----\n",
      "E. Hyde Park Blvd. between S. Ellis Ave. and S. Greenwood Ave.\n",
      "[] ['S. Ellis Ave.', 'S. Greenwood Ave.']\n",
      "----\n",
      "E. Hyde Park Blvd. between S. Woodlawn Ave. and S. Kimbark Ave.\n",
      "[] ['S. Kimbark Ave.', 'S. Woodlawn Ave.']\n",
      "----\n",
      "E. Hyde Park Blvd. between S. Dorchester Ave. and S. Blackstone Ave.\n",
      "[] ['S. Blackstone Ave.', 'S. Dorchester Ave.']\n",
      "----\n",
      "E. Hyde Park Blvd. between S. Dorchester Ave. and S. Blackstone Ave.\n",
      "[] ['S. Blackstone Ave.', 'S. Dorchester Ave.']\n",
      "----\n",
      "Park Pl. between S. Blackstone Ave. and S. Harper Ave.\n",
      "[] ['S. Blackstone Ave.', 'S. Harper Ave.']\n",
      "----\n",
      "E. Madison Park between S. Woodlawn Ave. and S. Dorchester Ave.\n",
      "[] ['S. Dorchester Ave.', 'E. Madison Park', 'S. Woodlawn Ave.']\n",
      "----\n",
      "E. Madison Park between S. Woodlawn Ave. and S. Dorchester Ave.\n",
      "[] ['S. Dorchester Ave.', 'E. Madison Park', 'S. Woodlawn Ave.']\n",
      "----\n",
      "E. Hyde Park Blvd. between S. Woodlawn Ave. and S. Kimbark Ave.\n",
      "[] ['S. Kimbark Ave.', 'S. Woodlawn Ave.']\n",
      "----\n",
      "Berkeley between E. 52nd St. and E. 53rd St.\n",
      "['E. 52nd St', 'E. 53rd St'] []\n",
      "----\n",
      "E. Hyde Park Blvd. between S. Kimbark Ave. and S. Kenwood Ave.\n",
      "[] ['S. Kenwood Ave.', 'S. Kimbark Ave.']\n",
      "----\n",
      "E. Hyde Park Blvd. between S. Greenwood Ave. and S. University Ave.\n",
      "[] ['S. Greenwood Ave.', 'S. University Ave.']\n",
      "----\n",
      "E. Hyde Park Blvd. between S. Kenwood Ave. and S. Dorchester Ave.\n",
      "[] ['S. Dorchester Ave.', 'S. Kenwood Ave.']\n",
      "----\n",
      "E. Hyde Park Blvd. between S. Woodlawn Ave. and S. Kimbark Ave.\n",
      "[] ['S. Kimbark Ave.', 'S. Woodlawn Ave.']\n",
      "----\n",
      "E. Hyde Park Blvd. between S. Kenwood Ave. and S. Dorchester Ave.\n",
      "[] ['S. Dorchester Ave.', 'S. Kenwood Ave.']\n",
      "----\n",
      "Park Pl. between S. Kenwood Ave. and S. Dorchester Ave.\n",
      "[] ['S. Dorchester Ave.', 'S. Kenwood Ave.']\n",
      "----\n",
      "S. Dorchester Ave. between E. 51st St. and E. 53rd St.\n",
      "Large ordinals: [51, 53]\n",
      "----\n",
      "E. Hyde Park Blvd. between S. Greenwood Ave. and S. University Ave.\n",
      "[] ['S. Greenwood Ave.', 'S. University Ave.']\n",
      "----\n",
      "E. Hyde Park Blvd. between S. Kimbark Ave. and S. Kenwood Ave.\n",
      "[] ['S. Kenwood Ave.', 'S. Kimbark Ave.']\n",
      "----\n",
      "E. Hyde Park Blvd. between S. Kimbark Ave. and S. Kenwood Ave.\n",
      "[] ['S. Kenwood Ave.', 'S. Kimbark Ave.']\n",
      "----\n",
      "E. Madison Park between S. Woodlawn Ave. and S. Dorchester Ave.\n",
      "[] ['S. Dorchester Ave.', 'E. Madison Park', 'S. Woodlawn Ave.']\n",
      "----\n",
      "E. 54th St. between Cottage and S. Drexel Ave.\n",
      "['E. 54th St'] ['S. Drexel Ave.']\n",
      "----\n",
      "Park Pl. between S. Blackstone Ave. and S. Harper Ave.\n",
      "[] ['S. Blackstone Ave.', 'S. Harper Ave.']\n",
      "----\n",
      "E. Hyde Park Blvd. between S. University Ave. and S. Woodlawn Ave.\n",
      "[] ['S. University Ave.', 'S. Woodlawn Ave.']\n",
      "----\n",
      "E. Hyde Park Blvd. between S. Greenwood Ave. and S. University Ave.\n",
      "[] ['S. Greenwood Ave.', 'S. University Ave.']\n",
      "----\n",
      "E. Madison Park between S. Kenwood Ave. and S. Dorchester Ave.\n",
      "[] ['S. Dorchester Ave.', 'S. Kenwood Ave.', 'E. Madison Park']\n",
      "----\n",
      "S. Ellis Ave. between E. 58th St. and E. 55th St.\n",
      "Large ordinals: [55, 58]\n",
      "----\n",
      "E. Madison Park between S. Kenwood Ave. and S. Dorchester Ave.\n",
      "[] ['S. Dorchester Ave.', 'S. Kenwood Ave.', 'E. Madison Park']\n",
      "----\n",
      "S. Harper Ave. between S. Harper Ave. and S. Lake Park Ave.\n",
      "[] ['S. Harper Ave.', 'S. Lake Park Ave.']\n",
      "----\n",
      "E. Hyde Park Blvd. between S. Woodlawn Ave. and S. Kimbark Ave.\n",
      "[] ['S. Kimbark Ave.', 'S. Woodlawn Ave.']\n",
      "----\n",
      "E. Madison Park between S. Kimbark Ave. and S. Kenwood Ave.\n",
      "[] ['S. Kenwood Ave.', 'S. Kimbark Ave.', 'E. Madison Park']\n",
      "----\n",
      "E. Hyde Park Blvd. between S. Ingleside Ave. and S. Ellis Ave.\n",
      "[] ['S. Ellis Ave.', 'S. Ingleside Ave.']\n",
      "----\n",
      "E. Hyde Park Blvd. between S. Kenwood Ave. and S. Dorchester Ave.\n",
      "[] ['S. Dorchester Ave.', 'S. Kenwood Ave.']\n",
      "----\n",
      "E. Madison Park between S. Kimbark Ave. and S. Kenwood Ave.\n",
      "[] ['S. Kenwood Ave.', 'S. Kimbark Ave.', 'E. Madison Park']\n",
      "----\n",
      "Rochdale between S. Dorchester Ave. and S. Blackstone Ave.\n",
      "[] ['S. Blackstone Ave.', 'S. Dorchester Ave.']\n",
      "----\n",
      "Midway Plaisance between S. Kenwood Ave. and S. Dorchester Ave.\n",
      "[] ['S. Dorchester Ave.', 'S. Kenwood Ave.', 'Midway Plaisance']\n",
      "----\n",
      "E. Hyde Park Blvd. between S. Woodlawn Ave. and S. Kimbark Ave.\n",
      "[] ['S. Kimbark Ave.', 'S. Woodlawn Ave.']\n",
      "----\n",
      "S. Greenwood Ave. between E. 54th St. and 55\n",
      "['E. 54th St'] ['S. Greenwood Ave.']\n",
      "----\n",
      "E. 60th St. between Metra tracks and S. Stony Island Ave.\n",
      "['E. 60th St'] ['S. Stony Island Ave.']\n",
      "----\n",
      "E. Hyde Park Blvd. between S. Greenwood Ave. and S. University Ave.\n",
      "[] ['S. Greenwood Ave.', 'S. University Ave.']\n",
      "----\n",
      "E. 60th St. between Metra and S. Stony Island Ave.\n",
      "['E. 60th St'] ['S. Stony Island Ave.']\n",
      "----\n",
      "E. 60th St. between Metra and S. Stony Island Ave.\n",
      "['E. 60th St'] ['S. Stony Island Ave.']\n",
      "----\n",
      "Midway Plaisance between S. Harper Ave. and S. Stony Island Ave.\n",
      "[] ['S. Harper Ave.', 'S. Stony Island Ave.', 'Midway Plaisance']\n",
      "----\n",
      "S. Stony Island Ave. between E. 57th St. and E. 59th St.\n",
      "Large ordinals: [57, 59]\n",
      "----\n",
      "E. Madison Park between S. Kimbark Ave. and S. Kenwood Ave.\n",
      "[] ['S. Kenwood Ave.', 'S. Kimbark Ave.', 'E. Madison Park']\n",
      "----\n",
      "E. Hyde Park Blvd. between S. Woodlawn Ave. and S. Kimbark Ave.\n",
      "[] ['S. Kimbark Ave.', 'S. Woodlawn Ave.']\n",
      "----\n",
      "E. Hyde Park Blvd. between S. Greenwood Ave. and S. University Ave.\n",
      "[] ['S. Greenwood Ave.', 'S. University Ave.']\n",
      "----\n",
      "CTA Bus between E. 55th St. and Halsted and E. 55th St. and S. Ellis Ave.\n",
      "Large ordinals: [55, 55]\n",
      "----\n",
      "Midway Plaisance between S. University Ave. and S. Woodlawn Ave.\n",
      "[] ['S. University Ave.', 'S. Woodlawn Ave.', 'Midway Plaisance']\n",
      "----\n",
      "E. Hyde Park Blvd. between S. Woodlawn Ave. and S. Kimbark Ave.\n",
      "[] ['S. Kimbark Ave.', 'S. Woodlawn Ave.']\n",
      "----\n",
      "Midway Plaisance between S. Cottage Grove Ave. and S. Maryland Ave.\n",
      "[] ['S. Cottage Grove Ave.', 'S. Maryland Ave.', 'Midway Plaisance']\n",
      "----\n",
      "E. Hyde Park Blvd. between S. Woodlawn Ave. and S. Kimbark Ave.\n",
      "[] ['S. Kimbark Ave.', 'S. Woodlawn Ave.']\n",
      "----\n",
      "E. Hyde Park Blvd. between S. Blackstone Ave. and S. Harper Ave.\n",
      "[] ['S. Blackstone Ave.', 'S. Harper Ave.']\n",
      "----\n",
      "E. Hyde Park Blvd. between S. Kenwood Ave. and S. Dorchester Ave.\n",
      "[] ['S. Dorchester Ave.', 'S. Kenwood Ave.']\n",
      "----\n",
      "E. Hyde Park Blvd. between S. Kimbark Ave. and S. Kenwood Ave.\n",
      "[] ['S. Kenwood Ave.', 'S. Kimbark Ave.']\n",
      "----\n",
      "E. Hyde Park Blvd. between S. Kimbark Ave. and S. Kenwood Ave.\n",
      "[] ['S. Kenwood Ave.', 'S. Kimbark Ave.']\n",
      "----\n",
      "S. Kimbark Ave. between 5th and E. 56th St.\n",
      "['E. 56th St'] ['S. Kimbark Ave.']\n",
      "----\n",
      "Midway Plaisance between S. Kenwood Ave. and S. Dorchester Ave.\n",
      "[] ['S. Dorchester Ave.', 'S. Kenwood Ave.', 'Midway Plaisance']\n",
      "----\n",
      "Midway Plaisance between S. Drexel Ave. and S. Ellis Ave.\n",
      "[] ['S. Drexel Ave.', 'S. Ellis Ave.', 'Midway Plaisance']\n",
      "----\n",
      "E. Hyde Park Blvd. between S. Kimbark Ave. and S. Kenwood Ave.\n",
      "[] ['S. Kenwood Ave.', 'S. Kimbark Ave.']\n",
      "----\n",
      "Payne Dr. between E. 57th St. and E. 58th St.\n",
      "['E. 57th St', 'E. 58th St'] []\n",
      "----\n",
      "E. Hyde Park Blvd. between S. Harper Ave. and S. Lake Park Ave.\n",
      "[] ['S. Harper Ave.', 'S. Lake Park Ave.']\n",
      "----\n",
      "E. Hyde Park Blvd. between S. Woodlawn Ave. and S. Kimbark Ave.\n",
      "[] ['S. Kimbark Ave.', 'S. Woodlawn Ave.']\n",
      "----\n",
      "Midway Plaisance between S. Ellis Ave. and S. Greenwood Ave.\n",
      "[] ['S. Ellis Ave.', 'S. Greenwood Ave.', 'Midway Plaisance']\n",
      "----\n",
      "Midway Plaisance between S. Dorchester Ave. and S. Blackstone Ave.\n",
      "[] ['S. Blackstone Ave.', 'S. Dorchester Ave.', 'Midway Plaisance']\n",
      "----\n",
      "E. Hyde Park Blvd. between S. Dorchester Ave. and S. Blackstone Ave.\n",
      "[] ['S. Blackstone Ave.', 'S. Dorchester Ave.']\n",
      "----\n",
      "E. Madison Park between S. Kenwood Ave. and S. Dorchester Ave.\n",
      "[] ['S. Dorchester Ave.', 'S. Kenwood Ave.', 'E. Madison Park']\n",
      "----\n",
      "E. 60th St. between Payne and S. Cottage Grove Ave.\n",
      "['E. 60th St'] ['S. Cottage Grove Ave.']\n",
      "----\n",
      "E. Madison Park between S. Kimbark Ave. and S. Kenwood Ave.\n",
      "[] ['S. Kenwood Ave.', 'S. Kimbark Ave.', 'E. Madison Park']\n",
      "----\n",
      "E. Madison Park between S. Kenwood Ave. and S. Dorchester Ave.\n",
      "[] ['S. Dorchester Ave.', 'S. Kenwood Ave.', 'E. Madison Park']\n",
      "----\n",
      "Midway Plaisance between S. Cottage Grove Ave. and S. Maryland Ave.\n",
      "[] ['S. Cottage Grove Ave.', 'S. Maryland Ave.', 'Midway Plaisance']\n",
      "----\n",
      "E. Hyde Park Blvd. between S. Kimbark Ave. and S. Kenwood Ave.\n",
      "[] ['S. Kenwood Ave.', 'S. Kimbark Ave.']\n",
      "----\n",
      "Midway Plaisance between S. Drexel Ave. and S. Ellis Ave.\n",
      "[] ['S. Drexel Ave.', 'S. Ellis Ave.', 'Midway Plaisance']\n",
      "----\n",
      "Midway Plaisance between S. University Ave. and S. Woodlawn Ave.\n",
      "[] ['S. University Ave.', 'S. Woodlawn Ave.', 'Midway Plaisance']\n",
      "----\n",
      "Midway Plaisance between S. Drexel Ave. and S. Ellis Ave.\n",
      "[] ['S. Drexel Ave.', 'S. Ellis Ave.', 'Midway Plaisance']\n",
      "----\n",
      "Evans between E. 62nd St. and E. 63rd St.\n",
      "['E. 62nd St', 'E. 63rd St'] []\n",
      "----\n",
      "Midway Plaisance between S. Greenwood Ave. and S. University Ave.\n",
      "[] ['S. Greenwood Ave.', 'S. University Ave.', 'Midway Plaisance']\n",
      "----\n",
      "E. Hyde Park Blvd. between S. Dorchester Ave. and S. Blackstone Ave.\n",
      "[] ['S. Blackstone Ave.', 'S. Dorchester Ave.']\n",
      "----\n",
      "Midway Plaisance between S. Cottage Grove Ave. and S. Drexel Ave.\n",
      "[] ['S. Cottage Grove Ave.', 'S. Drexel Ave.', 'Midway Plaisance']\n",
      "----\n",
      "E. Hyde Park Blvd. between S. Harper Ave. and S. Lake Park Ave.\n",
      "[] ['S. Harper Ave.', 'S. Lake Park Ave.']\n",
      "----\n",
      "E. Hyde Park Blvd. between S. Ellis Ave. and S. Greenwood Ave.\n",
      "[] ['S. Ellis Ave.', 'S. Greenwood Ave.']\n",
      "----\n",
      "Out of Area - Payne Dr. between E. 58th St. and E. 59th St.\n",
      "['E. 58th St', 'E. 59th St'] []\n",
      "----\n",
      "E. Hyde Park Blvd. between S. Greenwood Ave. and S. University Ave.\n",
      "[] ['S. Greenwood Ave.', 'S. University Ave.']\n",
      "----\n"
     ]
    }
   ],
   "source": [
    "for i in range(len(between_addr)):\n",
    "    parse_between_address(between_addr[i])"
   ]
  },
  {
   "cell_type": "code",
   "execution_count": 193,
   "id": "ee95450e38e3e81e",
   "metadata": {
    "collapsed": false,
    "ExecuteTime": {
     "end_time": "2024-02-12T19:21:00.564870Z",
     "start_time": "2024-02-12T19:21:00.505225Z"
    }
   },
   "outputs": [],
   "source": []
  }
 ],
 "metadata": {
  "kernelspec": {
   "display_name": "Python 3",
   "language": "python",
   "name": "python3"
  },
  "language_info": {
   "codemirror_mode": {
    "name": "ipython",
    "version": 2
   },
   "file_extension": ".py",
   "mimetype": "text/x-python",
   "name": "python",
   "nbconvert_exporter": "python",
   "pygments_lexer": "ipython2",
   "version": "2.7.6"
  }
 },
 "nbformat": 4,
 "nbformat_minor": 5
}
