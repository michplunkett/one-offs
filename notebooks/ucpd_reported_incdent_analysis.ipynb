{
 "cells": [
  {
   "cell_type": "code",
   "execution_count": 5,
   "id": "initial_id",
   "metadata": {
    "collapsed": true,
    "ExecuteTime": {
     "end_time": "2023-09-22T19:08:37.164212Z",
     "start_time": "2023-09-22T19:08:37.158896Z"
    }
   },
   "outputs": [],
   "source": [
    "import polars as pl"
   ]
  },
  {
   "cell_type": "code",
   "execution_count": 6,
   "outputs": [],
   "source": [
    "# Import incidents and format columns\n",
    "df = pl.read_csv(\n",
    "    \"./data/incident_dump.csv\",\n",
    ").with_columns(\n",
    "    pl.col(\"reported\")\n",
    "    .str.strptime(pl.Datetime, format=\"%Y-%m-%dT%H:%M:%S%z\")\n",
    "    .dt.convert_time_zone(\"America/Chicago\"),\n",
    "    pl.col(\"reported_date\").str.to_date(\"%Y-%m-%d\"),\n",
    "    pl.col(\"validated_location\").str.split(\",\").cast(pl.List(pl.Float64)),\n",
    "    pl.col(\"incident\")\n",
    "    .str.replace(\"Information / |/ Information \", \"\")\n",
    "    .str.replace(\"  \", \" \")\n",
    "    .str.replace(\" \\(\", \" / \")\n",
    "    .str.replace(\"\\(\", \"\")\n",
    "    .str.replace(\"^ \", \"\")\n",
    "    .str.replace(\"\\)\", \"\")\n",
    "    .str.replace(\"Inforation\", \"Information\")\n",
    "    .str.replace(\"Infformation\", \"Information\")\n",
    "    .str.replace(\"Hit & Run\", \"Hit and Run\"),\n",
    ")"
   ],
   "metadata": {
    "collapsed": false,
    "ExecuteTime": {
     "end_time": "2023-09-22T19:08:37.176246Z",
     "start_time": "2023-09-22T19:08:37.167562Z"
    }
   },
   "id": "14f7bbdba7444ce8"
  },
  {
   "cell_type": "code",
   "execution_count": 7,
   "outputs": [
    {
     "data": {
      "text/plain": "shape: (143, 2)\n┌───────────────────────────────────┬───────┐\n│ incident                          ┆ count │\n│ ---                               ┆ ---   │\n│ str                               ┆ u32   │\n╞═══════════════════════════════════╪═══════╡\n│ Theft                             ┆ 232   │\n│ Found Property                    ┆ 93    │\n│ Criminal Damage to Vehicle        ┆ 79    │\n│ Information                       ┆ 74    │\n│ …                                 ┆ …     │\n│ Information / Robbery             ┆ 1     │\n│ Aggravated Discharge of a Firear… ┆ 1     │\n│ Traffic Violations / Obstruct Po… ┆ 1     │\n│ Aggravated Battery / Robbery      ┆ 1     │\n└───────────────────────────────────┴───────┘",
      "text/html": "<div><style>\n.dataframe > thead > tr > th,\n.dataframe > tbody > tr > td {\n  text-align: right;\n}\n</style>\n<small>shape: (143, 2)</small><table border=\"1\" class=\"dataframe\"><thead><tr><th>incident</th><th>count</th></tr><tr><td>str</td><td>u32</td></tr></thead><tbody><tr><td>&quot;Theft&quot;</td><td>232</td></tr><tr><td>&quot;Found Property…</td><td>93</td></tr><tr><td>&quot;Criminal Damag…</td><td>79</td></tr><tr><td>&quot;Information&quot;</td><td>74</td></tr><tr><td>&quot;Battery&quot;</td><td>66</td></tr><tr><td>&quot;Motor Vehicle …</td><td>54</td></tr><tr><td>&quot;Armed Robbery&quot;</td><td>51</td></tr><tr><td>&quot;Medical Call&quot;</td><td>39</td></tr><tr><td>&quot;Theft from Per…</td><td>36</td></tr><tr><td>&quot;Lost Property&quot;</td><td>27</td></tr><tr><td>&quot;Mental Health …</td><td>27</td></tr><tr><td>&quot;Criminal Damag…</td><td>25</td></tr><tr><td>&hellip;</td><td>&hellip;</td></tr><tr><td>&quot;Property Damag…</td><td>1</td></tr><tr><td>&quot;Sex Offense&quot;</td><td>1</td></tr><tr><td>&quot;Attempted Thef…</td><td>1</td></tr><tr><td>&quot;Found Person&quot;</td><td>1</td></tr><tr><td>&quot;Aggravated Ass…</td><td>1</td></tr><tr><td>&quot;Motor Vehicle …</td><td>1</td></tr><tr><td>&quot;Attempt Motor …</td><td>1</td></tr><tr><td>&quot;Information / …</td><td>1</td></tr><tr><td>&quot;Information / …</td><td>1</td></tr><tr><td>&quot;Aggravated Dis…</td><td>1</td></tr><tr><td>&quot;Traffic Violat…</td><td>1</td></tr><tr><td>&quot;Aggravated Bat…</td><td>1</td></tr></tbody></table></div>"
     },
     "execution_count": 7,
     "metadata": {},
     "output_type": "execute_result"
    }
   ],
   "source": [
    "df.groupby([\"incident\"]).agg(pl.count()).sort(\"count\", descending=True)"
   ],
   "metadata": {
    "collapsed": false,
    "ExecuteTime": {
     "end_time": "2023-09-22T19:08:37.183648Z",
     "start_time": "2023-09-22T19:08:37.176391Z"
    }
   },
   "id": "15f78416b84388bc"
  },
  {
   "cell_type": "code",
   "execution_count": 9,
   "outputs": [
    {
     "data": {
      "text/plain": "shape: (126, 2)\n┌───────────────────────────────────┬───────┐\n│ incident                          ┆ count │\n│ ---                               ┆ ---   │\n│ str                               ┆ u32   │\n╞═══════════════════════════════════╪═══════╡\n│ Theft                             ┆ 232   │\n│ Criminal Damage to Vehicle        ┆ 79    │\n│ Information                       ┆ 74    │\n│ Battery                           ┆ 66    │\n│ …                                 ┆ …     │\n│ Attempted Armed Robbery           ┆ 1     │\n│ Theft/Recovery of Motor Vehicle   ┆ 1     │\n│ Unlawful Use of a Weapon          ┆ 1     │\n│ Aggravated Battery / Armed Robbe… ┆ 1     │\n└───────────────────────────────────┴───────┘",
      "text/html": "<div><style>\n.dataframe > thead > tr > th,\n.dataframe > tbody > tr > td {\n  text-align: right;\n}\n</style>\n<small>shape: (126, 2)</small><table border=\"1\" class=\"dataframe\"><thead><tr><th>incident</th><th>count</th></tr><tr><td>str</td><td>u32</td></tr></thead><tbody><tr><td>&quot;Theft&quot;</td><td>232</td></tr><tr><td>&quot;Criminal Damag…</td><td>79</td></tr><tr><td>&quot;Information&quot;</td><td>74</td></tr><tr><td>&quot;Battery&quot;</td><td>66</td></tr><tr><td>&quot;Motor Vehicle …</td><td>54</td></tr><tr><td>&quot;Armed Robbery&quot;</td><td>51</td></tr><tr><td>&quot;Theft from Per…</td><td>36</td></tr><tr><td>&quot;Criminal Damag…</td><td>25</td></tr><tr><td>&quot;Theft from Mot…</td><td>22</td></tr><tr><td>&quot;DUI&quot;</td><td>20</td></tr><tr><td>&quot;Found Narcotic…</td><td>18</td></tr><tr><td>&quot;Robbery&quot;</td><td>18</td></tr><tr><td>&hellip;</td><td>&hellip;</td></tr><tr><td>&quot;Traffic Crash …</td><td>1</td></tr><tr><td>&quot;Recovered Moto…</td><td>1</td></tr><tr><td>&quot;Assist Other A…</td><td>1</td></tr><tr><td>&quot;Traffic Crash …</td><td>1</td></tr><tr><td>&quot;Traffic Arrest…</td><td>1</td></tr><tr><td>&quot;Non-criminal D…</td><td>1</td></tr><tr><td>&quot;Theft of Motor…</td><td>1</td></tr><tr><td>&quot;Motor Vehicle …</td><td>1</td></tr><tr><td>&quot;Attempted Arme…</td><td>1</td></tr><tr><td>&quot;Theft/Recovery…</td><td>1</td></tr><tr><td>&quot;Unlawful Use o…</td><td>1</td></tr><tr><td>&quot;Aggravated Bat…</td><td>1</td></tr></tbody></table></div>"
     },
     "execution_count": 9,
     "metadata": {},
     "output_type": "execute_result"
    }
   ],
   "source": [
    "excluded_list = [\n",
    "    \"Medical Call\",\n",
    "    \"Lost Property\",\n",
    "    \"Stalking\",\n",
    "    \"Sexual Assault\",\n",
    "    \"Dating\",\n",
    "    \"Stalking\",\n",
    "    \"Domestic\",\n",
    "    \"Sex\",\n",
    "    \"Found Property\",\n",
    "    \"Mental Health\",\n",
    "    \"Harassment by Electronic Means\",\n",
    "]\n",
    "df = df.filter(~pl.col(\"incident\").str.contains(\"|\".join(excluded_list)))\n",
    "df.groupby([\"incident\"]).agg(pl.count()).sort(\"count\", descending=True)"
   ],
   "metadata": {
    "collapsed": false,
    "ExecuteTime": {
     "end_time": "2023-09-22T19:09:00.943170Z",
     "start_time": "2023-09-22T19:09:00.932798Z"
    }
   },
   "id": "aaa49407d08352ea"
  },
  {
   "cell_type": "code",
   "execution_count": 8,
   "outputs": [],
   "source": [],
   "metadata": {
    "collapsed": false,
    "ExecuteTime": {
     "end_time": "2023-09-22T19:08:37.193058Z",
     "start_time": "2023-09-22T19:08:37.190817Z"
    }
   },
   "id": "b86c6b7a46dbff85"
  }
 ],
 "metadata": {
  "kernelspec": {
   "display_name": "Python 3",
   "language": "python",
   "name": "python3"
  },
  "language_info": {
   "codemirror_mode": {
    "name": "ipython",
    "version": 2
   },
   "file_extension": ".py",
   "mimetype": "text/x-python",
   "name": "python",
   "nbconvert_exporter": "python",
   "pygments_lexer": "ipython2",
   "version": "2.7.6"
  }
 },
 "nbformat": 4,
 "nbformat_minor": 5
}
