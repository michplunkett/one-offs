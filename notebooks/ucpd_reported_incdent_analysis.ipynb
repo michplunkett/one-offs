{
 "cells": [
  {
   "cell_type": "code",
   "execution_count": 20,
   "id": "initial_id",
   "metadata": {
    "collapsed": true,
    "ExecuteTime": {
     "end_time": "2023-10-09T16:34:43.684596Z",
     "start_time": "2023-10-09T16:34:43.677496Z"
    }
   },
   "outputs": [],
   "source": [
    "import polars as pl"
   ]
  },
  {
   "cell_type": "code",
   "execution_count": 21,
   "outputs": [],
   "source": [
    "# Import incidents and format columns\n",
    "df = pl.read_csv(\n",
    "    \"./data/incident_dump.csv\",\n",
    ").with_columns(\n",
    "    pl.col(\"reported\")\n",
    "    .str.strptime(pl.Datetime, format=\"%Y-%m-%dT%H:%M:%S%z\")\n",
    "    .dt.convert_time_zone(\"America/Chicago\"),\n",
    "    pl.col(\"reported_date\").str.to_date(\"%Y-%m-%d\"),\n",
    "    pl.col(\"validated_location\").str.split(\",\").cast(pl.List(pl.Float64)),\n",
    ")"
   ],
   "metadata": {
    "collapsed": false,
    "ExecuteTime": {
     "end_time": "2023-10-09T16:34:43.699441Z",
     "start_time": "2023-10-09T16:34:43.687902Z"
    }
   },
   "id": "14f7bbdba7444ce8"
  },
  {
   "cell_type": "code",
   "execution_count": 22,
   "outputs": [
    {
     "data": {
      "text/plain": "shape: (565, 2)\n┌───────────────────────────────────┬───────┐\n│ incident                          ┆ count │\n│ ---                               ┆ ---   │\n│ str                               ┆ u32   │\n╞═══════════════════════════════════╪═══════╡\n│ Theft                             ┆ 1542  │\n│ Information                       ┆ 879   │\n│ Found Property                    ┆ 757   │\n│ Lost Property                     ┆ 496   │\n│ …                                 ┆ …     │\n│ Suspicious Person                 ┆ 1     │\n│ Injured Person / Damage To Prope… ┆ 1     │\n│ Information / Bomb Threat         ┆ 1     │\n│ Information / Non-Criminal Prope… ┆ 1     │\n└───────────────────────────────────┴───────┘",
      "text/html": "<div><style>\n.dataframe > thead > tr > th,\n.dataframe > tbody > tr > td {\n  text-align: right;\n}\n</style>\n<small>shape: (565, 2)</small><table border=\"1\" class=\"dataframe\"><thead><tr><th>incident</th><th>count</th></tr><tr><td>str</td><td>u32</td></tr></thead><tbody><tr><td>&quot;Theft&quot;</td><td>1542</td></tr><tr><td>&quot;Information&quot;</td><td>879</td></tr><tr><td>&quot;Found Property…</td><td>757</td></tr><tr><td>&quot;Lost Property&quot;</td><td>496</td></tr><tr><td>&quot;Information / …</td><td>418</td></tr><tr><td>&quot;Medical Call&quot;</td><td>365</td></tr><tr><td>&quot;Liquor Law Vio…</td><td>336</td></tr><tr><td>&quot;Battery&quot;</td><td>336</td></tr><tr><td>&quot;Information / …</td><td>318</td></tr><tr><td>&quot;Mental Health …</td><td>291</td></tr><tr><td>&quot;Information / …</td><td>211</td></tr><tr><td>&quot;Information / …</td><td>207</td></tr><tr><td>&hellip;</td><td>&hellip;</td></tr><tr><td>&quot;Information / …</td><td>1</td></tr><tr><td>&quot;Assist Other A…</td><td>1</td></tr><tr><td>&quot;Smoke Alarm&quot;</td><td>1</td></tr><tr><td>&quot;Assist Other A…</td><td>1</td></tr><tr><td>&quot;Order Of Prote…</td><td>1</td></tr><tr><td>&quot;Hate Crime / T…</td><td>1</td></tr><tr><td>&quot;Information / …</td><td>1</td></tr><tr><td>&quot;Information / …</td><td>1</td></tr><tr><td>&quot;Suspicious Per…</td><td>1</td></tr><tr><td>&quot;Injured Person…</td><td>1</td></tr><tr><td>&quot;Information / …</td><td>1</td></tr><tr><td>&quot;Information / …</td><td>1</td></tr></tbody></table></div>"
     },
     "execution_count": 22,
     "metadata": {},
     "output_type": "execute_result"
    }
   ],
   "source": [
    "df.groupby([\"incident\"]).agg(pl.count()).sort(\"count\", descending=True)"
   ],
   "metadata": {
    "collapsed": false,
    "ExecuteTime": {
     "end_time": "2023-10-09T16:34:43.700473Z",
     "start_time": "2023-10-09T16:34:43.696146Z"
    }
   },
   "id": "15f78416b84388bc"
  },
  {
   "cell_type": "code",
   "execution_count": 23,
   "outputs": [
    {
     "data": {
      "text/plain": "shape: (473, 2)\n┌───────────────────────────────────┬───────┐\n│ incident                          ┆ count │\n│ ---                               ┆ ---   │\n│ str                               ┆ u32   │\n╞═══════════════════════════════════╪═══════╡\n│ Theft                             ┆ 1542  │\n│ Information                       ┆ 879   │\n│ Information / Theft               ┆ 418   │\n│ Liquor Law Violation              ┆ 336   │\n│ …                                 ┆ …     │\n│ Information Report / Smell Of Ga… ┆ 1     │\n│ Information Report / Aggravated … ┆ 1     │\n│ Aggravated Assault / Police Offi… ┆ 1     │\n│ Information / Vehicular Carjacki… ┆ 1     │\n└───────────────────────────────────┴───────┘",
      "text/html": "<div><style>\n.dataframe > thead > tr > th,\n.dataframe > tbody > tr > td {\n  text-align: right;\n}\n</style>\n<small>shape: (473, 2)</small><table border=\"1\" class=\"dataframe\"><thead><tr><th>incident</th><th>count</th></tr><tr><td>str</td><td>u32</td></tr></thead><tbody><tr><td>&quot;Theft&quot;</td><td>1542</td></tr><tr><td>&quot;Information&quot;</td><td>879</td></tr><tr><td>&quot;Information / …</td><td>418</td></tr><tr><td>&quot;Liquor Law Vio…</td><td>336</td></tr><tr><td>&quot;Battery&quot;</td><td>336</td></tr><tr><td>&quot;Information / …</td><td>318</td></tr><tr><td>&quot;Information / …</td><td>211</td></tr><tr><td>&quot;Information / …</td><td>207</td></tr><tr><td>&quot;Injured Person…</td><td>186</td></tr><tr><td>&quot;Found Narcotic…</td><td>186</td></tr><tr><td>&quot;Traffic Crash&quot;</td><td>179</td></tr><tr><td>&quot;Criminal Damag…</td><td>167</td></tr><tr><td>&hellip;</td><td>&hellip;</td></tr><tr><td>&quot;DUI / Possessi…</td><td>1</td></tr><tr><td>&quot;Attempted Arme…</td><td>1</td></tr><tr><td>&quot;Traffic Violat…</td><td>1</td></tr><tr><td>&quot;Information / …</td><td>1</td></tr><tr><td>&quot;Harassing Tele…</td><td>1</td></tr><tr><td>&quot;Information / …</td><td>1</td></tr><tr><td>&quot;Aggravated Bat…</td><td>1</td></tr><tr><td>&quot;Information / …</td><td>1</td></tr><tr><td>&quot;Information Re…</td><td>1</td></tr><tr><td>&quot;Information Re…</td><td>1</td></tr><tr><td>&quot;Aggravated Ass…</td><td>1</td></tr><tr><td>&quot;Information / …</td><td>1</td></tr></tbody></table></div>"
     },
     "execution_count": 23,
     "metadata": {},
     "output_type": "execute_result"
    }
   ],
   "source": [
    "excluded_list = [\n",
    "    \"Fondling\",\n",
    "    \"Medical Call\",\n",
    "    \"Luring a Minor\",\n",
    "    \"Lost Property\",\n",
    "    \"Stalking\",\n",
    "    \"Sexual Assault\",\n",
    "    \"Dating\",\n",
    "    \"Stalking\",\n",
    "    \"Domestic\",\n",
    "    \"Sex\",\n",
    "    \"Found Property\",\n",
    "    \"Mental Health\",\n",
    "    \"Harassment by Electronic Means\",\n",
    "    \"Well-Being\",\n",
    "    \"Threatening Phone Call\",\n",
    "    \"Medical Transport\",\n",
    "    \"Warrant\",\n",
    "    \"Lost Wallet\",\n",
    "    \"Fire Alarm\",\n",
    "    \"Chemical Spill\",\n",
    "    \"Suspicious Mail\",\n",
    "    \"Eavesdropping\",\n",
    "]\n",
    "df = df.filter(~pl.col(\"incident\").str.contains(\"|\".join(excluded_list)))\n",
    "df.groupby([\"incident\"]).agg(pl.count()).sort(\"count\", descending=True)"
   ],
   "metadata": {
    "collapsed": false,
    "ExecuteTime": {
     "end_time": "2023-10-09T16:34:43.712173Z",
     "start_time": "2023-10-09T16:34:43.701749Z"
    }
   },
   "id": "aaa49407d08352ea"
  },
  {
   "cell_type": "code",
   "execution_count": 24,
   "outputs": [],
   "source": [
    "def list_to_parsed_set(unparsed_list):\n",
    "    parsed_set = set()\n",
    "    for element in unparsed_list:\n",
    "        if \"/\" in element:\n",
    "            for p in element.split(\"/\"):\n",
    "                fmt_element = p.strip()\n",
    "                if p:\n",
    "                    parsed_set.add(fmt_element.title())\n",
    "        else:\n",
    "            fmt_element = element.strip()\n",
    "            parsed_set.add(fmt_element.title())\n",
    "    return parsed_set"
   ],
   "metadata": {
    "collapsed": false,
    "ExecuteTime": {
     "end_time": "2023-10-09T16:34:43.712742Z",
     "start_time": "2023-10-09T16:34:43.710612Z"
    }
   },
   "id": "3237c7e6914efbd"
  },
  {
   "cell_type": "code",
   "execution_count": 25,
   "outputs": [
    {
     "name": "stdout",
     "output_type": "stream",
     "text": [
      "278\n"
     ]
    }
   ],
   "source": [
    "print(len(list_to_parsed_set(df[\"incident\"].to_list())))"
   ],
   "metadata": {
    "collapsed": false,
    "ExecuteTime": {
     "end_time": "2023-10-09T16:34:43.719093Z",
     "start_time": "2023-10-09T16:34:43.713088Z"
    }
   },
   "id": "b86c6b7a46dbff85"
  },
  {
   "cell_type": "code",
   "execution_count": 25,
   "outputs": [],
   "source": [],
   "metadata": {
    "collapsed": false,
    "ExecuteTime": {
     "end_time": "2023-10-09T16:34:43.729980Z",
     "start_time": "2023-10-09T16:34:43.718195Z"
    }
   },
   "id": "fc4e2c3d9952718a"
  }
 ],
 "metadata": {
  "kernelspec": {
   "display_name": "Python 3",
   "language": "python",
   "name": "python3"
  },
  "language_info": {
   "codemirror_mode": {
    "name": "ipython",
    "version": 2
   },
   "file_extension": ".py",
   "mimetype": "text/x-python",
   "name": "python",
   "nbconvert_exporter": "python",
   "pygments_lexer": "ipython2",
   "version": "2.7.6"
  }
 },
 "nbformat": 4,
 "nbformat_minor": 5
}
