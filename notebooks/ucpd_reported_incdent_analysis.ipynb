{
  "cells": [
    {
      "cell_type": "code",
      "execution_count": 35,
      "id": "initial_id",
      "metadata": {
        "ExecuteTime": {
          "end_time": "2024-02-12T07:36:38.525265Z",
          "start_time": "2024-02-12T07:36:38.499392Z"
        },
        "collapsed": true
      },
      "outputs": [],
      "source": [
        "import re\n",
        "from typing import Tuple\n",
        "\n",
        "import polars as pl"
      ]
    },
    {
      "cell_type": "code",
      "execution_count": 36,
      "id": "2f5e14b3ee78bcc8",
      "metadata": {
        "ExecuteTime": {
          "end_time": "2024-02-12T07:36:38.542171Z",
          "start_time": "2024-02-12T07:36:38.509530Z"
        },
        "collapsed": false
      },
      "outputs": [],
      "source": [
        "ORDINAL_STREET_REGEX = r\"E\\. \\d{2}[a-z]{2} St.\"\n",
        "\n",
        "\n",
        "def list_to_parsed_set(unparsed_list: [str]):\n",
        "    unparsed_list.sort()\n",
        "    parsed_set = set()\n",
        "    for element in unparsed_list:\n",
        "        if \"/\" in element:\n",
        "            for p in element.split(r\" / \"):\n",
        "                fmt_element = p.strip().lower()\n",
        "                if p:\n",
        "                    parsed_set.add(fmt_element)\n",
        "        else:\n",
        "            fmt_element = element.strip().lower()\n",
        "            parsed_set.add(fmt_element)\n",
        "    return parsed_set\n",
        "\n",
        "\n",
        "def create_street_tuple(street: str, blvd: bool = False) -> Tuple[str, str, str]:\n",
        "    street_type = \"Ave.\" if not blvd else \"Blvd.\"\n",
        "\n",
        "    return street, f\"S. {street}\", f\"S. {street} {street_type}\"\n",
        "\n",
        "\n",
        "STREET_CORRECTIONS = [\n",
        "    create_street_tuple(\"Blackstone\"),\n",
        "    create_street_tuple(\"Cottage Grove\"),\n",
        "    create_street_tuple(\"Cornell\"),\n",
        "    create_street_tuple(\"Dorchester\"),\n",
        "    create_street_tuple(\"Drexel\"),\n",
        "    create_street_tuple(\"East View Park\"),\n",
        "    create_street_tuple(\"East End\"),\n",
        "    create_street_tuple(\"Ellis\"),\n",
        "    create_street_tuple(\"Everett\"),\n",
        "    create_street_tuple(\"Greenwood\"),\n",
        "    create_street_tuple(\"Harper\"),\n",
        "    create_street_tuple(\"Hyde Park\", blvd=True),\n",
        "    create_street_tuple(\"Ingleside\"),\n",
        "    create_street_tuple(\"Kenwood\"),\n",
        "    create_street_tuple(\"Kimbark\"),\n",
        "    create_street_tuple(\"Lake Park\"),\n",
        "    (\"Lake Shore\", \"S. Lake Shore\", \"S. Lake Shore Dr.\"),\n",
        "    (\"Madison Park\", \"E. Madison Park\", \"E. Madison Park\"),\n",
        "    create_street_tuple(\"Maryland\"),\n",
        "    create_street_tuple(\"Oakenwald\"),\n",
        "    create_street_tuple(\"Oakwood\", blvd=True),\n",
        "    (\"Ridgewood\", \"S. Ridgewood\", \"S. Ridgewood Ct.\"),\n",
        "    create_street_tuple(\"Stony Island\"),\n",
        "    create_street_tuple(\"University\"),\n",
        "    create_street_tuple(\"Woodlawn\"),\n",
        "]"
      ]
    },
    {
      "cell_type": "code",
      "execution_count": 37,
      "id": "14f7bbdba7444ce8",
      "metadata": {
        "ExecuteTime": {
          "end_time": "2024-02-12T07:36:38.543185Z",
          "start_time": "2024-02-12T07:36:38.518992Z"
        },
        "collapsed": false
      },
      "outputs": [],
      "source": [
        "# Import incidents and format columns\n",
        "df = pl.read_csv(\n",
        "    \"./data/incident_dump.csv\",\n",
        ").with_columns(\n",
        "    pl.col(\"reported\")\n",
        "    .str.strptime(pl.Datetime, format=\"%Y-%m-%dT%H:%M:%S%z\")\n",
        "    .dt.convert_time_zone(\"America/Chicago\"),\n",
        "    pl.col(\"reported_date\").str.to_date(\"%Y-%m-%d\"),\n",
        "    pl.col(\"validated_location\").str.split(\",\").cast(pl.List(pl.Float64)),\n",
        "    pl.col(\"incident\").str.to_lowercase(),\n",
        ")"
      ]
    },
    {
      "cell_type": "code",
      "execution_count": 38,
      "id": "15f78416b84388bc",
      "metadata": {
        "ExecuteTime": {
          "end_time": "2024-02-12T07:36:38.544080Z",
          "start_time": "2024-02-12T07:36:38.528007Z"
        },
        "collapsed": false
      },
      "outputs": [
        {
          "data": {
            "text/html": "<div><style>\n.dataframe > thead > tr > th,\n.dataframe > tbody > tr > td {\n  text-align: right;\n}\n</style>\n<small>shape: (679, 2)</small><table border=\"1\" class=\"dataframe\"><thead><tr><th>incident</th><th>count</th></tr><tr><td>str</td><td>u32</td></tr></thead><tbody><tr><td>&quot;theft&quot;</td><td>2972</td></tr><tr><td>&quot;information&quot;</td><td>1380</td></tr><tr><td>&quot;found property\u2026</td><td>920</td></tr><tr><td>&quot;lost property&quot;</td><td>838</td></tr><tr><td>&quot;traffic violat\u2026</td><td>534</td></tr><tr><td>&quot;information / \u2026</td><td>509</td></tr><tr><td>&quot;liquor law vio\u2026</td><td>443</td></tr><tr><td>&quot;medical call&quot;</td><td>431</td></tr><tr><td>&quot;battery&quot;</td><td>423</td></tr><tr><td>&quot;information / \u2026</td><td>357</td></tr><tr><td>&quot;mental health \u2026</td><td>330</td></tr><tr><td>&quot;injured person\u2026</td><td>319</td></tr><tr><td>&hellip;</td><td>&hellip;</td></tr><tr><td>&quot;criminal tresp\u2026</td><td>1</td></tr><tr><td>&quot;assist other a\u2026</td><td>1</td></tr><tr><td>&quot;assist other a\u2026</td><td>1</td></tr><tr><td>&quot;domestic distu\u2026</td><td>1</td></tr><tr><td>&quot;information / \u2026</td><td>1</td></tr><tr><td>&quot;aggravated bat\u2026</td><td>1</td></tr><tr><td>&quot;information / \u2026</td><td>1</td></tr><tr><td>&quot;criminal damag\u2026</td><td>1</td></tr><tr><td>&quot;intimidation /\u2026</td><td>1</td></tr><tr><td>&quot;non-criminal d\u2026</td><td>1</td></tr><tr><td>&quot;deceptive prac\u2026</td><td>1</td></tr><tr><td>&quot;domestic batte\u2026</td><td>1</td></tr></tbody></table></div>",
            "text/plain": "shape: (679, 2)\n\u250c\u2500\u2500\u2500\u2500\u2500\u2500\u2500\u2500\u2500\u2500\u2500\u2500\u2500\u2500\u2500\u2500\u2500\u2500\u2500\u2500\u2500\u2500\u2500\u2500\u2500\u2500\u2500\u2500\u2500\u2500\u2500\u2500\u2500\u2500\u2500\u252c\u2500\u2500\u2500\u2500\u2500\u2500\u2500\u2510\n\u2502 incident                          \u2506 count \u2502\n\u2502 ---                               \u2506 ---   \u2502\n\u2502 str                               \u2506 u32   \u2502\n\u255e\u2550\u2550\u2550\u2550\u2550\u2550\u2550\u2550\u2550\u2550\u2550\u2550\u2550\u2550\u2550\u2550\u2550\u2550\u2550\u2550\u2550\u2550\u2550\u2550\u2550\u2550\u2550\u2550\u2550\u2550\u2550\u2550\u2550\u2550\u2550\u256a\u2550\u2550\u2550\u2550\u2550\u2550\u2550\u2561\n\u2502 theft                             \u2506 2972  \u2502\n\u2502 information                       \u2506 1380  \u2502\n\u2502 found property                    \u2506 920   \u2502\n\u2502 lost property                     \u2506 838   \u2502\n\u2502 \u2026                                 \u2506 \u2026     \u2502\n\u2502 intimidation / extortion          \u2506 1     \u2502\n\u2502 non-criminal damage               \u2506 1     \u2502\n\u2502 deceptive practice / financial i\u2026 \u2506 1     \u2502\n\u2502 domestic battery / battery to po\u2026 \u2506 1     \u2502\n\u2514\u2500\u2500\u2500\u2500\u2500\u2500\u2500\u2500\u2500\u2500\u2500\u2500\u2500\u2500\u2500\u2500\u2500\u2500\u2500\u2500\u2500\u2500\u2500\u2500\u2500\u2500\u2500\u2500\u2500\u2500\u2500\u2500\u2500\u2500\u2500\u2534\u2500\u2500\u2500\u2500\u2500\u2500\u2500\u2518"
          },
          "execution_count": 38,
          "metadata": {},
          "output_type": "execute_result"
        }
      ],
      "source": [
        "df.groupby([\"incident\"]).agg(pl.count()).sort(\"count\", descending=True)"
      ]
    },
    {
      "cell_type": "code",
      "execution_count": 39,
      "id": "e67f22a399d54aeb",
      "metadata": {
        "ExecuteTime": {
          "end_time": "2024-02-12T07:36:38.544249Z",
          "start_time": "2024-02-12T07:36:38.539689Z"
        },
        "collapsed": false
      },
      "outputs": [
        {
          "name": "stdout",
          "output_type": "stream",
          "text": [
            "{'damage to personal property', 'vehicle crash', 'motor vehicle theft and recovery', 'weapon recovery', 'assist other agency motor vehicle theft and recovery', 'found wallet', 'traffic collision', 'injured person', 'domestic battery', 'trespass to land', 'safety hazard', 'suspicious person', 'trespass to motor vehicle', 'traffic', 'theft of motor vehicle', 'expired license', 'fraud', 'harassing message', 'possession of controlled substance', 'suspect narcotic', 'minor injury', 'harassment by electronic means', '/ domestic battery', 'burglary', 'hazardous material incident', 'noise complaint', 'unlawful discharge of firearm', 'order of protection notification', 'found narcotic', 'accident report', 'robbery-aggravated', 'suspicious vehicle', 'disorderly conduct', 'sex offense', 'motor vehicle theft', 'bomb threat', 'threatening phone call', 'indecent exposure', 'shot fired', 'attempted aggravated robbery', 'interfering', 'delayed robbery', 'suspicious activity', 'suspicious mail', 'found suspect marijuana', 'unlawful possession of ammunition', 'simple battery', 'reckless conduct', 'prohibited zone', 'non-criminal incident', 'mental health call', 'automobile', 'robbery-strong arm', 'purse snatch', 'other dangerous weapon', 'traffic arrest', 'damage to uc vehicle', 'vehicular carjacking', 'recovered motor vehicle', 'hit and run traffic crash', 'harassing telephone call', 'ill person', 'weapon arrest', 'aggravated battery of a protected employee', 'person down', 'vehicle fire', 'possession of narcotic', 'narcotic delivery', 'cyberstalking', 'intimidation', 'property damage only', 'criminal damage to vehicle', 'fleeing or attempting to elude police', 'interference with police officer', 'non-criminal property damage', 'chemical spill', 'minor personal injury', 'other deadly weapon', 'elevator entrapment', 'telephone scam', 'hit and run', 'traffic crash report', 'theft of service', 'public indecency', 'pedestrian', 'smoke alarm', 'attempted armed robbery', 'theft of motorcycle', 'theft from person', 'attempted theft from person', 'motor vehicle recovery', 'fire alarm', 'traffic crash hit and run', 'resisting arrest', 'suspicious phone call', 'obscene phone call', 'eavesdropping', 'other offense', 'theft and recovery of motor vehicle', 'delayed report', 'sex offender', 'threat', 'dui', 'warrant arrest', 'disturbance', 'drug law violation', 'stuck elevator', 'impersonation', 'non-criminal report', 'non-criminal offense', 'accidental', 'other crime against person', 'possession of narcotic with intent to deliver', 'unlawful discharge of a weapon', 'illness', 'false police report', 'cutting instrument', 'criminal trespass', 'non-criminal fire', 'resisting police', 'found drug paraphernalia', 'mislaid property', 'domestic issue', 'strong armed', 'information report', 'cyber scam', 'irregular condition', 'arson', 'lost', 'vandalism', 'other non-criminal property', 'domestic', 'illegal consumption by minor', 'recovered stolen motor vehicle', 'possession of stolen motor vehicle', 'sick person', 'deliver narcotic', 'attempted theft of motor vehicle', 'fraudulent check', 'theft from motor vehicle', 'harassment by telephone', 'non-criminal damage to property', 'possession of drug paraphernalia', 'aggravated vehicular hijacking', 'attempted theft', 'reckless discharge of a weapon', 'attempted vehicular hijacking', 'possession of cannabis', 'stolen motor vehicle recovery', 'found', 'theft of lost', 'attempted burglary', 'non-criminal damage', 'criminal sexual assault', 'miscellaneous incident report', 'computer fraud', 'violation of order of protection', 'reckless driving', 'traffic crash property damage', 'hit tand run', 'found narcotic paraphernalia', 'financial identity theft', 'home invasion', 'public peace violation', 'missing person found', 'senior citizen', 'smoke', 'forged prescription', 'aggravated battery to police officer', 'sex related', 'attempted aggravated vehicular hijacking', 'battery-simple', 'sex crime', 'foreign steal', 'vehicular hijacking', 'lost wallet', 'damage to property', 'sexual abuse', 'unlawful discharge of weapon', 'unlawful restraint', 'recovered property', 'cyber stalking', 'homicide', 'motor vehicle accident', 'haz mat event', 'attempted strong arm', 'accidental injury', 'telephone threat', 'assault and harassment by electronic means', 'miscellaneous', 'non-criminal property', 'non- criminal', 'theft of lost or mislaid property', 'extortion', 'reckless discharge of a firearm', 'unlawful possession of firearm', 'simple assault', 'simple', 'damage to uc property', 'dating violence', 'weapon turn-in', 'credit card fraud', 'traffic violation', 'suspicious letter', 'aggravated battery of police officer', 'defacement', 'aggravated criminal sexual assault', 'death investigation', 'missing person', 'threatening call', 'unlawful possession of weapon', 'stolen vehicle recovery', 'unlawful possession of a weapon', 'other', 'theft', 'aggravated discharge of a firearm', 'mental health transport', 'obstructing police', 'strong arm', 'criminal trespass to land', 'mental transport', 'ucpd arrest warrant', 'domestic aggravated assault', 'robbery arrest', 'unlawful use of a weapon arrest', 'information harassment', 'recovery of motor vehicle', 'counterfeit document', 'trespass warning', 'traffic violation and warrant arrest', 'information', 'possession of a controlled substance', 'recovered vehicle plate', 'weapon violation', 'order of protection', 'unlawful use of weapon', 'criminal trespass to property', 'non-criminal informational report', 'animal bite', 'alarm', 'dui arrest', 'non-criminal event', 'unlawful possession of a handgun', 'recovered firearm', 'possession of crack cocaine', 'arrest', 'non-criminal damage to vehicle', 'criminal trespass to residence', 'attempted theft from motor vehicle', 'other violation', 'non-criminal other', 'found suspect narcotic', 'information criminal damage to property', 'attempted home invasion', 'vehicle hijacking', 'assist other agency', 'accidental shooting', 'forgery', 'well-being check', 'other crime', 'notice of order of protection', 'luring a minor', 'public way', 'well-being', 'battery to police officer', 'damage to vehicle', 'found person', 'sexual assault', 'possession of lost', 'criminal defacement', 'reckless discharge of firearm', 'battery', 'armed robbery arrest', 'lost property', 'fire', 'deceptive', 'armed robbery', 'damage', 'traffic violation arrest', 'failure to register', 'missing property', 'trespass to vehicle', 'unlawful possession of a firearm', 'criminal damage to property', 'theft by deception', 'harassing email', 'stalking', 'accidental fire', 'battery of police officer', 'damaged property', 'police officer', 'warrant', 'counterfeit check', 'aggravated robbery', 'deceptive practice', 'outside agency warrant arrest', 'harassing phone call`', 'obstructing a peace officer', 'lost phone', 'aggravated domestic battery', 'assault', 'delayed', 'identity theft', 'aggravated battery', 'carjacking', 'criminal trespass to motor vehicle', 'haz-mat incident', 'unlawful discharge of a firearm', 'robbery', 'attempted robbery', 'damage to city property', 'traffic offense', 'suspicious package', 'traffic crash', 'miscellaneous incident', 'attempted motor vehicle theft', 'aggravated battery of a police officer', 'arson by fire', 'non-criminal missing property', 'trespass', 'dog bite', 'traffic and warrant arrest', 'narcotic', 'aggravated domestic assault', 'electronic means', 'vehicle recovery', 'domestic disturbance', 'harassment', 'other vehicle offense', 'possession of stolen property', 'hate crime', 'security alarm', 'traffic crash arrest', 'mental health', 'obstructing peace officer', 'simple assault battery', 'traffic accident', 'threat by electronic means', 'attempted sexual assault', 'unlawful use of a weapon', 'criminal trespass to vehicle', 'hit and run property damage', 'false fire alarm', 'unauthorized use of computer', 'personal injury', 'interference with public officer', 'found key', 'haz mat incident', 'ambulance request', 'suspect narcotic found', 'motor vehicle theft recovery', 'medical call', 'murder', 'fondling', 'recovered vehicle', 'harassing email message', 'non-criminal complaint', 'criminal damage to motor vehicle', 'domestic aggravated battery', 'haz mat', 'order of protection arrest', 'medical transport', 'trespass to property', 'obstruct police officer', 'non-criminal', 'liquor law violation', 'delayed burglary', 'notification of order of protection', 'theft from vehicle', 'domestic assault', 'found weapon', 'personation of peace officer', 'smell of gas', 'criminal sexual abuse', 'attempted', 'possession of marijuana', 'telephone harassment', 'aggravated vehicular carjacking', 'found property', 'other crime vs. person', 'harassing phone call', 'property', 'harassment via electronic means', 'narcotic arrest', 'property damage', 'hazardous material event', 'non-forcible', 'domestic dispute', 'aggravated assault', 'arrest on warrant', 'aggravated assault of police officer', 'recovery'}\n"
          ]
        }
      ],
      "source": [
        "print(list_to_parsed_set(df[\"incident\"].to_list()))"
      ]
    },
    {
      "cell_type": "code",
      "execution_count": 40,
      "id": "aaa49407d08352ea",
      "metadata": {
        "ExecuteTime": {
          "end_time": "2024-02-12T07:36:38.550959Z",
          "start_time": "2024-02-12T07:36:38.543112Z"
        },
        "collapsed": false
      },
      "outputs": [
        {
          "data": {
            "text/html": "<div><style>\n.dataframe > thead > tr > th,\n.dataframe > tbody > tr > td {\n  text-align: right;\n}\n</style>\n<small>shape: (679, 2)</small><table border=\"1\" class=\"dataframe\"><thead><tr><th>incident</th><th>count</th></tr><tr><td>str</td><td>u32</td></tr></thead><tbody><tr><td>&quot;theft&quot;</td><td>2972</td></tr><tr><td>&quot;information&quot;</td><td>1380</td></tr><tr><td>&quot;found property\u2026</td><td>920</td></tr><tr><td>&quot;lost property&quot;</td><td>838</td></tr><tr><td>&quot;traffic violat\u2026</td><td>534</td></tr><tr><td>&quot;information / \u2026</td><td>509</td></tr><tr><td>&quot;liquor law vio\u2026</td><td>443</td></tr><tr><td>&quot;medical call&quot;</td><td>431</td></tr><tr><td>&quot;battery&quot;</td><td>423</td></tr><tr><td>&quot;information / \u2026</td><td>357</td></tr><tr><td>&quot;mental health \u2026</td><td>330</td></tr><tr><td>&quot;injured person\u2026</td><td>319</td></tr><tr><td>&hellip;</td><td>&hellip;</td></tr><tr><td>&quot;assist other a\u2026</td><td>1</td></tr><tr><td>&quot;assist other a\u2026</td><td>1</td></tr><tr><td>&quot;criminal damag\u2026</td><td>1</td></tr><tr><td>&quot;order of prote\u2026</td><td>1</td></tr><tr><td>&quot;assist other a\u2026</td><td>1</td></tr><tr><td>&quot;liquor law vio\u2026</td><td>1</td></tr><tr><td>&quot;theft of motor\u2026</td><td>1</td></tr><tr><td>&quot;aggravated ass\u2026</td><td>1</td></tr><tr><td>&quot;information re\u2026</td><td>1</td></tr><tr><td>&quot;other non-crim\u2026</td><td>1</td></tr><tr><td>&quot;information / \u2026</td><td>1</td></tr><tr><td>&quot;found property\u2026</td><td>1</td></tr></tbody></table></div>",
            "text/plain": "shape: (679, 2)\n\u250c\u2500\u2500\u2500\u2500\u2500\u2500\u2500\u2500\u2500\u2500\u2500\u2500\u2500\u2500\u2500\u2500\u2500\u2500\u2500\u2500\u2500\u2500\u2500\u2500\u2500\u2500\u2500\u2500\u2500\u2500\u2500\u2500\u2500\u2500\u2500\u252c\u2500\u2500\u2500\u2500\u2500\u2500\u2500\u2510\n\u2502 incident                          \u2506 count \u2502\n\u2502 ---                               \u2506 ---   \u2502\n\u2502 str                               \u2506 u32   \u2502\n\u255e\u2550\u2550\u2550\u2550\u2550\u2550\u2550\u2550\u2550\u2550\u2550\u2550\u2550\u2550\u2550\u2550\u2550\u2550\u2550\u2550\u2550\u2550\u2550\u2550\u2550\u2550\u2550\u2550\u2550\u2550\u2550\u2550\u2550\u2550\u2550\u256a\u2550\u2550\u2550\u2550\u2550\u2550\u2550\u2561\n\u2502 theft                             \u2506 2972  \u2502\n\u2502 information                       \u2506 1380  \u2502\n\u2502 found property                    \u2506 920   \u2502\n\u2502 lost property                     \u2506 838   \u2502\n\u2502 \u2026                                 \u2506 \u2026     \u2502\n\u2502 information report / smell of ga\u2026 \u2506 1     \u2502\n\u2502 other non-criminal property       \u2506 1     \u2502\n\u2502 information / trespass to vehicl\u2026 \u2506 1     \u2502\n\u2502 found property / narcotic         \u2506 1     \u2502\n\u2514\u2500\u2500\u2500\u2500\u2500\u2500\u2500\u2500\u2500\u2500\u2500\u2500\u2500\u2500\u2500\u2500\u2500\u2500\u2500\u2500\u2500\u2500\u2500\u2500\u2500\u2500\u2500\u2500\u2500\u2500\u2500\u2500\u2500\u2500\u2500\u2534\u2500\u2500\u2500\u2500\u2500\u2500\u2500\u2518"
          },
          "execution_count": 40,
          "metadata": {},
          "output_type": "execute_result"
        }
      ],
      "source": [
        "excluded_list = [\n",
        "    \"Fondling\",\n",
        "    \"Medical Call\",\n",
        "    \"Luring a Minor\",\n",
        "    \"Lost Property\",\n",
        "    \"Stalking\",\n",
        "    \"Sexual Assault\",\n",
        "    \"Dating\",\n",
        "    \"Stalking\",\n",
        "    \"Domestic\",\n",
        "    \"Sex\",\n",
        "    \"Found Property\",\n",
        "    \"Mental Health\",\n",
        "    \"Harassment by Electronic Means\",\n",
        "    \"Well-Being\",\n",
        "    \"Threatening Phone Call\",\n",
        "    \"Medical Transport\",\n",
        "    \"Warrant\",\n",
        "    \"Lost Wallet\",\n",
        "    \"Fire Alarm\",\n",
        "    \"Chemical Spill\",\n",
        "    \"Suspicious Mail\",\n",
        "    \"Eavesdropping\",\n",
        "    \"Sex Offense\",\n",
        "    \"Sex Offender\",\n",
        "    \"Sex Crime\",\n",
        "    \"Domestic Aggravated Battery\",\n",
        "    \"Dating Violence\",\n",
        "    \"Harassing Messages\",\n",
        "]\n",
        "df = df.filter(~pl.col(\"incident\").str.contains(\"|\".join(excluded_list)))\n",
        "df.groupby([\"incident\"]).agg(pl.count()).sort(\"count\", descending=True)"
      ]
    },
    {
      "cell_type": "code",
      "execution_count": 41,
      "id": "b86c6b7a46dbff85",
      "metadata": {
        "ExecuteTime": {
          "end_time": "2024-02-12T07:36:38.559378Z",
          "start_time": "2024-02-12T07:36:38.556494Z"
        },
        "collapsed": false
      },
      "outputs": [
        {
          "name": "stdout",
          "output_type": "stream",
          "text": [
            "{'damage to personal property', 'vehicle crash', 'motor vehicle theft and recovery', 'weapon recovery', 'assist other agency motor vehicle theft and recovery', 'found wallet', 'traffic collision', 'injured person', 'domestic battery', 'trespass to land', 'safety hazard', 'suspicious person', 'trespass to motor vehicle', 'traffic', 'theft of motor vehicle', 'expired license', 'fraud', 'harassing message', 'possession of controlled substance', 'suspect narcotic', 'minor injury', 'harassment by electronic means', '/ domestic battery', 'burglary', 'hazardous material incident', 'noise complaint', 'unlawful discharge of firearm', 'order of protection notification', 'found narcotic', 'accident report', 'robbery-aggravated', 'suspicious vehicle', 'disorderly conduct', 'sex offense', 'motor vehicle theft', 'bomb threat', 'threatening phone call', 'indecent exposure', 'shot fired', 'attempted aggravated robbery', 'interfering', 'delayed robbery', 'suspicious activity', 'suspicious mail', 'found suspect marijuana', 'unlawful possession of ammunition', 'simple battery', 'reckless conduct', 'prohibited zone', 'non-criminal incident', 'mental health call', 'automobile', 'robbery-strong arm', 'purse snatch', 'other dangerous weapon', 'traffic arrest', 'damage to uc vehicle', 'vehicular carjacking', 'recovered motor vehicle', 'hit and run traffic crash', 'harassing telephone call', 'ill person', 'weapon arrest', 'aggravated battery of a protected employee', 'person down', 'vehicle fire', 'possession of narcotic', 'narcotic delivery', 'cyberstalking', 'intimidation', 'property damage only', 'criminal damage to vehicle', 'fleeing or attempting to elude police', 'interference with police officer', 'non-criminal property damage', 'chemical spill', 'minor personal injury', 'other deadly weapon', 'elevator entrapment', 'telephone scam', 'hit and run', 'traffic crash report', 'theft of service', 'public indecency', 'pedestrian', 'smoke alarm', 'attempted armed robbery', 'theft of motorcycle', 'theft from person', 'attempted theft from person', 'motor vehicle recovery', 'fire alarm', 'traffic crash hit and run', 'resisting arrest', 'suspicious phone call', 'obscene phone call', 'eavesdropping', 'other offense', 'theft and recovery of motor vehicle', 'delayed report', 'sex offender', 'threat', 'dui', 'warrant arrest', 'disturbance', 'drug law violation', 'stuck elevator', 'impersonation', 'non-criminal report', 'non-criminal offense', 'accidental', 'other crime against person', 'possession of narcotic with intent to deliver', 'unlawful discharge of a weapon', 'illness', 'false police report', 'cutting instrument', 'criminal trespass', 'non-criminal fire', 'resisting police', 'found drug paraphernalia', 'mislaid property', 'domestic issue', 'strong armed', 'information report', 'cyber scam', 'irregular condition', 'arson', 'lost', 'vandalism', 'other non-criminal property', 'domestic', 'illegal consumption by minor', 'recovered stolen motor vehicle', 'possession of stolen motor vehicle', 'sick person', 'deliver narcotic', 'attempted theft of motor vehicle', 'fraudulent check', 'theft from motor vehicle', 'harassment by telephone', 'non-criminal damage to property', 'possession of drug paraphernalia', 'aggravated vehicular hijacking', 'attempted theft', 'reckless discharge of a weapon', 'attempted vehicular hijacking', 'possession of cannabis', 'stolen motor vehicle recovery', 'found', 'theft of lost', 'attempted burglary', 'non-criminal damage', 'criminal sexual assault', 'miscellaneous incident report', 'computer fraud', 'violation of order of protection', 'reckless driving', 'traffic crash property damage', 'hit tand run', 'found narcotic paraphernalia', 'financial identity theft', 'home invasion', 'public peace violation', 'missing person found', 'senior citizen', 'smoke', 'forged prescription', 'aggravated battery to police officer', 'sex related', 'attempted aggravated vehicular hijacking', 'battery-simple', 'sex crime', 'foreign steal', 'vehicular hijacking', 'lost wallet', 'damage to property', 'sexual abuse', 'unlawful discharge of weapon', 'unlawful restraint', 'recovered property', 'cyber stalking', 'homicide', 'motor vehicle accident', 'haz mat event', 'attempted strong arm', 'accidental injury', 'telephone threat', 'assault and harassment by electronic means', 'miscellaneous', 'non-criminal property', 'non- criminal', 'theft of lost or mislaid property', 'extortion', 'reckless discharge of a firearm', 'unlawful possession of firearm', 'simple assault', 'simple', 'damage to uc property', 'dating violence', 'weapon turn-in', 'credit card fraud', 'traffic violation', 'suspicious letter', 'aggravated battery of police officer', 'defacement', 'aggravated criminal sexual assault', 'death investigation', 'missing person', 'threatening call', 'unlawful possession of weapon', 'stolen vehicle recovery', 'unlawful possession of a weapon', 'other', 'theft', 'aggravated discharge of a firearm', 'mental health transport', 'obstructing police', 'strong arm', 'criminal trespass to land', 'mental transport', 'ucpd arrest warrant', 'domestic aggravated assault', 'robbery arrest', 'unlawful use of a weapon arrest', 'information harassment', 'recovery of motor vehicle', 'counterfeit document', 'trespass warning', 'traffic violation and warrant arrest', 'information', 'possession of a controlled substance', 'recovered vehicle plate', 'weapon violation', 'order of protection', 'unlawful use of weapon', 'criminal trespass to property', 'non-criminal informational report', 'animal bite', 'alarm', 'dui arrest', 'non-criminal event', 'unlawful possession of a handgun', 'recovered firearm', 'possession of crack cocaine', 'arrest', 'non-criminal damage to vehicle', 'criminal trespass to residence', 'attempted theft from motor vehicle', 'other violation', 'non-criminal other', 'found suspect narcotic', 'information criminal damage to property', 'attempted home invasion', 'vehicle hijacking', 'assist other agency', 'accidental shooting', 'forgery', 'well-being check', 'other crime', 'notice of order of protection', 'luring a minor', 'public way', 'well-being', 'battery to police officer', 'damage to vehicle', 'found person', 'sexual assault', 'possession of lost', 'criminal defacement', 'reckless discharge of firearm', 'battery', 'armed robbery arrest', 'lost property', 'fire', 'deceptive', 'armed robbery', 'damage', 'traffic violation arrest', 'failure to register', 'missing property', 'trespass to vehicle', 'unlawful possession of a firearm', 'criminal damage to property', 'theft by deception', 'harassing email', 'stalking', 'accidental fire', 'battery of police officer', 'damaged property', 'police officer', 'warrant', 'counterfeit check', 'aggravated robbery', 'deceptive practice', 'outside agency warrant arrest', 'harassing phone call`', 'obstructing a peace officer', 'lost phone', 'aggravated domestic battery', 'assault', 'delayed', 'identity theft', 'aggravated battery', 'carjacking', 'criminal trespass to motor vehicle', 'haz-mat incident', 'unlawful discharge of a firearm', 'robbery', 'attempted robbery', 'damage to city property', 'traffic offense', 'suspicious package', 'traffic crash', 'miscellaneous incident', 'attempted motor vehicle theft', 'aggravated battery of a police officer', 'arson by fire', 'non-criminal missing property', 'trespass', 'dog bite', 'traffic and warrant arrest', 'narcotic', 'aggravated domestic assault', 'electronic means', 'vehicle recovery', 'domestic disturbance', 'harassment', 'other vehicle offense', 'possession of stolen property', 'hate crime', 'security alarm', 'traffic crash arrest', 'mental health', 'obstructing peace officer', 'simple assault battery', 'traffic accident', 'threat by electronic means', 'attempted sexual assault', 'unlawful use of a weapon', 'criminal trespass to vehicle', 'hit and run property damage', 'false fire alarm', 'unauthorized use of computer', 'personal injury', 'interference with public officer', 'found key', 'haz mat incident', 'ambulance request', 'suspect narcotic found', 'motor vehicle theft recovery', 'medical call', 'murder', 'fondling', 'recovered vehicle', 'harassing email message', 'non-criminal complaint', 'criminal damage to motor vehicle', 'domestic aggravated battery', 'haz mat', 'order of protection arrest', 'medical transport', 'trespass to property', 'obstruct police officer', 'non-criminal', 'liquor law violation', 'delayed burglary', 'notification of order of protection', 'theft from vehicle', 'domestic assault', 'found weapon', 'personation of peace officer', 'smell of gas', 'criminal sexual abuse', 'attempted', 'possession of marijuana', 'telephone harassment', 'aggravated vehicular carjacking', 'found property', 'other crime vs. person', 'harassing phone call', 'property', 'harassment via electronic means', 'narcotic arrest', 'property damage', 'hazardous material event', 'non-forcible', 'domestic dispute', 'aggravated assault', 'arrest on warrant', 'aggravated assault of police officer', 'recovery'}\n"
          ]
        }
      ],
      "source": [
        "print(list_to_parsed_set(df[\"incident\"].to_list()))"
      ]
    },
    {
      "cell_type": "markdown",
      "id": "bc068bd76389f233",
      "metadata": {
        "collapsed": false
      },
      "source": []
    },
    {
      "cell_type": "code",
      "execution_count": 42,
      "id": "925ca09f1a15edbd",
      "metadata": {
        "ExecuteTime": {
          "end_time": "2024-02-12T07:36:38.579668Z",
          "start_time": "2024-02-12T07:36:38.564596Z"
        },
        "collapsed": false
      },
      "outputs": [
        {
          "data": {
            "text/plain": "392"
          },
          "execution_count": 42,
          "metadata": {},
          "output_type": "execute_result"
        }
      ],
      "source": [
        "len(list_to_parsed_set(df[\"incident\"].to_list()))"
      ]
    },
    {
      "cell_type": "code",
      "execution_count": 43,
      "id": "928b434184777ff7",
      "metadata": {
        "ExecuteTime": {
          "end_time": "2024-02-12T07:36:38.622697Z",
          "start_time": "2024-02-12T07:36:38.567712Z"
        },
        "collapsed": false
      },
      "outputs": [
        {
          "data": {
            "text/html": "<div><style>\n.dataframe > thead > tr > th,\n.dataframe > tbody > tr > td {\n  text-align: right;\n}\n</style>\n<small>shape: (1_739, 11)</small><table border=\"1\" class=\"dataframe\"><thead><tr><th>comments</th><th>disposition</th><th>incident</th><th>location</th><th>occurred</th><th>predicted_incident</th><th>reported</th><th>reported_date</th><th>ucpd_id</th><th>validated_address</th><th>validated_location</th></tr><tr><td>str</td><td>str</td><td>str</td><td>str</td><td>str</td><td>str</td><td>datetime[\u03bcs, America/Chicago]</td><td>date</td><td>str</td><td>str</td><td>list[f64]</td></tr></thead><tbody><tr><td>&quot;Person reports\u2026</td><td>&quot;Referred&quot;</td><td>&quot;information / \u2026</td><td>&quot;S. Blackstone \u2026</td><td>&quot;1/25/24 2:40 P\u2026</td><td>null</td><td>2024-02-07 12:04:00 CST</td><td>2024-02-07</td><td>&quot;2024-005040&quot;</td><td>&quot;and S. Blackst\u2026</td><td>[41.7933, -87.592458]</td></tr><tr><td>&quot;Package taken \u2026</td><td>&quot;Referred&quot;</td><td>&quot;information / \u2026</td><td>&quot;S. Ellis Ave. \u2026</td><td>&quot;2/6/24 5:00 PM\u2026</td><td>null</td><td>2024-02-07 14:22:00 CST</td><td>2024-02-07</td><td>&quot;2024-005052&quot;</td><td>&quot;and S. Ellis A\u2026</td><td>[41.795196, -87.586625]</td></tr><tr><td>&quot;Victim reporte\u2026</td><td>&quot;CPD&quot;</td><td>&quot;information / \u2026</td><td>&quot;S. East End Av\u2026</td><td>&quot;10/20/23 3:00 \u2026</td><td>null</td><td>2024-02-07 17:23:00 CST</td><td>2024-02-07</td><td>&quot;24-00130&quot;</td><td>&quot;between E. 50t\u2026</td><td>[41.802257, -87.605867]</td></tr><tr><td>&quot;Suspect observ\u2026</td><td>&quot;CPD&quot;</td><td>&quot;information / \u2026</td><td>&quot;E. 54th St. be\u2026</td><td>&quot;2/4/24 1:20 PM\u2026</td><td>null</td><td>2024-02-04 13:22:00 CST</td><td>2024-02-04</td><td>&quot;2024-004615&quot;</td><td>&quot;between S. Woo\u2026</td><td>[41.793722, -87.5949]</td></tr><tr><td>&quot;A person walki\u2026</td><td>&quot;CPD&quot;</td><td>&quot;information / \u2026</td><td>&quot;S. Dorchester \u2026</td><td>&quot;2/2/24 10:45 P\u2026</td><td>null</td><td>2024-02-02 23:13:00 CST</td><td>2024-02-02</td><td>&quot;2024-004492&quot;</td><td>&quot;between E. 51s\u2026</td><td>[41.800894, -87.59668]</td></tr><tr><td>&quot;Unknown person\u2026</td><td>&quot;CPD&quot;</td><td>&quot;information / \u2026</td><td>&quot;S. Kenwood Ave\u2026</td><td>&quot;1/30/24 7:30 A\u2026</td><td>null</td><td>2024-01-30 20:33:00 CST</td><td>2024-01-30</td><td>&quot;2024-004004&quot;</td><td>&quot;and South Kenw\u2026</td><td>[41.791219, -87.606736]</td></tr><tr><td>&quot;Unknown person\u2026</td><td>&quot;CPD&quot;</td><td>&quot;information / \u2026</td><td>&quot;S. Kimbark Ave\u2026</td><td>&quot;1/30/24 8:15 P\u2026</td><td>null</td><td>2024-01-30 20:46:00 CST</td><td>2024-01-30</td><td>&quot;2024-004007&quot;</td><td>&quot;between E. 53r\u2026</td><td>[41.798003, -87.594163]</td></tr><tr><td>&quot;Person reports\u2026</td><td>&quot;Closed&quot;</td><td>&quot;lost property&quot;</td><td>&quot;S. Ellis Ave. \u2026</td><td>&quot;1/30/24 6:00 P\u2026</td><td>null</td><td>2024-01-30 22:07:00 CST</td><td>2024-01-30</td><td>&quot;24-00112&quot;</td><td>&quot;between E. 55t\u2026</td><td>[41.794767, -87.591675]</td></tr><tr><td>&quot;Unknown person\u2026</td><td>&quot;Referred&quot;</td><td>&quot;information / \u2026</td><td>&quot;S. Kenwood Ave\u2026</td><td>&quot;1/27/24 to 1/2\u2026</td><td>null</td><td>2024-01-29 22:33:00 CST</td><td>2024-01-29</td><td>&quot;2024-003903&quot;</td><td>&quot;between E. 57t\u2026</td><td>[41.789607, -87.596414]</td></tr><tr><td>&quot;Two people eng\u2026</td><td>&quot;Open&quot;</td><td>&quot;battery&quot;</td><td>&quot;S. Blackstone \u2026</td><td>&quot;1/28/24 9:05 P\u2026</td><td>null</td><td>2024-01-28 21:13:00 CST</td><td>2024-01-28</td><td>&quot;24-00104&quot;</td><td>&quot;between E. 58t\u2026</td><td>[41.787795, -87.59652]</td></tr><tr><td>&quot;Unknown person\u2026</td><td>&quot;CPD&quot;</td><td>&quot;information / \u2026</td><td>&quot;S. Ingleside A\u2026</td><td>&quot;1/22/24 9:00 A\u2026</td><td>null</td><td>2024-01-23 00:46:00 CST</td><td>2024-01-23</td><td>&quot;2024-003047&quot;</td><td>&quot;and South Ingl\u2026</td><td>[41.782871, -87.589117]</td></tr><tr><td>&quot;Property taken\u2026</td><td>&quot;Referred&quot;</td><td>&quot;information / \u2026</td><td>&quot;S. Kenwood Ave\u2026</td><td>&quot;1/20/24 2:00 P\u2026</td><td>null</td><td>2024-01-22 08:21:00 CST</td><td>2024-01-22</td><td>&quot;2024-002943&quot;</td><td>&quot;between E. 52n\u2026</td><td>[41.799471, -87.594402]</td></tr><tr><td>&hellip;</td><td>&hellip;</td><td>&hellip;</td><td>&hellip;</td><td>&hellip;</td><td>&hellip;</td><td>&hellip;</td><td>&hellip;</td><td>&hellip;</td><td>&hellip;</td><td>&hellip;</td></tr><tr><td>&quot;Unknown person\u2026</td><td>&quot;Open&quot;</td><td>&quot;theft&quot;</td><td>&quot;S. Dorchester \u2026</td><td>&quot;1/8/11 9:30 AM\u2026</td><td>null</td><td>2011-01-08 16:39:00 CST</td><td>2011-01-08</td><td>&quot;X0039&quot;</td><td>&quot;between E. 57t\u2026</td><td>[41.789607, -87.596414]</td></tr><tr><td>&quot;Unknown person\u2026</td><td>&quot;Open&quot;</td><td>&quot;criminal damag\u2026</td><td>&quot;S. University \u2026</td><td>&quot;1/6/11 to 1/7/\u2026</td><td>null</td><td>2011-01-07 13:00:00 CST</td><td>2011-01-07</td><td>&quot;X0029&quot;</td><td>&quot;and S. Univers\u2026</td><td>[41.795196, -87.586625]</td></tr><tr><td>&quot;One male struc\u2026</td><td>&quot;Closed&quot;</td><td>&quot;battery&quot;</td><td>&quot;S. University \u2026</td><td>&quot;1/7/11 11:22 P\u2026</td><td>null</td><td>2011-01-07 23:22:00 CST</td><td>2011-01-07</td><td>&quot;X0033&quot;</td><td>&quot;and S. Univers\u2026</td><td>[41.791219, -87.606736]</td></tr><tr><td>&quot;Wallet taken f\u2026</td><td>&quot;Open&quot;</td><td>&quot;theft&quot;</td><td>&quot;E. 57th St. be\u2026</td><td>&quot;1/5/11 6:15 PM\u2026</td><td>null</td><td>2011-01-05 21:32:00 CST</td><td>2011-01-05</td><td>&quot;X0025&quot;</td><td>&quot;and E. 57th St\u2026</td><td>[41.74341, -87.591609]</td></tr><tr><td>&quot;Man kicked and\u2026</td><td>&quot;Arrest&quot;</td><td>&quot;criminal damag\u2026</td><td>&quot;E. 63rd St. be\u2026</td><td>&quot;1/4/11 3:28 AM\u2026</td><td>null</td><td>2011-01-04 03:28:00 CST</td><td>2011-01-04</td><td>&quot;X0012&quot;</td><td>&quot;and E. 63rd St\u2026</td><td>[41.74341, -87.591609]</td></tr><tr><td>&quot;Three males at\u2026</td><td>&quot;Arrest&quot;</td><td>&quot;attempted robb\u2026</td><td>&quot;E. 53rd St. be\u2026</td><td>&quot;1/4/11 7:13 PM\u2026</td><td>null</td><td>2011-01-04 19:13:00 CST</td><td>2011-01-04</td><td>&quot;X0016&quot;</td><td>&quot;and E. 53rd St\u2026</td><td>[41.780016, -87.600449]</td></tr><tr><td>&quot;UCPD officers \u2026</td><td>&quot;Closed&quot;</td><td>&quot;found property\u2026</td><td>&quot;E. 50th St. be\u2026</td><td>&quot;1/4/11 8:12 PM\u2026</td><td>null</td><td>2011-01-04 20:12:00 CST</td><td>2011-01-04</td><td>&quot;X0018&quot;</td><td>&quot;and E. 50th St\u2026</td><td>[41.731245, -87.599793]</td></tr><tr><td>&quot;Unknown person\u2026</td><td>&quot;Open&quot;</td><td>&quot;theft from mot\u2026</td><td>&quot;S. Woodlawn Av\u2026</td><td>&quot;1/2/11 to1/3/1\u2026</td><td>null</td><td>2011-01-03 08:46:00 CST</td><td>2011-01-03</td><td>&quot;X0006&quot;</td><td>&quot;and South Wood\u2026</td><td>[41.782871, -87.589117]</td></tr><tr><td>&quot;Unknown person\u2026</td><td>&quot;Open&quot;</td><td>&quot;burglary&quot;</td><td>&quot;S. Kimbark Ave\u2026</td><td>&quot;12/13/10 to 1/\u2026</td><td>null</td><td>2011-01-03 14:51:00 CST</td><td>2011-01-03</td><td>&quot;X0008&quot;</td><td>&quot;between E. 57t\u2026</td><td>[41.789607, -87.596414]</td></tr><tr><td>&quot;Unknown person\u2026</td><td>&quot;Open&quot;</td><td>&quot;theft&quot;</td><td>&quot;E. 53rd St. be\u2026</td><td>&quot;1/3/11 2:00 PM\u2026</td><td>null</td><td>2011-01-03 17:46:00 CST</td><td>2011-01-03</td><td>&quot;X0009&quot;</td><td>&quot;between S. Gre\u2026</td><td>[41.793342, -87.598113]</td></tr><tr><td>&quot;Two unknown yo\u2026</td><td>&quot;Closed&quot;</td><td>&quot;information&quot;</td><td>&quot;E. 54th St. be\u2026</td><td>&quot;1/3/11 6:25 PM\u2026</td><td>null</td><td>2011-01-03 18:30:00 CST</td><td>2011-01-03</td><td>&quot;X0010&quot;</td><td>&quot;between S. Mar\u2026</td><td>[41.793166, -87.603788]</td></tr><tr><td>&quot;Unknown person\u2026</td><td>&quot;Open&quot;</td><td>&quot;burglary&quot;</td><td>&quot;S. Kimbark Ave\u2026</td><td>&quot;12/11/10 to 12\u2026</td><td>null</td><td>2011-01-02 10:39:00 CST</td><td>2011-01-02</td><td>&quot;X0004&quot;</td><td>&quot;between E. 50t\u2026</td><td>[41.802257, -87.605867]</td></tr></tbody></table></div>",
            "text/plain": "shape: (1_739, 11)\n\u250c\u2500\u2500\u2500\u2500\u2500\u2500\u2500\u2500\u2500\u2500\u2500\u252c\u2500\u2500\u2500\u2500\u2500\u2500\u2500\u2500\u2500\u2500\u2500\u252c\u2500\u2500\u2500\u2500\u2500\u2500\u2500\u2500\u2500\u2500\u2500\u252c\u2500\u2500\u2500\u2500\u2500\u2500\u2500\u2500\u2500\u2500\u2500\u252c\u2500\u2500\u2500\u252c\u2500\u2500\u2500\u2500\u2500\u2500\u2500\u2500\u2500\u2500\u2500\u252c\u2500\u2500\u2500\u2500\u2500\u2500\u2500\u2500\u2500\u2500\u2500\u252c\u2500\u2500\u2500\u2500\u2500\u2500\u2500\u2500\u2500\u2500\u2500\u252c\u2500\u2500\u2500\u2500\u2500\u2500\u2500\u2500\u2500\u2500\u2510\n\u2502 comments  \u2506 dispositi \u2506 incident  \u2506 location  \u2506 \u2026 \u2506 reported_ \u2506 ucpd_id   \u2506 validated \u2506 validate \u2502\n\u2502 ---       \u2506 on        \u2506 ---       \u2506 ---       \u2506   \u2506 date      \u2506 ---       \u2506 _address  \u2506 d_locati \u2502\n\u2502 str       \u2506 ---       \u2506 str       \u2506 str       \u2506   \u2506 ---       \u2506 str       \u2506 ---       \u2506 on       \u2502\n\u2502           \u2506 str       \u2506           \u2506           \u2506   \u2506 date      \u2506           \u2506 str       \u2506 ---      \u2502\n\u2502           \u2506           \u2506           \u2506           \u2506   \u2506           \u2506           \u2506           \u2506 list[f64 \u2502\n\u2502           \u2506           \u2506           \u2506           \u2506   \u2506           \u2506           \u2506           \u2506 ]        \u2502\n\u255e\u2550\u2550\u2550\u2550\u2550\u2550\u2550\u2550\u2550\u2550\u2550\u256a\u2550\u2550\u2550\u2550\u2550\u2550\u2550\u2550\u2550\u2550\u2550\u256a\u2550\u2550\u2550\u2550\u2550\u2550\u2550\u2550\u2550\u2550\u2550\u256a\u2550\u2550\u2550\u2550\u2550\u2550\u2550\u2550\u2550\u2550\u2550\u256a\u2550\u2550\u2550\u256a\u2550\u2550\u2550\u2550\u2550\u2550\u2550\u2550\u2550\u2550\u2550\u256a\u2550\u2550\u2550\u2550\u2550\u2550\u2550\u2550\u2550\u2550\u2550\u256a\u2550\u2550\u2550\u2550\u2550\u2550\u2550\u2550\u2550\u2550\u2550\u256a\u2550\u2550\u2550\u2550\u2550\u2550\u2550\u2550\u2550\u2550\u2561\n\u2502 Person    \u2506 Referred  \u2506 informati \u2506 S. Blacks \u2506 \u2026 \u2506 2024-02-0 \u2506 2024-0050 \u2506 and S.    \u2506 [41.7933 \u2502\n\u2502 reports a \u2506           \u2506 on /      \u2506 tone Ave. \u2506   \u2506 7         \u2506 40        \u2506 Blackston \u2506 , -87.59 \u2502\n\u2502 document  \u2506           \u2506 theft     \u2506 between   \u2506   \u2506           \u2506           \u2506 e Ave,    \u2506 2458]    \u2502\n\u2502 was ta\u2026   \u2506           \u2506           \u2506 E. 55\u2026    \u2506   \u2506           \u2506           \u2506 between,  \u2506          \u2502\n\u2502           \u2506           \u2506           \u2506           \u2506   \u2506           \u2506           \u2506 \u2026         \u2506          \u2502\n\u2502 Package   \u2506 Referred  \u2506 informati \u2506 S. Ellis  \u2506 \u2026 \u2506 2024-02-0 \u2506 2024-0050 \u2506 and S.    \u2506 [41.7951 \u2502\n\u2502 taken     \u2506           \u2506 on /      \u2506 Ave.      \u2506   \u2506 7         \u2506 52        \u2506 Ellis     \u2506 96, -87. \u2502\n\u2502 from      \u2506           \u2506 theft     \u2506 between   \u2506   \u2506           \u2506           \u2506 Ave,      \u2506 586625]  \u2502\n\u2502 vestibule \u2506           \u2506           \u2506 E. 54th   \u2506   \u2506           \u2506           \u2506 between,  \u2506          \u2502\n\u2502 of \u2026      \u2506           \u2506           \u2506 St\u2026       \u2506   \u2506           \u2506           \u2506 IL 60\u2026    \u2506          \u2502\n\u2502 Victim    \u2506 CPD       \u2506 informati \u2506 S. East   \u2506 \u2026 \u2506 2024-02-0 \u2506 24-00130  \u2506 between   \u2506 [41.8022 \u2502\n\u2502 reported  \u2506           \u2506 on /      \u2506 End Ave.  \u2506   \u2506 7         \u2506           \u2506 E. 50th   \u2506 57, -87. \u2502\n\u2502 she was   \u2506           \u2506 criminal  \u2506 between   \u2506   \u2506           \u2506           \u2506 St. and,  \u2506 605867]  \u2502\n\u2502 sexually\u2026 \u2506           \u2506 sexual    \u2506 E. 50th\u2026  \u2506   \u2506           \u2506           \u2506 S. East\u2026  \u2506          \u2502\n\u2502           \u2506           \u2506 as\u2026       \u2506           \u2506   \u2506           \u2506           \u2506           \u2506          \u2502\n\u2502 Suspect   \u2506 CPD       \u2506 informati \u2506 E. 54th   \u2506 \u2026 \u2506 2024-02-0 \u2506 2024-0046 \u2506 between   \u2506 [41.7937 \u2502\n\u2502 observed  \u2506           \u2506 on /      \u2506 St.       \u2506   \u2506 4         \u2506 15        \u2506 S.        \u2506 22, -87. \u2502\n\u2502 going     \u2506           \u2506 theft     \u2506 between   \u2506   \u2506           \u2506           \u2506 Woodlawn  \u2506 5949]    \u2502\n\u2502 through   \u2506           \u2506           \u2506 S.        \u2506   \u2506           \u2506           \u2506 Ave. and, \u2506          \u2502\n\u2502 o\u2026        \u2506           \u2506           \u2506 Woodlawn  \u2506   \u2506           \u2506           \u2506 E.\u2026       \u2506          \u2502\n\u2502           \u2506           \u2506           \u2506 \u2026         \u2506   \u2506           \u2506           \u2506           \u2506          \u2502\n\u2502 \u2026         \u2506 \u2026         \u2506 \u2026         \u2506 \u2026         \u2506 \u2026 \u2506 \u2026         \u2506 \u2026         \u2506 \u2026         \u2506 \u2026        \u2502\n\u2502 Unknown   \u2506 Open      \u2506 burglary  \u2506 S.        \u2506 \u2026 \u2506 2011-01-0 \u2506 X0008     \u2506 between   \u2506 [41.7896 \u2502\n\u2502 person    \u2506           \u2506           \u2506 Kimbark   \u2506   \u2506 3         \u2506           \u2506 E. 57th   \u2506 07, -87. \u2502\n\u2502 entered   \u2506           \u2506           \u2506 Ave.      \u2506   \u2506           \u2506           \u2506 St. and,  \u2506 596414]  \u2502\n\u2502 residenti \u2506           \u2506           \u2506 between   \u2506   \u2506           \u2506           \u2506 S. Kimb\u2026  \u2506          \u2502\n\u2502 \u2026         \u2506           \u2506           \u2506 E. 57th \u2026 \u2506   \u2506           \u2506           \u2506           \u2506          \u2502\n\u2502 Unknown   \u2506 Open      \u2506 theft     \u2506 E. 53rd   \u2506 \u2026 \u2506 2011-01-0 \u2506 X0009     \u2506 between   \u2506 [41.7933 \u2502\n\u2502 person    \u2506           \u2506           \u2506 St.       \u2506   \u2506 3         \u2506           \u2506 S.        \u2506 42, -87. \u2502\n\u2502 took two  \u2506           \u2506           \u2506 between   \u2506   \u2506           \u2506           \u2506 Greenwood \u2506 598113]  \u2502\n\u2502 electric\u2026 \u2506           \u2506           \u2506 S. Greenw \u2506   \u2506           \u2506           \u2506 Ave. and, \u2506          \u2502\n\u2502           \u2506           \u2506           \u2506 ood\u2026      \u2506   \u2506           \u2506           \u2506 E\u2026        \u2506          \u2502\n\u2502 Two       \u2506 Closed    \u2506 informati \u2506 E. 54th   \u2506 \u2026 \u2506 2011-01-0 \u2506 X0010     \u2506 between   \u2506 [41.7931 \u2502\n\u2502 unknown   \u2506           \u2506 on        \u2506 St.       \u2506   \u2506 3         \u2506           \u2506 S.        \u2506 66, -87. \u2502\n\u2502 youths    \u2506           \u2506           \u2506 between   \u2506   \u2506           \u2506           \u2506 Maryland  \u2506 603788]  \u2502\n\u2502 approache \u2506           \u2506           \u2506 S.        \u2506   \u2506           \u2506           \u2506 Ave. and, \u2506          \u2502\n\u2502 d ma\u2026     \u2506           \u2506           \u2506 Maryland  \u2506   \u2506           \u2506           \u2506 E.\u2026       \u2506          \u2502\n\u2502           \u2506           \u2506           \u2506 \u2026         \u2506   \u2506           \u2506           \u2506           \u2506          \u2502\n\u2502 Unknown   \u2506 Open      \u2506 burglary  \u2506 S.        \u2506 \u2026 \u2506 2011-01-0 \u2506 X0004     \u2506 between   \u2506 [41.8022 \u2502\n\u2502 person    \u2506           \u2506           \u2506 Kimbark   \u2506   \u2506 2         \u2506           \u2506 E. 50th   \u2506 57, -87. \u2502\n\u2502 entered   \u2506           \u2506           \u2506 Ave.      \u2506   \u2506           \u2506           \u2506 St. and,  \u2506 605867]  \u2502\n\u2502 residenti \u2506           \u2506           \u2506 between   \u2506   \u2506           \u2506           \u2506 S. Kimb\u2026  \u2506          \u2502\n\u2502 \u2026         \u2506           \u2506           \u2506 E. 50th \u2026 \u2506   \u2506           \u2506           \u2506           \u2506          \u2502\n\u2514\u2500\u2500\u2500\u2500\u2500\u2500\u2500\u2500\u2500\u2500\u2500\u2534\u2500\u2500\u2500\u2500\u2500\u2500\u2500\u2500\u2500\u2500\u2500\u2534\u2500\u2500\u2500\u2500\u2500\u2500\u2500\u2500\u2500\u2500\u2500\u2534\u2500\u2500\u2500\u2500\u2500\u2500\u2500\u2500\u2500\u2500\u2500\u2534\u2500\u2500\u2500\u2534\u2500\u2500\u2500\u2500\u2500\u2500\u2500\u2500\u2500\u2500\u2500\u2534\u2500\u2500\u2500\u2500\u2500\u2500\u2500\u2500\u2500\u2500\u2500\u2534\u2500\u2500\u2500\u2500\u2500\u2500\u2500\u2500\u2500\u2500\u2500\u2534\u2500\u2500\u2500\u2500\u2500\u2500\u2500\u2500\u2500\u2500\u2518"
          },
          "execution_count": 43,
          "metadata": {},
          "output_type": "execute_result"
        }
      ],
      "source": [
        "df.filter(pl.col(\"location\").str.contains(\" between \")).filter(\n",
        "    ~pl.col(\"location\").str.contains(\" to \")\n",
        ")"
      ]
    },
    {
      "cell_type": "code",
      "execution_count": 44,
      "id": "f63c35cb49b0ff83",
      "metadata": {
        "ExecuteTime": {
          "end_time": "2024-02-12T07:36:38.624903Z",
          "start_time": "2024-02-12T07:36:38.573409Z"
        },
        "collapsed": false
      },
      "outputs": [
        {
          "data": {
            "text/html": "<div><style>\n.dataframe > thead > tr > th,\n.dataframe > tbody > tr > td {\n  text-align: right;\n}\n</style>\n<small>shape: (81, 11)</small><table border=\"1\" class=\"dataframe\"><thead><tr><th>comments</th><th>disposition</th><th>incident</th><th>location</th><th>occurred</th><th>predicted_incident</th><th>reported</th><th>reported_date</th><th>ucpd_id</th><th>validated_address</th><th>validated_location</th></tr><tr><td>str</td><td>str</td><td>str</td><td>str</td><td>str</td><td>str</td><td>datetime[\u03bcs, America/Chicago]</td><td>date</td><td>str</td><td>str</td><td>list[f64]</td></tr></thead><tbody><tr><td>&quot;Electronic har\u2026</td><td>&quot;Open&quot;</td><td>&quot;harassment by \u2026</td><td>&quot;E. 61st St. St\u2026</td><td>&quot;11/30/23 to 12\u2026</td><td>null</td><td>2023-12-28 10:32:00 CST</td><td>2023-12-28</td><td>&quot;23-01269&quot;</td><td>&quot;between S. Gre\u2026</td><td>[41.79506, -87.596557]</td></tr><tr><td>&quot;Two suitcases \u2026</td><td>&quot;Referred&quot;</td><td>&quot;information / \u2026</td><td>&quot;S. Stony Islan\u2026</td><td>&quot;8/30/23 to 8/3\u2026</td><td>null</td><td>2023-08-31 14:06:00 CDT</td><td>2023-08-31</td><td>&quot;2023-030412&quot;</td><td>&quot;to S. Stony Is\u2026</td><td>[41.789607, -87.596414]</td></tr><tr><td>&quot;Person reporte\u2026</td><td>&quot;Closed&quot;</td><td>&quot;lost property&quot;</td><td>&quot;1330 E. 53rd S\u2026</td><td>&quot;8/29/23 11:30 \u2026</td><td>null</td><td>2023-08-29 15:06:00 CDT</td><td>2023-08-29</td><td>&quot;23-00810&quot;</td><td>&quot;1330 East 53rd\u2026</td><td>[41.795231, -87.587464]</td></tr><tr><td>&quot;Person lost wa\u2026</td><td>&quot;Closed&quot;</td><td>&quot;lost property&quot;</td><td>&quot;1100 E. 57th S\u2026</td><td>&quot;4/17/23 10:00 \u2026</td><td>null</td><td>2023-04-24 14:39:00 CDT</td><td>2023-04-24</td><td>&quot;23-00386&quot;</td><td>&quot;1100 E. 57th S\u2026</td><td>[41.796189, -87.588537]</td></tr><tr><td>&quot;Person reports\u2026</td><td>&quot;Closed&quot;</td><td>&quot;lost property&quot;</td><td>&quot;1101 E. 56th S\u2026</td><td>&quot;2/20/23 to 2/2\u2026</td><td>null</td><td>2023-02-21 16:34:00 CST</td><td>2023-02-21</td><td>&quot;23-00171&quot;</td><td>&quot;1101 E. 56th S\u2026</td><td>[41.792279, -87.599954]</td></tr><tr><td>&quot;Person lost wr\u2026</td><td>&quot;Closed&quot;</td><td>&quot;lost property&quot;</td><td>&quot;929 E.E. 57th \u2026</td><td>&quot;12/13/21 8:45 \u2026</td><td>null</td><td>2021-12-16 16:25:00 CST</td><td>2021-12-16</td><td>&quot;21-00908&quot;</td><td>&quot;to E. 57th and\u2026</td><td>[41.791374, -87.601302]</td></tr><tr><td>&quot;Person reports\u2026</td><td>&quot;Closed&quot;</td><td>&quot;lost wallet&quot;</td><td>&quot;5100 S. Blacks\u2026</td><td>&quot;12/11/21 4:02 \u2026</td><td>null</td><td>2021-12-11 16:02:00 CST</td><td>2021-12-11</td><td>&quot;21-00889&quot;</td><td>&quot;5100 South Bla\u2026</td><td>[41.789735, -87.601538]</td></tr><tr><td>&quot;Person reporte\u2026</td><td>&quot;Closed&quot;</td><td>&quot;lost property&quot;</td><td>&quot;5400 S. Shore \u2026</td><td>&quot;7/6/21 1:30 AM\u2026</td><td>null</td><td>2021-07-06 20:38:00 CDT</td><td>2021-07-06</td><td>&quot;21-00391&quot;</td><td>&quot;5400 S. Shore \u2026</td><td>[41.791024, -87.604903]</td></tr><tr><td>&quot;Person lost IL\u2026</td><td>&quot;Closed&quot;</td><td>&quot;lost property&quot;</td><td>&quot;E. 57th St. an\u2026</td><td>&quot;6/16/21 2:30 P\u2026</td><td>null</td><td>2021-06-16 16:51:00 CDT</td><td>2021-06-16</td><td>&quot;21-00345&quot;</td><td>&quot;and East 57th \u2026</td><td>[41.791347, -87.604938]</td></tr><tr><td>&quot;Person lost ce\u2026</td><td>&quot;Closed&quot;</td><td>&quot;lost property&quot;</td><td>&quot;E. 60th St. an\u2026</td><td>&quot;5/21/21 3:40 P\u2026</td><td>null</td><td>2021-05-21 18:35:00 CDT</td><td>2021-05-21</td><td>&quot;21-00288&quot;</td><td>&quot;and East 60th \u2026</td><td>[41.795044, -87.598097]</td></tr><tr><td>&quot;Person reports\u2026</td><td>&quot;Closed&quot;</td><td>&quot;lost property&quot;</td><td>&quot;1100 E. 57th S\u2026</td><td>&quot;3/6/20 7:30 PM\u2026</td><td>null</td><td>2020-03-06 23:18:00 CST</td><td>2020-03-06</td><td>&quot;20-00183&quot;</td><td>&quot;1100 E. 57th S\u2026</td><td>[41.78589, -87.603493]</td></tr><tr><td>&quot;Person reports\u2026</td><td>&quot;Closed&quot;</td><td>&quot;lost property&quot;</td><td>&quot;929 E. 57th St\u2026</td><td>&quot;9/9/19 7:20 PM\u2026</td><td>null</td><td>2019-09-09 20:27:00 CDT</td><td>2019-09-09</td><td>&quot;19-00881&quot;</td><td>&quot;929 East 57th \u2026</td><td>[41.799953, -87.596405]</td></tr><tr><td>&hellip;</td><td>&hellip;</td><td>&hellip;</td><td>&hellip;</td><td>&hellip;</td><td>&hellip;</td><td>&hellip;</td><td>&hellip;</td><td>&hellip;</td><td>&hellip;</td><td>&hellip;</td></tr><tr><td>&quot;iPhone lost be\u2026</td><td>&quot;Closed&quot;</td><td>&quot;lost property&quot;</td><td>&quot;6031 S. Ellis \u2026</td><td>&quot;3/2/13 9:45 PM\u2026</td><td>null</td><td>2013-03-02 23:30:00 CST</td><td>2013-03-02</td><td>&quot;C00226&quot;</td><td>&quot;6031 South Ell\u2026</td><td>[41.792279, -87.599954]</td></tr><tr><td>&quot;Individual rep\u2026</td><td>&quot;Closed&quot;</td><td>&quot;lost property&quot;</td><td>&quot;E. 53rd St. an\u2026</td><td>&quot;2/27/13 2:30 P\u2026</td><td>null</td><td>2013-02-27 18:19:00 CST</td><td>2013-02-27</td><td>&quot;C00213&quot;</td><td>&quot;and East 53rd \u2026</td><td>[41.799459, -87.595018]</td></tr><tr><td>&quot;Woman reported\u2026</td><td>&quot;Closed&quot;</td><td>&quot;lost property&quot;</td><td>&quot;5550 S. Univer\u2026</td><td>&quot;1/27/13 11:10 \u2026</td><td>null</td><td>2013-01-27 11:39:00 CST</td><td>2013-01-27</td><td>&quot;C00110&quot;</td><td>&quot;5550 South Uni\u2026</td><td>[41.792279, -87.599954]</td></tr><tr><td>&quot;Man reports lo\u2026</td><td>&quot;Closed&quot;</td><td>&quot;lost property&quot;</td><td>&quot;5400 S. Ingles\u2026</td><td>&quot;1/8/13 7:30 PM\u2026</td><td>null</td><td>2013-01-09 10:19:00 CST</td><td>2013-01-09</td><td>&quot;C00033&quot;</td><td>&quot;5400 South Ing\u2026</td><td>[41.796998, -87.587886]</td></tr><tr><td>&quot;Wallet taken f\u2026</td><td>&quot;Open&quot;</td><td>&quot;theft&quot;</td><td>&quot;E. 55th St. an\u2026</td><td>&quot;11/3/12 1:55 P\u2026</td><td>null</td><td>2012-11-03 15:34:00 CDT</td><td>2012-11-03</td><td>&quot;B01366&quot;</td><td>&quot;and East 55th \u2026</td><td>[41.795044, -87.598097]</td></tr><tr><td>&quot;Man reports lo\u2026</td><td>&quot;Closed&quot;</td><td>&quot;lost property&quot;</td><td>&quot;6103 S. Univer\u2026</td><td>&quot;10/21/12 12:00\u2026</td><td>null</td><td>2012-10-21 15:53:00 CDT</td><td>2012-10-21</td><td>&quot;B01264&quot;</td><td>&quot;6103 South Uni\u2026</td><td>[41.792972, -87.599928]</td></tr><tr><td>&quot;Woman lost her\u2026</td><td>&quot;Closed&quot;</td><td>&quot;lost property&quot;</td><td>&quot;220 W. Garfiel\u2026</td><td>&quot;10/20/12 10:40\u2026</td><td>null</td><td>2012-10-20 23:44:00 CDT</td><td>2012-10-20</td><td>&quot;B01256&quot;</td><td>&quot;220 W. Garfiel\u2026</td><td>[41.795326, -87.601231]</td></tr><tr><td>&quot;Man lost cell \u2026</td><td>&quot;Closed&quot;</td><td>&quot;lost property&quot;</td><td>&quot;E. 61st St. to\u2026</td><td>&quot;8/18/12 2:00 P\u2026</td><td>null</td><td>2012-08-20 09:36:00 CDT</td><td>2012-08-20</td><td>&quot;B00903&quot;</td><td>&quot;St. to, E. 61s\u2026</td><td>[41.799471, -87.594402]</td></tr><tr><td>&quot;Power outage r\u2026</td><td>&quot;Closed&quot;</td><td>&quot;information&quot;</td><td>&quot;E. 55th St. to\u2026</td><td>&quot;5/14/12 4:50 P\u2026</td><td>&quot;Armed Robbery \u2026</td><td>2012-05-14 16:55:00 CDT</td><td>2012-05-14</td><td>&quot;B00443&quot;</td><td>&quot;St. to, to E. \u2026</td><td>[41.789562, -87.601259]</td></tr><tr><td>&quot;Woman reported\u2026</td><td>&quot;Closed&quot;</td><td>&quot;lost property&quot;</td><td>&quot;Between E. 53r\u2026</td><td>&quot;4/18/12 to 4/1\u2026</td><td>null</td><td>2012-04-19 10:09:00 CDT</td><td>2012-04-19</td><td>&quot;B00331&quot;</td><td>&quot;Between East 5\u2026</td><td>[41.799503, -87.590451]</td></tr><tr><td>&quot;Woman reported\u2026</td><td>&quot;Open&quot;</td><td>&quot;theft&quot;</td><td>&quot;5500 S. Lake P\u2026</td><td>&quot;5/26/11 8:45 A\u2026</td><td>null</td><td>2011-05-26 17:54:00 CDT</td><td>2011-05-26</td><td>&quot;A00270&quot;</td><td>&quot;5500 South Lak\u2026</td><td>[41.791407, -87.598074]</td></tr><tr><td>&quot;Man reported l\u2026</td><td>&quot;Closed&quot;</td><td>&quot;lost property&quot;</td><td>&quot;E. 59th St. an\u2026</td><td>&quot;5/20/11 10:00 \u2026</td><td>null</td><td>2011-05-20 13:57:00 CDT</td><td>2011-05-20</td><td>&quot;A00248&quot;</td><td>&quot;and East 59th \u2026</td><td>[41.787767, -87.598015]</td></tr></tbody></table></div>",
            "text/plain": "shape: (81, 11)\n\u250c\u2500\u2500\u2500\u2500\u2500\u2500\u2500\u2500\u2500\u2500\u2500\u252c\u2500\u2500\u2500\u2500\u2500\u2500\u2500\u2500\u2500\u2500\u2500\u252c\u2500\u2500\u2500\u2500\u2500\u2500\u2500\u2500\u2500\u2500\u2500\u252c\u2500\u2500\u2500\u2500\u2500\u2500\u2500\u2500\u2500\u2500\u2500\u252c\u2500\u2500\u2500\u252c\u2500\u2500\u2500\u2500\u2500\u2500\u2500\u2500\u2500\u2500\u2500\u252c\u2500\u2500\u2500\u2500\u2500\u2500\u2500\u2500\u2500\u2500\u2500\u252c\u2500\u2500\u2500\u2500\u2500\u2500\u2500\u2500\u2500\u2500\u2500\u252c\u2500\u2500\u2500\u2500\u2500\u2500\u2500\u2500\u2500\u2500\u2510\n\u2502 comments  \u2506 dispositi \u2506 incident  \u2506 location  \u2506 \u2026 \u2506 reported_ \u2506 ucpd_id   \u2506 validated \u2506 validate \u2502\n\u2502 ---       \u2506 on        \u2506 ---       \u2506 ---       \u2506   \u2506 date      \u2506 ---       \u2506 _address  \u2506 d_locati \u2502\n\u2502 str       \u2506 ---       \u2506 str       \u2506 str       \u2506   \u2506 ---       \u2506 str       \u2506 ---       \u2506 on       \u2502\n\u2502           \u2506 str       \u2506           \u2506           \u2506   \u2506 date      \u2506           \u2506 str       \u2506 ---      \u2502\n\u2502           \u2506           \u2506           \u2506           \u2506   \u2506           \u2506           \u2506           \u2506 list[f64 \u2502\n\u2502           \u2506           \u2506           \u2506           \u2506   \u2506           \u2506           \u2506           \u2506 ]        \u2502\n\u255e\u2550\u2550\u2550\u2550\u2550\u2550\u2550\u2550\u2550\u2550\u2550\u256a\u2550\u2550\u2550\u2550\u2550\u2550\u2550\u2550\u2550\u2550\u2550\u256a\u2550\u2550\u2550\u2550\u2550\u2550\u2550\u2550\u2550\u2550\u2550\u256a\u2550\u2550\u2550\u2550\u2550\u2550\u2550\u2550\u2550\u2550\u2550\u256a\u2550\u2550\u2550\u256a\u2550\u2550\u2550\u2550\u2550\u2550\u2550\u2550\u2550\u2550\u2550\u256a\u2550\u2550\u2550\u2550\u2550\u2550\u2550\u2550\u2550\u2550\u2550\u256a\u2550\u2550\u2550\u2550\u2550\u2550\u2550\u2550\u2550\u2550\u2550\u256a\u2550\u2550\u2550\u2550\u2550\u2550\u2550\u2550\u2550\u2550\u2561\n\u2502 Electroni \u2506 Open      \u2506 harassmen \u2506 E. 61st   \u2506 \u2026 \u2506 2023-12-2 \u2506 23-01269  \u2506 between   \u2506 [41.7950 \u2502\n\u2502 c harassm \u2506           \u2506 t by elec \u2506 St.       \u2506   \u2506 8         \u2506           \u2506 S.        \u2506 6, -87.5 \u2502\n\u2502 ent       \u2506           \u2506 tronic    \u2506 Street    \u2506   \u2506           \u2506           \u2506 Greenwood \u2506 96557]   \u2502\n\u2502 report    \u2506           \u2506 means     \u2506 between   \u2506   \u2506           \u2506           \u2506 Ave. to,  \u2506          \u2502\n\u2502 doc\u2026      \u2506           \u2506           \u2506 S. Gr\u2026    \u2506   \u2506           \u2506           \u2506 E.\u2026       \u2506          \u2502\n\u2502 Two       \u2506 Referred  \u2506 informati \u2506 S. Stony  \u2506 \u2026 \u2506 2023-08-3 \u2506 2023-0304 \u2506 to S.     \u2506 [41.7896 \u2502\n\u2502 suitcases \u2506           \u2506 on /      \u2506 Island    \u2506   \u2506 1         \u2506 12        \u2506 Stony     \u2506 07, -87. \u2502\n\u2502 taken     \u2506           \u2506 theft     \u2506 Ave. E.   \u2506   \u2506           \u2506           \u2506 Island,   \u2506 596414]  \u2502\n\u2502 from      \u2506           \u2506           \u2506 57th St.\u2026 \u2506   \u2506           \u2506           \u2506 Chicago,  \u2506          \u2502\n\u2502 off-cam\u2026  \u2506           \u2506           \u2506           \u2506   \u2506           \u2506           \u2506 IL        \u2506          \u2502\n\u2502 Person    \u2506 Closed    \u2506 lost      \u2506 1330 E.   \u2506 \u2026 \u2506 2023-08-2 \u2506 23-00810  \u2506 1330 East \u2506 [41.7952 \u2502\n\u2502 reported  \u2506           \u2506 property  \u2506 53rd St.  \u2506   \u2506 9         \u2506           \u2506 53rd      \u2506 31, -87. \u2502\n\u2502 loss of   \u2506           \u2506           \u2506 to E.     \u2506   \u2506           \u2506           \u2506 Street,   \u2506 587464]  \u2502\n\u2502 ID card \u2026 \u2506           \u2506           \u2506 55th St.  \u2506   \u2506           \u2506           \u2506 Chicago,  \u2506          \u2502\n\u2502           \u2506           \u2506           \u2506 \u2026         \u2506   \u2506           \u2506           \u2506 \u2026         \u2506          \u2502\n\u2502 Person    \u2506 Closed    \u2506 lost      \u2506 1100 E.   \u2506 \u2026 \u2506 2023-04-2 \u2506 23-00386  \u2506 1100 E.   \u2506 [41.7961 \u2502\n\u2502 lost      \u2506           \u2506 property  \u2506 57th St.  \u2506   \u2506 4         \u2506           \u2506 57th St   \u2506 89, -87. \u2502\n\u2502 wallet    \u2506           \u2506           \u2506 to 1526   \u2506   \u2506           \u2506           \u2506 to,       \u2506 588537]  \u2502\n\u2502 while     \u2506           \u2506           \u2506 E. 55th\u2026  \u2506   \u2506           \u2506           \u2506 Chicago,  \u2506          \u2502\n\u2502 walking   \u2506           \u2506           \u2506           \u2506   \u2506           \u2506           \u2506 IL \u2026      \u2506          \u2502\n\u2502 \u2026         \u2506 \u2026         \u2506 \u2026         \u2506 \u2026         \u2506 \u2026 \u2506 \u2026         \u2506 \u2026         \u2506 \u2026         \u2506 \u2026        \u2502\n\u2502 Power     \u2506 Closed    \u2506 informati \u2506 E. 55th   \u2506 \u2026 \u2506 2012-05-1 \u2506 B00443    \u2506 St. to,   \u2506 [41.7895 \u2502\n\u2502 outage    \u2506           \u2506 on        \u2506 St. to E. \u2506   \u2506 4         \u2506           \u2506 to E.     \u2506 62, -87. \u2502\n\u2502 reported  \u2506           \u2506           \u2506 58th St.  \u2506   \u2506           \u2506           \u2506 55th,     \u2506 601259]  \u2502\n\u2502 in the    \u2506           \u2506           \u2506 /S. E\u2026    \u2506   \u2506           \u2506           \u2506 Chicago,  \u2506          \u2502\n\u2502 are\u2026      \u2506           \u2506           \u2506           \u2506   \u2506           \u2506           \u2506 IL \u2026      \u2506          \u2502\n\u2502 Woman     \u2506 Closed    \u2506 lost      \u2506 Between   \u2506 \u2026 \u2506 2012-04-1 \u2506 B00331    \u2506 Between   \u2506 [41.7995 \u2502\n\u2502 reported  \u2506           \u2506 property  \u2506 E. 53rd   \u2506   \u2506 9         \u2506           \u2506 East 53rd \u2506 03, -87. \u2502\n\u2502 losing    \u2506           \u2506           \u2506 St. and   \u2506   \u2506           \u2506           \u2506 Street,   \u2506 590451]  \u2502\n\u2502 her       \u2506           \u2506           \u2506 S. Black\u2026 \u2506   \u2506           \u2506           \u2506 Chicag\u2026   \u2506          \u2502\n\u2502 wallet    \u2506           \u2506           \u2506           \u2506   \u2506           \u2506           \u2506           \u2506          \u2502\n\u2502 Woman     \u2506 Open      \u2506 theft     \u2506 5500 S.   \u2506 \u2026 \u2506 2011-05-2 \u2506 A00270    \u2506 5500      \u2506 [41.7914 \u2502\n\u2502 reported  \u2506           \u2506           \u2506 Lake Park \u2506   \u2506 6         \u2506           \u2506 South     \u2506 07, -87. \u2502\n\u2502 her       \u2506           \u2506           \u2506 Ave. to   \u2506   \u2506           \u2506           \u2506 Lake Park \u2506 598074]  \u2502\n\u2502 wallet    \u2506           \u2506           \u2506 5700 S\u2026   \u2506   \u2506           \u2506           \u2506 Avenue    \u2506          \u2502\n\u2502 taken \u2026   \u2506           \u2506           \u2506           \u2506   \u2506           \u2506           \u2506 to, \u2026     \u2506          \u2502\n\u2502 Man       \u2506 Closed    \u2506 lost      \u2506 E. 59th   \u2506 \u2026 \u2506 2011-05-2 \u2506 A00248    \u2506 and East  \u2506 [41.7877 \u2502\n\u2502 reported  \u2506           \u2506 property  \u2506 St. and   \u2506   \u2506 0         \u2506           \u2506 59th      \u2506 67, -87. \u2502\n\u2502 losing    \u2506           \u2506           \u2506 S. Univer \u2506   \u2506           \u2506           \u2506 Street    \u2506 598015]  \u2502\n\u2502 keys as   \u2506           \u2506           \u2506 sity Av\u2026  \u2506   \u2506           \u2506           \u2506 to,       \u2506          \u2502\n\u2502 he w\u2026     \u2506           \u2506           \u2506           \u2506   \u2506           \u2506           \u2506 Chicago\u2026  \u2506          \u2502\n\u2514\u2500\u2500\u2500\u2500\u2500\u2500\u2500\u2500\u2500\u2500\u2500\u2534\u2500\u2500\u2500\u2500\u2500\u2500\u2500\u2500\u2500\u2500\u2500\u2534\u2500\u2500\u2500\u2500\u2500\u2500\u2500\u2500\u2500\u2500\u2500\u2534\u2500\u2500\u2500\u2500\u2500\u2500\u2500\u2500\u2500\u2500\u2500\u2534\u2500\u2500\u2500\u2534\u2500\u2500\u2500\u2500\u2500\u2500\u2500\u2500\u2500\u2500\u2500\u2534\u2500\u2500\u2500\u2500\u2500\u2500\u2500\u2500\u2500\u2500\u2500\u2534\u2500\u2500\u2500\u2500\u2500\u2500\u2500\u2500\u2500\u2500\u2500\u2534\u2500\u2500\u2500\u2500\u2500\u2500\u2500\u2500\u2500\u2500\u2518"
          },
          "execution_count": 44,
          "metadata": {},
          "output_type": "execute_result"
        }
      ],
      "source": [
        "df.filter(pl.col(\"location\").str.contains(\" to \"))"
      ]
    },
    {
      "cell_type": "code",
      "execution_count": 45,
      "id": "5e9e449e2d0393c5",
      "metadata": {
        "ExecuteTime": {
          "end_time": "2024-02-12T07:36:38.625271Z",
          "start_time": "2024-02-12T07:36:38.579214Z"
        },
        "collapsed": false
      },
      "outputs": [],
      "source": [
        "STREET_CORRECTIONS_FINAL = [s for _, _, s in STREET_CORRECTIONS]\n",
        "STREET_CORRECTIONS_FINAL.extend([\"S. Shore Dr.\", \"Midway Plaisance\"])\n",
        "\n",
        "\n",
        "def parse_between_address(addr: str):\n",
        "    print(addr)\n",
        "    ordinal_streets = re.findall(r\"E\\. \\d{2}[a-z]{2} \\w+\", addr)\n",
        "    ordinal_streets.sort()\n",
        "    ordinals = list(map(int, re.findall(r\"E\\. (\\d{2})[a-z]{2} \\w+\", addr)))\n",
        "    ordinals.sort()\n",
        "    non_ordinal_streets = [s for s in STREET_CORRECTIONS_FINAL if s in addr]\n",
        "\n",
        "    if len(ordinals) == 2 and ordinals[1] - ordinals[0] != 1:\n",
        "        print(f\"Large ordinals: {ordinals}\")\n",
        "    elif len(ordinals) == 2 and len(non_ordinal_streets) == 1:\n",
        "        if ordinals[1] - ordinals[0] != 1:\n",
        "            return\n",
        "        print(f\"{ordinals[0]}20 {non_ordinal_streets[0]}\")\n",
        "    elif len(non_ordinal_streets) > 1 and len(ordinals) == 1:\n",
        "        print(f\"{non_ordinal_streets[0]} and {ordinal_streets[0]}\")\n",
        "        print(f\"{non_ordinal_streets[1]} and {ordinal_streets[0]}\")\n",
        "    else:\n",
        "        print(ordinal_streets, non_ordinal_streets)\n",
        "    print(\"----\")"
      ]
    },
    {
      "cell_type": "code",
      "execution_count": 48,
      "id": "d98b0d04f48ae15b",
      "metadata": {
        "ExecuteTime": {
          "end_time": "2024-02-12T07:41:29.885144Z",
          "start_time": "2024-02-12T07:41:29.878553Z"
        },
        "collapsed": false
      },
      "outputs": [],
      "source": [
        "# between_addr = (\n",
        "#     df.filter(pl.col(\"location\").str.contains(\" between \"))\n",
        "#     .filter(~pl.col(\"location\").str.contains(\" to \"))[\"location\"]\n",
        "#     .to_list()\n",
        "# )\n",
        "\n",
        "# Do NOT geocode if it has the word 'to'\n",
        "\n",
        "between_addr = df.filter(pl.col(\"location\").str.contains(\" to \"))[\"location\"].to_list()"
      ]
    },
    {
      "cell_type": "code",
      "execution_count": 50,
      "id": "2bbb30cd35124fdb",
      "metadata": {
        "ExecuteTime": {
          "end_time": "2024-02-12T07:41:55.881733Z",
          "start_time": "2024-02-12T07:41:55.874856Z"
        },
        "collapsed": false
      },
      "outputs": [
        {
          "name": "stdout",
          "output_type": "stream",
          "text": [
            "E. 61st St. Street between S. Greenwood Ave. to S. Woodlawn Ave.\n",
            "S. Greenwood Ave. and E. 61st St\n",
            "S. Woodlawn Ave. and E. 61st St\n",
            "----\n",
            "S. Stony Island Ave. E. 57th St. to E. 58th St. (Apartment)\n",
            "5720 S. Stony Island Ave.\n",
            "----\n",
            "1330 E. 53rd St. to E. 55th St. and S. Lake Park Ave. (Public Way)\n",
            "Large ordinals: [53, 55]\n",
            "----\n",
            "1100 E. 57th St. to 1526 E. 55th St.\n",
            "Large ordinals: [55, 57]\n",
            "----\n",
            "1101 E. 56th St. to 1100 E. 57th St.\n",
            "['E. 56th St', 'E. 57th St'] []\n",
            "----\n",
            "929 E.E. 57th St. to E. 57th and S. Ellis Ave.\n",
            "Large ordinals: [57, 57]\n",
            "----\n",
            "5100 S. Blackstone Ave. to 970 E. 58th St.\n",
            "['E. 58th St'] ['S. Blackstone Ave.']\n",
            "----\n",
            "5400 S. Shore to 5700 S. Maryland Ave.\n",
            "[] ['S. Maryland Ave.']\n",
            "----\n",
            "E. 57th St. and S. Maryland Ave. to E. 57th St.and S. Kenwood Ave.\n",
            "Large ordinals: [57, 57]\n",
            "----\n",
            "E. 60th St. and S. Ellis Ave. to E. 55th St. and S. University Ave.\n",
            "Large ordinals: [55, 60]\n",
            "----\n",
            "1100 E. 57th St. to 900 E. 60th St.\n",
            "Large ordinals: [57, 60]\n",
            "----\n",
            "929 E. 57th St. to 1200 E. 53rd St.\n",
            "Large ordinals: [53, 57]\n",
            "----\n",
            "Between E. 61st St. and S. Cottage Grove Ave. to E. 58th St. and S. Greenwood Ave.\n",
            "Large ordinals: [58, 61]\n",
            "----\n",
            "915 E. 60th St. to 5500 S. University Ave.\n",
            "['E. 60th St'] ['S. University Ave.']\n",
            "----\n",
            "E. 53rd St. and S. Woodlawn Ave. to E. 55th St. and S. University Ave.\n",
            "Large ordinals: [53, 55]\n",
            "----\n",
            "E. 53rd St. and S. Hyde Park Blvd. to 5640 S. Ellis Ave.\n",
            "S. Ellis Ave. and E. 53rd St\n",
            "S. Hyde Park Blvd. and E. 53rd St\n",
            "----\n",
            "1100 E. 57th St. to 5445 S. Ingleside Ave.\n",
            "['E. 57th St'] ['S. Ingleside Ave.']\n",
            "----\n",
            "E. 58th St. and S. Woodlawn Ave. to 1100 E. 57th St.\n",
            "5720 S. Woodlawn Ave.\n",
            "----\n",
            "1346 E. 53rd St. to Lakefront\n",
            "['E. 53rd St'] []\n",
            "----\n",
            "5700 S. University Ave. to 1362 E. 59th St.\n",
            "['E. 59th St'] ['S. University Ave.']\n",
            "----\n",
            "5900 S. Payne Dr. to 5758 S. Maryland Ave.\n",
            "[] ['S. Maryland Ave.']\n",
            "----\n",
            "1100 E. 57th St. to E. 55th St. and S. Ingleside Ave.\n",
            "Large ordinals: [55, 57]\n",
            "----\n",
            "E. 55th St. and S. University Ave. to E. 53rd St. and S. Woodlawn Ave.\n",
            "Large ordinals: [53, 55]\n",
            "----\n",
            "E. 57th St. to E. 55th St. and S. University Ave.\n",
            "Large ordinals: [55, 57]\n",
            "----\n",
            "1330 E. 53rd St. St to E. 59th St. and S. Ellis Ave.\n",
            "Large ordinals: [53, 59]\n",
            "----\n",
            "6031 S. Ellis Ave. to E. 57th St. and S. University Ave.\n",
            "S. Ellis Ave. and E. 57th St\n",
            "S. University Ave. and E. 57th St\n",
            "----\n",
            "1116 E. 59th St. to 1100 E. 57th St.\n",
            "Large ordinals: [57, 59]\n",
            "----\n",
            "E. 57th St. and S. Ellis Ave. to E. 61st St. and S. University Ave.\n",
            "Large ordinals: [57, 61]\n",
            "----\n",
            "1100 E. 57th St. to 5709 S. University Ave.\n",
            "['E. 57th St'] ['S. University Ave.']\n",
            "----\n",
            "E. 55th St. and S. Woodlawn Ave. to 5521 S. University Ave.\n",
            "S. University Ave. and E. 55th St\n",
            "S. Woodlawn Ave. and E. 55th St\n",
            "----\n",
            "1100 E. 57th St. to 5050 S. Lake Shore Dr.\n",
            "['E. 57th St'] ['S. Lake Shore Dr.']\n",
            "----\n",
            "5500 S. University Ave. to 5630 S. University Ave.\n",
            "[] ['S. University Ave.']\n",
            "----\n",
            "5500 S. University Ave. to 5811 S. Ellis Ave.\n",
            "[] ['S. Ellis Ave.', 'S. University Ave.']\n",
            "----\n",
            "1100 E. 57th St. to 5655 S. University Ave.\n",
            "['E. 57th St'] ['S. University Ave.']\n",
            "----\n",
            "5640 S. Ellis Ave. to E. 56th St. and S. Cornell Ave.\n",
            "S. Cornell Ave. and E. 56th St\n",
            "S. Ellis Ave. and E. 56th St\n",
            "----\n",
            "1118 E. 58th St. to 6031 S. Ellis Ave.\n",
            "['E. 58th St'] ['S. Ellis Ave.']\n",
            "----\n",
            "E. 58th St. and S. Ellis Ave. to E. 60th St. and S. Ellis Ave.\n",
            "Large ordinals: [58, 60]\n",
            "----\n",
            "5730 S. Ellis Ave. to 5900 S. Ellis Ave.\n",
            "[] ['S. Ellis Ave.']\n",
            "----\n",
            "E. 55th St. and S. Ellis Ave. to E. 53rd St. and S. Woodlawn Ave.\n",
            "Large ordinals: [53, 55]\n",
            "----\n",
            "E. 57th St. and S. Stony Island Ave. to 5811 S. Ellis Ave.\n",
            "S. Ellis Ave. and E. 57th St\n",
            "S. Stony Island Ave. and E. 57th St\n",
            "----\n",
            "E. 60th St. and S. Drexel Ave. to E. 61st St. and S. Kimbark Ave.\n",
            "['E. 60th St', 'E. 61st St'] ['S. Drexel Ave.', 'S. Kimbark Ave.']\n",
            "----\n",
            "5100 S. East End Ave. to 1111 E. 60th St. (CTA Bus)\n",
            "['E. 60th St'] ['S. East End Ave.']\n",
            "----\n",
            "E. 60th St. and S. Ellis Ave. to E. 55th St.and S. Hyde Park Blvd. (Shuttle Bus)\n",
            "Large ordinals: [55, 60]\n",
            "----\n",
            "1005 E. 60th St. to 6031 S. Ellis Ave.\n",
            "['E. 60th St'] ['S. Ellis Ave.']\n",
            "----\n",
            "E. 55th St. and S. Lake Park Ave. to E. 54th St. and S. Kenwood Ave.\n",
            "['E. 54th St', 'E. 55th St'] ['S. Kenwood Ave.', 'S. Lake Park Ave.']\n",
            "----\n",
            "1155 E. 58th St. to E. 55th St. and S. Lake Park Ave.\n",
            "Large ordinals: [55, 58]\n",
            "----\n",
            "E. 56th St. and S. Cottage Grove Ave. to E. 56th St. and S. Ellis Ave.\n",
            "Large ordinals: [56, 56]\n",
            "----\n",
            "E. 57th St. and S. Ellis Ave. to E. 55th St. and S. Shore Dr.\n",
            "Large ordinals: [55, 57]\n",
            "----\n",
            "1362 E. 59th St. to 1526 E. 55th St.\n",
            "Large ordinals: [55, 59]\n",
            "----\n",
            "E. 54th St. to E. 56th St. S. University Ave.\n",
            "Large ordinals: [54, 56]\n",
            "----\n",
            "6031 S. Ellis Ave. to 1307 E. 60th St.\n",
            "['E. 60th St'] ['S. Ellis Ave.']\n",
            "----\n",
            "E. 57th St. and S. University Ave. to E. 60th St. and S. Kimbark Ave.\n",
            "Large ordinals: [57, 60]\n",
            "----\n",
            "Between 1100 E. 57th St. to 5801 S. Ellis Ave.\n",
            "['E. 57th St'] ['S. Ellis Ave.']\n",
            "----\n",
            "E. 53rd St. to 1414 E. 59th St.\n",
            "Large ordinals: [53, 59]\n",
            "----\n",
            "E. 55th St. and S. Ellis Ave. to E. 51st St. and S. University Ave.\n",
            "Large ordinals: [51, 55]\n",
            "----\n",
            "E. 61st St. and S. Ellis Ave. to 1414 E. 59th St.\n",
            "Large ordinals: [59, 61]\n",
            "----\n",
            "E. 61st St. and S. Kenwood Ave. to 5815 S. Maryland Ave.\n",
            "S. Kenwood Ave. and E. 61st St\n",
            "S. Maryland Ave. and E. 61st St\n",
            "----\n",
            "E. 57th St. and S. Ellis Ave. to E. 54th St. and S. Ingleside Ave.\n",
            "Large ordinals: [54, 57]\n",
            "----\n",
            "E. 55th St. to E. 56th St. / S. University Ave. to S. Woodlawn Ave.\n",
            "['E. 55th St', 'E. 56th St'] ['S. University Ave.', 'S. Woodlawn Ave.']\n",
            "----\n",
            "1118 E. 58th St. to 5807 S. Woodlawn Ave.\n",
            "['E. 58th St'] ['S. Woodlawn Ave.']\n",
            "----\n",
            "5530 S. Ellis Ave. to E. 56th St. and S. University Ave.\n",
            "S. Ellis Ave. and E. 56th St\n",
            "S. University Ave. and E. 56th St\n",
            "----\n",
            "E. 55th St. and S. Hyde Park Blvd. to E. 57th St. and S. Ellis Ave.\n",
            "Large ordinals: [55, 57]\n",
            "----\n",
            "E. 55th St. and S. Cornell Ave. to E. 57th St. and S. Woodlawn Ave.\n",
            "Large ordinals: [55, 57]\n",
            "----\n",
            "6054 S. Drexel Ave. to 5801 S. Ellis Ave.\n",
            "[] ['S. Drexel Ave.', 'S. Ellis Ave.']\n",
            "----\n",
            "E. 57th St. and S. Greenwood Ave. to S. Hyde Park Blvd. and S. Greenwood Ave.\n",
            "S. Greenwood Ave. and E. 57th St\n",
            "S. Hyde Park Blvd. and E. 57th St\n",
            "----\n",
            "E. 54th St. and S. Maryland Ave. to 6031 S. Ellis Ave.\n",
            "S. Ellis Ave. and E. 54th St\n",
            "S. Maryland Ave. and E. 54th St\n",
            "----\n",
            "5540 S. Hyde Park Blvd. to 6031 S. Ellis Ave.\n",
            "[] ['S. Ellis Ave.', 'S. Hyde Park Blvd.']\n",
            "----\n",
            "1442 E. 59th St. to 1116 E. 59th St.\n",
            "Large ordinals: [59, 59]\n",
            "----\n",
            "860 E. 59th St. to 5555 S. Ellis Ave.\n",
            "['E. 59th St'] ['S. Ellis Ave.']\n",
            "----\n",
            "6031 S. Ellis Ave. to 1100 E. 57th St.\n",
            "['E. 57th St'] ['S. Ellis Ave.']\n",
            "----\n",
            "E. 53rd St. and S. Kimbark Ave. to E. 60th St. and S. Ingleside Ave.\n",
            "Large ordinals: [53, 60]\n",
            "----\n",
            "5550 S. University Ave. to 1100 E. 57th St.\n",
            "['E. 57th St'] ['S. University Ave.']\n",
            "----\n",
            "5400 S. Ingleside Ave. to 5400 S. Lake Park Ave.\n",
            "[] ['S. Ingleside Ave.', 'S. Lake Park Ave.']\n",
            "----\n",
            "E. 55th St. and S. University Ave. to E. 55th St. and S. Lake Park Ave.\n",
            "Large ordinals: [55, 55]\n",
            "----\n",
            "6103 S. University Ave. to 1101 E. 56th St.\n",
            "['E. 56th St'] ['S. University Ave.']\n",
            "----\n",
            "220 W. Garfield to 1000 E. 55th St.\n",
            "['E. 55th St'] []\n",
            "----\n",
            "E. 61st St. to E. 53rd St. (S. Hyde Park Blvd. Area)\n",
            "Large ordinals: [53, 61]\n",
            "----\n",
            "E. 55th St. to E. 58th St. /S. Ellis Ave. to S. Woodlawn Ave.\n",
            "Large ordinals: [55, 58]\n",
            "----\n",
            "Between E. 53rd St. and S. Blackstone Ave. to E. 54th St. and S. Woodlawn Ave.\n",
            "['E. 53rd St', 'E. 54th St'] ['S. Blackstone Ave.', 'S. Woodlawn Ave.']\n",
            "----\n",
            "5500 S. Lake Park Ave. to 5700 S. University Ave.\n",
            "[] ['S. Lake Park Ave.', 'S. University Ave.']\n",
            "----\n",
            "E. 59th St. and S. University Ave. to 929 E. 57th St.\n",
            "Large ordinals: [57, 59]\n",
            "----\n"
          ]
        }
      ],
      "source": [
        "for i in range(len(between_addr)):\n",
        "    parse_between_address(between_addr[i])"
      ]
    },
    {
      "cell_type": "code",
      "execution_count": 47,
      "id": "ee95450e38e3e81e",
      "metadata": {
        "ExecuteTime": {
          "end_time": "2024-02-12T07:36:38.642258Z",
          "start_time": "2024-02-12T07:36:38.588604Z"
        },
        "collapsed": false
      },
      "outputs": [],
      "source": []
    }
  ],
  "metadata": {
    "kernelspec": {
      "display_name": "Python 3",
      "language": "python",
      "name": "python3"
    },
    "language_info": {
      "codemirror_mode": {
        "name": "ipython",
        "version": 2
      },
      "file_extension": ".py",
      "mimetype": "text/x-python",
      "name": "python",
      "nbconvert_exporter": "python",
      "pygments_lexer": "ipython2",
      "version": "2.7.6"
    }
  },
  "nbformat": 4,
  "nbformat_minor": 5
}
