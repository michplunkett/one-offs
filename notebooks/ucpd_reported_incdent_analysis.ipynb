{
 "cells": [
  {
   "cell_type": "code",
   "execution_count": 1,
   "id": "initial_id",
   "metadata": {
    "collapsed": true,
    "ExecuteTime": {
     "end_time": "2024-01-01T01:51:40.570562Z",
     "start_time": "2024-01-01T01:51:40.187130Z"
    }
   },
   "outputs": [],
   "source": [
    "import polars as pl"
   ]
  },
  {
   "cell_type": "code",
   "execution_count": 2,
   "outputs": [],
   "source": [
    "# Import incidents and format columns\n",
    "df = pl.read_csv(\n",
    "    \"./data/incident_dump.csv\",\n",
    ").with_columns(\n",
    "    pl.col(\"reported\")\n",
    "    .str.strptime(pl.Datetime, format=\"%Y-%m-%dT%H:%M:%S%z\")\n",
    "    .dt.convert_time_zone(\"America/Chicago\"),\n",
    "    pl.col(\"reported_date\").str.to_date(\"%Y-%m-%d\"),\n",
    "    pl.col(\"validated_location\").str.split(\",\").cast(pl.List(pl.Float64)),\n",
    "    pl.col(\"incident\").str.to_lowercase(),\n",
    ")"
   ],
   "metadata": {
    "collapsed": false,
    "ExecuteTime": {
     "end_time": "2024-01-01T01:51:40.591515Z",
     "start_time": "2024-01-01T01:51:40.570848Z"
    }
   },
   "id": "14f7bbdba7444ce8"
  },
  {
   "cell_type": "code",
   "execution_count": 3,
   "outputs": [
    {
     "data": {
      "text/plain": "shape: (719, 2)\n┌───────────────────────────────┬───────┐\n│ incident                      ┆ count │\n│ ---                           ┆ ---   │\n│ str                           ┆ u32   │\n╞═══════════════════════════════╪═══════╡\n│ theft                         ┆ 2953  │\n│ information                   ┆ 1365  │\n│ found property                ┆ 914   │\n│ lost property                 ┆ 828   │\n│ …                             ┆ …     │\n│ information / found narcotics ┆ 1     │\n│ information / fondling        ┆ 1     │\n│ deceptive                     ┆ 1     │\n│ damage to city property       ┆ 1     │\n└───────────────────────────────┴───────┘",
      "text/html": "<div><style>\n.dataframe > thead > tr > th,\n.dataframe > tbody > tr > td {\n  text-align: right;\n}\n</style>\n<small>shape: (719, 2)</small><table border=\"1\" class=\"dataframe\"><thead><tr><th>incident</th><th>count</th></tr><tr><td>str</td><td>u32</td></tr></thead><tbody><tr><td>&quot;theft&quot;</td><td>2953</td></tr><tr><td>&quot;information&quot;</td><td>1365</td></tr><tr><td>&quot;found property…</td><td>914</td></tr><tr><td>&quot;lost property&quot;</td><td>828</td></tr><tr><td>&quot;traffic violat…</td><td>533</td></tr><tr><td>&quot;information / …</td><td>481</td></tr><tr><td>&quot;liquor law vio…</td><td>440</td></tr><tr><td>&quot;medical call&quot;</td><td>419</td></tr><tr><td>&quot;battery&quot;</td><td>418</td></tr><tr><td>&quot;information / …</td><td>351</td></tr><tr><td>&quot;injured person…</td><td>319</td></tr><tr><td>&quot;mental health …</td><td>318</td></tr><tr><td>&hellip;</td><td>&hellip;</td></tr><tr><td>&quot;animal bite&quot;</td><td>1</td></tr><tr><td>&quot;information / …</td><td>1</td></tr><tr><td>&quot;other&quot;</td><td>1</td></tr><tr><td>&quot;information / …</td><td>1</td></tr><tr><td>&quot;non-criminal r…</td><td>1</td></tr><tr><td>&quot;information / …</td><td>1</td></tr><tr><td>&quot;assist other a…</td><td>1</td></tr><tr><td>&quot;information / …</td><td>1</td></tr><tr><td>&quot;information / …</td><td>1</td></tr><tr><td>&quot;information / …</td><td>1</td></tr><tr><td>&quot;deceptive&quot;</td><td>1</td></tr><tr><td>&quot;damage to city…</td><td>1</td></tr></tbody></table></div>"
     },
     "execution_count": 3,
     "metadata": {},
     "output_type": "execute_result"
    }
   ],
   "source": [
    "df.groupby([\"incident\"]).agg(pl.count()).sort(\"count\", descending=True)"
   ],
   "metadata": {
    "collapsed": false,
    "ExecuteTime": {
     "end_time": "2024-01-01T01:51:40.601416Z",
     "start_time": "2024-01-01T01:51:40.592675Z"
    }
   },
   "id": "15f78416b84388bc"
  },
  {
   "cell_type": "code",
   "execution_count": 8,
   "outputs": [
    {
     "data": {
      "text/plain": "shape: (719, 2)\n┌───────────────────────────────────┬───────┐\n│ incident                          ┆ count │\n│ ---                               ┆ ---   │\n│ str                               ┆ u32   │\n╞═══════════════════════════════════╪═══════╡\n│ theft                             ┆ 2953  │\n│ information                       ┆ 1365  │\n│ found property                    ┆ 914   │\n│ lost property                     ┆ 828   │\n│ …                                 ┆ …     │\n│ intimidation / extortion          ┆ 1     │\n│ fire / damage to property         ┆ 1     │\n│ domestic aggravated battery / se… ┆ 1     │\n│ information / traffic violations  ┆ 1     │\n└───────────────────────────────────┴───────┘",
      "text/html": "<div><style>\n.dataframe > thead > tr > th,\n.dataframe > tbody > tr > td {\n  text-align: right;\n}\n</style>\n<small>shape: (719, 2)</small><table border=\"1\" class=\"dataframe\"><thead><tr><th>incident</th><th>count</th></tr><tr><td>str</td><td>u32</td></tr></thead><tbody><tr><td>&quot;theft&quot;</td><td>2953</td></tr><tr><td>&quot;information&quot;</td><td>1365</td></tr><tr><td>&quot;found property…</td><td>914</td></tr><tr><td>&quot;lost property&quot;</td><td>828</td></tr><tr><td>&quot;traffic violat…</td><td>533</td></tr><tr><td>&quot;information / …</td><td>481</td></tr><tr><td>&quot;liquor law vio…</td><td>440</td></tr><tr><td>&quot;medical call&quot;</td><td>419</td></tr><tr><td>&quot;battery&quot;</td><td>418</td></tr><tr><td>&quot;information / …</td><td>351</td></tr><tr><td>&quot;injured person…</td><td>319</td></tr><tr><td>&quot;mental health …</td><td>318</td></tr><tr><td>&hellip;</td><td>&hellip;</td></tr><tr><td>&quot;information / …</td><td>1</td></tr><tr><td>&quot;information / …</td><td>1</td></tr><tr><td>&quot;other vehicle …</td><td>1</td></tr><tr><td>&quot;other crime vs…</td><td>1</td></tr><tr><td>&quot;information / …</td><td>1</td></tr><tr><td>&quot;aggravated bat…</td><td>1</td></tr><tr><td>&quot;fire / propert…</td><td>1</td></tr><tr><td>&quot;injured person…</td><td>1</td></tr><tr><td>&quot;intimidation /…</td><td>1</td></tr><tr><td>&quot;fire / damage …</td><td>1</td></tr><tr><td>&quot;domestic aggra…</td><td>1</td></tr><tr><td>&quot;information / …</td><td>1</td></tr></tbody></table></div>"
     },
     "execution_count": 8,
     "metadata": {},
     "output_type": "execute_result"
    }
   ],
   "source": [
    "excluded_list = [\n",
    "    \"Fondling\",\n",
    "    \"Medical Call\",\n",
    "    \"Luring a Minor\",\n",
    "    \"Lost Property\",\n",
    "    \"Stalking\",\n",
    "    \"Sexual Assault\",\n",
    "    \"Dating\",\n",
    "    \"Stalking\",\n",
    "    \"Domestic\",\n",
    "    \"Sex\",\n",
    "    \"Found Property\",\n",
    "    \"Mental Health\",\n",
    "    \"Harassment by Electronic Means\",\n",
    "    \"Well-Being\",\n",
    "    \"Threatening Phone Call\",\n",
    "    \"Medical Transport\",\n",
    "    \"Warrant\",\n",
    "    \"Lost Wallet\",\n",
    "    \"Fire Alarm\",\n",
    "    \"Chemical Spill\",\n",
    "    \"Suspicious Mail\",\n",
    "    \"Eavesdropping\",\n",
    "    \"Sex Offense\",\n",
    "    \"Sex Offender\",\n",
    "    \"Sex Crime\",\n",
    "    \"Domestic Aggravated Battery\",\n",
    "    \"Dating Violence\",\n",
    "    \"Harassing Messages\",\n",
    "]\n",
    "df = df.filter(~pl.col(\"incident\").str.contains(\"|\".join(excluded_list)))\n",
    "df.groupby([\"incident\"]).agg(pl.count()).sort(\"count\", descending=True)"
   ],
   "metadata": {
    "collapsed": false,
    "ExecuteTime": {
     "end_time": "2024-01-01T01:58:28.088610Z",
     "start_time": "2024-01-01T01:58:28.077102Z"
    }
   },
   "id": "aaa49407d08352ea"
  },
  {
   "cell_type": "code",
   "execution_count": 5,
   "outputs": [],
   "source": [
    "def list_to_parsed_set(unparsed_list):\n",
    "    parsed_set = set()\n",
    "    for element in unparsed_list:\n",
    "        if \"/\" in element:\n",
    "            for p in element.split(\"/\"):\n",
    "                fmt_element = p.strip().lower()\n",
    "                if p:\n",
    "                    parsed_set.add(fmt_element)\n",
    "        else:\n",
    "            fmt_element = element.strip().lower()\n",
    "            parsed_set.add(fmt_element)\n",
    "    return parsed_set"
   ],
   "metadata": {
    "collapsed": false,
    "ExecuteTime": {
     "end_time": "2024-01-01T01:51:40.612230Z",
     "start_time": "2024-01-01T01:51:40.609343Z"
    }
   },
   "id": "3237c7e6914efbd"
  },
  {
   "cell_type": "code",
   "execution_count": 7,
   "outputs": [
    {
     "name": "stdout",
     "output_type": "stream",
     "text": [
      "{'', 'illness', 'attempt theft from person', 'found drug paraphernalia', 'found wallet', 'well-being', 'domestic issue', 'attempt aggravated robbery', 'pedestrian', 'unlawful possession of a handgun', 'personation of peace officer', 'mental health transport', 'automobile', 'possession of marijuana', 'public way', 'attempted theft', 'aggravated domestic assault', 'mental health', 'minor personal injury', 'armed robbery', 'threat', 'unlawful discharge of firearm', 'identity theft', 'aggravated robbery', 'unlawful discharge of a firearm', 'haz mat event', 'vehicle crash', 'non-criminal complaint', 'criminal trespass to motor vehicle', 'criminal sexual assault', 'minor injury', 'weapon arrest', 'found', 'attempt home invasion', 'dating violence', 'recovered property', 'obstructing peace officer', 'vehicle recovery', 'theft of lost or mislaid property', 'delayed report', 'lost property', 'suspicious phone call', 'aggravated domestic battery', 'aggravated discharge of a firearm', 'trespass', 'motor vehicle accident', 'motor vehicle theft', 'vehicle fire', 'vehicular hijacking', 'aggravated assault', 'telephone scam', 'theft from person', 'smell of gas', 'smoke', 'warrant', 'medical transport', 'prohibited zone', 'attempted aggravated vehicular hijacking', 'damage to uc property', 'failure to register', 'dui arrest', 'trespass to vehicle', 'attempted armed robbery', 'order of protection arrest', 'theft from motor vehicles', 'fraudulent check', 'order of protection notification', 'battery-simple', 'luring a minor', 'hit and run', 'outside agency warrant arrest', 'recovered motor vehicle', 'suspicious person', 'strong armed', 'non-criminal property', 'information harassment', 'deceptive', 'theft from motor vehicle', 'theft of lost', 'possession of crack cocaine', 'stolen motor vehicle recovery', 'criminal trespass to residence', 'unlawful restraint', 'trespass to land', 'domestic aggravated battery', 'sex offender', 'other offense', 'domestic battery', 'carjacking', 'unlawful discharge of weapon', 'non-criminal damage to property', 'harassment by electronic means', 'harassing email messages', 'chemical spill', 'delayed', 'extortion', 'obstructing police', 'possession of stolen motor vehicle', 'personal injury', 'property damage', 'harassing messages', 'other crime', 'non-criminal missing property', 'counterfeit check', 'fleeing or attempting to elude police', 'lost wallet', 'unlawful possession of ammunition', 'traffic violation and warrant arrest', 'attempted robbery', 'smoke alarm', 'attempted theft of motor vehicle', 'non-forcible', 'simple battery', 'recovered vehicle plate', 'information', 'possession of narcotics with intent to deliver', 'other crime vs. person', 'home invasion', 'stuck elevator', 'accidental fire', 'harassing phone calls', 'hazardous material incident', 'arson by fire', 'damage to personal property', 'fire', 'unlawful possession of firearm', 'fraud', 'electronic means', 'noise complaint', 'haz-mat incident', 'sexual abuse', 'vehicle hijacking', 'other violation', 'sick person', 'haz mat', 'information report', 'trespass to motor vehicle', 'damage', 'found property', 'threatening calls', 'attempted aggravated robbery', 'attempt armed robbery', 'threats by electronic means', 'missing person found', 'criminal damage to vehicle', 'forgery', 'deceptive practices', 'theft of motor vehicle', 'possession of stolen property', 'murder', 'ill person', 'attempt burglary', 'warrant arrest', 'criminal damage to vehicles', 'missing person', 'suspicious activity', 'attempt vehicular hijacking', 'intimidation', 'traffic and warrant arrest', 'harassment by telephone', 'aggravated assault of police officer', 'property damage only', 'dog bite', 'impersonation', 'aggravated vehicular hijacking', 'traffic', 'criminal sexual abuse', 'mislaid property', 'accidental injury', 'person down', 'bomb threat', 'other', 'credit card fraud', 'reckless discharge of firearm', 'fondling', 'non-criminal fire', 'battery to police officer', 'interfering', 'missing property', 'attempted burglary', 'resisting arrest', 'threatening phone call', 'public peace violation', 'harassment via electronic means', 'delayed robbery', 'forged prescription', 'unlawful possession of a weapon', 'sex related', 'traffic offense', 'miscellaneous incident report', 'weapon violation', 'false police report', 'burglary', 'recovered firearm', 'strong arm', 'aggravated battery to police officer', 'recovered stolen motor vehicle', 'reckless conduct', 'haz mat incident', 'recovered vehicle', 'weapons violation', 'sexual assault', 'eavesdropping', 'traffic violation', 'property', 'suspect narcotics', 'damage to property', 'criminal trespass to land', 'attempt theft', 'hazardous material event', 'harassing telephone calls', 'trespass to property', 'notification of order of protection', 'possession of a controlled substance', 'theft', 'deliver narcotics', 'accidental', 'non-criminal event', 'sex crime', 'non criminal incident', 'traffic violations', 'recovered motor vehicles', 'assault', 'found keys', 'disorderly conduct', 'irregular condition', 'suspicious vehicle', 'aggravated battery of a police officer', 'attempted', 'possession of narcotics', 'criminal trespass to vehicleassist other agency', 'financial identity theft', 'traffic violations arrest', 'purse snatch', 'traffic arrest', 'battery of police officers', 'weapon recovery', 'lost', 'notice of order of protection', 'non-criminal damage', 'cyber stalking', 'traffic accident', 'harassing email', 'theft of services', 'indecent exposure', 'theft of service', 'mental health call', 'safety hazard', 'cyberstalking', 'animal bite', 'mental transport', 'attempt aggravated vehicular hijacking', 'non-criminal', 'reckless discharge of a firearm', 'non criminal', 'telephone threat', 'attempt theft from motor vehicle', 'other dangerous weapon', 'theft and recovery of motor vehicle', 'homicide', 'arrest', 'criminal damage to motor vehicle', 'deceptive practice', 'armed robbery arrest', 'defacement', 'assist other agency', 'theft by deception', 'battery', 'delayed burglary', 'computer fraud', 'medical call', 'reckless discharge of a weapon', 'other crime against person', 'accident report', 'traffic crash report', 'disturbance', 'robbery-strong arm', 'traffic collision', 'attempted strong arm', 'well-being check', 'attempted theft from person', 'traffic offenses', 'accidental shooting', 'vehicular carjacking', 'criminal trespass to vehicle', 'shots fired', 'death investigation', 'simple assault', 'criminal trespass to property', 'aggravated battery', 'aggravated battery of police officer', 'suspicious phone calls', 'cyber scam', 'telephone threats', 'suspicious persons', 'other deadly weapon', 'obstructing a peace officer', 'found suspect narcotic', 'harassment', 'domestic', 'lost phone', 'resisting police', 'false fire alarm', 'arrest on warrant', 'police officer', 'non-criminal other', 'non- criminal', 'traffic crash arrest', 'elevator entrapment', 'miscellaneous incident', 'criminal damage to property', 'robbery arrest', 'found suspect narcotics', 'motor vehicle theft and recovery', 'suspicious mail', 'reckless driving', 'trespass warning', 'threats', 'obscene phone calls', 'stalking', 'telephone harassment', 'possession of cannabis', 'simple', 'criminal trespass', 'found suspect marijuana', 'drug law violation', 'illegal consumption by minor', 'expired license', 'non-criminal incident', 'attempt robbery', 'theft of motorcycle', 'aggravated criminal sexual assault', 'hate crime', 'damage to vehicles', 'suspicious letter', 'interference with police officer', 'suspicious package', 'damaged property', 'non-criminal report', 'unlawful use of weapon', 'attempted vehicular hijacking', 'traffic crash property damage', 'vandalism', 'found person', 'aggravated battery of a protected employee', 'security alarm', 'unlawful use of a weapon', 'public indecency', 'found narcotics paraphernalia', 'counterfeit documents', 'interference with public officer', 'non-criminal damage to vehicle', 'unlawful possession of a firearm', 'found weapon', 'narcotics arrest', 'found narcotics', 'possession of controlled substance', 'domestic dispute', 'violation of order of protection', 'narcotics', 'motor vehicle theft recovery', 'criminal defacement', 'dui', 'assist other agency motor vehicle theft and recovery', 'damage to city property', 'injured person', 'aggravated vehicular carjacking', 'attempted motor vehicle theft', 'possession of controlled substances', 'unlawful discharge of a weapon', 'non-criminal offense', 'obstruct police officers', 'senior citizen', 'personal injuries', 'irregular conditions', 'ucpd arrest warrant', 'damage to uc vehicle', 'unauthorized use of computer', 'attempt sexual assault', 'robbery', 'fraudulent checks', 'domestic assault', 'obscene phone call', 'harassing phone call`', 'hit and run property damage', 'domestic aggravated assault', 'fire alarm', 'possession of lost', 'non-criminal property damage', 'traffic crash', 'motor vehicle recovery', 'robbery-aggravated', 'sex offense', 'unlawful use of weapons', 'recovery of motor vehicle', 'warrant arrests', 'weapon turn-in', 'unlawful possession of weapons', 'possession of drug paraphernalia', 'miscellaneous', 'simple assault battery', 'alarm', 'traffic violation arrest', 'attempt motor vehicle theft', 'arson', 'non-criminal informational report', 'unlawful use of a weapon arrest', 'assault and harassment by electronic means', 'order of protection', 'non criminal damage to property', 'cutting instrument', 'theft from vehicle', 'stolen vehicle recovery', 'hit and run traffic crash', 'liquor law violation', 'suspect narcotics found', 'ambulance request', 'traffic arrests', 'damage to vehicle', 'other non-criminal property', 'unlawful possession of weapon', 'domestic disturbance', 'recovery', 'foreign steal', 'other vehicle offenses'}\n"
     ]
    }
   ],
   "source": [
    "print(list_to_parsed_set(df[\"incident\"].to_list()))"
   ],
   "metadata": {
    "collapsed": false,
    "ExecuteTime": {
     "end_time": "2024-01-01T01:52:40.765282Z",
     "start_time": "2024-01-01T01:52:40.760725Z"
    }
   },
   "id": "b86c6b7a46dbff85"
  },
  {
   "cell_type": "code",
   "execution_count": 6,
   "outputs": [],
   "source": [],
   "metadata": {
    "collapsed": false,
    "ExecuteTime": {
     "end_time": "2024-01-01T01:51:40.618851Z",
     "start_time": "2024-01-01T01:51:40.617246Z"
    }
   },
   "id": "fc4e2c3d9952718a"
  }
 ],
 "metadata": {
  "kernelspec": {
   "display_name": "Python 3",
   "language": "python",
   "name": "python3"
  },
  "language_info": {
   "codemirror_mode": {
    "name": "ipython",
    "version": 2
   },
   "file_extension": ".py",
   "mimetype": "text/x-python",
   "name": "python",
   "nbconvert_exporter": "python",
   "pygments_lexer": "ipython2",
   "version": "2.7.6"
  }
 },
 "nbformat": 4,
 "nbformat_minor": 5
}
