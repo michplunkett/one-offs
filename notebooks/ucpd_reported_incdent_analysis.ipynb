{
 "cells": [
  {
   "cell_type": "code",
   "execution_count": 7,
   "id": "initial_id",
   "metadata": {
    "collapsed": true,
    "ExecuteTime": {
     "end_time": "2023-10-09T16:27:50.385457Z",
     "start_time": "2023-10-09T16:27:50.379747Z"
    }
   },
   "outputs": [],
   "source": [
    "import polars as pl"
   ]
  },
  {
   "cell_type": "code",
   "execution_count": 8,
   "outputs": [],
   "source": [
    "# Import incidents and format columns\n",
    "df = pl.read_csv(\n",
    "    \"./data/incident_dump.csv\",\n",
    ").with_columns(\n",
    "    pl.col(\"reported\")\n",
    "    .str.strptime(pl.Datetime, format=\"%Y-%m-%dT%H:%M:%S%z\")\n",
    "    .dt.convert_time_zone(\"America/Chicago\"),\n",
    "    pl.col(\"reported_date\").str.to_date(\"%Y-%m-%d\"),\n",
    "    pl.col(\"validated_location\").str.split(\",\").cast(pl.List(pl.Float64)),\n",
    ")"
   ],
   "metadata": {
    "collapsed": false,
    "ExecuteTime": {
     "end_time": "2023-10-09T16:27:50.402548Z",
     "start_time": "2023-10-09T16:27:50.386052Z"
    }
   },
   "id": "14f7bbdba7444ce8"
  },
  {
   "cell_type": "code",
   "execution_count": 9,
   "outputs": [
    {
     "data": {
      "text/plain": "shape: (565, 2)\n┌───────────────────────────────────┬───────┐\n│ incident                          ┆ count │\n│ ---                               ┆ ---   │\n│ str                               ┆ u32   │\n╞═══════════════════════════════════╪═══════╡\n│ Theft                             ┆ 1542  │\n│ Information                       ┆ 879   │\n│ Found Property                    ┆ 757   │\n│ Lost Property                     ┆ 496   │\n│ …                                 ┆ …     │\n│ Information / Unlawful Possessio… ┆ 1     │\n│ Assist Other Agency / Aggravated… ┆ 1     │\n│ Assist Other Agency / Arson       ┆ 1     │\n│ Order Of Protection Notification  ┆ 1     │\n└───────────────────────────────────┴───────┘",
      "text/html": "<div><style>\n.dataframe > thead > tr > th,\n.dataframe > tbody > tr > td {\n  text-align: right;\n}\n</style>\n<small>shape: (565, 2)</small><table border=\"1\" class=\"dataframe\"><thead><tr><th>incident</th><th>count</th></tr><tr><td>str</td><td>u32</td></tr></thead><tbody><tr><td>&quot;Theft&quot;</td><td>1542</td></tr><tr><td>&quot;Information&quot;</td><td>879</td></tr><tr><td>&quot;Found Property…</td><td>757</td></tr><tr><td>&quot;Lost Property&quot;</td><td>496</td></tr><tr><td>&quot;Information / …</td><td>418</td></tr><tr><td>&quot;Medical Call&quot;</td><td>365</td></tr><tr><td>&quot;Battery&quot;</td><td>336</td></tr><tr><td>&quot;Liquor Law Vio…</td><td>336</td></tr><tr><td>&quot;Information / …</td><td>318</td></tr><tr><td>&quot;Mental Health …</td><td>291</td></tr><tr><td>&quot;Information / …</td><td>211</td></tr><tr><td>&quot;Information / …</td><td>207</td></tr><tr><td>&hellip;</td><td>&hellip;</td></tr><tr><td>&quot;Attempted Robb…</td><td>1</td></tr><tr><td>&quot;Traffic Crash …</td><td>1</td></tr><tr><td>&quot;Liquor Law Vio…</td><td>1</td></tr><tr><td>&quot;Information / …</td><td>1</td></tr><tr><td>&quot;Information / …</td><td>1</td></tr><tr><td>&quot;Fire / Damage …</td><td>1</td></tr><tr><td>&quot;DUI Arrest&quot;</td><td>1</td></tr><tr><td>&quot;Information / …</td><td>1</td></tr><tr><td>&quot;Information / …</td><td>1</td></tr><tr><td>&quot;Assist Other A…</td><td>1</td></tr><tr><td>&quot;Assist Other A…</td><td>1</td></tr><tr><td>&quot;Order Of Prote…</td><td>1</td></tr></tbody></table></div>"
     },
     "execution_count": 9,
     "metadata": {},
     "output_type": "execute_result"
    }
   ],
   "source": [
    "df.groupby([\"incident\"]).agg(pl.count()).sort(\"count\", descending=True)"
   ],
   "metadata": {
    "collapsed": false,
    "ExecuteTime": {
     "end_time": "2023-10-09T16:27:50.409234Z",
     "start_time": "2023-10-09T16:27:50.400797Z"
    }
   },
   "id": "15f78416b84388bc"
  },
  {
   "cell_type": "code",
   "execution_count": 10,
   "outputs": [
    {
     "data": {
      "text/plain": "shape: (492, 2)\n┌───────────────────────────────────┬───────┐\n│ incident                          ┆ count │\n│ ---                               ┆ ---   │\n│ str                               ┆ u32   │\n╞═══════════════════════════════════╪═══════╡\n│ Theft                             ┆ 1542  │\n│ Information                       ┆ 879   │\n│ Information / Theft               ┆ 418   │\n│ Battery                           ┆ 336   │\n│ …                                 ┆ …     │\n│ Found Wallet                      ┆ 1     │\n│ Information / Attempted Theft     ┆ 1     │\n│ Information / Suspicious Vehicle  ┆ 1     │\n│ Criminal Damage To Property / Cr… ┆ 1     │\n└───────────────────────────────────┴───────┘",
      "text/html": "<div><style>\n.dataframe > thead > tr > th,\n.dataframe > tbody > tr > td {\n  text-align: right;\n}\n</style>\n<small>shape: (492, 2)</small><table border=\"1\" class=\"dataframe\"><thead><tr><th>incident</th><th>count</th></tr><tr><td>str</td><td>u32</td></tr></thead><tbody><tr><td>&quot;Theft&quot;</td><td>1542</td></tr><tr><td>&quot;Information&quot;</td><td>879</td></tr><tr><td>&quot;Information / …</td><td>418</td></tr><tr><td>&quot;Battery&quot;</td><td>336</td></tr><tr><td>&quot;Liquor Law Vio…</td><td>336</td></tr><tr><td>&quot;Information / …</td><td>318</td></tr><tr><td>&quot;Information / …</td><td>211</td></tr><tr><td>&quot;Information / …</td><td>207</td></tr><tr><td>&quot;Found Narcotic…</td><td>186</td></tr><tr><td>&quot;Injured Person…</td><td>186</td></tr><tr><td>&quot;Traffic Crash&quot;</td><td>179</td></tr><tr><td>&quot;Criminal Damag…</td><td>167</td></tr><tr><td>&hellip;</td><td>&hellip;</td></tr><tr><td>&quot;Information / …</td><td>1</td></tr><tr><td>&quot;Outside Agency…</td><td>1</td></tr><tr><td>&quot;Obstructing Po…</td><td>1</td></tr><tr><td>&quot;Information / …</td><td>1</td></tr><tr><td>&quot;Non-Criminal /…</td><td>1</td></tr><tr><td>&quot;Battery / Publ…</td><td>1</td></tr><tr><td>&quot;Fire / Non-Cri…</td><td>1</td></tr><tr><td>&quot;Information / …</td><td>1</td></tr><tr><td>&quot;Found Wallet&quot;</td><td>1</td></tr><tr><td>&quot;Information / …</td><td>1</td></tr><tr><td>&quot;Information / …</td><td>1</td></tr><tr><td>&quot;Criminal Damag…</td><td>1</td></tr></tbody></table></div>"
     },
     "execution_count": 10,
     "metadata": {},
     "output_type": "execute_result"
    }
   ],
   "source": [
    "excluded_list = [\n",
    "    \"Fondling\",\n",
    "    \"Medical Call\",\n",
    "    \"Luring a Minor\",\n",
    "    \"Lost Property\",\n",
    "    \"Stalking\",\n",
    "    \"Sexual Assault\",\n",
    "    \"Dating\",\n",
    "    \"Stalking\",\n",
    "    \"Domestic\",\n",
    "    \"Sex\",\n",
    "    \"Found Property\",\n",
    "    \"Mental Health\",\n",
    "    \"Harassment by Electronic Means\",\n",
    "    \"Well-Being\",\n",
    "    \"Threatening Phone Call\",\n",
    "    \"Medical Transport\",\n",
    "    \"Warrant\",\n",
    "    \"Lost Wallet\",\n",
    "    \"Fire Alarm\",\n",
    "    \"Chemical Spill\",\n",
    "    \"Suspicious Mail\",\n",
    "    \"Eavesdropping\",\n",
    "]\n",
    "df = df.filter(~pl.col(\"incident\").str.contains(\"|\".join(excluded_list)))\n",
    "df.groupby([\"incident\"]).agg(pl.count()).sort(\"count\", descending=True)"
   ],
   "metadata": {
    "collapsed": false,
    "ExecuteTime": {
     "end_time": "2023-10-09T16:27:50.414734Z",
     "start_time": "2023-10-09T16:27:50.406698Z"
    }
   },
   "id": "aaa49407d08352ea"
  },
  {
   "cell_type": "code",
   "execution_count": 11,
   "outputs": [],
   "source": [
    "def list_to_parsed_set(unparsed_list):\n",
    "    parsed_set = set()\n",
    "    for element in unparsed_list:\n",
    "        if \"/\" in element:\n",
    "            for p in element.split(\"/\"):\n",
    "                fmt_element = p.strip()\n",
    "                if p != \"\":\n",
    "                    parsed_set.add(fmt_element.title())\n",
    "        else:\n",
    "            fmt_element = element.strip()\n",
    "            parsed_set.add(fmt_element.title())\n",
    "    return parsed_set"
   ],
   "metadata": {
    "collapsed": false,
    "ExecuteTime": {
     "end_time": "2023-10-09T16:27:50.417841Z",
     "start_time": "2023-10-09T16:27:50.415707Z"
    }
   },
   "id": "3237c7e6914efbd"
  },
  {
   "cell_type": "code",
   "execution_count": 12,
   "outputs": [
    {
     "name": "stdout",
     "output_type": "stream",
     "text": [
      "290\n"
     ]
    }
   ],
   "source": [
    "print(len(list_to_parsed_set(df[\"incident\"].to_list())))"
   ],
   "metadata": {
    "collapsed": false,
    "ExecuteTime": {
     "end_time": "2023-10-09T16:27:50.425200Z",
     "start_time": "2023-10-09T16:27:50.421975Z"
    }
   },
   "id": "b86c6b7a46dbff85"
  },
  {
   "cell_type": "code",
   "execution_count": 12,
   "outputs": [],
   "source": [],
   "metadata": {
    "collapsed": false,
    "ExecuteTime": {
     "end_time": "2023-10-09T16:27:50.427549Z",
     "start_time": "2023-10-09T16:27:50.424324Z"
    }
   },
   "id": "fc4e2c3d9952718a"
  }
 ],
 "metadata": {
  "kernelspec": {
   "display_name": "Python 3",
   "language": "python",
   "name": "python3"
  },
  "language_info": {
   "codemirror_mode": {
    "name": "ipython",
    "version": 2
   },
   "file_extension": ".py",
   "mimetype": "text/x-python",
   "name": "python",
   "nbconvert_exporter": "python",
   "pygments_lexer": "ipython2",
   "version": "2.7.6"
  }
 },
 "nbformat": 4,
 "nbformat_minor": 5
}
