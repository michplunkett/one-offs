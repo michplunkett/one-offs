{
 "cells": [
  {
   "cell_type": "code",
   "execution_count": 1,
   "id": "initial_id",
   "metadata": {
    "collapsed": true,
    "ExecuteTime": {
     "end_time": "2023-12-06T07:00:51.442483Z",
     "start_time": "2023-12-06T07:00:51.399208Z"
    }
   },
   "outputs": [],
   "source": [
    "import polars as pl"
   ]
  },
  {
   "cell_type": "code",
   "execution_count": 2,
   "outputs": [],
   "source": [
    "# Import incidents and format columns\n",
    "df = pl.read_csv(\n",
    "    \"./data/incident_dump.csv\",\n",
    ").with_columns(\n",
    "    pl.col(\"reported\")\n",
    "    .str.strptime(pl.Datetime, format=\"%Y-%m-%dT%H:%M:%S%z\")\n",
    "    .dt.convert_time_zone(\"America/Chicago\"),\n",
    "    pl.col(\"reported_date\").str.to_date(\"%Y-%m-%d\"),\n",
    "    pl.col(\"validated_location\").str.split(\",\").cast(pl.List(pl.Float64)),\n",
    "    pl.col(\"incident\").str.to_lowercase(),\n",
    ")"
   ],
   "metadata": {
    "collapsed": false,
    "ExecuteTime": {
     "end_time": "2023-12-06T07:00:51.475768Z",
     "start_time": "2023-12-06T07:00:51.461764Z"
    }
   },
   "id": "14f7bbdba7444ce8"
  },
  {
   "cell_type": "code",
   "execution_count": 3,
   "outputs": [
    {
     "data": {
      "text/plain": "shape: (570, 2)\n┌───────────────────────────────────┬───────┐\n│ incident                          ┆ count │\n│ ---                               ┆ ---   │\n│ str                               ┆ u32   │\n╞═══════════════════════════════════╪═══════╡\n│ theft                             ┆ 1571  │\n│ information                       ┆ 898   │\n│ found property                    ┆ 780   │\n│ lost property                     ┆ 507   │\n│ …                                 ┆ …     │\n│ found weapon                      ┆ 1     │\n│ information / criminal trespass   ┆ 1     │\n│ found property / narcotics        ┆ 1     │\n│ information / damage to property… ┆ 1     │\n└───────────────────────────────────┴───────┘",
      "text/html": "<div><style>\n.dataframe > thead > tr > th,\n.dataframe > tbody > tr > td {\n  text-align: right;\n}\n</style>\n<small>shape: (570, 2)</small><table border=\"1\" class=\"dataframe\"><thead><tr><th>incident</th><th>count</th></tr><tr><td>str</td><td>u32</td></tr></thead><tbody><tr><td>&quot;theft&quot;</td><td>1571</td></tr><tr><td>&quot;information&quot;</td><td>898</td></tr><tr><td>&quot;found property…</td><td>780</td></tr><tr><td>&quot;lost property&quot;</td><td>507</td></tr><tr><td>&quot;information / …</td><td>453</td></tr><tr><td>&quot;medical call&quot;</td><td>377</td></tr><tr><td>&quot;battery&quot;</td><td>349</td></tr><tr><td>&quot;liquor law vio…</td><td>342</td></tr><tr><td>&quot;information / …</td><td>334</td></tr><tr><td>&quot;mental health …</td><td>302</td></tr><tr><td>&quot;information / …</td><td>214</td></tr><tr><td>&quot;information / …</td><td>211</td></tr><tr><td>&hellip;</td><td>&hellip;</td></tr><tr><td>&quot;non-criminal /…</td><td>1</td></tr><tr><td>&quot;motor vehicle …</td><td>1</td></tr><tr><td>&quot;information / …</td><td>1</td></tr><tr><td>&quot;information / …</td><td>1</td></tr><tr><td>&quot;unlawful posse…</td><td>1</td></tr><tr><td>&quot;information / …</td><td>1</td></tr><tr><td>&quot;aggravated bat…</td><td>1</td></tr><tr><td>&quot;information / …</td><td>1</td></tr><tr><td>&quot;found weapon&quot;</td><td>1</td></tr><tr><td>&quot;information / …</td><td>1</td></tr><tr><td>&quot;found property…</td><td>1</td></tr><tr><td>&quot;information / …</td><td>1</td></tr></tbody></table></div>"
     },
     "execution_count": 3,
     "metadata": {},
     "output_type": "execute_result"
    }
   ],
   "source": [
    "df.groupby([\"incident\"]).agg(pl.count()).sort(\"count\", descending=True)"
   ],
   "metadata": {
    "collapsed": false,
    "ExecuteTime": {
     "end_time": "2023-12-06T07:00:51.493240Z",
     "start_time": "2023-12-06T07:00:51.471934Z"
    }
   },
   "id": "15f78416b84388bc"
  },
  {
   "cell_type": "code",
   "execution_count": 4,
   "outputs": [
    {
     "data": {
      "text/plain": "shape: (570, 2)\n┌───────────────────────────────────┬───────┐\n│ incident                          ┆ count │\n│ ---                               ┆ ---   │\n│ str                               ┆ u32   │\n╞═══════════════════════════════════╪═══════╡\n│ theft                             ┆ 1571  │\n│ information                       ┆ 898   │\n│ found property                    ┆ 780   │\n│ lost property                     ┆ 507   │\n│ …                                 ┆ …     │\n│ non-criminal / recovery / automo… ┆ 1     │\n│ information / unlawful restraint  ┆ 1     │\n│ recovered motor vehicles          ┆ 1     │\n│ order of protection arrest        ┆ 1     │\n└───────────────────────────────────┴───────┘",
      "text/html": "<div><style>\n.dataframe > thead > tr > th,\n.dataframe > tbody > tr > td {\n  text-align: right;\n}\n</style>\n<small>shape: (570, 2)</small><table border=\"1\" class=\"dataframe\"><thead><tr><th>incident</th><th>count</th></tr><tr><td>str</td><td>u32</td></tr></thead><tbody><tr><td>&quot;theft&quot;</td><td>1571</td></tr><tr><td>&quot;information&quot;</td><td>898</td></tr><tr><td>&quot;found property…</td><td>780</td></tr><tr><td>&quot;lost property&quot;</td><td>507</td></tr><tr><td>&quot;information / …</td><td>453</td></tr><tr><td>&quot;medical call&quot;</td><td>377</td></tr><tr><td>&quot;battery&quot;</td><td>349</td></tr><tr><td>&quot;liquor law vio…</td><td>342</td></tr><tr><td>&quot;information / …</td><td>334</td></tr><tr><td>&quot;mental health …</td><td>302</td></tr><tr><td>&quot;information / …</td><td>214</td></tr><tr><td>&quot;information / …</td><td>211</td></tr><tr><td>&hellip;</td><td>&hellip;</td></tr><tr><td>&quot;information / …</td><td>1</td></tr><tr><td>&quot;intimidation /…</td><td>1</td></tr><tr><td>&quot;traffic crash …</td><td>1</td></tr><tr><td>&quot;damage to prop…</td><td>1</td></tr><tr><td>&quot;sex offender /…</td><td>1</td></tr><tr><td>&quot;shots fired / …</td><td>1</td></tr><tr><td>&quot;disturbance / …</td><td>1</td></tr><tr><td>&quot;domestic batte…</td><td>1</td></tr><tr><td>&quot;non-criminal /…</td><td>1</td></tr><tr><td>&quot;information / …</td><td>1</td></tr><tr><td>&quot;recovered moto…</td><td>1</td></tr><tr><td>&quot;order of prote…</td><td>1</td></tr></tbody></table></div>"
     },
     "execution_count": 4,
     "metadata": {},
     "output_type": "execute_result"
    }
   ],
   "source": [
    "excluded_list = [\n",
    "    \"Fondling\",\n",
    "    \"Medical Call\",\n",
    "    \"Luring a Minor\",\n",
    "    \"Lost Property\",\n",
    "    \"Stalking\",\n",
    "    \"Sexual Assault\",\n",
    "    \"Dating\",\n",
    "    \"Stalking\",\n",
    "    \"Domestic\",\n",
    "    \"Sex\",\n",
    "    \"Found Property\",\n",
    "    \"Mental Health\",\n",
    "    \"Harassment by Electronic Means\",\n",
    "    \"Well-Being\",\n",
    "    \"Threatening Phone Call\",\n",
    "    \"Medical Transport\",\n",
    "    \"Warrant\",\n",
    "    \"Lost Wallet\",\n",
    "    \"Fire Alarm\",\n",
    "    \"Chemical Spill\",\n",
    "    \"Suspicious Mail\",\n",
    "    \"Eavesdropping\",\n",
    "]\n",
    "df = df.filter(~pl.col(\"incident\").str.contains(\"|\".join(excluded_list)))\n",
    "df.groupby([\"incident\"]).agg(pl.count()).sort(\"count\", descending=True)"
   ],
   "metadata": {
    "collapsed": false,
    "ExecuteTime": {
     "end_time": "2023-12-06T07:00:51.493856Z",
     "start_time": "2023-12-06T07:00:51.483767Z"
    }
   },
   "id": "aaa49407d08352ea"
  },
  {
   "cell_type": "code",
   "execution_count": 5,
   "outputs": [],
   "source": [
    "def list_to_parsed_set(unparsed_list):\n",
    "    parsed_set = set()\n",
    "    for element in unparsed_list:\n",
    "        if \"/\" in element:\n",
    "            for p in element.split(\"/\"):\n",
    "                fmt_element = p.strip().lower()\n",
    "                if p:\n",
    "                    parsed_set.add(fmt_element)\n",
    "        else:\n",
    "            fmt_element = element.strip().lower()\n",
    "            parsed_set.add(fmt_element)\n",
    "    return parsed_set"
   ],
   "metadata": {
    "collapsed": false,
    "ExecuteTime": {
     "end_time": "2023-12-06T07:00:51.493978Z",
     "start_time": "2023-12-06T07:00:51.492060Z"
    }
   },
   "id": "3237c7e6914efbd"
  },
  {
   "cell_type": "code",
   "execution_count": 6,
   "outputs": [
    {
     "name": "stdout",
     "output_type": "stream",
     "text": [
      "331\n"
     ]
    }
   ],
   "source": [
    "print(len(list_to_parsed_set(df[\"incident\"].to_list())))"
   ],
   "metadata": {
    "collapsed": false,
    "ExecuteTime": {
     "end_time": "2023-12-06T07:00:51.501871Z",
     "start_time": "2023-12-06T07:00:51.496663Z"
    }
   },
   "id": "b86c6b7a46dbff85"
  },
  {
   "cell_type": "code",
   "execution_count": 6,
   "outputs": [],
   "source": [],
   "metadata": {
    "collapsed": false,
    "ExecuteTime": {
     "end_time": "2023-12-06T07:00:51.515829Z",
     "start_time": "2023-12-06T07:00:51.499272Z"
    }
   },
   "id": "fc4e2c3d9952718a"
  }
 ],
 "metadata": {
  "kernelspec": {
   "display_name": "Python 3",
   "language": "python",
   "name": "python3"
  },
  "language_info": {
   "codemirror_mode": {
    "name": "ipython",
    "version": 2
   },
   "file_extension": ".py",
   "mimetype": "text/x-python",
   "name": "python",
   "nbconvert_exporter": "python",
   "pygments_lexer": "ipython2",
   "version": "2.7.6"
  }
 },
 "nbformat": 4,
 "nbformat_minor": 5
}
