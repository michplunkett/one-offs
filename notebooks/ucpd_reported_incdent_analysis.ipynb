{
  "cells": [
    {
      "cell_type": "code",
      "execution_count": 127,
      "id": "initial_id",
      "metadata": {
        "ExecuteTime": {
          "end_time": "2024-02-27T00:26:08.115308Z",
          "start_time": "2024-02-27T00:26:08.098942Z"
        },
        "collapsed": true
      },
      "outputs": [],
      "source": [
        "from datetime import date\n",
        "\n",
        "import polars as pl"
      ]
    },
    {
      "cell_type": "code",
      "execution_count": 128,
      "id": "2f5e14b3ee78bcc8",
      "metadata": {
        "ExecuteTime": {
          "end_time": "2024-02-27T00:26:08.115478Z",
          "start_time": "2024-02-27T00:26:08.103553Z"
        },
        "collapsed": false
      },
      "outputs": [],
      "source": [
        "def list_to_parsed_set(unparsed_list: [str]):\n",
        "    unparsed_list.sort()\n",
        "    parsed_set = set()\n",
        "    for element in unparsed_list:\n",
        "        if \"/\" in element:\n",
        "            for p in element.split(\"/\"):\n",
        "                fmt_element = p.strip().lower()\n",
        "                if p:\n",
        "                    parsed_set.add(fmt_element)\n",
        "        else:\n",
        "            fmt_element = element.strip().lower()\n",
        "            parsed_set.add(fmt_element)\n",
        "    if \"\" in parsed_set:\n",
        "        parsed_set.remove(\"\")\n",
        "    return parsed_set"
      ]
    },
    {
      "cell_type": "code",
      "execution_count": 129,
      "id": "14f7bbdba7444ce8",
      "metadata": {
        "ExecuteTime": {
          "end_time": "2024-02-27T00:26:08.131950Z",
          "start_time": "2024-02-27T00:26:08.107632Z"
        },
        "collapsed": false
      },
      "outputs": [],
      "source": [
        "# Import incidents and format columns\n",
        "df = pl.read_csv(\n",
        "    \"./data/incident_dump.csv\",\n",
        ").with_columns(\n",
        "    pl.col(\"reported\")\n",
        "    .str.strptime(pl.Datetime, format=\"%Y-%m-%dT%H:%M:%S%z\")\n",
        "    .dt.convert_time_zone(\"America/Chicago\"),\n",
        "    pl.col(\"reported_date\").str.to_date(\"%Y-%m-%d\"),\n",
        "    pl.col(\"validated_location\").str.split(\",\").cast(pl.List(pl.Float64)),\n",
        "    pl.col(\"incident\").str.to_lowercase(),\n",
        ")"
      ]
    },
    {
      "cell_type": "code",
      "execution_count": 130,
      "id": "15f78416b84388bc",
      "metadata": {
        "ExecuteTime": {
          "end_time": "2024-02-27T00:26:08.132666Z",
          "start_time": "2024-02-27T00:26:08.121883Z"
        },
        "collapsed": false
      },
      "outputs": [
        {
          "data": {
            "text/html": "<div><style>\n.dataframe > thead > tr > th,\n.dataframe > tbody > tr > td {\n  text-align: right;\n}\n</style>\n<small>shape: (680, 2)</small><table border=\"1\" class=\"dataframe\"><thead><tr><th>incident</th><th>count</th></tr><tr><td>str</td><td>u32</td></tr></thead><tbody><tr><td>&quot;theft&quot;</td><td>2980</td></tr><tr><td>&quot;information&quot;</td><td>1383</td></tr><tr><td>&quot;found property\u2026</td><td>929</td></tr><tr><td>&quot;lost property&quot;</td><td>843</td></tr><tr><td>&quot;traffic violat\u2026</td><td>534</td></tr><tr><td>&quot;information / \u2026</td><td>519</td></tr><tr><td>&quot;liquor law vio\u2026</td><td>447</td></tr><tr><td>&quot;medical call&quot;</td><td>437</td></tr><tr><td>&quot;battery&quot;</td><td>425</td></tr><tr><td>&quot;information / \u2026</td><td>358</td></tr><tr><td>&quot;mental health \u2026</td><td>330</td></tr><tr><td>&quot;injured person\u2026</td><td>321</td></tr><tr><td>&hellip;</td><td>&hellip;</td></tr><tr><td>&quot;other vehicle \u2026</td><td>1</td></tr><tr><td>&quot;obstructing pe\u2026</td><td>1</td></tr><tr><td>&quot;armed robbery \u2026</td><td>1</td></tr><tr><td>&quot;other&quot;</td><td>1</td></tr><tr><td>&quot;resisting arre\u2026</td><td>1</td></tr><tr><td>&quot;information / \u2026</td><td>1</td></tr><tr><td>&quot;recovered moto\u2026</td><td>1</td></tr><tr><td>&quot;non-criminal d\u2026</td><td>1</td></tr><tr><td>&quot;possession of \u2026</td><td>1</td></tr><tr><td>&quot;aggravated dis\u2026</td><td>1</td></tr><tr><td>&quot;unlawful posse\u2026</td><td>1</td></tr><tr><td>&quot;information / \u2026</td><td>1</td></tr></tbody></table></div>",
            "text/plain": "shape: (680, 2)\n\u250c\u2500\u2500\u2500\u2500\u2500\u2500\u2500\u2500\u2500\u2500\u2500\u2500\u2500\u2500\u2500\u2500\u2500\u2500\u2500\u2500\u2500\u2500\u2500\u2500\u2500\u2500\u2500\u2500\u2500\u2500\u2500\u2500\u2500\u2500\u2500\u252c\u2500\u2500\u2500\u2500\u2500\u2500\u2500\u2510\n\u2502 incident                          \u2506 count \u2502\n\u2502 ---                               \u2506 ---   \u2502\n\u2502 str                               \u2506 u32   \u2502\n\u255e\u2550\u2550\u2550\u2550\u2550\u2550\u2550\u2550\u2550\u2550\u2550\u2550\u2550\u2550\u2550\u2550\u2550\u2550\u2550\u2550\u2550\u2550\u2550\u2550\u2550\u2550\u2550\u2550\u2550\u2550\u2550\u2550\u2550\u2550\u2550\u256a\u2550\u2550\u2550\u2550\u2550\u2550\u2550\u2561\n\u2502 theft                             \u2506 2980  \u2502\n\u2502 information                       \u2506 1383  \u2502\n\u2502 found property                    \u2506 929   \u2502\n\u2502 lost property                     \u2506 843   \u2502\n\u2502 \u2026                                 \u2506 \u2026     \u2502\n\u2502 possession of crack cocaine       \u2506 1     \u2502\n\u2502 aggravated discharge of a firear\u2026 \u2506 1     \u2502\n\u2502 unlawful possession of ammunitio\u2026 \u2506 1     \u2502\n\u2502 information / attempted home inv\u2026 \u2506 1     \u2502\n\u2514\u2500\u2500\u2500\u2500\u2500\u2500\u2500\u2500\u2500\u2500\u2500\u2500\u2500\u2500\u2500\u2500\u2500\u2500\u2500\u2500\u2500\u2500\u2500\u2500\u2500\u2500\u2500\u2500\u2500\u2500\u2500\u2500\u2500\u2500\u2500\u2534\u2500\u2500\u2500\u2500\u2500\u2500\u2500\u2518"
          },
          "execution_count": 130,
          "metadata": {},
          "output_type": "execute_result"
        }
      ],
      "source": [
        "df.groupby([\"incident\"]).agg(pl.count()).sort(\"count\", descending=True)"
      ]
    },
    {
      "cell_type": "code",
      "execution_count": 131,
      "id": "e67f22a399d54aeb",
      "metadata": {
        "ExecuteTime": {
          "end_time": "2024-02-27T00:26:08.137111Z",
          "start_time": "2024-02-27T00:26:08.134592Z"
        },
        "collapsed": false
      },
      "outputs": [
        {
          "name": "stdout",
          "output_type": "stream",
          "text": [
            "{'missing property', 'traffic and warrant arrest', 'obstructing a peace officer', 'bomb threat', 'arson', 'criminal damage to motor vehicle', 'order of protection', 'eavesdropping', 'aggravated criminal sexual assault', 'traffic crash arrest', 'aggravated domestic battery', 'damaged property', 'attempted motor vehicle theft', 'other dangerous weapon', 'vehicular hijacking', 'unlawful use of a weapon arrest', 'motor vehicle theft recovery', 'obstructing peace officer', 'sex related', 'reckless discharge of a weapon', 'theft of motor vehicle', 'mental health transport', 'personation of peace officer', 'trespass', 'mental health', 'accidental shooting', 'non-criminal incident', 'elevator entrapment', 'disorderly conduct', 'harassment via electronic means', 'medical transport', 'motor vehicle theft and recovery', 'criminal trespass to land', 'interfering', 'arrest on warrant', 'attempted theft from motor vehicle', 'prohibited zone', 'recovery of motor vehicle', 'motor vehicle accident', 'safety hazard', 'accidental', 'simple battery', 'sex offense', 'smoke alarm', 'dog bite', 'senior citizen', 'domestic aggravated assault', 'unlawful restraint', 'stalking', 'well-being', 'criminal sexual abuse', 'harassing telephone call', 'recovered vehicle plate', 'found person', 'traffic violation', 'aggravated discharge of a firearm', 'property damage', 'found property', 'unlawful discharge of weapon', 'miscellaneous', 'narcotic arrest', 'deliver narcotic', 'criminal trespass to property', 'public peace violation', 'strong arm', 'unlawful possession of firearm', 'attempted aggravated robbery', 'miscellaneous incident report', 'intimidation', 'electronic means', 'found key', 'damage to property', 'non-criminal property', 'non-criminal damage', 'mental transport', 'battery of police officer', 'threat', 'non-criminal offense', 'unlawful discharge of a weapon', 'police officer', 'stuck elevator', 'found narcotic', 'hit and run traffic crash', 'other crime vs. person', 'aggravated battery to police officer', 'lost property', 'ucpd arrest warrant', 'weapon arrest', 'resisting police', 'medical call', 'damage', 'credit card fraud', 'non- criminal', 'forged prescription', 'obstructing police', 'traffic violation and warrant arrest', 'domestic battery', 'suspicious activity', 'sex offender', 'damage to vehicle', 'found weapon', 'aggravated assault of police officer', 'missing person', 'weapon recovery', 'weapon violation', 'motor vehicle theft', 'arrest', 'extortion', 'theft of lost', 'dui arrest', 'found wallet', 'mislaid property', 'recovered firearm', 'trespass warning', 'criminal trespass to motor vehicle', 'battery to police officer', 'telephone threat', 'other deadly weapon', 'accident report', 'telephone harassment', 'smell of gas', 'other violation', 'notification of order of protection', 'non-criminal informational report', 'trespass to land', 'attempted sexual assault', 'attempted armed robbery', 'trespass to motor vehicle', 'computer fraud', 'sexual assault', 'automobile', 'harassing message', 'disturbance', 'suspicious vehicle', 'trespass to vehicle', 'reckless discharge of firearm', 'burglary', 'harassment', 'outside agency warrant arrest', 'haz mat incident', 'theft by deception', 'aggravated robbery', 'injured person', 'unlawful use of weapon', 'domestic issue', 'suspicious letter', 'dating violence', 'information criminal damage to property', 'noise complaint', 'criminal damage to vehicle', 'false police report', 'security alarm', 'criminal trespass to residence', 'recovered motor vehicle', 'possession of stolen motor vehicle', 'aggravated battery of police officer', 'sex crime', 'aggravated battery of a police officer', 'non-criminal event', 'lost wallet', 'attempted theft', 'person down', 'attempted home invasion', 'other vehicle offense', 'animal bite', 'accidental injury', 'information report', 'non-criminal damage to property', 'unlawful possession of a handgun', 'possession of narcotic with intent to deliver', 'warrant arrest', 'vehicle hijacking', 'simple assault battery', 'non-criminal', 'purse snatch', 'foreign steal', 'hazardous material event', 'luring a minor', 'assault and harassment by electronic means', 'haz mat', 'theft and recovery of motor vehicle', 'robbery arrest', 'cyber stalking', 'recovered stolen motor vehicle', 'irregular condition', 'miscellaneous incident', 'traffic offense', 'damage to uc property', 'lost', 'traffic arrest', 'strong armed', 'accidental fire', 'order of protection arrest', 'found suspect narcotic', 'theft from person', 'threatening phone call', 'smoke', 'missing person found', 'delayed burglary', 'narcotic', 'attempted strong arm', 'other non-criminal property', 'financial identity theft', 'unauthorized use of computer', 'domestic assault', 'public indecency', 'possession of narcotic', 'interference with police officer', 'ill person', 'vandalism', 'resisting arrest', 'hate crime', 'hit and run property damage', 'attempted burglary', 'stolen motor vehicle recovery', 'damage to uc vehicle', 'delayed', 'non-criminal report', 'domestic dispute', 'harassing email message', 'possession of lost', 'violation of order of protection', 'home invasion', 'possession of cannabis', 'liquor law violation', 'suspect narcotic found', 'haz mat event', 'fleeing or attempting to elude police', 'robbery-aggravated', 'recovery', 'aggravated assault', 'unlawful discharge of firearm', 'homicide', 'identity theft', 'ambulance request', 'possession of crack cocaine', 'recovered vehicle', 'minor personal injury', 'traffic', 'weapon turn-in', 'traffic crash property damage', 'cyber scam', 'possession of marijuana', 'unlawful possession of ammunition', 'criminal defacement', 'fraudulent check', 'attempted theft of motor vehicle', 'harassing email', 'assault', 'cyberstalking', 'hazardous material incident', 'threatening call', 'other crime', 'suspicious person', 'unlawful use of a weapon', 'counterfeit document', 'unlawful possession of a weapon', 'armed robbery arrest', 'telephone scam', 'traffic accident', 'unlawful discharge of a firearm', 'property', 'trespass to property', 'traffic violation arrest', 'narcotic delivery', 'theft of service', 'order of protection notification', 'sexual abuse', 'non-criminal missing property', 'deceptive practice', 'hit and run', 'motor vehicle recovery', 'battery-simple', 'simple assault', 'chemical spill', 'unlawful possession of weapon', 'non-forcible', 'death investigation', 'robbery-strong arm', 'found suspect marijuana', 'suspicious phone call', 'impersonation', 'other crime against person', 'property damage only', 'arson by fire', 'damage to city property', 'alarm', 'sick person', 'fire', 'minor injury', 'warrant', 'information', 'unlawful possession of a firearm', 'illegal consumption by minor', 'traffic crash', 'theft of lost or mislaid property', 'information harassment', 'drug law violation', 'vehicle crash', 'non-criminal complaint', 'reckless conduct', 'possession of stolen property', 'domestic disturbance', 'assist other agency', 'expired license', 'recovered property', 'theft', 'aggravated vehicular hijacking', 'reckless discharge of a firearm', 'threat by electronic means', 'counterfeit check', 'notice of order of protection', 'non-criminal other', 'aggravated battery of a protected employee', 'traffic crash report', 'suspicious package', 'aggravated domestic assault', 'simple', 'theft of motorcycle', 'carjacking', 'criminal trespass to vehicle', 'lost phone', 'fraud', 'vehicular carjacking', 'possession of a controlled substance', 'pedestrian', 'public way', 'well-being check', 'harassing phone call`', 'stolen vehicle recovery', 'non-criminal property damage', 'haz-mat incident', 'delayed robbery', 'murder', 'other', 'fire alarm', 'battery', 'armed robbery', 'forgery', 'fondling', 'attempted', 'delayed report', 'illness', 'theft from vehicle', 'reckless driving', 'attempted aggravated vehicular hijacking', 'aggravated battery', 'traffic collision', 'possession of controlled substance', 'hit tand run', 'assist other agency motor vehicle theft and recovery', 'attempted theft from person', 'indecent exposure', 'vehicle fire', 'defacement', 'mental health call', 'shot fired', 'failure to register', 'criminal sexual assault', 'found narcotic paraphernalia', 'harassing phone call', 'harassment by electronic means', 'attempted robbery', 'domestic aggravated battery', 'non-criminal damage to vehicle', 'domestic', 'cutting instrument', 'false fire alarm', 'found drug paraphernalia', 'found', 'damage to personal property', 'obscene phone call', 'other offense', 'criminal damage to property', 'obstruct police officer', 'criminal trespass', 'suspect narcotic', 'traffic crash hit and run', 'dui', 'attempted vehicular hijacking', 'harassment by telephone', 'possession of drug paraphernalia', 'suspicious mail', 'aggravated vehicular carjacking', 'robbery', 'non-criminal fire', 'vehicle recovery', 'theft from motor vehicle', 'deceptive', 'interference with public officer', 'personal injury'}\n"
          ]
        }
      ],
      "source": [
        "print(list_to_parsed_set(df[\"incident\"].to_list()))"
      ]
    },
    {
      "cell_type": "code",
      "execution_count": 132,
      "id": "aaa49407d08352ea",
      "metadata": {
        "ExecuteTime": {
          "end_time": "2024-02-27T00:26:08.144613Z",
          "start_time": "2024-02-27T00:26:08.138294Z"
        },
        "collapsed": false
      },
      "outputs": [
        {
          "data": {
            "text/html": "<div><style>\n.dataframe > thead > tr > th,\n.dataframe > tbody > tr > td {\n  text-align: right;\n}\n</style>\n<small>shape: (680, 2)</small><table border=\"1\" class=\"dataframe\"><thead><tr><th>incident</th><th>count</th></tr><tr><td>str</td><td>u32</td></tr></thead><tbody><tr><td>&quot;theft&quot;</td><td>2980</td></tr><tr><td>&quot;information&quot;</td><td>1383</td></tr><tr><td>&quot;found property\u2026</td><td>929</td></tr><tr><td>&quot;lost property&quot;</td><td>843</td></tr><tr><td>&quot;traffic violat\u2026</td><td>534</td></tr><tr><td>&quot;information / \u2026</td><td>519</td></tr><tr><td>&quot;liquor law vio\u2026</td><td>447</td></tr><tr><td>&quot;medical call&quot;</td><td>437</td></tr><tr><td>&quot;battery&quot;</td><td>425</td></tr><tr><td>&quot;information / \u2026</td><td>358</td></tr><tr><td>&quot;mental health \u2026</td><td>330</td></tr><tr><td>&quot;injured person\u2026</td><td>321</td></tr><tr><td>&hellip;</td><td>&hellip;</td></tr><tr><td>&quot;robbery / stro\u2026</td><td>1</td></tr><tr><td>&quot;information / \u2026</td><td>1</td></tr><tr><td>&quot;information / \u2026</td><td>1</td></tr><tr><td>&quot;expired licens\u2026</td><td>1</td></tr><tr><td>&quot;aggravated bat\u2026</td><td>1</td></tr><tr><td>&quot;information / \u2026</td><td>1</td></tr><tr><td>&quot;information / \u2026</td><td>1</td></tr><tr><td>&quot;non-criminal /\u2026</td><td>1</td></tr><tr><td>&quot;reckless disch\u2026</td><td>1</td></tr><tr><td>&quot;information / \u2026</td><td>1</td></tr><tr><td>&quot;domestic distu\u2026</td><td>1</td></tr><tr><td>&quot;information / \u2026</td><td>1</td></tr></tbody></table></div>",
            "text/plain": "shape: (680, 2)\n\u250c\u2500\u2500\u2500\u2500\u2500\u2500\u2500\u2500\u2500\u2500\u2500\u2500\u2500\u2500\u2500\u2500\u2500\u2500\u2500\u2500\u2500\u2500\u2500\u2500\u2500\u2500\u2500\u2500\u2500\u2500\u2500\u2500\u2500\u2500\u2500\u252c\u2500\u2500\u2500\u2500\u2500\u2500\u2500\u2510\n\u2502 incident                          \u2506 count \u2502\n\u2502 ---                               \u2506 ---   \u2502\n\u2502 str                               \u2506 u32   \u2502\n\u255e\u2550\u2550\u2550\u2550\u2550\u2550\u2550\u2550\u2550\u2550\u2550\u2550\u2550\u2550\u2550\u2550\u2550\u2550\u2550\u2550\u2550\u2550\u2550\u2550\u2550\u2550\u2550\u2550\u2550\u2550\u2550\u2550\u2550\u2550\u2550\u256a\u2550\u2550\u2550\u2550\u2550\u2550\u2550\u2561\n\u2502 theft                             \u2506 2980  \u2502\n\u2502 information                       \u2506 1383  \u2502\n\u2502 found property                    \u2506 929   \u2502\n\u2502 lost property                     \u2506 843   \u2502\n\u2502 \u2026                                 \u2506 \u2026     \u2502\n\u2502 reckless discharge of firearm     \u2506 1     \u2502\n\u2502 information / reckless discharge\u2026 \u2506 1     \u2502\n\u2502 domestic disturbance              \u2506 1     \u2502\n\u2502 information / armed robbery / ve\u2026 \u2506 1     \u2502\n\u2514\u2500\u2500\u2500\u2500\u2500\u2500\u2500\u2500\u2500\u2500\u2500\u2500\u2500\u2500\u2500\u2500\u2500\u2500\u2500\u2500\u2500\u2500\u2500\u2500\u2500\u2500\u2500\u2500\u2500\u2500\u2500\u2500\u2500\u2500\u2500\u2534\u2500\u2500\u2500\u2500\u2500\u2500\u2500\u2518"
          },
          "execution_count": 132,
          "metadata": {},
          "output_type": "execute_result"
        }
      ],
      "source": [
        "excluded_list = [\n",
        "    \"Fondling\",\n",
        "    \"Medical Call\",\n",
        "    \"Luring a Minor\",\n",
        "    \"Lost Property\",\n",
        "    \"Stalking\",\n",
        "    \"Sexual Assault\",\n",
        "    \"Dating\",\n",
        "    \"Stalking\",\n",
        "    \"Domestic\",\n",
        "    \"Sex\",\n",
        "    \"Found Property\",\n",
        "    \"Mental Health\",\n",
        "    \"Harassment by Electronic Means\",\n",
        "    \"Well-Being\",\n",
        "    \"Threatening Phone Call\",\n",
        "    \"Medical Transport\",\n",
        "    \"Warrant\",\n",
        "    \"Lost Wallet\",\n",
        "    \"Fire Alarm\",\n",
        "    \"Chemical Spill\",\n",
        "    \"Suspicious Mail\",\n",
        "    \"Eavesdropping\",\n",
        "    \"Sex Offense\",\n",
        "    \"Sex Offender\",\n",
        "    \"Sex Crime\",\n",
        "    \"Domestic Aggravated Battery\",\n",
        "    \"Dating Violence\",\n",
        "    \"Harassing Messages\",\n",
        "]\n",
        "# df = df.filter(~pl.col(\"incident\").str.contains(\"|\".join(excluded_list)))\n",
        "df.groupby([\"incident\"]).agg(pl.count()).sort(\"count\", descending=True)"
      ]
    },
    {
      "cell_type": "code",
      "execution_count": 133,
      "id": "b86c6b7a46dbff85",
      "metadata": {
        "ExecuteTime": {
          "end_time": "2024-02-27T00:26:08.153734Z",
          "start_time": "2024-02-27T00:26:08.148659Z"
        },
        "collapsed": false
      },
      "outputs": [
        {
          "name": "stdout",
          "output_type": "stream",
          "text": [
            "{'missing property', 'traffic and warrant arrest', 'obstructing a peace officer', 'bomb threat', 'arson', 'criminal damage to motor vehicle', 'order of protection', 'eavesdropping', 'aggravated criminal sexual assault', 'traffic crash arrest', 'aggravated domestic battery', 'damaged property', 'attempted motor vehicle theft', 'other dangerous weapon', 'vehicular hijacking', 'unlawful use of a weapon arrest', 'motor vehicle theft recovery', 'obstructing peace officer', 'sex related', 'reckless discharge of a weapon', 'theft of motor vehicle', 'mental health transport', 'personation of peace officer', 'trespass', 'mental health', 'accidental shooting', 'non-criminal incident', 'elevator entrapment', 'disorderly conduct', 'harassment via electronic means', 'medical transport', 'motor vehicle theft and recovery', 'criminal trespass to land', 'interfering', 'arrest on warrant', 'attempted theft from motor vehicle', 'prohibited zone', 'recovery of motor vehicle', 'motor vehicle accident', 'safety hazard', 'accidental', 'simple battery', 'sex offense', 'smoke alarm', 'dog bite', 'senior citizen', 'domestic aggravated assault', 'unlawful restraint', 'stalking', 'well-being', 'criminal sexual abuse', 'harassing telephone call', 'recovered vehicle plate', 'found person', 'traffic violation', 'aggravated discharge of a firearm', 'property damage', 'found property', 'unlawful discharge of weapon', 'miscellaneous', 'narcotic arrest', 'deliver narcotic', 'criminal trespass to property', 'public peace violation', 'strong arm', 'unlawful possession of firearm', 'attempted aggravated robbery', 'miscellaneous incident report', 'intimidation', 'electronic means', 'found key', 'damage to property', 'non-criminal property', 'non-criminal damage', 'mental transport', 'battery of police officer', 'threat', 'non-criminal offense', 'unlawful discharge of a weapon', 'police officer', 'stuck elevator', 'found narcotic', 'hit and run traffic crash', 'other crime vs. person', 'aggravated battery to police officer', 'lost property', 'ucpd arrest warrant', 'weapon arrest', 'resisting police', 'medical call', 'damage', 'credit card fraud', 'non- criminal', 'forged prescription', 'obstructing police', 'traffic violation and warrant arrest', 'domestic battery', 'suspicious activity', 'sex offender', 'damage to vehicle', 'found weapon', 'aggravated assault of police officer', 'missing person', 'weapon recovery', 'weapon violation', 'motor vehicle theft', 'arrest', 'extortion', 'theft of lost', 'dui arrest', 'found wallet', 'mislaid property', 'recovered firearm', 'trespass warning', 'criminal trespass to motor vehicle', 'battery to police officer', 'telephone threat', 'other deadly weapon', 'accident report', 'telephone harassment', 'smell of gas', 'other violation', 'notification of order of protection', 'non-criminal informational report', 'trespass to land', 'attempted sexual assault', 'attempted armed robbery', 'trespass to motor vehicle', 'computer fraud', 'sexual assault', 'automobile', 'harassing message', 'disturbance', 'suspicious vehicle', 'trespass to vehicle', 'reckless discharge of firearm', 'burglary', 'harassment', 'outside agency warrant arrest', 'haz mat incident', 'theft by deception', 'aggravated robbery', 'injured person', 'unlawful use of weapon', 'domestic issue', 'suspicious letter', 'dating violence', 'information criminal damage to property', 'noise complaint', 'criminal damage to vehicle', 'false police report', 'security alarm', 'criminal trespass to residence', 'recovered motor vehicle', 'possession of stolen motor vehicle', 'aggravated battery of police officer', 'sex crime', 'aggravated battery of a police officer', 'non-criminal event', 'lost wallet', 'attempted theft', 'person down', 'attempted home invasion', 'other vehicle offense', 'animal bite', 'accidental injury', 'information report', 'non-criminal damage to property', 'unlawful possession of a handgun', 'possession of narcotic with intent to deliver', 'warrant arrest', 'vehicle hijacking', 'simple assault battery', 'non-criminal', 'purse snatch', 'foreign steal', 'hazardous material event', 'luring a minor', 'assault and harassment by electronic means', 'haz mat', 'theft and recovery of motor vehicle', 'robbery arrest', 'cyber stalking', 'recovered stolen motor vehicle', 'irregular condition', 'miscellaneous incident', 'traffic offense', 'damage to uc property', 'lost', 'traffic arrest', 'strong armed', 'accidental fire', 'order of protection arrest', 'found suspect narcotic', 'theft from person', 'threatening phone call', 'smoke', 'missing person found', 'delayed burglary', 'narcotic', 'attempted strong arm', 'other non-criminal property', 'financial identity theft', 'unauthorized use of computer', 'domestic assault', 'public indecency', 'possession of narcotic', 'interference with police officer', 'ill person', 'vandalism', 'resisting arrest', 'hate crime', 'hit and run property damage', 'attempted burglary', 'stolen motor vehicle recovery', 'damage to uc vehicle', 'delayed', 'non-criminal report', 'domestic dispute', 'harassing email message', 'possession of lost', 'violation of order of protection', 'home invasion', 'possession of cannabis', 'liquor law violation', 'suspect narcotic found', 'haz mat event', 'fleeing or attempting to elude police', 'robbery-aggravated', 'recovery', 'aggravated assault', 'unlawful discharge of firearm', 'homicide', 'identity theft', 'ambulance request', 'possession of crack cocaine', 'recovered vehicle', 'minor personal injury', 'traffic', 'weapon turn-in', 'traffic crash property damage', 'cyber scam', 'possession of marijuana', 'unlawful possession of ammunition', 'criminal defacement', 'fraudulent check', 'attempted theft of motor vehicle', 'harassing email', 'assault', 'cyberstalking', 'hazardous material incident', 'threatening call', 'other crime', 'suspicious person', 'unlawful use of a weapon', 'counterfeit document', 'unlawful possession of a weapon', 'armed robbery arrest', 'telephone scam', 'traffic accident', 'unlawful discharge of a firearm', 'property', 'trespass to property', 'traffic violation arrest', 'narcotic delivery', 'theft of service', 'order of protection notification', 'sexual abuse', 'non-criminal missing property', 'deceptive practice', 'hit and run', 'motor vehicle recovery', 'battery-simple', 'simple assault', 'chemical spill', 'unlawful possession of weapon', 'non-forcible', 'death investigation', 'robbery-strong arm', 'found suspect marijuana', 'suspicious phone call', 'impersonation', 'other crime against person', 'property damage only', 'arson by fire', 'damage to city property', 'alarm', 'sick person', 'fire', 'minor injury', 'warrant', 'information', 'unlawful possession of a firearm', 'illegal consumption by minor', 'traffic crash', 'theft of lost or mislaid property', 'information harassment', 'drug law violation', 'vehicle crash', 'non-criminal complaint', 'reckless conduct', 'possession of stolen property', 'domestic disturbance', 'assist other agency', 'expired license', 'recovered property', 'theft', 'aggravated vehicular hijacking', 'reckless discharge of a firearm', 'threat by electronic means', 'counterfeit check', 'notice of order of protection', 'non-criminal other', 'aggravated battery of a protected employee', 'traffic crash report', 'suspicious package', 'aggravated domestic assault', 'simple', 'theft of motorcycle', 'carjacking', 'criminal trespass to vehicle', 'lost phone', 'fraud', 'vehicular carjacking', 'possession of a controlled substance', 'pedestrian', 'public way', 'well-being check', 'harassing phone call`', 'stolen vehicle recovery', 'non-criminal property damage', 'haz-mat incident', 'delayed robbery', 'murder', 'other', 'fire alarm', 'battery', 'armed robbery', 'forgery', 'fondling', 'attempted', 'delayed report', 'illness', 'theft from vehicle', 'reckless driving', 'attempted aggravated vehicular hijacking', 'aggravated battery', 'traffic collision', 'possession of controlled substance', 'hit tand run', 'assist other agency motor vehicle theft and recovery', 'attempted theft from person', 'indecent exposure', 'vehicle fire', 'defacement', 'mental health call', 'shot fired', 'failure to register', 'criminal sexual assault', 'found narcotic paraphernalia', 'harassing phone call', 'harassment by electronic means', 'attempted robbery', 'domestic aggravated battery', 'non-criminal damage to vehicle', 'domestic', 'cutting instrument', 'false fire alarm', 'found drug paraphernalia', 'found', 'damage to personal property', 'obscene phone call', 'other offense', 'criminal damage to property', 'obstruct police officer', 'criminal trespass', 'suspect narcotic', 'traffic crash hit and run', 'dui', 'attempted vehicular hijacking', 'harassment by telephone', 'possession of drug paraphernalia', 'suspicious mail', 'aggravated vehicular carjacking', 'robbery', 'non-criminal fire', 'vehicle recovery', 'theft from motor vehicle', 'deceptive', 'interference with public officer', 'personal injury'}\n"
          ]
        }
      ],
      "source": [
        "print(list_to_parsed_set(df[\"incident\"].to_list()))"
      ]
    },
    {
      "cell_type": "code",
      "execution_count": 134,
      "id": "925ca09f1a15edbd",
      "metadata": {
        "ExecuteTime": {
          "end_time": "2024-02-27T00:26:08.188201Z",
          "start_time": "2024-02-27T00:26:08.157918Z"
        },
        "collapsed": false
      },
      "outputs": [
        {
          "data": {
            "text/plain": "391"
          },
          "execution_count": 134,
          "metadata": {},
          "output_type": "execute_result"
        }
      ],
      "source": [
        "len(list_to_parsed_set(df[\"incident\"].to_list()))"
      ]
    },
    {
      "cell_type": "code",
      "execution_count": 135,
      "id": "27c01bc37608766e",
      "metadata": {
        "ExecuteTime": {
          "end_time": "2024-02-27T00:26:08.192387Z",
          "start_time": "2024-02-27T00:26:08.161504Z"
        },
        "collapsed": false
      },
      "outputs": [
        {
          "data": {
            "text/html": "<div><style>\n.dataframe > thead > tr > th,\n.dataframe > tbody > tr > td {\n  text-align: right;\n}\n</style>\n<small>shape: (5, 12)</small><table border=\"1\" class=\"dataframe\"><thead><tr><th>comments</th><th>disposition</th><th>incident</th><th>location</th><th>occurred</th><th>predicted_incident</th><th>reported</th><th>reported_date</th><th>season</th><th>ucpd_id</th><th>validated_address</th><th>validated_location</th></tr><tr><td>str</td><td>str</td><td>str</td><td>str</td><td>str</td><td>str</td><td>datetime[\u03bcs, America/Chicago]</td><td>date</td><td>str</td><td>str</td><td>str</td><td>list[f64]</td></tr></thead><tbody><tr><td>&quot;Unknown person\u2026</td><td>&quot;CPD&quot;</td><td>&quot;information / \u2026</td><td>&quot;S. Blackstone \u2026</td><td>&quot;2/25/24 4:15 A\u2026</td><td>null</td><td>2024-02-25 07:47:00 CST</td><td>2024-02-25</td><td>&quot;Winter&quot;</td><td>&quot;2024-007468&quot;</td><td>&quot;5420 South Bla\u2026</td><td>[41.797329, -87.590774]</td></tr><tr><td>&quot;An underage in\u2026</td><td>&quot;Referred&quot;</td><td>&quot;liquor law vio\u2026</td><td>&quot;5630 S. Univer\u2026</td><td>&quot;2/25/24 2:27 A\u2026</td><td>null</td><td>2024-02-25 02:27:00 CST</td><td>2024-02-25</td><td>&quot;Winter&quot;</td><td>&quot;24-00188&quot;</td><td>&quot;5630 S UNIVERS\u2026</td><td>[41.792667, -87.598182]</td></tr><tr><td>&quot;An underage in\u2026</td><td>&quot;Referred&quot;</td><td>&quot;liquor law vio\u2026</td><td>&quot;1009 E. 57th S\u2026</td><td>&quot;2/25/24 3:24 A\u2026</td><td>null</td><td>2024-02-25 03:24:00 CST</td><td>2024-02-25</td><td>&quot;Winter&quot;</td><td>&quot;24-00189&quot;</td><td>&quot;1009 E 57TH ST\u2026</td><td>[41.791339, -87.601044]</td></tr><tr><td>&quot;Two tool boxes\u2026</td><td>&quot;Closed&quot;</td><td>&quot;found property\u2026</td><td>&quot;850 E. 61st St\u2026</td><td>&quot;2/25/24 1:34 P\u2026</td><td>null</td><td>2024-02-25 13:34:00 CST</td><td>2024-02-25</td><td>&quot;Winter&quot;</td><td>&quot;24-00190&quot;</td><td>&quot;850 E 61ST ST,\u2026</td><td>[41.784124, -87.605663]</td></tr><tr><td>&quot;A visitor was \u2026</td><td>&quot;Arrest&quot;</td><td>&quot;unlawful posse\u2026</td><td>&quot;5700 S. Maryla\u2026</td><td>&quot;2/25/24 2:11 P\u2026</td><td>null</td><td>2024-02-25 14:11:00 CST</td><td>2024-02-25</td><td>&quot;Winter&quot;</td><td>&quot;24-00191&quot;</td><td>&quot;5700 S MARYLAN\u2026</td><td>[41.790399, -87.605017]</td></tr></tbody></table></div>",
            "text/plain": "shape: (5, 12)\n\u250c\u2500\u2500\u2500\u2500\u2500\u2500\u2500\u2500\u2500\u2500\u2500\u2500\u252c\u2500\u2500\u2500\u2500\u2500\u2500\u2500\u2500\u2500\u2500\u2500\u2500\u252c\u2500\u2500\u2500\u2500\u2500\u2500\u2500\u2500\u2500\u2500\u2500\u252c\u2500\u2500\u2500\u2500\u2500\u2500\u2500\u2500\u2500\u2500\u2500\u252c\u2500\u2500\u2500\u252c\u2500\u2500\u2500\u2500\u2500\u2500\u2500\u2500\u252c\u2500\u2500\u2500\u2500\u2500\u2500\u2500\u2500\u2500\u2500\u2500\u252c\u2500\u2500\u2500\u2500\u2500\u2500\u2500\u2500\u2500\u2500\u2500\u252c\u2500\u2500\u2500\u2500\u2500\u2500\u2500\u2500\u2500\u2500\u2500\u2510\n\u2502 comments   \u2506 dispositio \u2506 incident  \u2506 location  \u2506 \u2026 \u2506 season \u2506 ucpd_id   \u2506 validated \u2506 validated \u2502\n\u2502 ---        \u2506 n          \u2506 ---       \u2506 ---       \u2506   \u2506 ---    \u2506 ---       \u2506 _address  \u2506 _location \u2502\n\u2502 str        \u2506 ---        \u2506 str       \u2506 str       \u2506   \u2506 str    \u2506 str       \u2506 ---       \u2506 ---       \u2502\n\u2502            \u2506 str        \u2506           \u2506           \u2506   \u2506        \u2506           \u2506 str       \u2506 list[f64] \u2502\n\u255e\u2550\u2550\u2550\u2550\u2550\u2550\u2550\u2550\u2550\u2550\u2550\u2550\u256a\u2550\u2550\u2550\u2550\u2550\u2550\u2550\u2550\u2550\u2550\u2550\u2550\u256a\u2550\u2550\u2550\u2550\u2550\u2550\u2550\u2550\u2550\u2550\u2550\u256a\u2550\u2550\u2550\u2550\u2550\u2550\u2550\u2550\u2550\u2550\u2550\u256a\u2550\u2550\u2550\u256a\u2550\u2550\u2550\u2550\u2550\u2550\u2550\u2550\u256a\u2550\u2550\u2550\u2550\u2550\u2550\u2550\u2550\u2550\u2550\u2550\u256a\u2550\u2550\u2550\u2550\u2550\u2550\u2550\u2550\u2550\u2550\u2550\u256a\u2550\u2550\u2550\u2550\u2550\u2550\u2550\u2550\u2550\u2550\u2550\u2561\n\u2502 Unknown    \u2506 CPD        \u2506 informati \u2506 S. Blacks \u2506 \u2026 \u2506 Winter \u2506 2024-0074 \u2506 5420      \u2506 [41.79732 \u2502\n\u2502 person(s)  \u2506            \u2506 on /      \u2506 tone Ave. \u2506   \u2506        \u2506 68        \u2506 South Bla \u2506 9, -87.59 \u2502\n\u2502 threw      \u2506            \u2506 criminal  \u2506 between   \u2506   \u2506        \u2506           \u2506 ckstone   \u2506 0774]     \u2502\n\u2502 rocks sh\u2026  \u2506            \u2506 damage    \u2506 E. 54\u2026    \u2506   \u2506        \u2506           \u2506 Avenue,   \u2506           \u2502\n\u2502            \u2506            \u2506 to\u2026       \u2506           \u2506   \u2506        \u2506           \u2506 Ch\u2026       \u2506           \u2502\n\u2502 An         \u2506 Referred   \u2506 liquor    \u2506 5630 S.   \u2506 \u2026 \u2506 Winter \u2506 24-00188  \u2506 5630 S    \u2506 [41.79266 \u2502\n\u2502 underage   \u2506            \u2506 law       \u2506 Universit \u2506   \u2506        \u2506           \u2506 UNIVERSIT \u2506 7, -87.59 \u2502\n\u2502 individual \u2506            \u2506 violation \u2506 y Ave.    \u2506   \u2506        \u2506           \u2506 Y AVE,    \u2506 8182]     \u2502\n\u2502 became il\u2026 \u2506            \u2506           \u2506 (Max Pal\u2026 \u2506   \u2506        \u2506           \u2506 CHICAGO,  \u2506           \u2502\n\u2502            \u2506            \u2506           \u2506           \u2506   \u2506        \u2506           \u2506 \u2026         \u2506           \u2502\n\u2502 An         \u2506 Referred   \u2506 liquor    \u2506 1009 E.   \u2506 \u2026 \u2506 Winter \u2506 24-00189  \u2506 1009 E    \u2506 [41.79133 \u2502\n\u2502 underage   \u2506            \u2506 law       \u2506 57th St.  \u2506   \u2506        \u2506           \u2506 57TH ST,  \u2506 9, -87.60 \u2502\n\u2502 individual \u2506            \u2506 violation \u2506 (Hitchcoc \u2506   \u2506        \u2506           \u2506 CHICAGO,  \u2506 1044]     \u2502\n\u2502 became il\u2026 \u2506            \u2506           \u2506 k Hall\u2026   \u2506   \u2506        \u2506           \u2506 IL, 606\u2026  \u2506           \u2502\n\u2502 Two tool   \u2506 Closed     \u2506 found     \u2506 850 E.    \u2506 \u2026 \u2506 Winter \u2506 24-00190  \u2506 850 E     \u2506 [41.78412 \u2502\n\u2502 boxes      \u2506            \u2506 property  \u2506 61st St.  \u2506   \u2506        \u2506           \u2506 61ST ST,  \u2506 4, -87.60 \u2502\n\u2502 found at   \u2506            \u2506           \u2506 (UCPD HQ) \u2506   \u2506        \u2506           \u2506 CHICAGO,  \u2506 5663]     \u2502\n\u2502 61st & U\u2026  \u2506            \u2506           \u2506           \u2506   \u2506        \u2506           \u2506 IL, 6063\u2026 \u2506           \u2502\n\u2502 A visitor  \u2506 Arrest     \u2506 unlawful  \u2506 5700 S.   \u2506 \u2026 \u2506 Winter \u2506 24-00191  \u2506 5700 S    \u2506 [41.79039 \u2502\n\u2502 was        \u2506            \u2506 possessio \u2506 Maryland  \u2506   \u2506        \u2506           \u2506 MARYLAND  \u2506 9, -87.60 \u2502\n\u2502 arrested   \u2506            \u2506 n of a    \u2506 Ave.      \u2506   \u2506        \u2506           \u2506 AVE,      \u2506 5017]     \u2502\n\u2502 by UCPD f\u2026 \u2506            \u2506 firearm   \u2506 (CCD)     \u2506   \u2506        \u2506           \u2506 CHICAGO,  \u2506           \u2502\n\u2502            \u2506            \u2506           \u2506           \u2506   \u2506        \u2506           \u2506 IL\u2026       \u2506           \u2502\n\u2514\u2500\u2500\u2500\u2500\u2500\u2500\u2500\u2500\u2500\u2500\u2500\u2500\u2534\u2500\u2500\u2500\u2500\u2500\u2500\u2500\u2500\u2500\u2500\u2500\u2500\u2534\u2500\u2500\u2500\u2500\u2500\u2500\u2500\u2500\u2500\u2500\u2500\u2534\u2500\u2500\u2500\u2500\u2500\u2500\u2500\u2500\u2500\u2500\u2500\u2534\u2500\u2500\u2500\u2534\u2500\u2500\u2500\u2500\u2500\u2500\u2500\u2500\u2534\u2500\u2500\u2500\u2500\u2500\u2500\u2500\u2500\u2500\u2500\u2500\u2534\u2500\u2500\u2500\u2500\u2500\u2500\u2500\u2500\u2500\u2500\u2500\u2534\u2500\u2500\u2500\u2500\u2500\u2500\u2500\u2500\u2500\u2500\u2500\u2518"
          },
          "execution_count": 135,
          "metadata": {},
          "output_type": "execute_result"
        }
      ],
      "source": [
        "df.head()"
      ]
    },
    {
      "cell_type": "code",
      "execution_count": 136,
      "id": "a1ceb2499ac5fd2d",
      "metadata": {
        "ExecuteTime": {
          "end_time": "2024-02-27T00:26:08.221480Z",
          "start_time": "2024-02-27T00:26:08.164392Z"
        },
        "collapsed": false
      },
      "outputs": [
        {
          "data": {
            "text/html": "<div><style>\n.dataframe > thead > tr > th,\n.dataframe > tbody > tr > td {\n  text-align: right;\n}\n</style>\n<small>shape: (5, 13)</small><table border=\"1\" class=\"dataframe\"><thead><tr><th>comments</th><th>disposition</th><th>incident</th><th>location</th><th>occurred</th><th>predicted_incident</th><th>reported</th><th>reported_date</th><th>season</th><th>ucpd_id</th><th>validated_address</th><th>validated_location</th><th>year</th></tr><tr><td>str</td><td>str</td><td>str</td><td>str</td><td>str</td><td>str</td><td>datetime[\u03bcs, America/Chicago]</td><td>date</td><td>str</td><td>str</td><td>str</td><td>list[f64]</td><td>i32</td></tr></thead><tbody><tr><td>&quot;Unknown person\u2026</td><td>&quot;CPD&quot;</td><td>&quot;information / \u2026</td><td>&quot;S. Blackstone \u2026</td><td>&quot;2/25/24 4:15 A\u2026</td><td>null</td><td>2024-02-25 07:47:00 CST</td><td>2024-02-25</td><td>&quot;Winter&quot;</td><td>&quot;2024-007468&quot;</td><td>&quot;5420 South Bla\u2026</td><td>[41.797329, -87.590774]</td><td>2024</td></tr><tr><td>&quot;An underage in\u2026</td><td>&quot;Referred&quot;</td><td>&quot;liquor law vio\u2026</td><td>&quot;5630 S. Univer\u2026</td><td>&quot;2/25/24 2:27 A\u2026</td><td>null</td><td>2024-02-25 02:27:00 CST</td><td>2024-02-25</td><td>&quot;Winter&quot;</td><td>&quot;24-00188&quot;</td><td>&quot;5630 S UNIVERS\u2026</td><td>[41.792667, -87.598182]</td><td>2024</td></tr><tr><td>&quot;An underage in\u2026</td><td>&quot;Referred&quot;</td><td>&quot;liquor law vio\u2026</td><td>&quot;1009 E. 57th S\u2026</td><td>&quot;2/25/24 3:24 A\u2026</td><td>null</td><td>2024-02-25 03:24:00 CST</td><td>2024-02-25</td><td>&quot;Winter&quot;</td><td>&quot;24-00189&quot;</td><td>&quot;1009 E 57TH ST\u2026</td><td>[41.791339, -87.601044]</td><td>2024</td></tr><tr><td>&quot;Two tool boxes\u2026</td><td>&quot;Closed&quot;</td><td>&quot;found property\u2026</td><td>&quot;850 E. 61st St\u2026</td><td>&quot;2/25/24 1:34 P\u2026</td><td>null</td><td>2024-02-25 13:34:00 CST</td><td>2024-02-25</td><td>&quot;Winter&quot;</td><td>&quot;24-00190&quot;</td><td>&quot;850 E 61ST ST,\u2026</td><td>[41.784124, -87.605663]</td><td>2024</td></tr><tr><td>&quot;A visitor was \u2026</td><td>&quot;Arrest&quot;</td><td>&quot;unlawful posse\u2026</td><td>&quot;5700 S. Maryla\u2026</td><td>&quot;2/25/24 2:11 P\u2026</td><td>null</td><td>2024-02-25 14:11:00 CST</td><td>2024-02-25</td><td>&quot;Winter&quot;</td><td>&quot;24-00191&quot;</td><td>&quot;5700 S MARYLAN\u2026</td><td>[41.790399, -87.605017]</td><td>2024</td></tr></tbody></table></div>",
            "text/plain": "shape: (5, 13)\n\u250c\u2500\u2500\u2500\u2500\u2500\u2500\u2500\u2500\u2500\u2500\u2500\u2500\u252c\u2500\u2500\u2500\u2500\u2500\u2500\u2500\u2500\u2500\u2500\u2500\u2500\u252c\u2500\u2500\u2500\u2500\u2500\u2500\u2500\u2500\u2500\u2500\u2500\u2500\u252c\u2500\u2500\u2500\u2500\u2500\u2500\u2500\u2500\u2500\u2500\u2500\u2500\u252c\u2500\u2500\u2500\u252c\u2500\u2500\u2500\u2500\u2500\u2500\u2500\u2500\u2500\u2500\u2500\u252c\u2500\u2500\u2500\u2500\u2500\u2500\u2500\u2500\u2500\u2500\u2500\u252c\u2500\u2500\u2500\u2500\u2500\u2500\u2500\u2500\u2500\u2500\u2500\u252c\u2500\u2500\u2500\u2500\u2500\u2500\u2510\n\u2502 comments   \u2506 dispositio \u2506 incident   \u2506 location   \u2506 \u2026 \u2506 ucpd_id   \u2506 validated \u2506 validated \u2506 year \u2502\n\u2502 ---        \u2506 n          \u2506 ---        \u2506 ---        \u2506   \u2506 ---       \u2506 _address  \u2506 _location \u2506 ---  \u2502\n\u2502 str        \u2506 ---        \u2506 str        \u2506 str        \u2506   \u2506 str       \u2506 ---       \u2506 ---       \u2506 i32  \u2502\n\u2502            \u2506 str        \u2506            \u2506            \u2506   \u2506           \u2506 str       \u2506 list[f64] \u2506      \u2502\n\u255e\u2550\u2550\u2550\u2550\u2550\u2550\u2550\u2550\u2550\u2550\u2550\u2550\u256a\u2550\u2550\u2550\u2550\u2550\u2550\u2550\u2550\u2550\u2550\u2550\u2550\u256a\u2550\u2550\u2550\u2550\u2550\u2550\u2550\u2550\u2550\u2550\u2550\u2550\u256a\u2550\u2550\u2550\u2550\u2550\u2550\u2550\u2550\u2550\u2550\u2550\u2550\u256a\u2550\u2550\u2550\u256a\u2550\u2550\u2550\u2550\u2550\u2550\u2550\u2550\u2550\u2550\u2550\u256a\u2550\u2550\u2550\u2550\u2550\u2550\u2550\u2550\u2550\u2550\u2550\u256a\u2550\u2550\u2550\u2550\u2550\u2550\u2550\u2550\u2550\u2550\u2550\u256a\u2550\u2550\u2550\u2550\u2550\u2550\u2561\n\u2502 Unknown    \u2506 CPD        \u2506 informatio \u2506 S.         \u2506 \u2026 \u2506 2024-0074 \u2506 5420      \u2506 [41.79732 \u2506 2024 \u2502\n\u2502 person(s)  \u2506            \u2506 n /        \u2506 Blackstone \u2506   \u2506 68        \u2506 South Bla \u2506 9, -87.59 \u2506      \u2502\n\u2502 threw      \u2506            \u2506 criminal   \u2506 Ave.       \u2506   \u2506           \u2506 ckstone   \u2506 0774]     \u2506      \u2502\n\u2502 rocks sh\u2026  \u2506            \u2506 damage to\u2026 \u2506 between E. \u2506   \u2506           \u2506 Avenue,   \u2506           \u2506      \u2502\n\u2502            \u2506            \u2506            \u2506 54\u2026        \u2506   \u2506           \u2506 Ch\u2026       \u2506           \u2506      \u2502\n\u2502 An         \u2506 Referred   \u2506 liquor law \u2506 5630 S.    \u2506 \u2026 \u2506 24-00188  \u2506 5630 S    \u2506 [41.79266 \u2506 2024 \u2502\n\u2502 underage   \u2506            \u2506 violation  \u2506 University \u2506   \u2506           \u2506 UNIVERSIT \u2506 7, -87.59 \u2506      \u2502\n\u2502 individual \u2506            \u2506            \u2506 Ave. (Max  \u2506   \u2506           \u2506 Y AVE,    \u2506 8182]     \u2506      \u2502\n\u2502 became il\u2026 \u2506            \u2506            \u2506 Pal\u2026       \u2506   \u2506           \u2506 CHICAGO,  \u2506           \u2506      \u2502\n\u2502            \u2506            \u2506            \u2506            \u2506   \u2506           \u2506 \u2026         \u2506           \u2506      \u2502\n\u2502 An         \u2506 Referred   \u2506 liquor law \u2506 1009 E.    \u2506 \u2026 \u2506 24-00189  \u2506 1009 E    \u2506 [41.79133 \u2506 2024 \u2502\n\u2502 underage   \u2506            \u2506 violation  \u2506 57th St.   \u2506   \u2506           \u2506 57TH ST,  \u2506 9, -87.60 \u2506      \u2502\n\u2502 individual \u2506            \u2506            \u2506 (Hitchcock \u2506   \u2506           \u2506 CHICAGO,  \u2506 1044]     \u2506      \u2502\n\u2502 became il\u2026 \u2506            \u2506            \u2506 Hall\u2026      \u2506   \u2506           \u2506 IL, 606\u2026  \u2506           \u2506      \u2502\n\u2502 Two tool   \u2506 Closed     \u2506 found      \u2506 850 E.     \u2506 \u2026 \u2506 24-00190  \u2506 850 E     \u2506 [41.78412 \u2506 2024 \u2502\n\u2502 boxes      \u2506            \u2506 property   \u2506 61st St.   \u2506   \u2506           \u2506 61ST ST,  \u2506 4, -87.60 \u2506      \u2502\n\u2502 found at   \u2506            \u2506            \u2506 (UCPD HQ)  \u2506   \u2506           \u2506 CHICAGO,  \u2506 5663]     \u2506      \u2502\n\u2502 61st & U\u2026  \u2506            \u2506            \u2506            \u2506   \u2506           \u2506 IL, 6063\u2026 \u2506           \u2506      \u2502\n\u2502 A visitor  \u2506 Arrest     \u2506 unlawful   \u2506 5700 S.    \u2506 \u2026 \u2506 24-00191  \u2506 5700 S    \u2506 [41.79039 \u2506 2024 \u2502\n\u2502 was        \u2506            \u2506 possession \u2506 Maryland   \u2506   \u2506           \u2506 MARYLAND  \u2506 9, -87.60 \u2506      \u2502\n\u2502 arrested   \u2506            \u2506 of a       \u2506 Ave. (CCD) \u2506   \u2506           \u2506 AVE,      \u2506 5017]     \u2506      \u2502\n\u2502 by UCPD f\u2026 \u2506            \u2506 firearm    \u2506            \u2506   \u2506           \u2506 CHICAGO,  \u2506           \u2506      \u2502\n\u2502            \u2506            \u2506            \u2506            \u2506   \u2506           \u2506 IL\u2026       \u2506           \u2506      \u2502\n\u2514\u2500\u2500\u2500\u2500\u2500\u2500\u2500\u2500\u2500\u2500\u2500\u2500\u2534\u2500\u2500\u2500\u2500\u2500\u2500\u2500\u2500\u2500\u2500\u2500\u2500\u2534\u2500\u2500\u2500\u2500\u2500\u2500\u2500\u2500\u2500\u2500\u2500\u2500\u2534\u2500\u2500\u2500\u2500\u2500\u2500\u2500\u2500\u2500\u2500\u2500\u2500\u2534\u2500\u2500\u2500\u2534\u2500\u2500\u2500\u2500\u2500\u2500\u2500\u2500\u2500\u2500\u2500\u2534\u2500\u2500\u2500\u2500\u2500\u2500\u2500\u2500\u2500\u2500\u2500\u2534\u2500\u2500\u2500\u2500\u2500\u2500\u2500\u2500\u2500\u2500\u2500\u2534\u2500\u2500\u2500\u2500\u2500\u2500\u2518"
          },
          "execution_count": 136,
          "metadata": {},
          "output_type": "execute_result"
        }
      ],
      "source": [
        "df_filtered = df.filter(pl.col(\"reported_date\") > date(2019, 12, 31)).filter(\n",
        "    pl.col(\"reported_date\").dt.month() <= 2\n",
        ")\n",
        "df_filtered = df_filtered.with_columns(\n",
        "    (df_filtered[\"reported_date\"].dt.year()).alias(\"year\")\n",
        ")\n",
        "df_filtered.head()"
      ]
    },
    {
      "cell_type": "code",
      "execution_count": 137,
      "id": "bfa47f86dc68c0d",
      "metadata": {
        "ExecuteTime": {
          "end_time": "2024-02-27T00:26:08.221915Z",
          "start_time": "2024-02-27T00:26:08.168044Z"
        },
        "collapsed": false
      },
      "outputs": [
        {
          "data": {
            "text/html": "<div><style>\n.dataframe > thead > tr > th,\n.dataframe > tbody > tr > td {\n  text-align: right;\n}\n</style>\n<small>shape: (5, 2)</small><table border=\"1\" class=\"dataframe\"><thead><tr><th>year</th><th>count</th></tr><tr><td>i32</td><td>u32</td></tr></thead><tbody><tr><td>2020</td><td>191</td></tr><tr><td>2021</td><td>180</td></tr><tr><td>2022</td><td>224</td></tr><tr><td>2023</td><td>285</td></tr><tr><td>2024</td><td>280</td></tr></tbody></table></div>",
            "text/plain": "shape: (5, 2)\n\u250c\u2500\u2500\u2500\u2500\u2500\u2500\u252c\u2500\u2500\u2500\u2500\u2500\u2500\u2500\u2510\n\u2502 year \u2506 count \u2502\n\u2502 ---  \u2506 ---   \u2502\n\u2502 i32  \u2506 u32   \u2502\n\u255e\u2550\u2550\u2550\u2550\u2550\u2550\u256a\u2550\u2550\u2550\u2550\u2550\u2550\u2550\u2561\n\u2502 2020 \u2506 191   \u2502\n\u2502 2021 \u2506 180   \u2502\n\u2502 2022 \u2506 224   \u2502\n\u2502 2023 \u2506 285   \u2502\n\u2502 2024 \u2506 280   \u2502\n\u2514\u2500\u2500\u2500\u2500\u2500\u2500\u2534\u2500\u2500\u2500\u2500\u2500\u2500\u2500\u2518"
          },
          "execution_count": 137,
          "metadata": {},
          "output_type": "execute_result"
        }
      ],
      "source": [
        "df_filtered.groupby(\"year\").count().sort(by=\"year\")"
      ]
    },
    {
      "cell_type": "code",
      "execution_count": 138,
      "id": "2bf6a78f35dd8ca1",
      "metadata": {
        "ExecuteTime": {
          "end_time": "2024-02-27T00:26:08.226971Z",
          "start_time": "2024-02-27T00:26:08.171479Z"
        },
        "collapsed": false
      },
      "outputs": [
        {
          "data": {
            "text/html": "<div><style>\n.dataframe > thead > tr > th,\n.dataframe > tbody > tr > td {\n  text-align: right;\n}\n</style>\n<small>shape: (114, 13)</small><table border=\"1\" class=\"dataframe\"><thead><tr><th>comments</th><th>disposition</th><th>incident</th><th>location</th><th>occurred</th><th>predicted_incident</th><th>reported</th><th>reported_date</th><th>season</th><th>ucpd_id</th><th>validated_address</th><th>validated_location</th><th>year</th></tr><tr><td>str</td><td>str</td><td>str</td><td>str</td><td>str</td><td>str</td><td>datetime[\u03bcs, America/Chicago]</td><td>date</td><td>str</td><td>str</td><td>str</td><td>list[f64]</td><td>i32</td></tr></thead><tbody><tr><td>&quot;DSS was notifi\u2026</td><td>&quot;No Investigati\u2026</td><td>&quot;sexual assault\u2026</td><td>&quot;5700 S. Maryla\u2026</td><td>&quot;2/13/24 time n\u2026</td><td>null</td><td>2024-02-20 12:49:00 CST</td><td>2024-02-20</td><td>&quot;Winter&quot;</td><td>&quot;CSA Report    \u2026</td><td>&quot;5700 S MARYLAN\u2026</td><td>[41.790399, -87.605017]</td><td>2024</td></tr><tr><td>&quot;Three unknown \u2026</td><td>&quot;CPD&quot;</td><td>&quot;information / \u2026</td><td>&quot;5601 S. Kenwoo\u2026</td><td>&quot;2/19/24 10:55 \u2026</td><td>null</td><td>2024-02-19 23:02:00 CST</td><td>2024-02-19</td><td>&quot;Winter&quot;</td><td>&quot;2024-006689&quot;</td><td>&quot;5601 S KENWOOD\u2026</td><td>[41.793254, -87.593181]</td><td>2024</td></tr><tr><td>&quot;A person makin\u2026</td><td>&quot;Ex. Cleared&quot;</td><td>&quot;assault&quot;</td><td>&quot;1100 E. 57th S\u2026</td><td>&quot;2/19/24 1:20 P\u2026</td><td>null</td><td>2024-02-19 13:21:00 CST</td><td>2024-02-19</td><td>&quot;Winter&quot;</td><td>&quot;24-00164&quot;</td><td>&quot;1100 E 57TH ST\u2026</td><td>[41.791485, -87.598153]</td><td>2024</td></tr><tr><td>&quot;Subject assaul\u2026</td><td>&quot;Ex. Cleared&quot;</td><td>&quot;assault&quot;</td><td>&quot;5800 S. Univer\u2026</td><td>&quot;2/16/24 1:00 P\u2026</td><td>null</td><td>2024-02-16 13:00:00 CST</td><td>2024-02-16</td><td>&quot;Winter&quot;</td><td>&quot;24-00154&quot;</td><td>&quot;5800 S UNIVERS\u2026</td><td>[41.790511, -87.598131]</td><td>2024</td></tr><tr><td>&quot;Person found s\u2026</td><td>&quot;CPD&quot;</td><td>&quot;information / \u2026</td><td>&quot;1101 E. 47th S\u2026</td><td>&quot;2/13/24 12:40 \u2026</td><td>null</td><td>2024-02-13 00:42:00 CST</td><td>2024-02-13</td><td>&quot;Winter&quot;</td><td>&quot;2024-005783&quot;</td><td>&quot;1101 E 47TH ST\u2026</td><td>[41.809561, -87.59919]</td><td>2024</td></tr><tr><td>&quot;Victim reporte\u2026</td><td>&quot;CPD&quot;</td><td>&quot;information / \u2026</td><td>&quot;S. East End Av\u2026</td><td>&quot;10/20/23 3:00 \u2026</td><td>null</td><td>2024-02-07 17:23:00 CST</td><td>2024-02-07</td><td>&quot;Winter&quot;</td><td>&quot;24-00130&quot;</td><td>&quot;5020 South Eas\u2026</td><td>[41.803201, -87.585309]</td><td>2024</td></tr><tr><td>&quot;A person walki\u2026</td><td>&quot;CPD&quot;</td><td>&quot;information / \u2026</td><td>&quot;S. Dorchester \u2026</td><td>&quot;2/2/24 10:45 P\u2026</td><td>null</td><td>2024-02-02 23:13:00 CST</td><td>2024-02-02</td><td>&quot;Winter&quot;</td><td>&quot;2024-004492&quot;</td><td>&quot;5120 South Dor\u2026</td><td>[41.801658, -87.592142]</td><td>2024</td></tr><tr><td>&quot;Victim walking\u2026</td><td>&quot;Referred&quot;</td><td>&quot;information / \u2026</td><td>&quot;5550 S. Dorche\u2026</td><td>&quot;1/24/24 5:15 P\u2026</td><td>null</td><td>2024-01-24 17:17:00 CST</td><td>2024-01-24</td><td>&quot;Winter&quot;</td><td>&quot;2024-003266&quot;</td><td>&quot;5550 S DORCHES\u2026</td><td>[41.793893, -87.591731]</td><td>2024</td></tr><tr><td>&quot;A person walki\u2026</td><td>&quot;Open&quot;</td><td>&quot;attempted arme\u2026</td><td>&quot;1425 E. Midway\u2026</td><td>&quot;1/24/24 5:20 P\u2026</td><td>null</td><td>2024-01-24 17:25:00 CST</td><td>2024-01-24</td><td>&quot;Winter&quot;</td><td>&quot;24-00089&quot;</td><td>&quot;1425 East Midw\u2026</td><td>[41.787184, -87.599254]</td><td>2024</td></tr><tr><td>&quot;A subject mena\u2026</td><td>&quot;Arrest&quot;</td><td>&quot;assault&quot;</td><td>&quot;1055 E. 55th S\u2026</td><td>&quot;1/22/24 10:19 \u2026</td><td>null</td><td>2024-01-22 22:19:00 CST</td><td>2024-01-22</td><td>&quot;Winter&quot;</td><td>&quot;24-00077&quot;</td><td>&quot;1055 E 55TH ST\u2026</td><td>[41.794964, -87.600471]</td><td>2024</td></tr><tr><td>&quot;Verbal dispute\u2026</td><td>&quot;Closed&quot;</td><td>&quot;assault&quot;</td><td>&quot;1414 E. 59th S\u2026</td><td>&quot;1/19/24 1:57 P\u2026</td><td>null</td><td>2024-01-19 13:57:00 CST</td><td>2024-01-19</td><td>&quot;Winter&quot;</td><td>&quot;24-00067&quot;</td><td>&quot;1414 E 59TH ST\u2026</td><td>[41.787915, -87.591093]</td><td>2024</td></tr><tr><td>&quot;A person walki\u2026</td><td>&quot;CPD&quot;</td><td>&quot;information / \u2026</td><td>&quot;5425 S. Dorche\u2026</td><td>&quot;1/17/24 7:00 P\u2026</td><td>null</td><td>2024-01-17 19:03:00 CST</td><td>2024-01-17</td><td>&quot;Winter&quot;</td><td>&quot;2024-002334&quot;</td><td>&quot;5425 S DORCHES\u2026</td><td>[41.797307, -87.591657]</td><td>2024</td></tr><tr><td>&hellip;</td><td>&hellip;</td><td>&hellip;</td><td>&hellip;</td><td>&hellip;</td><td>&hellip;</td><td>&hellip;</td><td>&hellip;</td><td>&hellip;</td><td>&hellip;</td><td>&hellip;</td><td>&hellip;</td><td>&hellip;</td></tr><tr><td>&quot;Unknown suspec\u2026</td><td>&quot;CPD&quot;</td><td>&quot;information / \u2026</td><td>&quot;S. Lake Park A\u2026</td><td>&quot;2/10/20 9:25 P\u2026</td><td>null</td><td>2020-02-10 21:38:00 CST</td><td>2020-02-10</td><td>&quot;Winter&quot;</td><td>&quot;2020-009157&quot;</td><td>&quot;5500 South Lak\u2026</td><td>[41.795075, -87.587781]</td><td>2020</td></tr><tr><td>&quot;Unknown suspec\u2026</td><td>&quot;CPD&quot;</td><td>&quot;information / \u2026</td><td>&quot;3825 S. Cottag\u2026</td><td>&quot;2/8/20 5:10 PM\u2026</td><td>null</td><td>2020-02-08 18:10:00 CST</td><td>2020-02-08</td><td>&quot;Winter&quot;</td><td>&quot;2020-008631&quot;</td><td>&quot;3825 S COTTAGE\u2026</td><td>[41.825478, -87.607596]</td><td>2020</td></tr><tr><td>&quot;Unknown suspec\u2026</td><td>&quot;CPD&quot;</td><td>&quot;information / \u2026</td><td>&quot;900 E. 62nd St\u2026</td><td>&quot;2/5/20 10:30 P\u2026</td><td>null</td><td>2020-02-05 22:30:00 CST</td><td>2020-02-05</td><td>&quot;Winter&quot;</td><td>&quot;2020-008016&quot;</td><td>&quot;900 East 62nd \u2026</td><td>[41.78249, -87.603926]</td><td>2020</td></tr><tr><td>&quot;DSS was notifi\u2026</td><td>&quot;No Investigati\u2026</td><td>&quot;criminal sexua\u2026</td><td>&quot;6031 S. Ellis \u2026</td><td>&quot;1/18/20  Time \u2026</td><td>null</td><td>2020-01-31 13:26:00 CST</td><td>2020-01-31</td><td>&quot;Winter&quot;</td><td>&quot;CSA Report    \u2026</td><td>&quot;6031 S ELLIS A\u2026</td><td>[41.785352, -87.601102]</td><td>2020</td></tr><tr><td>&quot;Unknown subjec\u2026</td><td>&quot;CPD&quot;</td><td>&quot;information / \u2026</td><td>&quot;5100 S. Ellis \u2026</td><td>&quot;1/21/20 5:40 P\u2026</td><td>null</td><td>2020-01-21 18:11:00 CST</td><td>2020-01-21</td><td>&quot;Winter&quot;</td><td>&quot;2020-004546&quot;</td><td>&quot;5100 S ELLIS A\u2026</td><td>[41.802261, -87.601443]</td><td>2020</td></tr><tr><td>&quot;Two unknown su\u2026</td><td>&quot;CPD&quot;</td><td>&quot;information / \u2026</td><td>&quot;5200 S. Kenwoo\u2026</td><td>&quot;1/20/20 6:10 P\u2026</td><td>null</td><td>2020-01-20 18:47:00 CST</td><td>2020-01-20</td><td>&quot;Winter&quot;</td><td>&quot;2020-004302&quot;</td><td>&quot;5200 S KENWOOD\u2026</td><td>[41.8009, -87.593513]</td><td>2020</td></tr><tr><td>&quot;Victim reporte\u2026</td><td>&quot;CPD&quot;</td><td>&quot;information / \u2026</td><td>&quot;S. University \u2026</td><td>&quot;May 2019 Unkno\u2026</td><td>null</td><td>2020-01-20 19:08:00 CST</td><td>2020-01-20</td><td>&quot;Winter&quot;</td><td>&quot;2020-004308&quot;</td><td>&quot;5520 South Uni\u2026</td><td>[41.794204, -87.598559]</td><td>2020</td></tr><tr><td>&quot;During the cou\u2026</td><td>&quot;CPD&quot;</td><td>&quot;information / \u2026</td><td>&quot;S. Kimbark Ave\u2026</td><td>&quot;1/13/20 2:30 P\u2026</td><td>null</td><td>2020-01-13 14:30:00 CST</td><td>2020-01-13</td><td>&quot;Winter&quot;</td><td>&quot;2020-002796&quot;</td><td>&quot;6120 South Kim\u2026</td><td>[41.783543, -87.595418]</td><td>2020</td></tr><tr><td>&quot;Two unknown su\u2026</td><td>&quot;CPD&quot;</td><td>&quot;information / \u2026</td><td>&quot;6300 S. Dorche\u2026</td><td>&quot;1/3/20 7:10 PM\u2026</td><td>null</td><td>2020-01-09 15:17:00 CST</td><td>2020-01-09</td><td>&quot;Winter&quot;</td><td>&quot;2020-001904&quot;</td><td>&quot;6300 S DORCHES\u2026</td><td>[41.780509, -87.591604]</td><td>2020</td></tr><tr><td>&quot;Two unknown su\u2026</td><td>&quot;CPD Arrest&quot;</td><td>&quot;information / \u2026</td><td>&quot;4800 S. Kimbar\u2026</td><td>&quot;1/8/20 1:40 PM\u2026</td><td>null</td><td>2020-01-08 13:46:00 CST</td><td>2020-01-08</td><td>&quot;Winter&quot;</td><td>&quot;2020-001682&quot;</td><td>&quot;4800 S KIMBARK\u2026</td><td>[41.807787, -87.595256]</td><td>2020</td></tr><tr><td>&quot;Victim was ass\u2026</td><td>&quot;CPD&quot;</td><td>&quot;information / \u2026</td><td>&quot;5048 S. Cornel\u2026</td><td>&quot;1/8/20 6:55 PM\u2026</td><td>null</td><td>2020-01-08 18:58:00 CST</td><td>2020-01-08</td><td>&quot;Winter&quot;</td><td>&quot;2020-001741&quot;</td><td>&quot;5048 S CORNELL\u2026</td><td>[41.803464, -87.586538]</td><td>2020</td></tr><tr><td>&quot;Victim placed \u2026</td><td>&quot;Arrest&quot;</td><td>&quot;assault&quot;</td><td>&quot;5721 S. Maryla\u2026</td><td>&quot;1/7/20 9:05 AM\u2026</td><td>null</td><td>2020-01-07 09:11:00 CST</td><td>2020-01-07</td><td>&quot;Winter&quot;</td><td>&quot;20-00016&quot;</td><td>&quot;5721 S MARYLAN\u2026</td><td>[41.790282, -87.604862]</td><td>2020</td></tr></tbody></table></div>",
            "text/plain": "shape: (114, 13)\n\u250c\u2500\u2500\u2500\u2500\u2500\u2500\u2500\u2500\u2500\u2500\u2500\u2500\u252c\u2500\u2500\u2500\u2500\u2500\u2500\u2500\u2500\u2500\u2500\u2500\u2500\u252c\u2500\u2500\u2500\u2500\u2500\u2500\u2500\u2500\u2500\u2500\u2500\u2500\u252c\u2500\u2500\u2500\u2500\u2500\u2500\u2500\u2500\u2500\u2500\u2500\u2500\u252c\u2500\u2500\u2500\u252c\u2500\u2500\u2500\u2500\u2500\u2500\u2500\u2500\u2500\u2500\u2500\u252c\u2500\u2500\u2500\u2500\u2500\u2500\u2500\u2500\u2500\u2500\u2500\u252c\u2500\u2500\u2500\u2500\u2500\u2500\u2500\u2500\u2500\u2500\u2500\u252c\u2500\u2500\u2500\u2500\u2500\u2500\u2510\n\u2502 comments   \u2506 dispositio \u2506 incident   \u2506 location   \u2506 \u2026 \u2506 ucpd_id   \u2506 validated \u2506 validated \u2506 year \u2502\n\u2502 ---        \u2506 n          \u2506 ---        \u2506 ---        \u2506   \u2506 ---       \u2506 _address  \u2506 _location \u2506 ---  \u2502\n\u2502 str        \u2506 ---        \u2506 str        \u2506 str        \u2506   \u2506 str       \u2506 ---       \u2506 ---       \u2506 i32  \u2502\n\u2502            \u2506 str        \u2506            \u2506            \u2506   \u2506           \u2506 str       \u2506 list[f64] \u2506      \u2502\n\u255e\u2550\u2550\u2550\u2550\u2550\u2550\u2550\u2550\u2550\u2550\u2550\u2550\u256a\u2550\u2550\u2550\u2550\u2550\u2550\u2550\u2550\u2550\u2550\u2550\u2550\u256a\u2550\u2550\u2550\u2550\u2550\u2550\u2550\u2550\u2550\u2550\u2550\u2550\u256a\u2550\u2550\u2550\u2550\u2550\u2550\u2550\u2550\u2550\u2550\u2550\u2550\u256a\u2550\u2550\u2550\u256a\u2550\u2550\u2550\u2550\u2550\u2550\u2550\u2550\u2550\u2550\u2550\u256a\u2550\u2550\u2550\u2550\u2550\u2550\u2550\u2550\u2550\u2550\u2550\u256a\u2550\u2550\u2550\u2550\u2550\u2550\u2550\u2550\u2550\u2550\u2550\u256a\u2550\u2550\u2550\u2550\u2550\u2550\u2561\n\u2502 DSS was    \u2506 No Investi \u2506 sexual     \u2506 5700 S.    \u2506 \u2026 \u2506 CSA       \u2506 5700 S    \u2506 [41.79039 \u2506 2024 \u2502\n\u2502 notified   \u2506 gation     \u2506 assault /  \u2506 Maryland   \u2506   \u2506 Report    \u2506 MARYLAND  \u2506 9, -87.60 \u2506      \u2502\n\u2502 by a       \u2506 Referred   \u2506 fondling   \u2506 Ave. (CCD) \u2506   \u2506 24-005    \u2506 AVE,      \u2506 5017]     \u2506      \u2502\n\u2502 Campus     \u2506 to Tit\u2026    \u2506            \u2506            \u2506   \u2506           \u2506 CHICAGO,  \u2506           \u2506      \u2502\n\u2502 Sec\u2026       \u2506            \u2506            \u2506            \u2506   \u2506           \u2506 IL\u2026       \u2506           \u2506      \u2502\n\u2502 Three      \u2506 CPD        \u2506 informatio \u2506 5601 S.    \u2506 \u2026 \u2506 2024-0066 \u2506 5601 S    \u2506 [41.79325 \u2506 2024 \u2502\n\u2502 unknown    \u2506            \u2506 n / armed  \u2506 Kenwood    \u2506   \u2506 89        \u2506 KENWOOD   \u2506 4, -87.59 \u2506      \u2502\n\u2502 suspects,  \u2506            \u2506 robbery    \u2506 Ave.       \u2506   \u2506           \u2506 AVE,      \u2506 3181]     \u2506      \u2502\n\u2502 armed wi\u2026  \u2506            \u2506            \u2506 (Public    \u2506   \u2506           \u2506 CHICAGO,  \u2506           \u2506      \u2502\n\u2502            \u2506            \u2506            \u2506 Way\u2026       \u2506   \u2506           \u2506 IL,\u2026      \u2506           \u2506      \u2502\n\u2502 A person   \u2506 Ex.        \u2506 assault    \u2506 1100 E.    \u2506 \u2026 \u2506 24-00164  \u2506 1100 E    \u2506 [41.79148 \u2506 2024 \u2502\n\u2502 making thr \u2506 Cleared    \u2506            \u2506 57th St.   \u2506   \u2506           \u2506 57TH ST,  \u2506 5, -87.59 \u2506      \u2502\n\u2502 eatening   \u2506            \u2506            \u2506 (Regenstei \u2506   \u2506           \u2506 CHICAGO,  \u2506 8153]     \u2506      \u2502\n\u2502 gest\u2026      \u2506            \u2506            \u2506 n Lib\u2026     \u2506   \u2506           \u2506 IL, 606\u2026  \u2506           \u2506      \u2502\n\u2502 Subject    \u2506 Ex.        \u2506 assault    \u2506 5800 S.    \u2506 \u2026 \u2506 24-00154  \u2506 5800 S    \u2506 [41.79051 \u2506 2024 \u2502\n\u2502 assaulted  \u2506 Cleared    \u2506            \u2506 University \u2506   \u2506           \u2506 UNIVERSIT \u2506 1, -87.59 \u2506      \u2502\n\u2502 a UCPD     \u2506            \u2506            \u2506 Ave.       \u2506   \u2506           \u2506 Y AVE,    \u2506 8131]     \u2506      \u2502\n\u2502 officer\u2026   \u2506            \u2506            \u2506 (Public \u2026  \u2506   \u2506           \u2506 CHICAGO,  \u2506           \u2506      \u2502\n\u2502            \u2506            \u2506            \u2506            \u2506   \u2506           \u2506 \u2026         \u2506           \u2506      \u2502\n\u2502 \u2026          \u2506 \u2026          \u2506 \u2026          \u2506 \u2026          \u2506 \u2026 \u2506 \u2026         \u2506 \u2026         \u2506 \u2026         \u2506 \u2026    \u2502\n\u2502 Two        \u2506 CPD        \u2506 informatio \u2506 6300 S.    \u2506 \u2026 \u2506 2020-0019 \u2506 6300 S    \u2506 [41.78050 \u2506 2020 \u2502\n\u2502 unknown    \u2506            \u2506 n /        \u2506 Dorchester \u2506   \u2506 04        \u2506 DORCHESTE \u2506 9, -87.59 \u2506      \u2502\n\u2502 subjects,  \u2506            \u2506 attempted  \u2506 Ave.       \u2506   \u2506           \u2506 R AVE,    \u2506 1604]     \u2506      \u2502\n\u2502 armed      \u2506            \u2506 armed ro\u2026  \u2506 (Parking\u2026  \u2506   \u2506           \u2506 CHICAGO,  \u2506           \u2506      \u2502\n\u2502 with\u2026      \u2506            \u2506            \u2506            \u2506   \u2506           \u2506 \u2026         \u2506           \u2506      \u2502\n\u2502 Two        \u2506 CPD Arrest \u2506 informatio \u2506 4800 S.    \u2506 \u2026 \u2506 2020-0016 \u2506 4800 S    \u2506 [41.80778 \u2506 2020 \u2502\n\u2502 unknown    \u2506            \u2506 n / armed  \u2506 Kimbark    \u2506   \u2506 82        \u2506 KIMBARK   \u2506 7, -87.59 \u2506      \u2502\n\u2502 subjects,  \u2506            \u2506 robbery    \u2506 Ave.       \u2506   \u2506           \u2506 AVE,      \u2506 5256]     \u2506      \u2502\n\u2502 both       \u2506            \u2506            \u2506 (Public    \u2506   \u2506           \u2506 CHICAGO,  \u2506           \u2506      \u2502\n\u2502 displ\u2026     \u2506            \u2506            \u2506 Way\u2026       \u2506   \u2506           \u2506 IL,\u2026      \u2506           \u2506      \u2502\n\u2502 Victim was \u2506 CPD        \u2506 informatio \u2506 5048 S.    \u2506 \u2026 \u2506 2020-0017 \u2506 5048 S    \u2506 [41.80346 \u2506 2020 \u2502\n\u2502 assaulted  \u2506            \u2506 n /        \u2506 Cornell    \u2506   \u2506 41        \u2506 CORNELL   \u2506 4, -87.58 \u2506      \u2502\n\u2502 by 3       \u2506            \u2506 assault    \u2506 Ave.       \u2506   \u2506           \u2506 AVE,      \u2506 6538]     \u2506      \u2502\n\u2502 custom\u2026    \u2506            \u2506            \u2506            \u2506   \u2506           \u2506 CHICAGO,  \u2506           \u2506      \u2502\n\u2502            \u2506            \u2506            \u2506            \u2506   \u2506           \u2506 IL,\u2026      \u2506           \u2506      \u2502\n\u2502 Victim     \u2506 Arrest     \u2506 assault    \u2506 5721 S.    \u2506 \u2026 \u2506 20-00016  \u2506 5721 S    \u2506 [41.79028 \u2506 2020 \u2502\n\u2502 placed in  \u2506            \u2506            \u2506 Maryland   \u2506   \u2506           \u2506 MARYLAND  \u2506 2, -87.60 \u2506      \u2502\n\u2502 fear of    \u2506            \u2506            \u2506 Ave.       \u2506   \u2506           \u2506 AVE,      \u2506 4862]     \u2506      \u2502\n\u2502 bodily \u2026   \u2506            \u2506            \u2506 (Comer     \u2506   \u2506           \u2506 CHICAGO,  \u2506           \u2506      \u2502\n\u2502            \u2506            \u2506            \u2506 Hos\u2026       \u2506   \u2506           \u2506 IL\u2026       \u2506           \u2506      \u2502\n\u2514\u2500\u2500\u2500\u2500\u2500\u2500\u2500\u2500\u2500\u2500\u2500\u2500\u2534\u2500\u2500\u2500\u2500\u2500\u2500\u2500\u2500\u2500\u2500\u2500\u2500\u2534\u2500\u2500\u2500\u2500\u2500\u2500\u2500\u2500\u2500\u2500\u2500\u2500\u2534\u2500\u2500\u2500\u2500\u2500\u2500\u2500\u2500\u2500\u2500\u2500\u2500\u2534\u2500\u2500\u2500\u2534\u2500\u2500\u2500\u2500\u2500\u2500\u2500\u2500\u2500\u2500\u2500\u2534\u2500\u2500\u2500\u2500\u2500\u2500\u2500\u2500\u2500\u2500\u2500\u2534\u2500\u2500\u2500\u2500\u2500\u2500\u2500\u2500\u2500\u2500\u2500\u2534\u2500\u2500\u2500\u2500\u2500\u2500\u2518"
          },
          "execution_count": 138,
          "metadata": {},
          "output_type": "execute_result"
        }
      ],
      "source": [
        "VIOLENT_INCIDENT_TYPES = [\n",
        "    \"aggravated assault of police officer\",\n",
        "    \"aggravated assault\",\n",
        "    \"aggravated battery of a police officer\",\n",
        "    \"aggravated battery of police officer\",\n",
        "    \"aggravated battery to police officer\",\n",
        "    \"aggravated criminal sexual assault\",\n",
        "    \"aggravated discharge of a firearm\",\n",
        "    \"aggravated domestic battery\",\n",
        "    \"aggravated robbery\",\n",
        "    \"aggravated vehicular hijacking\",\n",
        "    \"armed robbery\",\n",
        "    \"armed robbery\",\n",
        "    \"arson\",\n",
        "    \"assault and harassment by electronic means\",\n",
        "    \"assault\",\n",
        "    \"attempted aggravated robbery\",\n",
        "    \"attempted armed robbery\",\n",
        "    \"attempted sexual assault\",\n",
        "    \"bomb threat\",\n",
        "    \"dating violence\",\n",
        "    \"domestic aggravated battery\",\n",
        "    \"homicide\",\n",
        "    \"murder\",\n",
        "    \"sex offense\",\n",
        "    \"sexual assault\",\n",
        "]\n",
        "\n",
        "\n",
        "df_filtered = df_filtered.filter(\n",
        "    pl.col(\"incident\").str.contains(\"|\".join(VIOLENT_INCIDENT_TYPES))\n",
        ")\n",
        "df_filtered"
      ]
    },
    {
      "cell_type": "code",
      "execution_count": 139,
      "id": "7585d5fef849992d",
      "metadata": {
        "ExecuteTime": {
          "end_time": "2024-02-27T00:26:08.232671Z",
          "start_time": "2024-02-27T00:26:08.176609Z"
        },
        "collapsed": false
      },
      "outputs": [
        {
          "data": {
            "text/html": "<div><style>\n.dataframe > thead > tr > th,\n.dataframe > tbody > tr > td {\n  text-align: right;\n}\n</style>\n<small>shape: (5, 2)</small><table border=\"1\" class=\"dataframe\"><thead><tr><th>year</th><th>count</th></tr><tr><td>i32</td><td>u32</td></tr></thead><tbody><tr><td>2020</td><td>15</td></tr><tr><td>2021</td><td>20</td></tr><tr><td>2022</td><td>27</td></tr><tr><td>2023</td><td>34</td></tr><tr><td>2024</td><td>18</td></tr></tbody></table></div>",
            "text/plain": "shape: (5, 2)\n\u250c\u2500\u2500\u2500\u2500\u2500\u2500\u252c\u2500\u2500\u2500\u2500\u2500\u2500\u2500\u2510\n\u2502 year \u2506 count \u2502\n\u2502 ---  \u2506 ---   \u2502\n\u2502 i32  \u2506 u32   \u2502\n\u255e\u2550\u2550\u2550\u2550\u2550\u2550\u256a\u2550\u2550\u2550\u2550\u2550\u2550\u2550\u2561\n\u2502 2020 \u2506 15    \u2502\n\u2502 2021 \u2506 20    \u2502\n\u2502 2022 \u2506 27    \u2502\n\u2502 2023 \u2506 34    \u2502\n\u2502 2024 \u2506 18    \u2502\n\u2514\u2500\u2500\u2500\u2500\u2500\u2500\u2534\u2500\u2500\u2500\u2500\u2500\u2500\u2500\u2518"
          },
          "execution_count": 139,
          "metadata": {},
          "output_type": "execute_result"
        }
      ],
      "source": [
        "df_filtered.groupby(\"year\").count().sort(by=\"year\")"
      ]
    },
    {
      "cell_type": "code",
      "execution_count": 139,
      "id": "cdc462d5212cae11",
      "metadata": {
        "ExecuteTime": {
          "end_time": "2024-02-27T00:26:08.232731Z",
          "start_time": "2024-02-27T00:26:08.180437Z"
        },
        "collapsed": false
      },
      "outputs": [],
      "source": []
    }
  ],
  "metadata": {
    "kernelspec": {
      "display_name": "Python 3",
      "language": "python",
      "name": "python3"
    },
    "language_info": {
      "codemirror_mode": {
        "name": "ipython",
        "version": 2
      },
      "file_extension": ".py",
      "mimetype": "text/x-python",
      "name": "python",
      "nbconvert_exporter": "python",
      "pygments_lexer": "ipython2",
      "version": "2.7.6"
    }
  },
  "nbformat": 4,
  "nbformat_minor": 5
}
