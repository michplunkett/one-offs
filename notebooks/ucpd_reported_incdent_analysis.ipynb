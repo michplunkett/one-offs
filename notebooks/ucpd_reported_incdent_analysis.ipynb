{
 "cells": [
  {
   "cell_type": "code",
   "execution_count": 2,
   "id": "initial_id",
   "metadata": {
    "collapsed": true,
    "ExecuteTime": {
     "end_time": "2023-11-27T19:26:29.256226Z",
     "start_time": "2023-11-27T19:26:29.250430Z"
    }
   },
   "outputs": [],
   "source": [
    "import polars as pl"
   ]
  },
  {
   "cell_type": "code",
   "execution_count": 3,
   "outputs": [],
   "source": [
    "# Import incidents and format columns\n",
    "df = pl.read_csv(\n",
    "    \"./data/incident_dump.csv\",\n",
    ").with_columns(\n",
    "    pl.col(\"reported\")\n",
    "    .str.strptime(pl.Datetime, format=\"%Y-%m-%dT%H:%M:%S%z\")\n",
    "    .dt.convert_time_zone(\"America/Chicago\"),\n",
    "    pl.col(\"reported_date\").str.to_date(\"%Y-%m-%d\"),\n",
    "    pl.col(\"validated_location\").str.split(\",\").cast(pl.List(pl.Float64)),\n",
    "    pl.col(\"incident\").str.to_lowercase(),\n",
    ")"
   ],
   "metadata": {
    "collapsed": false,
    "ExecuteTime": {
     "end_time": "2023-11-27T19:26:29.288633Z",
     "start_time": "2023-11-27T19:26:29.279840Z"
    }
   },
   "id": "14f7bbdba7444ce8"
  },
  {
   "cell_type": "code",
   "execution_count": 4,
   "outputs": [
    {
     "data": {
      "text/plain": "shape: (568, 2)\n┌───────────────────────────────────┬───────┐\n│ incident                          ┆ count │\n│ ---                               ┆ ---   │\n│ str                               ┆ u32   │\n╞═══════════════════════════════════╪═══════╡\n│ theft                             ┆ 1568  │\n│ information                       ┆ 893   │\n│ found property                    ┆ 776   │\n│ lost property                     ┆ 506   │\n│ …                                 ┆ …     │\n│ information / attempted theft     ┆ 1     │\n│ deceptive practice / forgery      ┆ 1     │\n│ sex offender / prohibited zone    ┆ 1     │\n│ criminal sexual assault / stalki… ┆ 1     │\n└───────────────────────────────────┴───────┘",
      "text/html": "<div><style>\n.dataframe > thead > tr > th,\n.dataframe > tbody > tr > td {\n  text-align: right;\n}\n</style>\n<small>shape: (568, 2)</small><table border=\"1\" class=\"dataframe\"><thead><tr><th>incident</th><th>count</th></tr><tr><td>str</td><td>u32</td></tr></thead><tbody><tr><td>&quot;theft&quot;</td><td>1568</td></tr><tr><td>&quot;information&quot;</td><td>893</td></tr><tr><td>&quot;found property…</td><td>776</td></tr><tr><td>&quot;lost property&quot;</td><td>506</td></tr><tr><td>&quot;information / …</td><td>447</td></tr><tr><td>&quot;medical call&quot;</td><td>372</td></tr><tr><td>&quot;battery&quot;</td><td>344</td></tr><tr><td>&quot;liquor law vio…</td><td>342</td></tr><tr><td>&quot;information / …</td><td>330</td></tr><tr><td>&quot;mental health …</td><td>300</td></tr><tr><td>&quot;information / …</td><td>214</td></tr><tr><td>&quot;information / …</td><td>211</td></tr><tr><td>&hellip;</td><td>&hellip;</td></tr><tr><td>&quot;traffic crash …</td><td>1</td></tr><tr><td>&quot;assist other a…</td><td>1</td></tr><tr><td>&quot;information / …</td><td>1</td></tr><tr><td>&quot;information / …</td><td>1</td></tr><tr><td>&quot;information / …</td><td>1</td></tr><tr><td>&quot;deceptive prac…</td><td>1</td></tr><tr><td>&quot;information / …</td><td>1</td></tr><tr><td>&quot;information re…</td><td>1</td></tr><tr><td>&quot;information / …</td><td>1</td></tr><tr><td>&quot;deceptive prac…</td><td>1</td></tr><tr><td>&quot;sex offender /…</td><td>1</td></tr><tr><td>&quot;criminal sexua…</td><td>1</td></tr></tbody></table></div>"
     },
     "execution_count": 4,
     "metadata": {},
     "output_type": "execute_result"
    }
   ],
   "source": [
    "df.groupby([\"incident\"]).agg(pl.count()).sort(\"count\", descending=True)"
   ],
   "metadata": {
    "collapsed": false,
    "ExecuteTime": {
     "end_time": "2023-11-27T19:26:29.303640Z",
     "start_time": "2023-11-27T19:26:29.289576Z"
    }
   },
   "id": "15f78416b84388bc"
  },
  {
   "cell_type": "code",
   "execution_count": 5,
   "outputs": [
    {
     "data": {
      "text/plain": "shape: (568, 2)\n┌───────────────────────────────────┬───────┐\n│ incident                          ┆ count │\n│ ---                               ┆ ---   │\n│ str                               ┆ u32   │\n╞═══════════════════════════════════╪═══════╡\n│ theft                             ┆ 1568  │\n│ information                       ┆ 893   │\n│ found property                    ┆ 776   │\n│ lost property                     ┆ 506   │\n│ …                                 ┆ …     │\n│ medical call / ill person         ┆ 1     │\n│ assist other agency / missing pe… ┆ 1     │\n│ trespass                          ┆ 1     │\n│ information / suspicious persons  ┆ 1     │\n└───────────────────────────────────┴───────┘",
      "text/html": "<div><style>\n.dataframe > thead > tr > th,\n.dataframe > tbody > tr > td {\n  text-align: right;\n}\n</style>\n<small>shape: (568, 2)</small><table border=\"1\" class=\"dataframe\"><thead><tr><th>incident</th><th>count</th></tr><tr><td>str</td><td>u32</td></tr></thead><tbody><tr><td>&quot;theft&quot;</td><td>1568</td></tr><tr><td>&quot;information&quot;</td><td>893</td></tr><tr><td>&quot;found property…</td><td>776</td></tr><tr><td>&quot;lost property&quot;</td><td>506</td></tr><tr><td>&quot;information / …</td><td>447</td></tr><tr><td>&quot;medical call&quot;</td><td>372</td></tr><tr><td>&quot;battery&quot;</td><td>344</td></tr><tr><td>&quot;liquor law vio…</td><td>342</td></tr><tr><td>&quot;information / …</td><td>330</td></tr><tr><td>&quot;mental health …</td><td>300</td></tr><tr><td>&quot;information / …</td><td>214</td></tr><tr><td>&quot;information / …</td><td>211</td></tr><tr><td>&hellip;</td><td>&hellip;</td></tr><tr><td>&quot;aggravated bat…</td><td>1</td></tr><tr><td>&quot;recovered moto…</td><td>1</td></tr><tr><td>&quot;information / …</td><td>1</td></tr><tr><td>&quot;information / …</td><td>1</td></tr><tr><td>&quot;information / …</td><td>1</td></tr><tr><td>&quot;theft / recove…</td><td>1</td></tr><tr><td>&quot;injured person…</td><td>1</td></tr><tr><td>&quot;information / …</td><td>1</td></tr><tr><td>&quot;medical call /…</td><td>1</td></tr><tr><td>&quot;assist other a…</td><td>1</td></tr><tr><td>&quot;trespass&quot;</td><td>1</td></tr><tr><td>&quot;information / …</td><td>1</td></tr></tbody></table></div>"
     },
     "execution_count": 5,
     "metadata": {},
     "output_type": "execute_result"
    }
   ],
   "source": [
    "excluded_list = [\n",
    "    \"Fondling\",\n",
    "    \"Medical Call\",\n",
    "    \"Luring a Minor\",\n",
    "    \"Lost Property\",\n",
    "    \"Stalking\",\n",
    "    \"Sexual Assault\",\n",
    "    \"Dating\",\n",
    "    \"Stalking\",\n",
    "    \"Domestic\",\n",
    "    \"Sex\",\n",
    "    \"Found Property\",\n",
    "    \"Mental Health\",\n",
    "    \"Harassment by Electronic Means\",\n",
    "    \"Well-Being\",\n",
    "    \"Threatening Phone Call\",\n",
    "    \"Medical Transport\",\n",
    "    \"Warrant\",\n",
    "    \"Lost Wallet\",\n",
    "    \"Fire Alarm\",\n",
    "    \"Chemical Spill\",\n",
    "    \"Suspicious Mail\",\n",
    "    \"Eavesdropping\",\n",
    "]\n",
    "df = df.filter(~pl.col(\"incident\").str.contains(\"|\".join(excluded_list)))\n",
    "df.groupby([\"incident\"]).agg(pl.count()).sort(\"count\", descending=True)"
   ],
   "metadata": {
    "collapsed": false,
    "ExecuteTime": {
     "end_time": "2023-11-27T19:26:29.348194Z",
     "start_time": "2023-11-27T19:26:29.308313Z"
    }
   },
   "id": "aaa49407d08352ea"
  },
  {
   "cell_type": "code",
   "execution_count": 6,
   "outputs": [],
   "source": [
    "def list_to_parsed_set(unparsed_list):\n",
    "    parsed_set = set()\n",
    "    for element in unparsed_list:\n",
    "        if \"/\" in element:\n",
    "            for p in element.split(\"/\"):\n",
    "                fmt_element = p.strip().lower()\n",
    "                if p:\n",
    "                    parsed_set.add(fmt_element)\n",
    "        else:\n",
    "            fmt_element = element.strip().lower()\n",
    "            parsed_set.add(fmt_element)\n",
    "    return parsed_set"
   ],
   "metadata": {
    "collapsed": false,
    "ExecuteTime": {
     "end_time": "2023-11-27T19:26:29.349482Z",
     "start_time": "2023-11-27T19:26:29.322727Z"
    }
   },
   "id": "3237c7e6914efbd"
  },
  {
   "cell_type": "code",
   "execution_count": 7,
   "outputs": [
    {
     "name": "stdout",
     "output_type": "stream",
     "text": [
      "331\n"
     ]
    }
   ],
   "source": [
    "print(len(list_to_parsed_set(df[\"incident\"].to_list())))"
   ],
   "metadata": {
    "collapsed": false,
    "ExecuteTime": {
     "end_time": "2023-11-27T19:26:29.349696Z",
     "start_time": "2023-11-27T19:26:29.328320Z"
    }
   },
   "id": "b86c6b7a46dbff85"
  },
  {
   "cell_type": "code",
   "execution_count": 7,
   "outputs": [],
   "source": [],
   "metadata": {
    "collapsed": false,
    "ExecuteTime": {
     "end_time": "2023-11-27T19:26:29.349768Z",
     "start_time": "2023-11-27T19:26:29.329696Z"
    }
   },
   "id": "fc4e2c3d9952718a"
  }
 ],
 "metadata": {
  "kernelspec": {
   "display_name": "Python 3",
   "language": "python",
   "name": "python3"
  },
  "language_info": {
   "codemirror_mode": {
    "name": "ipython",
    "version": 2
   },
   "file_extension": ".py",
   "mimetype": "text/x-python",
   "name": "python",
   "nbconvert_exporter": "python",
   "pygments_lexer": "ipython2",
   "version": "2.7.6"
  }
 },
 "nbformat": 4,
 "nbformat_minor": 5
}
