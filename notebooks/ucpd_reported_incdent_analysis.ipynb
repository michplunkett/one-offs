{
 "cells": [
  {
   "cell_type": "code",
   "execution_count": 1,
   "id": "initial_id",
   "metadata": {
    "collapsed": true,
    "ExecuteTime": {
     "end_time": "2024-01-15T20:35:01.819471Z",
     "start_time": "2024-01-15T20:35:01.772088Z"
    }
   },
   "outputs": [],
   "source": [
    "import polars as pl"
   ]
  },
  {
   "cell_type": "code",
   "execution_count": 2,
   "outputs": [],
   "source": [
    "# Import incidents and format columns\n",
    "df = pl.read_csv(\n",
    "    \"./data/incident_dump.csv\",\n",
    ").with_columns(\n",
    "    pl.col(\"reported\")\n",
    "    .str.strptime(pl.Datetime, format=\"%Y-%m-%dT%H:%M:%S%z\")\n",
    "    .dt.convert_time_zone(\"America/Chicago\"),\n",
    "    pl.col(\"reported_date\").str.to_date(\"%Y-%m-%d\"),\n",
    "    pl.col(\"validated_location\").str.split(\",\").cast(pl.List(pl.Float64)),\n",
    "    pl.col(\"incident\").str.to_lowercase(),\n",
    ")"
   ],
   "metadata": {
    "collapsed": false,
    "ExecuteTime": {
     "end_time": "2024-01-15T20:35:01.852258Z",
     "start_time": "2024-01-15T20:35:01.838229Z"
    }
   },
   "id": "14f7bbdba7444ce8"
  },
  {
   "cell_type": "code",
   "execution_count": 3,
   "outputs": [
    {
     "data": {
      "text/plain": "shape: (676, 2)\n┌───────────────────────────────────┬───────┐\n│ incident                          ┆ count │\n│ ---                               ┆ ---   │\n│ str                               ┆ u32   │\n╞═══════════════════════════════════╪═══════╡\n│ theft                             ┆ 2961  │\n│ information                       ┆ 1370  │\n│ found property                    ┆ 916   │\n│ lost property                     ┆ 830   │\n│ …                                 ┆ …     │\n│ false police report               ┆ 1     │\n│ non-criminal / property damage    ┆ 1     │\n│ stolen vehicle recovery           ┆ 1     │\n│ traffic crash / property / hit a… ┆ 1     │\n└───────────────────────────────────┴───────┘",
      "text/html": "<div><style>\n.dataframe > thead > tr > th,\n.dataframe > tbody > tr > td {\n  text-align: right;\n}\n</style>\n<small>shape: (676, 2)</small><table border=\"1\" class=\"dataframe\"><thead><tr><th>incident</th><th>count</th></tr><tr><td>str</td><td>u32</td></tr></thead><tbody><tr><td>&quot;theft&quot;</td><td>2961</td></tr><tr><td>&quot;information&quot;</td><td>1370</td></tr><tr><td>&quot;found property…</td><td>916</td></tr><tr><td>&quot;lost property&quot;</td><td>830</td></tr><tr><td>&quot;traffic violat…</td><td>534</td></tr><tr><td>&quot;information / …</td><td>493</td></tr><tr><td>&quot;liquor law vio…</td><td>441</td></tr><tr><td>&quot;medical call&quot;</td><td>422</td></tr><tr><td>&quot;battery&quot;</td><td>420</td></tr><tr><td>&quot;information / …</td><td>354</td></tr><tr><td>&quot;mental health …</td><td>325</td></tr><tr><td>&quot;injured person…</td><td>319</td></tr><tr><td>&hellip;</td><td>&hellip;</td></tr><tr><td>&quot;unlawful posse…</td><td>1</td></tr><tr><td>&quot;arson / crimin…</td><td>1</td></tr><tr><td>&quot;information / …</td><td>1</td></tr><tr><td>&quot;information / …</td><td>1</td></tr><tr><td>&quot;smoke alarm&quot;</td><td>1</td></tr><tr><td>&quot;robbery-strong…</td><td>1</td></tr><tr><td>&quot;damage to prop…</td><td>1</td></tr><tr><td>&quot;assist other a…</td><td>1</td></tr><tr><td>&quot;false police r…</td><td>1</td></tr><tr><td>&quot;non-criminal /…</td><td>1</td></tr><tr><td>&quot;stolen vehicle…</td><td>1</td></tr><tr><td>&quot;traffic crash …</td><td>1</td></tr></tbody></table></div>"
     },
     "execution_count": 3,
     "metadata": {},
     "output_type": "execute_result"
    }
   ],
   "source": [
    "df.groupby([\"incident\"]).agg(pl.count()).sort(\"count\", descending=True)"
   ],
   "metadata": {
    "collapsed": false,
    "ExecuteTime": {
     "end_time": "2024-01-15T20:35:01.859165Z",
     "start_time": "2024-01-15T20:35:01.848567Z"
    }
   },
   "id": "15f78416b84388bc"
  },
  {
   "cell_type": "code",
   "execution_count": 4,
   "outputs": [
    {
     "data": {
      "text/plain": "shape: (676, 2)\n┌───────────────────────────────────┬───────┐\n│ incident                          ┆ count │\n│ ---                               ┆ ---   │\n│ str                               ┆ u32   │\n╞═══════════════════════════════════╪═══════╡\n│ theft                             ┆ 2961  │\n│ information                       ┆ 1370  │\n│ found property                    ┆ 916   │\n│ lost property                     ┆ 830   │\n│ …                                 ┆ …     │\n│ information / unlawful possessio… ┆ 1     │\n│ information / sex offense / fond… ┆ 1     │\n│ unlawful possession of a handgun  ┆ 1     │\n│ domestic assault / criminal dama… ┆ 1     │\n└───────────────────────────────────┴───────┘",
      "text/html": "<div><style>\n.dataframe > thead > tr > th,\n.dataframe > tbody > tr > td {\n  text-align: right;\n}\n</style>\n<small>shape: (676, 2)</small><table border=\"1\" class=\"dataframe\"><thead><tr><th>incident</th><th>count</th></tr><tr><td>str</td><td>u32</td></tr></thead><tbody><tr><td>&quot;theft&quot;</td><td>2961</td></tr><tr><td>&quot;information&quot;</td><td>1370</td></tr><tr><td>&quot;found property…</td><td>916</td></tr><tr><td>&quot;lost property&quot;</td><td>830</td></tr><tr><td>&quot;traffic violat…</td><td>534</td></tr><tr><td>&quot;information / …</td><td>493</td></tr><tr><td>&quot;liquor law vio…</td><td>441</td></tr><tr><td>&quot;medical call&quot;</td><td>422</td></tr><tr><td>&quot;battery&quot;</td><td>420</td></tr><tr><td>&quot;information / …</td><td>354</td></tr><tr><td>&quot;mental health …</td><td>325</td></tr><tr><td>&quot;injured person…</td><td>319</td></tr><tr><td>&hellip;</td><td>&hellip;</td></tr><tr><td>&quot;assist other a…</td><td>1</td></tr><tr><td>&quot;possession of …</td><td>1</td></tr><tr><td>&quot;fleeing or att…</td><td>1</td></tr><tr><td>&quot;assist other a…</td><td>1</td></tr><tr><td>&quot;assist other a…</td><td>1</td></tr><tr><td>&quot;assist other a…</td><td>1</td></tr><tr><td>&quot;non-criminal /…</td><td>1</td></tr><tr><td>&quot;information / …</td><td>1</td></tr><tr><td>&quot;information / …</td><td>1</td></tr><tr><td>&quot;information / …</td><td>1</td></tr><tr><td>&quot;unlawful posse…</td><td>1</td></tr><tr><td>&quot;domestic assau…</td><td>1</td></tr></tbody></table></div>"
     },
     "execution_count": 4,
     "metadata": {},
     "output_type": "execute_result"
    }
   ],
   "source": [
    "excluded_list = [\n",
    "    \"Fondling\",\n",
    "    \"Medical Call\",\n",
    "    \"Luring a Minor\",\n",
    "    \"Lost Property\",\n",
    "    \"Stalking\",\n",
    "    \"Sexual Assault\",\n",
    "    \"Dating\",\n",
    "    \"Stalking\",\n",
    "    \"Domestic\",\n",
    "    \"Sex\",\n",
    "    \"Found Property\",\n",
    "    \"Mental Health\",\n",
    "    \"Harassment by Electronic Means\",\n",
    "    \"Well-Being\",\n",
    "    \"Threatening Phone Call\",\n",
    "    \"Medical Transport\",\n",
    "    \"Warrant\",\n",
    "    \"Lost Wallet\",\n",
    "    \"Fire Alarm\",\n",
    "    \"Chemical Spill\",\n",
    "    \"Suspicious Mail\",\n",
    "    \"Eavesdropping\",\n",
    "    \"Sex Offense\",\n",
    "    \"Sex Offender\",\n",
    "    \"Sex Crime\",\n",
    "    \"Domestic Aggravated Battery\",\n",
    "    \"Dating Violence\",\n",
    "    \"Harassing Messages\",\n",
    "]\n",
    "df = df.filter(~pl.col(\"incident\").str.contains(\"|\".join(excluded_list)))\n",
    "df.groupby([\"incident\"]).agg(pl.count()).sort(\"count\", descending=True)"
   ],
   "metadata": {
    "collapsed": false,
    "ExecuteTime": {
     "end_time": "2024-01-15T20:35:01.869611Z",
     "start_time": "2024-01-15T20:35:01.861029Z"
    }
   },
   "id": "aaa49407d08352ea"
  },
  {
   "cell_type": "code",
   "execution_count": 5,
   "outputs": [],
   "source": [
    "def list_to_parsed_set(unparsed_list: [str]):\n",
    "    unparsed_list.sort()\n",
    "    parsed_set = set()\n",
    "    for element in unparsed_list:\n",
    "        if \"/\" in element:\n",
    "            for p in element.split(r\"\\s?/\\s?\"):\n",
    "                fmt_element = p.strip().lower()\n",
    "                if p:\n",
    "                    parsed_set.add(fmt_element)\n",
    "        else:\n",
    "            fmt_element = element.strip().lower()\n",
    "            parsed_set.add(fmt_element)\n",
    "    return parsed_set"
   ],
   "metadata": {
    "collapsed": false,
    "ExecuteTime": {
     "end_time": "2024-01-15T20:35:01.869710Z",
     "start_time": "2024-01-15T20:35:01.867103Z"
    }
   },
   "id": "3237c7e6914efbd"
  },
  {
   "cell_type": "code",
   "execution_count": 6,
   "outputs": [
    {
     "name": "stdout",
     "output_type": "stream",
     "text": [
      "{'battery / criminal trespass to land', 'information / unlawful use of weapon', 'motor vehicle recovery', 'assist other agency / aggravated battery', 'information / well-being check', 'armed robbery arrest', 'traffic accident / hit and run', 'aggravated battery of a police officer', 'information / unlawful discharge of a weapon', 'non-criminal incident', 'traffic violation / warrant', 'missing person', 'illegal consumption by minor', 'information / fire', 'robbery / strong arm', 'criminal damage to property / criminal defacement', 'recovered motor vehicle', 'hate crime / telephone threat', 'information / domestic issue', 'information / trespass to vehicle', 'criminal trespass to motor vehicle', 'recovered vehicle plate', 'assist other agency / mental health transport', 'information / criminal damage to property', 'theft from motor vehicle / public way', 'possession of drug paraphernalia', 'information / traffic crash / damage', 'information / shot fired', 'deliver narcotic', 'information / unlawful possession of a firearm', 'assist other agency / traffic violation', 'information / forged prescription', 'motor vehicle theft and recovery', 'deceptive practice / unauthorized use of computer', 'attempted theft from person', 'assist other agency / criminal trespass', 'public peace violation / false police report', 'motor vehicle theft / recovery', 'information / possession of cannabis', 'information / fire alarm', 'traffic crash report', 'information / harassing phone call`', 'assist other agency / unlawful use of a weapon', 'notice of order of protection', 'weapon turn-in', 'other vehicle offense', 'information / traffic crash / personal injury', 'information / trespass', 'battery', 'deceptive practice / impersonation', 'deceptive practice / credit card fraud', 'traffic crash / property / hit and run', 'ambulance request', 'delayed robbery', 'information / non-criminal damage to property', 'information / harassing email message', 'criminal damage to property / defacement', 'information / theft', 'found narcotic', 'criminal trespass to vehicle', 'other', 'theft by deception', 'information / disorderly conduct', 'information / vehicle fire', 'possession of crack cocaine', 'possession of a controlled substance', 'deceptive practice / possession of lost / mislaid property', 'information / shot fired / criminal damage to property', 'motor vehicle theft recovery', 'theft / delayed', 'other crime vs. person', 'possession of stolen motor vehicle', 'assist other agency / missing person', 'attempted vehicular hijacking', 'traffic crash hit and run', 'information / damage to property', 'other crime', 'criminal sexual assault', 'possession of cannabis', 'robbery', 'non-criminal complaint', 'information / battery', 'theft', 'arson / criminal damage to property', 'false fire alarm', 'information / harassing phone call', 'public peace violation / warrant arrest', 'information harassment', 'found property', 'information / cyberstalking', 'robbery / attempted', 'information / traffic accident / personal injury', 'unlawful possession of ammunition', 'information / public indecency', 'information / harassment', 'information / armed robbery / vehicle hijacking', 'threat', 'traffic crash / recovered motor vehicle / unlawful possession of a weapon', 'non-criminal damage', 'accident report', 'damage to property / non-criminal / fire', 'information / order of protection', 'information / weapon violation', 'criminal sexual abuse', 'assist other agency', 'harassment by electronic means / hate crime', 'robbery-strong arm', 'information / medical call', 'non-criminal report', 'unlawful possession of a handgun', 'information / sexual assault', 'assist other agency / stalking', 'narcotic', 'miscellaneous incident', 'criminal trespass to property', 'aggravated battery of a protected employee', 'assist other agency / attempted robbery', 'deceptive', 'disturbance / damage to property', 'information / lost property', 'information / missing person', 'found key', 'information / criminal damage to motor vehicle', 'information / attempted robbery', 'information / trespass warning', 'hazardous material incident', 'information / suspicious activity', 'information / aggravated assault', 'harassment / electronic means', 'domestic disturbance', 'fire alarm / smoke', 'information / motor vehicle theft and recovery', 'information / burglary / home invasion', 'outside agency warrant arrest', 'information / found weapon', 'information / reckless driving', 'non-criminal / damaged property', 'information / well-being', 'information / haz mat event', 'deceptive practice / telephone scam', 'traffic offense', 'damage to vehicle', 'deceptive practice / theft of service', 'battery / simple / theft / criminal damage to property', 'unlawful discharge of firearm', 'information / damage to property / fire', 'information / aggravated robbery / vehicle hijacking', 'theft / recovery of motor vehicle', 'fire / non-criminal', 'obstructing peace officer', 'aggravated assault / dui / hit and run', 'medical transport', 'aggravated battery', 'non-criminal / weapon turn-in', 'domestic battery', 'information / violation of order of protection', 'armed robbery', 'property damage / fire', 'aggravated vehicular carjacking', 'chemical spill', 'criminal trespass', 'sex related', 'unlawful possession of a firearm', 'order of protection arrest', 'telephone threat', 'information / robbery / vehicular hijacking', 'threatening phone call', 'information / unlawful possession of firearm', 'aggravated assault / domestic', 'non-criminal / property', 'non-criminal damage to vehicle', 'assist other agency / aggravated robbery', 'unlawful use of weapon', 'drug law violation', 'fire / damage to personal property', 'assist other agency / domestic battery', 'haz mat / injured person', 'information / domestic dispute', 'violation of order of protection', 'information / attempted home invasion', 'death investigation', 'damage to property / fire', 'irregular condition', 'other violation', 'deceptive practice / identity theft', 'information / motor vehicle recovery', 'information / murder / aggravated battery', 'information / warrant', 'information / domestic aggravated battery', 'information / domestic disturbance', 'deceptive practice / forgery', 'found property / narcotic', 'criminal damage to vehicle', 'other offense', 'traffic violation / warrant arrest', 'information / deceptive practice / fraud', 'information / reckless discharge of a weapon', 'sexual assault / fondling', 'information report / smell of gas', 'information / stalking', 'assault / domestic', 'information report / delayed', 'harassing telephone call', 'non-criminal / death investigation', 'suspect narcotic found', 'information report / stuck elevator', 'traffic crash / property damage', 'assist other agency / possession of stolen motor vehicle', 'non-criminal missing property', 'elevator entrapment', 'battery / domestic', 'information / unlawful use of a weapon', 'information / traffic crash / damage to uc property', 'medical call / injured person', 'reckless driving', 'stolen vehicle recovery', 'public peace violation / threat', 'lost property', 'expired license / narcotic', 'reckless discharge of a firearm', 'person down', 'aggravated assault / police officer', 'information / medical transport', 'information / found narcotic', 'information / trespass to motor vehicle', 'public indecency', 'assist other agency / recovered vehicle', 'lost wallet', 'information report / mental transport', 'possession of marijuana', 'attempted aggravated robbery', 'found drug paraphernalia', 'information / vehicular carjacking', 'information / unlawful discharge of a firearm', 'battery / resisting arrest', 'information / theft from person', 'fire / property damage', 'motor vehicle theft', 'assist other agency motor vehicle theft and recovery', 'traffic crash / minor injury', 'assist other agency / criminal trespass to vehicle', 'criminal trespass to vehicle / assist other agency', 'information / assault / damage to property', 'assist other agency / criminal damage to property', 'damage to property / traffic crash', 'information / homicide / aggravated battery', 'aggravated battery / other deadly weapon', 'attempted burglary', 'information / unlawful possession of weapon', 'information / vehicular hijacking', 'information / fraud', 'haz mat incident / chemical spill', 'recovered motor vehicle / foreign steal', 'non-criminal / recovery / automobile', 'information / disturbance', 'traffic accident / property damage', 'traffic violation and warrant arrest', 'assist other agency / death investigation', 'theft of motor vehicle', 'traffic crash / hit and run / personal injury', 'unlawful use of a weapon arrest', 'traffic violation arrest', 'theft / financial identity theft', 'traffic crash / hit and run / property damage only', 'arrest on warrant', 'information / armed robbery', 'information / criminal trespass to property', 'information / aggravated battery', 'information / criminal trespass', 'fire / damage to property', 'harassing phone call', 'dating violence', 'information / attempted motor vehicle theft', 'assist other agency / traffic crash', 'information / shot fired / damage to vehicle', 'aggravated assault / battery', 'traffic violation', 'non-criminal damage to property', 'liquor law violation', 'traffic crash / minor personal injury / hit and run', 'liquor law violation / injured person', 'injured person / liquor law violation', 'information / arson', 'information / harassment by telephone', 'assist other agency / assault', 'information / sex offense', 'possession of controlled substance', 'information / arson / fire', 'interference with public officer', 'non-criminal / fire', 'information / homicide', 'battery / simple', 'motor vehicle accident', 'information report / disturbance', 'obstructing police / reckless conduct', 'sex offender / prohibited zone', 'information / theft and recovery of motor vehicle', 'smoke alarm', 'information / sex crime', 'sick person', 'aggravated battery of police officer', 'criminal damage to property / criminal trespass to land', 'information', 'criminal damage to property', 'traffic crash', 'information / attempted burglary', 'information / threat by electronic means', 'stolen motor vehicle recovery', 'non-criminal property damage', 'suspicious activity', 'information / mental health', 'criminal defacement', 'eavesdropping', 'assist other agency / theft', 'deceptive practice / counterfeit document', 'non-criminal informational report', 'recovered stolen motor vehicle', 'information / non-criminal property damage', 'assist other agency / burglary', 'shot fired', 'attempted theft', 'non-criminal', 'assist other agency / theft from motor vehicle', 'assist other agency / battery', 'trespass', 'information / elevator entrapment', 'information / arrest', 'motor vehicle theft / attempted', 'information / robbery arrest', 'notification of order of protection', 'disorderly conduct / telephone threat', 'unlawful possession of firearm / dui', 'traffic crash / damage to property', 'traffic crash / hit and run', 'information / armed robbery / motor vehicle theft', 'narcotic arrest', 'information / trespass to land', 'information / vehicle recovery', 'assist other agency / criminal trespass to land', 'information / attempted aggravated vehicular hijacking', 'non-criminal offense', 'information / accidental fire', 'assist other agency / weapon violation', 'medical call', 'information / threatening call', 'trespass to property', 'damage to city property', 'information report / aggravated battery', 'financial identity theft', 'assist other agency / aggravated assault', 'stalking', 'alarm', 'information / injured person', 'fraud', 'harassment by telephone', 'found wallet', 'homicide', 'assist other agency / homicide / attempted vehicular hijacking', 'criminal damage to motor vehicle', 'information / theft of service', 'information / accidental shooting', 'information / luring a minor', 'cyber stalking', 'security alarm', 'information / criminal damage to vehicle', 'criminal trespass to residence', 'traffic crash / hit tand run / property damage', 'unlawful discharge of a firearm', 'simple battery / delayed', 'information / lost phone', 'deceptive practice / financial identity theft', 'robbery / attempted strong arm', 'aggravated battery / other dangerous weapon', 'damage to property / non-criminal', 'traffic collision', 'traffic crash / personal injury', 'information / traffic violation', 'haz-mat incident', 'public peace violation', 'sex offender / failure to register', 'attempted theft of motor vehicle', 'bomb threat', 'burglary / attempted', 'well-being check', 'mental health transport', 'non-criminal / damage to vehicle', 'information / suspicious person', 'theft from person / possession of stolen motor vehicle', 'information / aggravated robbery / vehicular hijacking', 'information / murder', 'weapon violation', 'injured person / damage to property', 'dui', 'information / recovered motor vehicle', 'aggravated battery / domestic', 'non-criminal property', 'animal bite', 'information / vehicle crash', 'other crime against person', 'suspicious package', 'interfering / obstructing police', 'information / indecent exposure', 'information / aggravated domestic assault', 'domestic battery / battery to police officer', 'warrant arrest', 'unlawful possession of weapon', 'information / attempted vehicular hijacking', 'domestic assault / criminal damage to property', 'theft of motorcycle', 'found / suspect narcotic', 'information / damage to vehicle', 'information / bomb threat', 'safety hazard / non-criminal offense', 'information / sexual assault / fondling', 'assist other agency / arson', 'false police report', 'information / aggravated robbery', 'injured person', 'information / robbery / aggravated vehicular hijacking', 'unlawful possession of weapon / obstructing police / traffic offense', 'aggravated assault', 'battery-simple', 'other non-criminal property', 'theft / ucpd arrest warrant', 'assist other agency / robbery', 'harassing message', 'mental health call', 'traffic violation / obstruct police officer', 'assault', 'information / harassment via electronic means', 'warrant / resisting arrest', 'information / suspicious package', 'information / assault', 'possession of stolen property', 'simple battery', 'fire / accidental', 'injured person / accidental', 'information / accidental injury', 'information / suspicious phone call', 'found suspect marijuana', 'warrant', 'information / weapon turn-in', 'information / cyber scam', 'weapon recovery', 'information / mental health transport', 'attempted motor vehicle theft', 'theft of lost / mislaid property', 'criminal damage to property / criminal defacement / hate crime', 'information / sexual abuse', 'information / attempted armed robbery', 'reckless conduct', 'lost / found property', 'warrant / traffic violation', 'assist other agency / unlawful possession of a weapon', 'information / motor vehicle theft', 'information / aggravated battery / armed robbery', 'information / attempted theft', 'possession of narcotic', 'aggravated domestic battery', 'information / unlawful discharge of firearm', 'intimidation / extortion', 'sex offense / public indecency', 'unlawful possession of firearm', 'assist other agency / domestic assault', 'information / aggravated vehicular hijacking', 'simple assault', 'information / aggravated battery / cutting instrument', 'information / assault / resisting police', 'miscellaneous', 'theft / criminal trespass to land', 'trespass warning', 'information / threat', 'aggravated battery / robbery', 'assist other agency / attempted burglary', 'information / sex offense / non-forcible', 'reckless discharge of firearm', 'information / sex offense / fondling', 'theft / battery', 'information / hit and run traffic crash / personal injury', 'resisting arrest / traffic violation', 'information / traffic crash / personal injury / hit and run', 'traffic crash / hit and run / property damage', 'found person', 'battery / public indecency', 'traffic crash property damage / hit and run', 'other / non-criminal', 'criminal sexual assault / stalking', 'traffic and warrant arrest', 'information / robbery', 'information / traffic crash', 'non-criminal event', 'theft from motor vehicle', 'found narcotic paraphernalia', 'information / aggravated criminal sexual assault', 'information / aggravated battery / domestic', 'stalking / cyberstalking', 'vehicular hijacking', 'possession of narcotic with intent to deliver', 'information / dui', 'aggravated assault of police officer', 'theft from person', 'information / smoke', 'information / burglary', 'aggravated vehicular hijacking', 'information / criminal trespass to land', 'assist other agency / criminal sexual abuse', 'information / liquor law violation', 'missing person found', 'information / death investigation', 'information / suspicious letter', 'information / attempted theft from person', 'simple assault battery', 'assist other agency / traffic crash / hit and run', 'lost / recovered property', 'haz mat incident', 'recovered motor vehicle / unlawful use of weapon', 'disorderly conduct', 'obscene phone call', 'fire / smoke', 'non-criminal / missing person', 'domestic aggravated battery / senior citizen', 'information / traffic accident', 'public peace violation / bomb threat', 'information / aggravated assault / violation of order of protection', 'information / shot fired / damage to property', 'medical call / sick person', 'information / aggravated domestic battery', 'assist other agency / fire', 'motor vehicle recovery / arrest', 'sex offense', 'assist other agency / warrant arrest', 'information / traffic arrest', 'battery of police officer / unlawful possession of firearm / resisting police', 'suspicious person', 'assist other agency / motor vehicle theft', 'traffic crash / property damage / hit and run', 'order of protection notification', 'medical call / warrant', 'aggravated battery / cutting instrument', 'non-criminal / damage to property', 'aggravated discharge of a firearm', 'assist other agency / recovered motor vehicle', 'information / criminal trespass to vehicle', 'deceptive practice / fraudulent check', 'assist other agency / aggravated vehicular hijacking', 'information / assist other agency', 'information / reckless discharge of a firearm', 'traffic accident', 'information / theft from motor vehicle', 'deceptive practice / computer fraud', 'traffic accident / personal injury', 'information / deceptive practice', 'information / missing property', 'information / telephone threat', 'telephone harassment', 'information / found person', 'arson by fire', 'traffic / warrant arrest', 'traffic arrest', 'information / non-criminal', 'attempted theft from motor vehicle', 'damage to uc vehicle', 'assist other agency / criminal damage to vehicle', 'information / personation of peace officer', 'information / traffic crash / hit and run / property damage', 'damaged property', 'information / attempted aggravated robbery', 'suspicious mail', 'assist other agency / attempted armed robbery', 'deceptive practice / fraud', 'disturbance', 'attempted armed robbery', 'traffic violation / resisting arrest / possession of cannabis', 'information / attempted sexual assault', 'information report / medical call', 'fire', 'information / unlawful restraint', 'assist other agency / armed robbery', 'information / fondling', 'information / recovered vehicle / arrest', 'criminal damage to property / vandalism', 'fire alarm', 'information / criminal sexual assault', 'shot fired / aggravated assault / damage to property', 'information / trespass to property', 'deceptive practice / theft of lost or mislaid property', 'robbery-aggravated', 'information / robbery / vehicle hijacking', 'interference with police officer', 'theft of lost or mislaid property', 'information / traffic crash / hit and run / personal injury', 'criminal trespass to land', 'assist other agency / found person', 'stalking / dating violence', 'theft of service', 'attempted robbery', 'burglary', 'hazardous material event', 'unlawful use of a weapon', 'information / vehicle hijacking', 'information / theft of motor vehicle', 'theft / purse snatch', 'assist other agency / warrant', 'medical call / illness', 'shot fired / criminal damage to vehicle', 'deceptive practice', 'liquor law violation / public way', 'weapon arrest', 'miscellaneous incident report', 'information / traffic accident / property damage', 'aggravated robbery', 'assist other agency / indecent exposure', 'found suspect narcotic', 'robbery / strong armed / delayed report', 'assist other agency / shot fired', 'assist other agency / domestic disturbance', 'assist other agency / recovered firearm', 'information / dog bite', 'information / assault and harassment by electronic means', 'information / harassment by electronic means', 'information report', 'information / hit and run / personal injury', 'fondling', 'deceptive practice / counterfeit check', 'assist other agency / unlawful discharge of a weapon', 'assist other agency / vehicular hijacking', 'dui / possession of narcotic', 'unlawful use of a weapon / dui', 'assist other agency / theft from person', 'information / traffic crash / hit and run', 'found weapon', 'information / missing person found', 'assist other agency / aggravated robbery / vehicle hijacking', 'accidental injury', 'delayed burglary', 'traffic violation / dui', 'unlawful possession of a weapon', 'traffic crash / personal injury / hit and run', 'information / armed robbery / vehicular hijacking', 'information / recovered vehicle', 'information / / domestic battery', 'noise complaint', 'assist other agency / motor vehicle recovery', 'information / domestic aggravated assault', 'non-criminal fire', 'information / attempted armed robbery / aggravated battery', 'information report / traffic', 'traffic crash / property damage only', 'damage to property', 'fleeing or attempting to elude police', 'information / robbery / carjacking', 'information / threatening phone call', 'property damage', 'information / notice of order of protection', 'information / domestic battery', 'non-criminal other', 'dui arrest', 'aggravated battery to police officer', 'information / suspicious vehicle', 'traffic crash / hit and run property damage', 'traffic crash / injured person', 'non-criminal / property damage', 'theft from vehicle', 'assist other agency / criminal sexual assault', 'obstructing a peace officer', 'medical call / ill person', 'information / unlawful discharge of weapon', 'non- criminal', 'information / chemical spill', 'traffic crash arrest', 'recovered vehicle', 'traffic crash / pedestrian', 'information / harassing email', 'information / criminal sexual abuse', 'information / telephone harassment', 'harassment by electronic means'}\n"
     ]
    }
   ],
   "source": [
    "print(list_to_parsed_set(df[\"incident\"].to_list()))"
   ],
   "metadata": {
    "collapsed": false,
    "ExecuteTime": {
     "end_time": "2024-01-15T20:35:01.904162Z",
     "start_time": "2024-01-15T20:35:01.875091Z"
    }
   },
   "id": "b86c6b7a46dbff85"
  }
 ],
 "metadata": {
  "kernelspec": {
   "display_name": "Python 3",
   "language": "python",
   "name": "python3"
  },
  "language_info": {
   "codemirror_mode": {
    "name": "ipython",
    "version": 2
   },
   "file_extension": ".py",
   "mimetype": "text/x-python",
   "name": "python",
   "nbconvert_exporter": "python",
   "pygments_lexer": "ipython2",
   "version": "2.7.6"
  }
 },
 "nbformat": 4,
 "nbformat_minor": 5
}
