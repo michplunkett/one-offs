{
 "cells": [
  {
   "cell_type": "code",
   "execution_count": 7,
   "id": "initial_id",
   "metadata": {
    "collapsed": true,
    "ExecuteTime": {
     "end_time": "2023-11-23T04:28:24.801846Z",
     "start_time": "2023-11-23T04:28:24.797012Z"
    }
   },
   "outputs": [],
   "source": [
    "import polars as pl"
   ]
  },
  {
   "cell_type": "code",
   "execution_count": 8,
   "outputs": [],
   "source": [
    "# Import incidents and format columns\n",
    "df = pl.read_csv(\n",
    "    \"./data/incident_dump.csv\",\n",
    ").with_columns(\n",
    "    pl.col(\"reported\")\n",
    "    .str.strptime(pl.Datetime, format=\"%Y-%m-%dT%H:%M:%S%z\")\n",
    "    .dt.convert_time_zone(\"America/Chicago\"),\n",
    "    pl.col(\"reported_date\").str.to_date(\"%Y-%m-%d\"),\n",
    "    pl.col(\"validated_location\").str.split(\",\").cast(pl.List(pl.Float64)),\n",
    "    pl.col(\"incident\").str.to_lowercase(),\n",
    ")"
   ],
   "metadata": {
    "collapsed": false,
    "ExecuteTime": {
     "end_time": "2023-11-23T04:28:24.820292Z",
     "start_time": "2023-11-23T04:28:24.809843Z"
    }
   },
   "id": "14f7bbdba7444ce8"
  },
  {
   "cell_type": "code",
   "execution_count": 9,
   "outputs": [
    {
     "data": {
      "text/plain": "shape: (566, 2)\n┌───────────────────────────────────┬───────┐\n│ incident                          ┆ count │\n│ ---                               ┆ ---   │\n│ str                               ┆ u32   │\n╞═══════════════════════════════════╪═══════╡\n│ theft                             ┆ 1565  │\n│ information                       ┆ 892   │\n│ found property                    ┆ 775   │\n│ lost property                     ┆ 503   │\n│ …                                 ┆ …     │\n│ information / traffic crash / pe… ┆ 1     │\n│ information / armed robbery / ve… ┆ 1     │\n│ information / warrant             ┆ 1     │\n│ information / traffic crash / da… ┆ 1     │\n└───────────────────────────────────┴───────┘",
      "text/html": "<div><style>\n.dataframe > thead > tr > th,\n.dataframe > tbody > tr > td {\n  text-align: right;\n}\n</style>\n<small>shape: (566, 2)</small><table border=\"1\" class=\"dataframe\"><thead><tr><th>incident</th><th>count</th></tr><tr><td>str</td><td>u32</td></tr></thead><tbody><tr><td>&quot;theft&quot;</td><td>1565</td></tr><tr><td>&quot;information&quot;</td><td>892</td></tr><tr><td>&quot;found property…</td><td>775</td></tr><tr><td>&quot;lost property&quot;</td><td>503</td></tr><tr><td>&quot;information / …</td><td>439</td></tr><tr><td>&quot;medical call&quot;</td><td>372</td></tr><tr><td>&quot;battery&quot;</td><td>342</td></tr><tr><td>&quot;liquor law vio…</td><td>341</td></tr><tr><td>&quot;information / …</td><td>330</td></tr><tr><td>&quot;mental health …</td><td>298</td></tr><tr><td>&quot;information / …</td><td>213</td></tr><tr><td>&quot;information / …</td><td>211</td></tr><tr><td>&hellip;</td><td>&hellip;</td></tr><tr><td>&quot;information / …</td><td>1</td></tr><tr><td>&quot;hate crime / t…</td><td>1</td></tr><tr><td>&quot;non-criminal o…</td><td>1</td></tr><tr><td>&quot;eavesdropping&quot;</td><td>1</td></tr><tr><td>&quot;disturbance / …</td><td>1</td></tr><tr><td>&quot;information / …</td><td>1</td></tr><tr><td>&quot;information / …</td><td>1</td></tr><tr><td>&quot;information / …</td><td>1</td></tr><tr><td>&quot;information / …</td><td>1</td></tr><tr><td>&quot;information / …</td><td>1</td></tr><tr><td>&quot;information / …</td><td>1</td></tr><tr><td>&quot;information / …</td><td>1</td></tr></tbody></table></div>"
     },
     "execution_count": 9,
     "metadata": {},
     "output_type": "execute_result"
    }
   ],
   "source": [
    "df.groupby([\"incident\"]).agg(pl.count()).sort(\"count\", descending=True)"
   ],
   "metadata": {
    "collapsed": false,
    "ExecuteTime": {
     "end_time": "2023-11-23T04:28:24.825219Z",
     "start_time": "2023-11-23T04:28:24.817851Z"
    }
   },
   "id": "15f78416b84388bc"
  },
  {
   "cell_type": "code",
   "execution_count": 10,
   "outputs": [
    {
     "data": {
      "text/plain": "shape: (566, 2)\n┌───────────────────────────────────┬───────┐\n│ incident                          ┆ count │\n│ ---                               ┆ ---   │\n│ str                               ┆ u32   │\n╞═══════════════════════════════════╪═══════╡\n│ theft                             ┆ 1565  │\n│ information                       ┆ 892   │\n│ found property                    ┆ 775   │\n│ lost property                     ┆ 503   │\n│ …                                 ┆ …     │\n│ information / armed robbery / ve… ┆ 1     │\n│ information / forged prescriptio… ┆ 1     │\n│ information / suspicious letter   ┆ 1     │\n│ unlawful use of a weapon / dui    ┆ 1     │\n└───────────────────────────────────┴───────┘",
      "text/html": "<div><style>\n.dataframe > thead > tr > th,\n.dataframe > tbody > tr > td {\n  text-align: right;\n}\n</style>\n<small>shape: (566, 2)</small><table border=\"1\" class=\"dataframe\"><thead><tr><th>incident</th><th>count</th></tr><tr><td>str</td><td>u32</td></tr></thead><tbody><tr><td>&quot;theft&quot;</td><td>1565</td></tr><tr><td>&quot;information&quot;</td><td>892</td></tr><tr><td>&quot;found property…</td><td>775</td></tr><tr><td>&quot;lost property&quot;</td><td>503</td></tr><tr><td>&quot;information / …</td><td>439</td></tr><tr><td>&quot;medical call&quot;</td><td>372</td></tr><tr><td>&quot;battery&quot;</td><td>342</td></tr><tr><td>&quot;liquor law vio…</td><td>341</td></tr><tr><td>&quot;information / …</td><td>330</td></tr><tr><td>&quot;mental health …</td><td>298</td></tr><tr><td>&quot;information / …</td><td>213</td></tr><tr><td>&quot;information / …</td><td>211</td></tr><tr><td>&hellip;</td><td>&hellip;</td></tr><tr><td>&quot;aggravated bat…</td><td>1</td></tr><tr><td>&quot;information re…</td><td>1</td></tr><tr><td>&quot;fire / damage …</td><td>1</td></tr><tr><td>&quot;information re…</td><td>1</td></tr><tr><td>&quot;information / …</td><td>1</td></tr><tr><td>&quot;theft / ucpd a…</td><td>1</td></tr><tr><td>&quot;information / …</td><td>1</td></tr><tr><td>&quot;information / …</td><td>1</td></tr><tr><td>&quot;information / …</td><td>1</td></tr><tr><td>&quot;information / …</td><td>1</td></tr><tr><td>&quot;information / …</td><td>1</td></tr><tr><td>&quot;unlawful use o…</td><td>1</td></tr></tbody></table></div>"
     },
     "execution_count": 10,
     "metadata": {},
     "output_type": "execute_result"
    }
   ],
   "source": [
    "excluded_list = [\n",
    "    \"Fondling\",\n",
    "    \"Medical Call\",\n",
    "    \"Luring a Minor\",\n",
    "    \"Lost Property\",\n",
    "    \"Stalking\",\n",
    "    \"Sexual Assault\",\n",
    "    \"Dating\",\n",
    "    \"Stalking\",\n",
    "    \"Domestic\",\n",
    "    \"Sex\",\n",
    "    \"Found Property\",\n",
    "    \"Mental Health\",\n",
    "    \"Harassment by Electronic Means\",\n",
    "    \"Well-Being\",\n",
    "    \"Threatening Phone Call\",\n",
    "    \"Medical Transport\",\n",
    "    \"Warrant\",\n",
    "    \"Lost Wallet\",\n",
    "    \"Fire Alarm\",\n",
    "    \"Chemical Spill\",\n",
    "    \"Suspicious Mail\",\n",
    "    \"Eavesdropping\",\n",
    "]\n",
    "df = df.filter(~pl.col(\"incident\").str.contains(\"|\".join(excluded_list)))\n",
    "df.groupby([\"incident\"]).agg(pl.count()).sort(\"count\", descending=True)"
   ],
   "metadata": {
    "collapsed": false,
    "ExecuteTime": {
     "end_time": "2023-11-23T04:28:24.836775Z",
     "start_time": "2023-11-23T04:28:24.823897Z"
    }
   },
   "id": "aaa49407d08352ea"
  },
  {
   "cell_type": "code",
   "execution_count": 11,
   "outputs": [],
   "source": [
    "def list_to_parsed_set(unparsed_list):\n",
    "    parsed_set = set()\n",
    "    for element in unparsed_list:\n",
    "        if \"/\" in element:\n",
    "            for p in element.split(\"/\"):\n",
    "                fmt_element = p.strip().lower()\n",
    "                if p:\n",
    "                    parsed_set.add(fmt_element)\n",
    "        else:\n",
    "            fmt_element = element.strip().lower()\n",
    "            parsed_set.add(fmt_element)\n",
    "    return parsed_set"
   ],
   "metadata": {
    "collapsed": false,
    "ExecuteTime": {
     "end_time": "2023-11-23T04:28:24.836918Z",
     "start_time": "2023-11-23T04:28:24.834151Z"
    }
   },
   "id": "3237c7e6914efbd"
  },
  {
   "cell_type": "code",
   "execution_count": 12,
   "outputs": [
    {
     "name": "stdout",
     "output_type": "stream",
     "text": [
      "330\n"
     ]
    }
   ],
   "source": [
    "print(len(list_to_parsed_set(df[\"incident\"].to_list())))"
   ],
   "metadata": {
    "collapsed": false,
    "ExecuteTime": {
     "end_time": "2023-11-23T04:28:24.850780Z",
     "start_time": "2023-11-23T04:28:24.839090Z"
    }
   },
   "id": "b86c6b7a46dbff85"
  },
  {
   "cell_type": "code",
   "execution_count": 12,
   "outputs": [],
   "source": [],
   "metadata": {
    "collapsed": false,
    "ExecuteTime": {
     "end_time": "2023-11-23T04:28:24.850952Z",
     "start_time": "2023-11-23T04:28:24.841372Z"
    }
   },
   "id": "fc4e2c3d9952718a"
  }
 ],
 "metadata": {
  "kernelspec": {
   "display_name": "Python 3",
   "language": "python",
   "name": "python3"
  },
  "language_info": {
   "codemirror_mode": {
    "name": "ipython",
    "version": 2
   },
   "file_extension": ".py",
   "mimetype": "text/x-python",
   "name": "python",
   "nbconvert_exporter": "python",
   "pygments_lexer": "ipython2",
   "version": "2.7.6"
  }
 },
 "nbformat": 4,
 "nbformat_minor": 5
}
