{
 "cells": [
  {
   "cell_type": "code",
   "execution_count": 1,
   "id": "initial_id",
   "metadata": {
    "collapsed": true,
    "ExecuteTime": {
     "end_time": "2023-10-24T19:29:59.651123Z",
     "start_time": "2023-10-24T19:29:59.298607Z"
    }
   },
   "outputs": [],
   "source": [
    "import polars as pl"
   ]
  },
  {
   "cell_type": "code",
   "execution_count": 2,
   "outputs": [],
   "source": [
    "# Import incidents and format columns\n",
    "df = pl.read_csv(\n",
    "    \"./data/incident_dump.csv\",\n",
    ").with_columns(\n",
    "    pl.col(\"reported\")\n",
    "    .str.strptime(pl.Datetime, format=\"%Y-%m-%dT%H:%M:%S%z\")\n",
    "    .dt.convert_time_zone(\"America/Chicago\"),\n",
    "    pl.col(\"reported_date\").str.to_date(\"%Y-%m-%d\"),\n",
    "    pl.col(\"validated_location\").str.split(\",\").cast(pl.List(pl.Float64)),\n",
    ")"
   ],
   "metadata": {
    "collapsed": false,
    "ExecuteTime": {
     "end_time": "2023-10-24T19:29:59.669995Z",
     "start_time": "2023-10-24T19:29:59.652028Z"
    }
   },
   "id": "14f7bbdba7444ce8"
  },
  {
   "cell_type": "code",
   "execution_count": 3,
   "outputs": [
    {
     "data": {
      "text/plain": "shape: (565, 2)\n┌───────────────────────────────────┬───────┐\n│ incident                          ┆ count │\n│ ---                               ┆ ---   │\n│ str                               ┆ u32   │\n╞═══════════════════════════════════╪═══════╡\n│ Theft                             ┆ 1553  │\n│ Information                       ┆ 883   │\n│ Found Property                    ┆ 761   │\n│ Lost Property                     ┆ 501   │\n│ …                                 ┆ …     │\n│ Assist Other Agency / Unlawful D… ┆ 1     │\n│ Traffic Accident / Property Dama… ┆ 1     │\n│ Non-Criminal / Damaged Property   ┆ 1     │\n│ Stalking / Cyberstalking          ┆ 1     │\n└───────────────────────────────────┴───────┘",
      "text/html": "<div><style>\n.dataframe > thead > tr > th,\n.dataframe > tbody > tr > td {\n  text-align: right;\n}\n</style>\n<small>shape: (565, 2)</small><table border=\"1\" class=\"dataframe\"><thead><tr><th>incident</th><th>count</th></tr><tr><td>str</td><td>u32</td></tr></thead><tbody><tr><td>&quot;Theft&quot;</td><td>1553</td></tr><tr><td>&quot;Information&quot;</td><td>883</td></tr><tr><td>&quot;Found Property…</td><td>761</td></tr><tr><td>&quot;Lost Property&quot;</td><td>501</td></tr><tr><td>&quot;Information / …</td><td>431</td></tr><tr><td>&quot;Medical Call&quot;</td><td>367</td></tr><tr><td>&quot;Battery&quot;</td><td>342</td></tr><tr><td>&quot;Liquor Law Vio…</td><td>337</td></tr><tr><td>&quot;Information / …</td><td>329</td></tr><tr><td>&quot;Mental Health …</td><td>294</td></tr><tr><td>&quot;Information / …</td><td>211</td></tr><tr><td>&quot;Information / …</td><td>209</td></tr><tr><td>&hellip;</td><td>&hellip;</td></tr><tr><td>&quot;Deceptive Prac…</td><td>1</td></tr><tr><td>&quot;Damage To Prop…</td><td>1</td></tr><tr><td>&quot;Information / …</td><td>1</td></tr><tr><td>&quot;Information / …</td><td>1</td></tr><tr><td>&quot;Assist Other A…</td><td>1</td></tr><tr><td>&quot;Information / …</td><td>1</td></tr><tr><td>&quot;Information / …</td><td>1</td></tr><tr><td>&quot;Found Keys&quot;</td><td>1</td></tr><tr><td>&quot;Assist Other A…</td><td>1</td></tr><tr><td>&quot;Traffic Accide…</td><td>1</td></tr><tr><td>&quot;Non-Criminal /…</td><td>1</td></tr><tr><td>&quot;Stalking / Cyb…</td><td>1</td></tr></tbody></table></div>"
     },
     "execution_count": 3,
     "metadata": {},
     "output_type": "execute_result"
    }
   ],
   "source": [
    "df.groupby([\"incident\"]).agg(pl.count()).sort(\"count\", descending=True)"
   ],
   "metadata": {
    "collapsed": false,
    "ExecuteTime": {
     "end_time": "2023-10-24T19:29:59.682062Z",
     "start_time": "2023-10-24T19:29:59.670271Z"
    }
   },
   "id": "15f78416b84388bc"
  },
  {
   "cell_type": "code",
   "execution_count": 4,
   "outputs": [
    {
     "data": {
      "text/plain": "shape: (473, 2)\n┌───────────────────────────────────┬───────┐\n│ incident                          ┆ count │\n│ ---                               ┆ ---   │\n│ str                               ┆ u32   │\n╞═══════════════════════════════════╪═══════╡\n│ Theft                             ┆ 1553  │\n│ Information                       ┆ 883   │\n│ Information / Theft               ┆ 431   │\n│ Battery                           ┆ 342   │\n│ …                                 ┆ …     │\n│ Simple Battery / Delayed          ┆ 1     │\n│ Deceptive Practice / Telephone S… ┆ 1     │\n│ Traffic Offense                   ┆ 1     │\n│ Assist Other Agency / Motor Vehi… ┆ 1     │\n└───────────────────────────────────┴───────┘",
      "text/html": "<div><style>\n.dataframe > thead > tr > th,\n.dataframe > tbody > tr > td {\n  text-align: right;\n}\n</style>\n<small>shape: (473, 2)</small><table border=\"1\" class=\"dataframe\"><thead><tr><th>incident</th><th>count</th></tr><tr><td>str</td><td>u32</td></tr></thead><tbody><tr><td>&quot;Theft&quot;</td><td>1553</td></tr><tr><td>&quot;Information&quot;</td><td>883</td></tr><tr><td>&quot;Information / …</td><td>431</td></tr><tr><td>&quot;Battery&quot;</td><td>342</td></tr><tr><td>&quot;Liquor Law Vio…</td><td>337</td></tr><tr><td>&quot;Information / …</td><td>329</td></tr><tr><td>&quot;Information / …</td><td>211</td></tr><tr><td>&quot;Information / …</td><td>209</td></tr><tr><td>&quot;Found Narcotic…</td><td>187</td></tr><tr><td>&quot;Injured Person…</td><td>186</td></tr><tr><td>&quot;Traffic Crash&quot;</td><td>179</td></tr><tr><td>&quot;Criminal Damag…</td><td>167</td></tr><tr><td>&hellip;</td><td>&hellip;</td></tr><tr><td>&quot;Attempted Thef…</td><td>1</td></tr><tr><td>&quot;Assist Other A…</td><td>1</td></tr><tr><td>&quot;Information / …</td><td>1</td></tr><tr><td>&quot;Non-Criminal /…</td><td>1</td></tr><tr><td>&quot;Information / …</td><td>1</td></tr><tr><td>&quot;Non-Criminal /…</td><td>1</td></tr><tr><td>&quot;Attempted Arme…</td><td>1</td></tr><tr><td>&quot;Attempt Burgla…</td><td>1</td></tr><tr><td>&quot;Simple Battery…</td><td>1</td></tr><tr><td>&quot;Deceptive Prac…</td><td>1</td></tr><tr><td>&quot;Traffic Offens…</td><td>1</td></tr><tr><td>&quot;Assist Other A…</td><td>1</td></tr></tbody></table></div>"
     },
     "execution_count": 4,
     "metadata": {},
     "output_type": "execute_result"
    }
   ],
   "source": [
    "excluded_list = [\n",
    "    \"Fondling\",\n",
    "    \"Medical Call\",\n",
    "    \"Luring a Minor\",\n",
    "    \"Lost Property\",\n",
    "    \"Stalking\",\n",
    "    \"Sexual Assault\",\n",
    "    \"Dating\",\n",
    "    \"Stalking\",\n",
    "    \"Domestic\",\n",
    "    \"Sex\",\n",
    "    \"Found Property\",\n",
    "    \"Mental Health\",\n",
    "    \"Harassment by Electronic Means\",\n",
    "    \"Well-Being\",\n",
    "    \"Threatening Phone Call\",\n",
    "    \"Medical Transport\",\n",
    "    \"Warrant\",\n",
    "    \"Lost Wallet\",\n",
    "    \"Fire Alarm\",\n",
    "    \"Chemical Spill\",\n",
    "    \"Suspicious Mail\",\n",
    "    \"Eavesdropping\",\n",
    "]\n",
    "df = df.filter(~pl.col(\"incident\").str.contains(\"|\".join(excluded_list)))\n",
    "df.groupby([\"incident\"]).agg(pl.count()).sort(\"count\", descending=True)"
   ],
   "metadata": {
    "collapsed": false,
    "ExecuteTime": {
     "end_time": "2023-10-24T19:29:59.684474Z",
     "start_time": "2023-10-24T19:29:59.677840Z"
    }
   },
   "id": "aaa49407d08352ea"
  },
  {
   "cell_type": "code",
   "execution_count": 5,
   "outputs": [],
   "source": [
    "def list_to_parsed_set(unparsed_list):\n",
    "    parsed_set = set()\n",
    "    for element in unparsed_list:\n",
    "        if \"/\" in element:\n",
    "            for p in element.split(\"/\"):\n",
    "                fmt_element = p.strip()\n",
    "                if p:\n",
    "                    parsed_set.add(fmt_element.title())\n",
    "        else:\n",
    "            fmt_element = element.strip()\n",
    "            parsed_set.add(fmt_element.title())\n",
    "    return parsed_set"
   ],
   "metadata": {
    "collapsed": false,
    "ExecuteTime": {
     "end_time": "2023-10-24T19:29:59.690191Z",
     "start_time": "2023-10-24T19:29:59.684331Z"
    }
   },
   "id": "3237c7e6914efbd"
  },
  {
   "cell_type": "code",
   "execution_count": 6,
   "outputs": [
    {
     "name": "stdout",
     "output_type": "stream",
     "text": [
      "278\n"
     ]
    }
   ],
   "source": [
    "print(len(list_to_parsed_set(df[\"incident\"].to_list())))"
   ],
   "metadata": {
    "collapsed": false,
    "ExecuteTime": {
     "end_time": "2023-10-24T19:29:59.695962Z",
     "start_time": "2023-10-24T19:29:59.691728Z"
    }
   },
   "id": "b86c6b7a46dbff85"
  },
  {
   "cell_type": "code",
   "execution_count": 6,
   "outputs": [],
   "source": [],
   "metadata": {
    "collapsed": false,
    "ExecuteTime": {
     "end_time": "2023-10-24T19:29:59.700273Z",
     "start_time": "2023-10-24T19:29:59.695662Z"
    }
   },
   "id": "fc4e2c3d9952718a"
  }
 ],
 "metadata": {
  "kernelspec": {
   "display_name": "Python 3",
   "language": "python",
   "name": "python3"
  },
  "language_info": {
   "codemirror_mode": {
    "name": "ipython",
    "version": 2
   },
   "file_extension": ".py",
   "mimetype": "text/x-python",
   "name": "python",
   "nbconvert_exporter": "python",
   "pygments_lexer": "ipython2",
   "version": "2.7.6"
  }
 },
 "nbformat": 4,
 "nbformat_minor": 5
}
