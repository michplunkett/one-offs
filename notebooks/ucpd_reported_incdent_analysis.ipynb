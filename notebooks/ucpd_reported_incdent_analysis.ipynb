{
 "cells": [
  {
   "cell_type": "code",
   "execution_count": 26,
   "id": "initial_id",
   "metadata": {
    "collapsed": true,
    "ExecuteTime": {
     "end_time": "2023-10-07T01:35:38.845968Z",
     "start_time": "2023-10-07T01:35:38.830254Z"
    }
   },
   "outputs": [],
   "source": [
    "import polars as pl"
   ]
  },
  {
   "cell_type": "code",
   "execution_count": 27,
   "outputs": [],
   "source": [
    "# Import incidents and format columns\n",
    "df = pl.read_csv(\n",
    "    \"./data/incident_dump.csv\",\n",
    ").with_columns(\n",
    "    pl.col(\"reported\")\n",
    "    .str.strptime(pl.Datetime, format=\"%Y-%m-%dT%H:%M:%S%z\")\n",
    "    .dt.convert_time_zone(\"America/Chicago\"),\n",
    "    pl.col(\"reported_date\").str.to_date(\"%Y-%m-%d\"),\n",
    "    pl.col(\"validated_location\").str.split(\",\").cast(pl.List(pl.Float64)),\n",
    "    pl.col(\"incident\")\n",
    "    .str.replace(\"Dui\", \"DUI\")\n",
    "    .str.replace(\"Uc\", \"UC\")\n",
    "    .str.replace(\"Uuw\", \"Unlawful Use of a Weapon\"),\n",
    ")"
   ],
   "metadata": {
    "collapsed": false,
    "ExecuteTime": {
     "end_time": "2023-10-07T01:35:38.854437Z",
     "start_time": "2023-10-07T01:35:38.837300Z"
    }
   },
   "id": "14f7bbdba7444ce8"
  },
  {
   "cell_type": "code",
   "execution_count": 28,
   "outputs": [
    {
     "data": {
      "text/plain": "shape: (519, 2)\n┌───────────────────────────────┬───────┐\n│ incident                      ┆ count │\n│ ---                           ┆ ---   │\n│ str                           ┆ u32   │\n╞═══════════════════════════════╪═══════╡\n│ Theft                         ┆ 1111  │\n│ Information                   ┆ 715   │\n│ Found Property                ┆ 645   │\n│ Information / Theft           ┆ 392   │\n│ …                             ┆ …     │\n│ Information / Attempted Theft ┆ 1     │\n│ Attempt Aggravated Robbery    ┆ 1     │\n│ Found Drug Paraphernalia      ┆ 1     │\n│ Information / Sex Offense     ┆ 1     │\n└───────────────────────────────┴───────┘",
      "text/html": "<div><style>\n.dataframe > thead > tr > th,\n.dataframe > tbody > tr > td {\n  text-align: right;\n}\n</style>\n<small>shape: (519, 2)</small><table border=\"1\" class=\"dataframe\"><thead><tr><th>incident</th><th>count</th></tr><tr><td>str</td><td>u32</td></tr></thead><tbody><tr><td>&quot;Theft&quot;</td><td>1111</td></tr><tr><td>&quot;Information&quot;</td><td>715</td></tr><tr><td>&quot;Found Property…</td><td>645</td></tr><tr><td>&quot;Information / …</td><td>392</td></tr><tr><td>&quot;Lost Property&quot;</td><td>329</td></tr><tr><td>&quot;Medical Call&quot;</td><td>327</td></tr><tr><td>&quot;Battery&quot;</td><td>304</td></tr><tr><td>&quot;Information / …</td><td>278</td></tr><tr><td>&quot;Mental Health …</td><td>265</td></tr><tr><td>&quot;Liquor Law Vio…</td><td>246</td></tr><tr><td>&quot;Information / …</td><td>178</td></tr><tr><td>&quot;Found Narcotic…</td><td>168</td></tr><tr><td>&hellip;</td><td>&hellip;</td></tr><tr><td>&quot;Information / …</td><td>1</td></tr><tr><td>&quot;Traffic Crash …</td><td>1</td></tr><tr><td>&quot;Information / …</td><td>1</td></tr><tr><td>&quot;Criminal Sexua…</td><td>1</td></tr><tr><td>&quot;Assist Other A…</td><td>1</td></tr><tr><td>&quot;Information / …</td><td>1</td></tr><tr><td>&quot;Information / …</td><td>1</td></tr><tr><td>&quot;Information / …</td><td>1</td></tr><tr><td>&quot;Information / …</td><td>1</td></tr><tr><td>&quot;Attempt Aggrav…</td><td>1</td></tr><tr><td>&quot;Found Drug Par…</td><td>1</td></tr><tr><td>&quot;Information / …</td><td>1</td></tr></tbody></table></div>"
     },
     "execution_count": 28,
     "metadata": {},
     "output_type": "execute_result"
    }
   ],
   "source": [
    "df.groupby([\"incident\"]).agg(pl.count()).sort(\"count\", descending=True)"
   ],
   "metadata": {
    "collapsed": false,
    "ExecuteTime": {
     "end_time": "2023-10-07T01:35:38.860532Z",
     "start_time": "2023-10-07T01:35:38.851391Z"
    }
   },
   "id": "15f78416b84388bc"
  },
  {
   "cell_type": "code",
   "execution_count": 29,
   "outputs": [
    {
     "data": {
      "text/plain": "shape: (449, 2)\n┌───────────────────────────────────┬───────┐\n│ incident                          ┆ count │\n│ ---                               ┆ ---   │\n│ str                               ┆ u32   │\n╞═══════════════════════════════════╪═══════╡\n│ Theft                             ┆ 1111  │\n│ Information                       ┆ 715   │\n│ Information / Theft               ┆ 392   │\n│ Battery                           ┆ 304   │\n│ …                                 ┆ …     │\n│ Information / Unlawful Restraint  ┆ 1     │\n│ False Police Report               ┆ 1     │\n│ Information / Shots Fired / Dama… ┆ 1     │\n│ Information / Possession Of Cann… ┆ 1     │\n└───────────────────────────────────┴───────┘",
      "text/html": "<div><style>\n.dataframe > thead > tr > th,\n.dataframe > tbody > tr > td {\n  text-align: right;\n}\n</style>\n<small>shape: (449, 2)</small><table border=\"1\" class=\"dataframe\"><thead><tr><th>incident</th><th>count</th></tr><tr><td>str</td><td>u32</td></tr></thead><tbody><tr><td>&quot;Theft&quot;</td><td>1111</td></tr><tr><td>&quot;Information&quot;</td><td>715</td></tr><tr><td>&quot;Information / …</td><td>392</td></tr><tr><td>&quot;Battery&quot;</td><td>304</td></tr><tr><td>&quot;Information / …</td><td>278</td></tr><tr><td>&quot;Liquor Law Vio…</td><td>246</td></tr><tr><td>&quot;Information / …</td><td>178</td></tr><tr><td>&quot;Found Narcotic…</td><td>168</td></tr><tr><td>&quot;Information / …</td><td>152</td></tr><tr><td>&quot;Traffic Crash&quot;</td><td>136</td></tr><tr><td>&quot;Criminal Damag…</td><td>134</td></tr><tr><td>&quot;Injured Person…</td><td>127</td></tr><tr><td>&hellip;</td><td>&hellip;</td></tr><tr><td>&quot;Bomb Threat&quot;</td><td>1</td></tr><tr><td>&quot;Found Keys&quot;</td><td>1</td></tr><tr><td>&quot;Warrant / Resi…</td><td>1</td></tr><tr><td>&quot;Damage To Prop…</td><td>1</td></tr><tr><td>&quot;Information / …</td><td>1</td></tr><tr><td>&quot;Traffic Crash …</td><td>1</td></tr><tr><td>&quot;Battery / Crim…</td><td>1</td></tr><tr><td>&quot;Assist Other A…</td><td>1</td></tr><tr><td>&quot;Information / …</td><td>1</td></tr><tr><td>&quot;False Police R…</td><td>1</td></tr><tr><td>&quot;Information / …</td><td>1</td></tr><tr><td>&quot;Information / …</td><td>1</td></tr></tbody></table></div>"
     },
     "execution_count": 29,
     "metadata": {},
     "output_type": "execute_result"
    }
   ],
   "source": [
    "excluded_list = [\n",
    "    \"Fondling\",\n",
    "    \"Medical Call\",\n",
    "    \"Luring a Minor\",\n",
    "    \"Lost Property\",\n",
    "    \"Stalking\",\n",
    "    \"Sexual Assault\",\n",
    "    \"Dating\",\n",
    "    \"Stalking\",\n",
    "    \"Domestic\",\n",
    "    \"Sex\",\n",
    "    \"Found Property\",\n",
    "    \"Mental Health\",\n",
    "    \"Harassment by Electronic Means\",\n",
    "    \"Well-Being\",\n",
    "    \"Threatening Phone Call\",\n",
    "]\n",
    "df = df.filter(~pl.col(\"incident\").str.contains(\"|\".join(excluded_list)))\n",
    "df.groupby([\"incident\"]).agg(pl.count()).sort(\"count\", descending=True)"
   ],
   "metadata": {
    "collapsed": false,
    "ExecuteTime": {
     "end_time": "2023-10-07T01:35:38.864719Z",
     "start_time": "2023-10-07T01:35:38.857201Z"
    }
   },
   "id": "aaa49407d08352ea"
  },
  {
   "cell_type": "code",
   "execution_count": 36,
   "outputs": [],
   "source": [
    "def list_to_parsed_set(unparsed_list):\n",
    "    parsed_set = set()\n",
    "    for element in unparsed_list:\n",
    "        if \"/\" in element:\n",
    "            for p in element.split(\"/\"):\n",
    "                fmt_element = p.strip()\n",
    "                if p != \"\":\n",
    "                    parsed_set.add(fmt_element.title())\n",
    "        else:\n",
    "            fmt_element = element.strip()\n",
    "            parsed_set.add(fmt_element.title())\n",
    "    return parsed_set"
   ],
   "metadata": {
    "collapsed": false,
    "ExecuteTime": {
     "end_time": "2023-10-07T01:45:19.078138Z",
     "start_time": "2023-10-07T01:45:19.073107Z"
    }
   },
   "id": "3237c7e6914efbd"
  },
  {
   "cell_type": "code",
   "execution_count": 37,
   "outputs": [
    {
     "name": "stdout",
     "output_type": "stream",
     "text": [
      "271\n"
     ]
    }
   ],
   "source": [
    "print(len(list_to_parsed_set(df[\"incident\"].to_list())))"
   ],
   "metadata": {
    "collapsed": false,
    "ExecuteTime": {
     "end_time": "2023-10-07T01:45:19.537549Z",
     "start_time": "2023-10-07T01:45:19.534248Z"
    }
   },
   "id": "b86c6b7a46dbff85"
  },
  {
   "cell_type": "code",
   "execution_count": null,
   "outputs": [],
   "source": [],
   "metadata": {
    "collapsed": false
   },
   "id": "fc4e2c3d9952718a"
  }
 ],
 "metadata": {
  "kernelspec": {
   "display_name": "Python 3",
   "language": "python",
   "name": "python3"
  },
  "language_info": {
   "codemirror_mode": {
    "name": "ipython",
    "version": 2
   },
   "file_extension": ".py",
   "mimetype": "text/x-python",
   "name": "python",
   "nbconvert_exporter": "python",
   "pygments_lexer": "ipython2",
   "version": "2.7.6"
  }
 },
 "nbformat": 4,
 "nbformat_minor": 5
}
