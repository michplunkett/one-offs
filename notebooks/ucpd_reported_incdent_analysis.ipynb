{
 "cells": [
  {
   "cell_type": "code",
   "execution_count": 1,
   "id": "initial_id",
   "metadata": {
    "collapsed": true,
    "ExecuteTime": {
     "end_time": "2023-11-04T20:42:52.760551Z",
     "start_time": "2023-11-04T20:42:52.400642Z"
    }
   },
   "outputs": [],
   "source": [
    "import polars as pl"
   ]
  },
  {
   "cell_type": "code",
   "execution_count": 2,
   "outputs": [],
   "source": [
    "# Import incidents and format columns\n",
    "df = pl.read_csv(\n",
    "    \"./data/incident_dump.csv\",\n",
    ").with_columns(\n",
    "    pl.col(\"reported\")\n",
    "    .str.strptime(pl.Datetime, format=\"%Y-%m-%dT%H:%M:%S%z\")\n",
    "    .dt.convert_time_zone(\"America/Chicago\"),\n",
    "    pl.col(\"reported_date\").str.to_date(\"%Y-%m-%d\"),\n",
    "    pl.col(\"validated_location\").str.split(\",\").cast(pl.List(pl.Float64)),\n",
    ")"
   ],
   "metadata": {
    "collapsed": false,
    "ExecuteTime": {
     "end_time": "2023-11-04T20:42:52.778329Z",
     "start_time": "2023-11-04T20:42:52.761051Z"
    }
   },
   "id": "14f7bbdba7444ce8"
  },
  {
   "cell_type": "code",
   "execution_count": 3,
   "outputs": [
    {
     "data": {
      "text/plain": "shape: (566, 2)\n┌───────────────────────────────────┬───────┐\n│ incident                          ┆ count │\n│ ---                               ┆ ---   │\n│ str                               ┆ u32   │\n╞═══════════════════════════════════╪═══════╡\n│ Theft                             ┆ 1555  │\n│ Information                       ┆ 886   │\n│ Found Property                    ┆ 762   │\n│ Lost Property                     ┆ 501   │\n│ …                                 ┆ …     │\n│ Threats                           ┆ 1     │\n│ Information / Traffic Arrest      ┆ 1     │\n│ Information / Harassing Phone Ca… ┆ 1     │\n│ Narcotics Arrest                  ┆ 1     │\n└───────────────────────────────────┴───────┘",
      "text/html": "<div><style>\n.dataframe > thead > tr > th,\n.dataframe > tbody > tr > td {\n  text-align: right;\n}\n</style>\n<small>shape: (566, 2)</small><table border=\"1\" class=\"dataframe\"><thead><tr><th>incident</th><th>count</th></tr><tr><td>str</td><td>u32</td></tr></thead><tbody><tr><td>&quot;Theft&quot;</td><td>1555</td></tr><tr><td>&quot;Information&quot;</td><td>886</td></tr><tr><td>&quot;Found Property…</td><td>762</td></tr><tr><td>&quot;Lost Property&quot;</td><td>501</td></tr><tr><td>&quot;Information / …</td><td>433</td></tr><tr><td>&quot;Medical Call&quot;</td><td>369</td></tr><tr><td>&quot;Battery&quot;</td><td>342</td></tr><tr><td>&quot;Liquor Law Vio…</td><td>337</td></tr><tr><td>&quot;Information / …</td><td>329</td></tr><tr><td>&quot;Mental Health …</td><td>294</td></tr><tr><td>&quot;Information / …</td><td>211</td></tr><tr><td>&quot;Information / …</td><td>209</td></tr><tr><td>&hellip;</td><td>&hellip;</td></tr><tr><td>&quot;Information / …</td><td>1</td></tr><tr><td>&quot;Non-Criminal /…</td><td>1</td></tr><tr><td>&quot;Deceptive Prac…</td><td>1</td></tr><tr><td>&quot;Criminal Damag…</td><td>1</td></tr><tr><td>&quot;Information / …</td><td>1</td></tr><tr><td>&quot;Information / …</td><td>1</td></tr><tr><td>&quot;Lost / Recover…</td><td>1</td></tr><tr><td>&quot;Assist Other A…</td><td>1</td></tr><tr><td>&quot;Threats&quot;</td><td>1</td></tr><tr><td>&quot;Information / …</td><td>1</td></tr><tr><td>&quot;Information / …</td><td>1</td></tr><tr><td>&quot;Narcotics Arre…</td><td>1</td></tr></tbody></table></div>"
     },
     "execution_count": 3,
     "metadata": {},
     "output_type": "execute_result"
    }
   ],
   "source": [
    "df.groupby([\"incident\"]).agg(pl.count()).sort(\"count\", descending=True)"
   ],
   "metadata": {
    "collapsed": false,
    "ExecuteTime": {
     "end_time": "2023-11-04T20:42:52.789324Z",
     "start_time": "2023-11-04T20:42:52.779347Z"
    }
   },
   "id": "15f78416b84388bc"
  },
  {
   "cell_type": "code",
   "execution_count": 4,
   "outputs": [
    {
     "data": {
      "text/plain": "shape: (474, 2)\n┌───────────────────────────────────┬───────┐\n│ incident                          ┆ count │\n│ ---                               ┆ ---   │\n│ str                               ┆ u32   │\n╞═══════════════════════════════════╪═══════╡\n│ Theft                             ┆ 1555  │\n│ Information                       ┆ 886   │\n│ Information / Theft               ┆ 433   │\n│ Battery                           ┆ 342   │\n│ …                                 ┆ …     │\n│ Assist Other Agency / Traffic Cr… ┆ 1     │\n│ Fleeing Or Attempting To Elude P… ┆ 1     │\n│ Information / Damage To Property… ┆ 1     │\n│ Information / Armed Robbery / Mo… ┆ 1     │\n└───────────────────────────────────┴───────┘",
      "text/html": "<div><style>\n.dataframe > thead > tr > th,\n.dataframe > tbody > tr > td {\n  text-align: right;\n}\n</style>\n<small>shape: (474, 2)</small><table border=\"1\" class=\"dataframe\"><thead><tr><th>incident</th><th>count</th></tr><tr><td>str</td><td>u32</td></tr></thead><tbody><tr><td>&quot;Theft&quot;</td><td>1555</td></tr><tr><td>&quot;Information&quot;</td><td>886</td></tr><tr><td>&quot;Information / …</td><td>433</td></tr><tr><td>&quot;Battery&quot;</td><td>342</td></tr><tr><td>&quot;Liquor Law Vio…</td><td>337</td></tr><tr><td>&quot;Information / …</td><td>329</td></tr><tr><td>&quot;Information / …</td><td>211</td></tr><tr><td>&quot;Information / …</td><td>209</td></tr><tr><td>&quot;Found Narcotic…</td><td>187</td></tr><tr><td>&quot;Injured Person…</td><td>186</td></tr><tr><td>&quot;Traffic Crash&quot;</td><td>179</td></tr><tr><td>&quot;Criminal Damag…</td><td>168</td></tr><tr><td>&hellip;</td><td>&hellip;</td></tr><tr><td>&quot;Fire / Damage …</td><td>1</td></tr><tr><td>&quot;Damage To Prop…</td><td>1</td></tr><tr><td>&quot;Information / …</td><td>1</td></tr><tr><td>&quot;Assist Other A…</td><td>1</td></tr><tr><td>&quot;Trespass&quot;</td><td>1</td></tr><tr><td>&quot;Assist Other A…</td><td>1</td></tr><tr><td>&quot;Information / …</td><td>1</td></tr><tr><td>&quot;Information / …</td><td>1</td></tr><tr><td>&quot;Assist Other A…</td><td>1</td></tr><tr><td>&quot;Fleeing Or Att…</td><td>1</td></tr><tr><td>&quot;Information / …</td><td>1</td></tr><tr><td>&quot;Information / …</td><td>1</td></tr></tbody></table></div>"
     },
     "execution_count": 4,
     "metadata": {},
     "output_type": "execute_result"
    }
   ],
   "source": [
    "excluded_list = [\n",
    "    \"Fondling\",\n",
    "    \"Medical Call\",\n",
    "    \"Luring a Minor\",\n",
    "    \"Lost Property\",\n",
    "    \"Stalking\",\n",
    "    \"Sexual Assault\",\n",
    "    \"Dating\",\n",
    "    \"Stalking\",\n",
    "    \"Domestic\",\n",
    "    \"Sex\",\n",
    "    \"Found Property\",\n",
    "    \"Mental Health\",\n",
    "    \"Harassment by Electronic Means\",\n",
    "    \"Well-Being\",\n",
    "    \"Threatening Phone Call\",\n",
    "    \"Medical Transport\",\n",
    "    \"Warrant\",\n",
    "    \"Lost Wallet\",\n",
    "    \"Fire Alarm\",\n",
    "    \"Chemical Spill\",\n",
    "    \"Suspicious Mail\",\n",
    "    \"Eavesdropping\",\n",
    "]\n",
    "df = df.filter(~pl.col(\"incident\").str.contains(\"|\".join(excluded_list)))\n",
    "df.groupby([\"incident\"]).agg(pl.count()).sort(\"count\", descending=True)"
   ],
   "metadata": {
    "collapsed": false,
    "ExecuteTime": {
     "end_time": "2023-11-04T20:42:52.797580Z",
     "start_time": "2023-11-04T20:42:52.787747Z"
    }
   },
   "id": "aaa49407d08352ea"
  },
  {
   "cell_type": "code",
   "execution_count": 5,
   "outputs": [],
   "source": [
    "def list_to_parsed_set(unparsed_list):\n",
    "    parsed_set = set()\n",
    "    for element in unparsed_list:\n",
    "        if \"/\" in element:\n",
    "            for p in element.split(\"/\"):\n",
    "                fmt_element = p.strip()\n",
    "                if p:\n",
    "                    parsed_set.add(fmt_element.title())\n",
    "        else:\n",
    "            fmt_element = element.strip()\n",
    "            parsed_set.add(fmt_element.title())\n",
    "    return parsed_set"
   ],
   "metadata": {
    "collapsed": false,
    "ExecuteTime": {
     "end_time": "2023-11-04T20:42:52.810545Z",
     "start_time": "2023-11-04T20:42:52.797362Z"
    }
   },
   "id": "3237c7e6914efbd"
  },
  {
   "cell_type": "code",
   "execution_count": 6,
   "outputs": [
    {
     "name": "stdout",
     "output_type": "stream",
     "text": [
      "279\n"
     ]
    }
   ],
   "source": [
    "print(len(list_to_parsed_set(df[\"incident\"].to_list())))"
   ],
   "metadata": {
    "collapsed": false,
    "ExecuteTime": {
     "end_time": "2023-11-04T20:42:52.811203Z",
     "start_time": "2023-11-04T20:42:52.802947Z"
    }
   },
   "id": "b86c6b7a46dbff85"
  },
  {
   "cell_type": "code",
   "execution_count": 6,
   "outputs": [],
   "source": [],
   "metadata": {
    "collapsed": false,
    "ExecuteTime": {
     "end_time": "2023-11-04T20:42:52.811322Z",
     "start_time": "2023-11-04T20:42:52.804916Z"
    }
   },
   "id": "fc4e2c3d9952718a"
  }
 ],
 "metadata": {
  "kernelspec": {
   "display_name": "Python 3",
   "language": "python",
   "name": "python3"
  },
  "language_info": {
   "codemirror_mode": {
    "name": "ipython",
    "version": 2
   },
   "file_extension": ".py",
   "mimetype": "text/x-python",
   "name": "python",
   "nbconvert_exporter": "python",
   "pygments_lexer": "ipython2",
   "version": "2.7.6"
  }
 },
 "nbformat": 4,
 "nbformat_minor": 5
}
