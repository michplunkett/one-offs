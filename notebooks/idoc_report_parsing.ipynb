{
 "cells": [
  {
   "cell_type": "code",
   "id": "initial_id",
   "metadata": {
    "collapsed": true,
    "ExecuteTime": {
     "end_time": "2024-10-01T17:03:13.096899Z",
     "start_time": "2024-10-01T17:03:13.093828Z"
    }
   },
   "source": [
    "import pdfplumber\n",
    "import pandas as pd"
   ],
   "outputs": [],
   "execution_count": 31
  },
  {
   "metadata": {
    "ExecuteTime": {
     "end_time": "2024-10-01T17:03:31.001363Z",
     "start_time": "2024-10-01T17:03:30.915755Z"
    }
   },
   "cell_type": "code",
   "source": [
    "with pdfplumber.open(\"./data/IDOC-Quarterly-Report-October-2024.pdf\") as pdf:\n",
    "\tproject_populations = pd.DataFrame(pdf.pages[41].extract_table()[1:], columns=pdf.pages[41].extract_table()[0])\n",
    "\tprint(project_populations.head())"
   ],
   "id": "efe766791a02e99",
   "outputs": [
    {
     "name": "stdout",
     "output_type": "stream",
     "text": [
      "      Month  Year Population\n",
      "0   October  2024     28,957\n",
      "1  November  2024     28,941\n",
      "2  December  2024     28,925\n",
      "3   January  2025     28,912\n",
      "4   Feruary  2025     28,899\n"
     ]
    }
   ],
   "execution_count": 34
  },
  {
   "metadata": {
    "ExecuteTime": {
     "end_time": "2024-10-01T17:03:53.338571Z",
     "start_time": "2024-10-01T17:03:53.253634Z"
    }
   },
   "cell_type": "code",
   "source": [
    "with pdfplumber.open(\"./data/IDOC-Quarterly-Report-July-2024.pdf\") as pdf:\n",
    "\tproject_populations = pd.DataFrame(pdf.pages[41].extract_table()[1:], columns=pdf.pages[41].extract_table()[0])\n",
    "\tprint(project_populations.head())"
   ],
   "id": "29c9b96284631789",
   "outputs": [
    {
     "name": "stdout",
     "output_type": "stream",
     "text": [
      "       Month  Year Population\n",
      "0       July  2024     28,977\n",
      "1     August  2024     28,961\n",
      "2  September  2024     28,945\n",
      "3    October  2024     28,929\n",
      "4   November  2024     28,913\n"
     ]
    }
   ],
   "execution_count": 35
  },
  {
   "metadata": {},
   "cell_type": "code",
   "outputs": [],
   "execution_count": null,
   "source": "",
   "id": "28a0b330c492295d"
  }
 ],
 "metadata": {
  "kernelspec": {
   "display_name": "Python 3",
   "language": "python",
   "name": "python3"
  },
  "language_info": {
   "codemirror_mode": {
    "name": "ipython",
    "version": 2
   },
   "file_extension": ".py",
   "mimetype": "text/x-python",
   "name": "python",
   "nbconvert_exporter": "python",
   "pygments_lexer": "ipython2",
   "version": "2.7.6"
  }
 },
 "nbformat": 4,
 "nbformat_minor": 5
}
