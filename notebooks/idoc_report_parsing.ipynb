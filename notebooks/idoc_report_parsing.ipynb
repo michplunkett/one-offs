{
  "cells": [
    {
      "cell_type": "code",
      "execution_count": 39,
      "id": "initial_id",
      "metadata": {
        "ExecuteTime": {
          "end_time": "2024-10-01T17:35:36.085063Z",
          "start_time": "2024-10-01T17:35:36.082282Z"
        },
        "collapsed": true
      },
      "outputs": [],
      "source": [
        "import pandas as pd\n",
        "import pdfplumber"
      ]
    },
    {
      "cell_type": "code",
      "execution_count": 40,
      "id": "f5930c0e075ba56c",
      "metadata": {
        "ExecuteTime": {
          "end_time": "2024-10-01T17:35:36.742134Z",
          "start_time": "2024-10-01T17:35:36.738342Z"
        }
      },
      "outputs": [],
      "source": [
        "def parse_projected_population_table(prison_pop: [[]]) -> pd.DataFrame:\n",
        "    prison_populations = pd.DataFrame(\n",
        "        prison_pop[1:],\n",
        "        columns=prison_pop[0],\n",
        "    )\n",
        "    prison_populations[\"Population\"] = prison_populations[\n",
        "        \"Population\"\n",
        "    ].str.replace(\",\", \"\")\n",
        "    return prison_populations.astype(\n",
        "        {\"Month\": \"str\", \"Year\": \"int\", \"Population\": \"int\"}\n",
        "    )"
      ]
    },
    {
      "cell_type": "code",
      "execution_count": 41,
      "id": "e4a751bee380468b",
      "metadata": {
        "ExecuteTime": {
          "end_time": "2024-10-01T17:35:37.329328Z",
          "start_time": "2024-10-01T17:35:37.255683Z"
        }
      },
      "outputs": [
        {
          "name": "stdout",
          "output_type": "stream",
          "text": [
            "      Month  Year  Population\n",
            "0   January  2024       29863\n",
            "1  February  2024       29846\n",
            "2     March  2024       29830\n",
            "3     April  2024       29813\n",
            "4       May  2024       29796\n"
          ]
        }
      ],
      "source": [
        "# January 2024\n",
        "with pdfplumber.open(\"./data/IDOC-Quarterly-Report-January-2024.pdf\") as pdf:\n",
        "    projected_pop = parse_projected_population_table(\n",
        "        pdf.pages[41].extract_table()\n",
        "    )\n",
        "    print(projected_pop.head())"
      ]
    },
    {
      "cell_type": "code",
      "execution_count": 42,
      "id": "eed4fe1c132cdcbc",
      "metadata": {
        "ExecuteTime": {
          "end_time": "2024-10-01T17:35:38.086815Z",
          "start_time": "2024-10-01T17:35:37.943349Z"
        }
      },
      "outputs": [
        {
          "name": "stdout",
          "output_type": "stream",
          "text": [
            "    Month  Year  Population\n",
            "0   April  2024       29221\n",
            "1     May  2024       29205\n",
            "2    June  2024       29188\n",
            "3    July  2024       29172\n",
            "4  August  2024       29156\n"
          ]
        }
      ],
      "source": [
        "# April 2024\n",
        "with pdfplumber.open(\"./data/IDOC-Quarterly-Report-April-2024.pdf\") as pdf:\n",
        "    projected_pop = parse_projected_population_table(\n",
        "        pdf.pages[41].extract_table()\n",
        "    )\n",
        "    print(projected_pop.head())"
      ]
    },
    {
      "cell_type": "code",
      "execution_count": 43,
      "id": "8284108cb100f23d",
      "metadata": {
        "ExecuteTime": {
          "end_time": "2024-10-01T17:35:38.733161Z",
          "start_time": "2024-10-01T17:35:38.662881Z"
        }
      },
      "outputs": [
        {
          "name": "stdout",
          "output_type": "stream",
          "text": [
            "       Month  Year  Population\n",
            "0       July  2024       28977\n",
            "1     August  2024       28961\n",
            "2  September  2024       28945\n",
            "3    October  2024       28929\n",
            "4   November  2024       28913\n"
          ]
        }
      ],
      "source": [
        "# July 2024\n",
        "with pdfplumber.open(\"./data/IDOC-Quarterly-Report-July-2024.pdf\") as pdf:\n",
        "    projected_pop = parse_projected_population_table(\n",
        "        pdf.pages[41].extract_table()\n",
        "    )\n",
        "    print(projected_pop.head())"
      ]
    },
    {
      "cell_type": "code",
      "execution_count": 44,
      "id": "efe766791a02e99",
      "metadata": {
        "ExecuteTime": {
          "end_time": "2024-10-01T17:35:40.475913Z",
          "start_time": "2024-10-01T17:35:40.391462Z"
        }
      },
      "outputs": [
        {
          "name": "stdout",
          "output_type": "stream",
          "text": [
            "      Month  Year  Population\n",
            "0   October  2024       28957\n",
            "1  November  2024       28941\n",
            "2  December  2024       28925\n",
            "3   January  2025       28912\n",
            "4   Feruary  2025       28899\n"
          ]
        }
      ],
      "source": [
        "# October 2024\n",
        "with pdfplumber.open(\"./data/IDOC-Quarterly-Report-October-2024.pdf\") as pdf:\n",
        "    projected_pop = parse_projected_population_table(\n",
        "        pdf.pages[41].extract_table()\n",
        "    )\n",
        "    print(projected_pop.head())"
      ]
    },
    {
      "cell_type": "code",
      "execution_count": null,
      "id": "28a0b330c492295d",
      "metadata": {},
      "outputs": [],
      "source": []
    }
  ],
  "metadata": {
    "kernelspec": {
      "display_name": "Python 3",
      "language": "python",
      "name": "python3"
    },
    "language_info": {
      "codemirror_mode": {
        "name": "ipython",
        "version": 2
      },
      "file_extension": ".py",
      "mimetype": "text/x-python",
      "name": "python",
      "nbconvert_exporter": "python",
      "pygments_lexer": "ipython2",
      "version": "2.7.6"
    }
  },
  "nbformat": 4,
  "nbformat_minor": 5
}
