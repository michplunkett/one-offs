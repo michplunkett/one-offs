{
  "cells": [
    {
      "cell_type": "code",
      "execution_count": 59,
      "id": "initial_id",
      "metadata": {
        "ExecuteTime": {
          "end_time": "2024-10-01T17:47:45.689395Z",
          "start_time": "2024-10-01T17:47:45.685404Z"
        },
        "collapsed": true
      },
      "outputs": [],
      "source": [
        "import pandas as pd\n",
        "import pdfplumber"
      ]
    },
    {
      "cell_type": "code",
      "execution_count": 60,
      "id": "f5930c0e075ba56c",
      "metadata": {
        "ExecuteTime": {
          "end_time": "2024-10-01T17:47:45.696819Z",
          "start_time": "2024-10-01T17:47:45.691282Z"
        }
      },
      "outputs": [],
      "source": [
        "def parse_projected_population_table(table: [[]]) -> pd.DataFrame:\n",
        "    pops = pd.DataFrame(\n",
        "        table[1:],\n",
        "        columns=table[0],\n",
        "    )\n",
        "    pops[\"Population\"] = pops[\"Population\"].str.replace(\",\", \"\")\n",
        "    return pops.astype({\"Year\": \"int\", \"Population\": \"int\"})\n",
        "\n",
        "\n",
        "def parse_projected_population_comp_table(table: [[]]) -> pd.DataFrame:\n",
        "    table[0] = [t.replace(\"\\n\", \" \") for t in table[0]]\n",
        "    pop_comp = pd.DataFrame(\n",
        "        table[1:],\n",
        "        columns=table[0],\n",
        "    )\n",
        "    pop_comp[\"Actual Population\"] = pop_comp[\"Actual Population\"].str.replace(\n",
        "        \",\", \"\"\n",
        "    )\n",
        "    pop_comp[\"Population Projection\"] = pop_comp[\n",
        "        \"Population Projection\"\n",
        "    ].str.replace(\",\", \"\")\n",
        "    pop_comp[\"Difference\"] = pop_comp[\"Difference\"].str.replace(\",\", \"\")\n",
        "    pop_comp[\"Percent Difference\"] = pop_comp[\"Percent Difference\"].str.replace(\n",
        "        \"%\", \"\"\n",
        "    )\n",
        "    return pop_comp.astype(\n",
        "        {\n",
        "            \"Year\": \"int\",\n",
        "            \"Actual Population\": \"int\",\n",
        "            \"Population Projection\": \"int\",\n",
        "            \"Difference\": \"int\",\n",
        "            \"Percent Difference\": \"float\",\n",
        "        }\n",
        "    )"
      ]
    },
    {
      "cell_type": "code",
      "execution_count": 61,
      "id": "e4a751bee380468b",
      "metadata": {
        "ExecuteTime": {
          "end_time": "2024-10-01T17:47:45.889343Z",
          "start_time": "2024-10-01T17:47:45.697926Z"
        }
      },
      "outputs": [
        {
          "name": "stdout",
          "output_type": "stream",
          "text": [
            "      Month  Year  Population\n",
            "0   January  2024       29863\n",
            "1  February  2024       29846\n",
            "2     March  2024       29830\n",
            "3     April  2024       29813\n",
            "4       May  2024       29796\n",
            "       Month  Year  Actual Population  Population Projection  Difference  \\\n",
            "0  September  2022              29647                  29625          22   \n",
            "1    October  2022              29772                  29749          23   \n",
            "2   November  2022              29698                  29675          23   \n",
            "3   December  2022              29634                  29612          22   \n",
            "4    January  2023              29667                  29647          20   \n",
            "\n",
            "   Percent Difference  \n",
            "0                0.08  \n",
            "1                0.08  \n",
            "2                0.08  \n",
            "3                0.08  \n",
            "4                0.07  \n"
          ]
        }
      ],
      "source": [
        "# January 2024\n",
        "with pdfplumber.open(\"./data/IDOC-Quarterly-Report-January-2024.pdf\") as pdf:\n",
        "    projected_pop = parse_projected_population_table(\n",
        "        pdf.pages[41].extract_table()\n",
        "    )\n",
        "    print(projected_pop.head())\n",
        "    projected_pop_comp = parse_projected_population_comp_table(\n",
        "        pdf.pages[42].extract_table()\n",
        "    )\n",
        "    print(projected_pop_comp.head())"
      ]
    },
    {
      "cell_type": "code",
      "execution_count": 62,
      "id": "eed4fe1c132cdcbc",
      "metadata": {
        "ExecuteTime": {
          "end_time": "2024-10-01T17:47:45.979381Z",
          "start_time": "2024-10-01T17:47:45.890608Z"
        }
      },
      "outputs": [
        {
          "name": "stdout",
          "output_type": "stream",
          "text": [
            "    Month  Year  Population\n",
            "0   April  2024       29221\n",
            "1     May  2024       29205\n",
            "2    June  2024       29188\n",
            "3    July  2024       29172\n",
            "4  August  2024       29156\n",
            "      Month  Year  Actual Population  Population Projection  Difference  \\\n",
            "0  December  2022              29634                  29612          22   \n",
            "1   January  2023              29667                  29647          20   \n",
            "2  February  2023              29620                  29600          20   \n",
            "3     March  2023              29799                  29779          20   \n",
            "4     April  2023              29824                  29804          20   \n",
            "\n",
            "   Percent Difference  \n",
            "0                0.08  \n",
            "1                0.07  \n",
            "2                0.07  \n",
            "3                0.07  \n",
            "4                0.07  \n"
          ]
        }
      ],
      "source": [
        "# April 2024\n",
        "with pdfplumber.open(\"./data/IDOC-Quarterly-Report-April-2024.pdf\") as pdf:\n",
        "    projected_pop = parse_projected_population_table(\n",
        "        pdf.pages[41].extract_table()\n",
        "    )\n",
        "    print(projected_pop.head())\n",
        "    projected_pop_comp = parse_projected_population_comp_table(\n",
        "        pdf.pages[42].extract_table()\n",
        "    )\n",
        "    print(projected_pop_comp.head())"
      ]
    },
    {
      "cell_type": "code",
      "execution_count": 63,
      "id": "8284108cb100f23d",
      "metadata": {
        "ExecuteTime": {
          "end_time": "2024-10-01T17:47:46.067257Z",
          "start_time": "2024-10-01T17:47:45.979965Z"
        }
      },
      "outputs": [
        {
          "name": "stdout",
          "output_type": "stream",
          "text": [
            "       Month  Year  Population\n",
            "0       July  2024       28977\n",
            "1     August  2024       28961\n",
            "2  September  2024       28945\n",
            "3    October  2024       28929\n",
            "4   November  2024       28913\n",
            "   Month  Year  Actual Population  Population Projection  Difference  \\\n",
            "0  March  2023              29799                  29779          20   \n",
            "1  April  2023              29824                  29804          20   \n",
            "2    May  2023              29910                  29890          20   \n",
            "3   June  2023              30062                  30042          20   \n",
            "4   July  2023              30034                  30014          20   \n",
            "\n",
            "   Percent Difference  \n",
            "0                0.07  \n",
            "1                0.07  \n",
            "2                0.07  \n",
            "3                0.07  \n",
            "4                0.07  \n"
          ]
        }
      ],
      "source": [
        "# July 2024\n",
        "with pdfplumber.open(\"./data/IDOC-Quarterly-Report-July-2024.pdf\") as pdf:\n",
        "    projected_pop = parse_projected_population_table(\n",
        "        pdf.pages[41].extract_table()\n",
        "    )\n",
        "    print(projected_pop.head())\n",
        "    projected_pop_comp = parse_projected_population_comp_table(\n",
        "        pdf.pages[42].extract_table()\n",
        "    )\n",
        "    print(projected_pop_comp.head())"
      ]
    },
    {
      "cell_type": "code",
      "execution_count": 64,
      "id": "efe766791a02e99",
      "metadata": {
        "ExecuteTime": {
          "end_time": "2024-10-01T17:47:46.156424Z",
          "start_time": "2024-10-01T17:47:46.067886Z"
        }
      },
      "outputs": [
        {
          "name": "stdout",
          "output_type": "stream",
          "text": [
            "      Month  Year  Population\n",
            "0   October  2024       28957\n",
            "1  November  2024       28941\n",
            "2  December  2024       28925\n",
            "3   January  2025       28912\n",
            "4   Feruary  2025       28899\n",
            "       Month  Year  Actual Population  Population Projection  Difference  \\\n",
            "0       June  2023              30062                  30042          20   \n",
            "1       July  2023              30034                  30014          20   \n",
            "2     August  2023              30204                  30184          20   \n",
            "3  September  2023              30278                  30258          20   \n",
            "4    October  2023              30084                  30064          20   \n",
            "\n",
            "   Percent Difference  \n",
            "0                0.07  \n",
            "1                0.07  \n",
            "2                0.07  \n",
            "3                0.07  \n",
            "4                0.07  \n"
          ]
        }
      ],
      "source": [
        "# October 2024\n",
        "with pdfplumber.open(\"./data/IDOC-Quarterly-Report-October-2024.pdf\") as pdf:\n",
        "    projected_pop = parse_projected_population_table(\n",
        "        pdf.pages[41].extract_table()\n",
        "    )\n",
        "    print(projected_pop.head())\n",
        "    projected_pop_comp = parse_projected_population_comp_table(\n",
        "        pdf.pages[42].extract_table()\n",
        "    )\n",
        "    print(projected_pop_comp.head())"
      ]
    },
    {
      "cell_type": "code",
      "execution_count": 64,
      "id": "28a0b330c492295d",
      "metadata": {
        "ExecuteTime": {
          "end_time": "2024-10-01T17:47:46.158318Z",
          "start_time": "2024-10-01T17:47:46.157070Z"
        }
      },
      "outputs": [],
      "source": []
    }
  ],
  "metadata": {
    "kernelspec": {
      "display_name": "Python 3",
      "language": "python",
      "name": "python3"
    },
    "language_info": {
      "codemirror_mode": {
        "name": "ipython",
        "version": 2
      },
      "file_extension": ".py",
      "mimetype": "text/x-python",
      "name": "python",
      "nbconvert_exporter": "python",
      "pygments_lexer": "ipython2",
      "version": "2.7.6"
    }
  },
  "nbformat": 4,
  "nbformat_minor": 5
}
