{
  "cells": [
    {
      "cell_type": "code",
      "execution_count": 1,
      "id": "initial_id",
      "metadata": {
        "ExecuteTime": {
          "end_time": "2024-02-27T21:57:17.466558Z",
          "start_time": "2024-02-27T21:57:16.849515Z"
        },
        "collapsed": true
      },
      "outputs": [],
      "source": [
        "import polars as pl"
      ]
    },
    {
      "cell_type": "code",
      "execution_count": 25,
      "id": "f3d88e1c116f6e29",
      "metadata": {
        "ExecuteTime": {
          "end_time": "2024-02-27T22:19:02.356814Z",
          "start_time": "2024-02-27T22:19:02.342026Z"
        },
        "collapsed": false
      },
      "outputs": [],
      "source": [
        "df = pl.read_csv(\n",
        "    \"./data/incident_dump.csv\",\n",
        ").with_columns(\n",
        "    pl.col(\"reported\")\n",
        "    .str.strptime(pl.Datetime, format=\"%Y-%m-%dT%H:%M:%S%z\")\n",
        "    .dt.convert_time_zone(\"America/Chicago\"),\n",
        "    pl.col(\"reported_date\").str.to_date(\"%Y-%m-%d\"),\n",
        "    pl.col(\"validated_location\").str.split(\",\").cast(pl.List(pl.Float64)),\n",
        ")\n",
        "all_df = df.filter(~pl.col(\"validated_address\").is_null()).filter(\n",
        "    pl.col(\"incident\") != \"Information\"\n",
        ")"
      ]
    },
    {
      "cell_type": "code",
      "execution_count": 26,
      "id": "b897d37c17645dd0",
      "metadata": {
        "ExecuteTime": {
          "end_time": "2024-02-27T22:19:02.887104Z",
          "start_time": "2024-02-27T22:19:02.881950Z"
        },
        "collapsed": false
      },
      "outputs": [],
      "source": [
        "winter_df = all_df.filter(pl.col(\"season\") == \"Winter\")\n",
        "fall_df = all_df.filter(pl.col(\"season\") == \"Fall\")\n",
        "summer_df = all_df.filter(pl.col(\"season\") == \"Summer\")\n",
        "spring_df = all_df.filter(pl.col(\"season\") == \"Spring\")"
      ]
    },
    {
      "cell_type": "code",
      "execution_count": null,
      "id": "be9d7e09c68101ee",
      "metadata": {
        "collapsed": false
      },
      "outputs": [],
      "source": []
    }
  ],
  "metadata": {
    "kernelspec": {
      "display_name": "Python 3",
      "language": "python",
      "name": "python3"
    },
    "language_info": {
      "codemirror_mode": {
        "name": "ipython",
        "version": 2
      },
      "file_extension": ".py",
      "mimetype": "text/x-python",
      "name": "python",
      "nbconvert_exporter": "python",
      "pygments_lexer": "ipython2",
      "version": "2.7.6"
    }
  },
  "nbformat": 4,
  "nbformat_minor": 5
}
