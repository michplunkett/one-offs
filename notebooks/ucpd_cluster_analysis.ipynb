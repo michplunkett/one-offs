{
  "cells": [
    {
      "cell_type": "code",
      "execution_count": 1,
      "id": "initial_id",
      "metadata": {
        "ExecuteTime": {
          "end_time": "2024-02-27T21:57:17.466558Z",
          "start_time": "2024-02-27T21:57:16.849515Z"
        },
        "collapsed": true
      },
      "outputs": [],
      "source": [
        "import polars as pl"
      ]
    },
    {
      "cell_type": "code",
      "execution_count": 5,
      "id": "f3d88e1c116f6e29",
      "metadata": {
        "ExecuteTime": {
          "end_time": "2024-02-27T21:58:27.007321Z",
          "start_time": "2024-02-27T21:58:26.998837Z"
        },
        "collapsed": false
      },
      "outputs": [],
      "source": [
        "df = pl.read_csv(\n",
        "    \"./data/incident_dump.csv\",\n",
        ").with_columns(\n",
        "    pl.col(\"reported\")\n",
        "    .str.strptime(pl.Datetime, format=\"%Y-%m-%dT%H:%M:%S%z\")\n",
        "    .dt.convert_time_zone(\"America/Chicago\"),\n",
        "    pl.col(\"reported_date\").str.to_date(\"%Y-%m-%d\"),\n",
        "    pl.col(\"validated_location\").str.split(\",\").cast(pl.List(pl.Float64)),\n",
        "    pl.col(\"incident\").str.to_lowercase(),\n",
        ")\n",
        "df = df.filter(pl.col(\"validated_location\").str == \"\").filter(\n",
        "    pl.col(\"incident\").str == \"Information\"\n",
        ")"
      ]
    },
    {
      "cell_type": "code",
      "execution_count": null,
      "id": "b897d37c17645dd0",
      "metadata": {
        "collapsed": false
      },
      "outputs": [],
      "source": []
    }
  ],
  "metadata": {
    "kernelspec": {
      "display_name": "Python 3",
      "language": "python",
      "name": "python3"
    },
    "language_info": {
      "codemirror_mode": {
        "name": "ipython",
        "version": 2
      },
      "file_extension": ".py",
      "mimetype": "text/x-python",
      "name": "python",
      "nbconvert_exporter": "python",
      "pygments_lexer": "ipython2",
      "version": "2.7.6"
    }
  },
  "nbformat": 4,
  "nbformat_minor": 5
}
