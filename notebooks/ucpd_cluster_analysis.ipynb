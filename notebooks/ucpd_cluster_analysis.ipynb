{
 "cells": [
  {
   "cell_type": "code",
   "execution_count": 123,
   "id": "initial_id",
   "metadata": {
    "collapsed": true,
    "ExecuteTime": {
     "end_time": "2024-03-01T06:45:52.782965Z",
     "start_time": "2024-03-01T06:45:52.752882Z"
    }
   },
   "outputs": [],
   "source": [
    "import geopandas as gp\n",
    "import matplotlib.pyplot as plt\n",
    "import polars as pl\n",
    "\n",
    "from util.general import list_to_parsed_set"
   ]
  },
  {
   "cell_type": "code",
   "execution_count": 124,
   "id": "f3d88e1c116f6e29",
   "metadata": {
    "collapsed": false,
    "ExecuteTime": {
     "end_time": "2024-03-01T06:45:52.812818Z",
     "start_time": "2024-03-01T06:45:52.769622Z"
    }
   },
   "outputs": [],
   "source": [
    "all_df = pl.read_csv(\n",
    "    \"./data/incident_dump.csv\",\n",
    ").with_columns(\n",
    "    pl.col(\"reported\")\n",
    "    .str.strptime(pl.Datetime, format=\"%Y-%m-%dT%H:%M:%S%z\")\n",
    "    .dt.convert_time_zone(\"America/Chicago\"),\n",
    "    pl.col(\"reported_date\").str.to_date(\"%Y-%m-%d\"),\n",
    "    pl.col(\"validated_location\").str.split(\",\").cast(pl.List(pl.Float64)),\n",
    "    pl.col(\"validated_location\")\n",
    "    .str.split(\",\")\n",
    "    .cast(pl.List(pl.Float64))\n",
    "    .apply(lambda v: v[1])\n",
    "    .alias(\"longitude\"),\n",
    "    pl.col(\"validated_location\")\n",
    "    .str.split(\",\")\n",
    "    .cast(pl.List(pl.Float64))\n",
    "    .apply(lambda v: v[0])\n",
    "    .alias(\"latitude\"),\n",
    ")\n",
    "all_df = all_df.filter(~pl.col(\"validated_address\").is_null()).filter(\n",
    "    pl.col(\"incident\") != \"Information\"\n",
    ")"
   ]
  },
  {
   "cell_type": "code",
   "execution_count": 125,
   "id": "9aaac11e147840e5",
   "metadata": {
    "collapsed": false,
    "ExecuteTime": {
     "end_time": "2024-03-01T06:45:52.819436Z",
     "start_time": "2024-03-01T06:45:52.818107Z"
    }
   },
   "outputs": [
    {
     "name": "stdout",
     "output_type": "stream",
     "text": [
      "386\n"
     ]
    }
   ],
   "source": [
    "type_set = list_to_parsed_set(all_df[\"incident\"].to_list())\n",
    "type_set.remove(\"Information\")\n",
    "print(len(type_set))"
   ]
  },
  {
   "cell_type": "code",
   "execution_count": 126,
   "id": "be9d7e09c68101ee",
   "metadata": {
    "collapsed": false,
    "ExecuteTime": {
     "end_time": "2024-03-01T06:45:52.827709Z",
     "start_time": "2024-03-01T06:45:52.819525Z"
    }
   },
   "outputs": [],
   "source": [
    "VIOLENCE = sorted(\n",
    "    [\n",
    "        \"Aggravated Assault of Police Officer\",\n",
    "        \"Aggravated Assault\",\n",
    "        \"Aggravated Battery of Police Officer\",\n",
    "        \"Aggravated Battery of a Police Officer\",\n",
    "        \"Aggravated Battery of a Protected Employee\",\n",
    "        \"Aggravated Battery to Police Officer\",\n",
    "        \"Aggravated Battery\",\n",
    "        \"Aggravated Discharge of a Firearm\",\n",
    "        \"Aggravated Robbery\",\n",
    "        \"Aggravated Vehicular Carjacking\",\n",
    "        \"Aggravated Vehicular Hijacking\",\n",
    "        \"Armed Robbery Arrest\",\n",
    "        \"Armed Robbery\",\n",
    "        \"Attempted Aggravated Robbery\",\n",
    "        \"Attempted Aggravated Vehicular Hijacking\",\n",
    "        \"Attempted Armed Robbery\",\n",
    "        \"Attempted Burglary\",\n",
    "        \"Attempted Home Invasion\",\n",
    "        \"Attempted Motor Vehicle Theft\",\n",
    "        \"Attempted Robbery\",\n",
    "        \"Attempted Strong Arm\",\n",
    "        \"Attempted Theft from Motor Vehicle\",\n",
    "        \"Attempted Theft from Person\",\n",
    "        \"Attempted Theft of Motor Vehicle\",\n",
    "        \"Attempted Theft\",\n",
    "        \"Attempted Vehicular Hijacking\",\n",
    "        \"Battery of Police Officer\",\n",
    "        \"Battery to Police Officer\",\n",
    "        \"Battery\",\n",
    "        \"Battery-Simple\",\n",
    "        \"Harassment\",\n",
    "        \"Hate Crime\",\n",
    "        \"Hit and Run\",\n",
    "        \"Home Invasion\",\n",
    "        \"Homicide\",\n",
    "        \"Murder\",\n",
    "        \"Purse Snatch\",\n",
    "        \"Robbery Arrest\",\n",
    "        \"Robbery\",\n",
    "        \"Robbery-Aggravated\",\n",
    "        \"Robbery-Strong Arm\",\n",
    "        \"Simple Assault Battery\",\n",
    "        \"Simple Assault\",\n",
    "        \"Simple Battery\",\n",
    "        \"Strong Arm\",\n",
    "        \"Strong Armed\",\n",
    "        \"Theft from Person\",\n",
    "        \"Vehicle Hijacking\",\n",
    "        \"Vehicular Carjacking\",\n",
    "        \"Vehicular Hijacking\",\n",
    "        \"Unlawful Discharge of Firearm\",\n",
    "        \"Unlawful Discharge of Weapon\",\n",
    "        \"Unlawful Discharge of a Firearm\",\n",
    "        \"Unlawful Discharge of a Weapon\",\n",
    "        \"Unlawful Use of Weapon\",\n",
    "        \"Unlawful Use of a Weapon Arrest\",\n",
    "        \"Unlawful Use of a Weapon\",\n",
    "        \"Reckless Discharge of Firearm\",\n",
    "        \"Reckless Discharge of a Firearm\",\n",
    "        \"Reckless Discharge of a Weapon\",\n",
    "        \"Carjacking\",\n",
    "        \"Shot Fired\",\n",
    "        \"Threat\",\n",
    "        \"Assault\",\n",
    "    ]\n",
    ")\n",
    "\n",
    "SEXUAL_ASSAULT_GENDER_BASED = sorted(\n",
    "    [\n",
    "        \"Aggravated Criminal Sexual Assault\",\n",
    "        \"Aggravated Domestic Assault\",\n",
    "        \"Aggravated Domestic Battery\",\n",
    "        \"Attempted Sexual Assault\",\n",
    "        \"Criminal Sexual Abuse\",\n",
    "        \"Criminal Sexual Assault\",\n",
    "        \"Dating Violence\",\n",
    "        \"Domestic Aggravated Assault\",\n",
    "        \"Domestic Aggravated Battery\",\n",
    "        \"Domestic Assault\",\n",
    "        \"Domestic Battery\",\n",
    "        \"Domestic Dispute\",\n",
    "        \"Domestic Disturbance\",\n",
    "        \"Domestic Issue\",\n",
    "        \"Domestic\",\n",
    "        \"Fondling\",\n",
    "        \"Indecent Exposure\",\n",
    "        \"Luring a Minor\",\n",
    "        \"Sex Crime\",\n",
    "        \"Sex Offender\",\n",
    "        \"Sex Offense\",\n",
    "        \"Sex Related\",\n",
    "        \"Sexual Abuse\",\n",
    "        \"Sexual Assault\",\n",
    "        \"Stalking\",\n",
    "        \"Violation of Order of Protection\",\n",
    "    ]\n",
    ")\n",
    "\n",
    "NARCOTICS = sorted(\n",
    "    [\n",
    "        \"Deliver Narcotic\",\n",
    "        \"Drug Law Violation\",\n",
    "        \"Found Drug Paraphernalia\",\n",
    "        \"Found Narcotic Paraphernalia\",\n",
    "        \"Found Narcotic\",\n",
    "        \"Found Suspect Marijuana\",\n",
    "        \"Found Suspect Narcotic\",\n",
    "        \"Narcotic Arrest\",\n",
    "        \"Narcotic Delivery\",\n",
    "        \"Narcotic\",\n",
    "        \"Possession of Cannabis\",\n",
    "        \"Possession of Controlled Substance\",\n",
    "        \"Possession of Crack Cocaine\",\n",
    "        \"Possession of Drug Paraphernalia\",\n",
    "        \"Possession of Marijuana\",\n",
    "        \"Possession of Narcotic with Intent to Deliver\",\n",
    "        \"Possession of Narcotic\",\n",
    "        \"Possession of a Controlled Substance\",\n",
    "        \"Suspect Narcotic Found\",\n",
    "        \"Suspect Narcotic\",\n",
    "    ]\n",
    ")\n",
    "\n",
    "OTHER = sorted(\n",
    "    [\n",
    "        \"Accident Report\",\n",
    "        \"Accidental Fire\",\n",
    "        \"Accidental Injury\",\n",
    "        \"Accidental Shooting\",\n",
    "        \"Accidental\",\n",
    "        \"Alarm\",\n",
    "        \"Ambulance Request\",\n",
    "        \"Animal Bite\",\n",
    "        \"Arrest on Warrant\",\n",
    "        \"Arrest\",\n",
    "        \"Arson by Fire\",\n",
    "        \"Arson\",\n",
    "        \"Assault and Harassment by Electronic Means\",\n",
    "        \"Assist Other Agency Motor Vehicle Theft and Recovery\",\n",
    "        \"Assist Other Agency\",\n",
    "        \"Attempted\",\n",
    "        \"Automobile\",\n",
    "        \"Bomb Threat\",\n",
    "        \"Burglary\",\n",
    "        \"Chemical Spill\",\n",
    "        \"Computer Fraud\",\n",
    "        \"Counterfeit Check\",\n",
    "        \"Counterfeit Document\",\n",
    "        \"Credit Card Fraud\",\n",
    "        \"Criminal Damage to Motor Vehicle\",\n",
    "        \"Criminal Damage to Property\",\n",
    "        \"Criminal Damage to Vehicle\",\n",
    "        \"Criminal Defacement\",\n",
    "        \"Criminal Trespass to Land\",\n",
    "        \"Criminal Trespass to Motor Vehicle\",\n",
    "        \"Criminal Trespass to Property\",\n",
    "        \"Criminal Trespass to Residence\",\n",
    "        \"Criminal Trespass to Vehicle\",\n",
    "        \"Criminal Trespass\",\n",
    "        \"Cutting Instrument\",\n",
    "        \"Cyber Scam\",\n",
    "        \"Cyberstalking\",\n",
    "        \"DUI Arrest\",\n",
    "        \"DUI\",\n",
    "        \"Damage to City Property\",\n",
    "        \"Damage to Personal Property\",\n",
    "        \"Damage to Property\",\n",
    "        \"Damage to UC Property\",\n",
    "        \"Damage to UC Vehicle\",\n",
    "        \"Damage to Vehicle\",\n",
    "        \"Damage\",\n",
    "        \"Damaged Property\",\n",
    "        \"Death Investigation\",\n",
    "        \"Deceptive Practice\",\n",
    "        \"Deceptive\",\n",
    "        \"Defacement\",\n",
    "        \"Delayed Burglary\",\n",
    "        \"Delayed Report\",\n",
    "        \"Delayed Robbery\",\n",
    "        \"Delayed\",\n",
    "        \"Disorderly Conduct\",\n",
    "        \"Disturbance\",\n",
    "        \"Dog Bite\",\n",
    "        \"Eavesdropping\",\n",
    "        \"Electronic Means\",\n",
    "        \"Elevator Entrapment\",\n",
    "        \"Expired License\",\n",
    "        \"Extortion\",\n",
    "        \"Failure to Register\",\n",
    "        \"False Fire Alarm\",\n",
    "        \"False Police Report\",\n",
    "        \"Financial Identity Theft\",\n",
    "        \"Fire Alarm\",\n",
    "        \"Fire\",\n",
    "        \"Fleeing or Attempting to Elude Police\",\n",
    "        \"Foreign Steal\",\n",
    "        \"Forged Prescription\",\n",
    "        \"Forgery\",\n",
    "        \"Found Key\",\n",
    "        \"Found Person\",\n",
    "        \"Found Property\",\n",
    "        \"Found Wallet\",\n",
    "        \"Found Weapon\",\n",
    "        \"Found\",\n",
    "        \"Fraud\",\n",
    "        \"Fraudulent Check\",\n",
    "        \"Harassing Email Message\",\n",
    "        \"Harassing Email\",\n",
    "        \"Harassing Message\",\n",
    "        \"Harassing Phone Call\",\n",
    "        \"Harassing Telephone Call\",\n",
    "        \"Harassment Via Electronic Means\",\n",
    "        \"Harassment by Electronic Means\",\n",
    "        \"Harassment by Telephone\",\n",
    "        \"Haz Mat Event\",\n",
    "        \"Haz Mat Incident\",\n",
    "        \"Haz Mat\",\n",
    "        \"Haz-Mat Incident\",\n",
    "        \"Hazardous Material Event\",\n",
    "        \"Hazardous Material Incident\",\n",
    "        \"Hit and Run Property Damage\",\n",
    "        \"Hit and Run Traffic Crash\",\n",
    "        \"Identity Theft\",\n",
    "        \"Ill Person\",\n",
    "        \"Illegal Consumption by Minor\",\n",
    "        \"Illness\",\n",
    "        \"Impersonation\",\n",
    "        \"Information Criminal Damage to Property\",\n",
    "        \"Information Harassment\",\n",
    "        \"Information Report\",\n",
    "        \"Injured Person\",\n",
    "        \"Interference with Police Officer\",\n",
    "        \"Interference with Public Officer\",\n",
    "        \"Interfering\",\n",
    "        \"Intimidation\",\n",
    "        \"Irregular Condition\",\n",
    "        \"Liquor Law Violation\",\n",
    "        \"Lost Phone\",\n",
    "        \"Lost Property\",\n",
    "        \"Lost Wallet\",\n",
    "        \"Lost\",\n",
    "        \"Medical Call\",\n",
    "        \"Medical Transport\",\n",
    "        \"Mental Health Call\",\n",
    "        \"Mental Health Transport\",\n",
    "        \"Mental Health\",\n",
    "        \"Mental Transport\",\n",
    "        \"Minor Injury\",\n",
    "        \"Minor Personal Injury\",\n",
    "        \"Miscellaneous Incident Report\",\n",
    "        \"Miscellaneous Incident\",\n",
    "        \"Miscellaneous\",\n",
    "        \"Mislaid Property\",\n",
    "        \"Missing Person Found\",\n",
    "        \"Missing Person\",\n",
    "        \"Missing Property\",\n",
    "        \"Motor Vehicle Accident\",\n",
    "        \"Motor Vehicle Recovery\",\n",
    "        \"Motor Vehicle Theft Recovery\",\n",
    "        \"Motor Vehicle Theft and Recovery\",\n",
    "        \"Motor Vehicle Theft\",\n",
    "        \"Noise Complaint\",\n",
    "        \"Non-Criminal Complaint\",\n",
    "        \"Non-Criminal Damage to Property\",\n",
    "        \"Non-Criminal Damage to Vehicle\",\n",
    "        \"Non-Criminal Damage\",\n",
    "        \"Non-Criminal Event\",\n",
    "        \"Non-Criminal Fire\",\n",
    "        \"Non-Criminal Incident\",\n",
    "        \"Non-Criminal Informational Report\",\n",
    "        \"Non-Criminal Missing Property\",\n",
    "        \"Non-Criminal Offense\",\n",
    "        \"Non-Criminal Other\",\n",
    "        \"Non-Criminal Property Damage\",\n",
    "        \"Non-Criminal Property\",\n",
    "        \"Non-Criminal Report\",\n",
    "        \"Non-Criminal\",\n",
    "        \"Non-Forcible\",\n",
    "        \"Notice of Order of Protection\",\n",
    "        \"Notification of Order of Protection\",\n",
    "        \"Obscene Phone Call\",\n",
    "        \"Obstruct Police Officer\",\n",
    "        \"Obstructing Peace Officer\",\n",
    "        \"Obstructing Police\",\n",
    "        \"Obstructing a Peace Officer\",\n",
    "        \"Order of Protection Arrest\",\n",
    "        \"Order of Protection Notification\",\n",
    "        \"Order of Protection\",\n",
    "        \"Other Crime Vs. Person\",\n",
    "        \"Other Crime against Person\",\n",
    "        \"Other Crime\",\n",
    "        \"Other Dangerous Weapon\",\n",
    "        \"Other Deadly Weapon\",\n",
    "        \"Other Non-Criminal Property\",\n",
    "        \"Other Offense\",\n",
    "        \"Other Vehicle Offense\",\n",
    "        \"Other Violation\",\n",
    "        \"Other\",\n",
    "        \"Outside Agency Warrant Arrest\",\n",
    "        \"Pedestrian\",\n",
    "        \"Person Down\",\n",
    "        \"Personal Injury\",\n",
    "        \"Personation of Peace Officer\",\n",
    "        \"Police Officer\",\n",
    "        \"Possession of Lost\",\n",
    "        \"Possession of Stolen Motor Vehicle\",\n",
    "        \"Possession of Stolen Property\",\n",
    "        \"Prohibited Zone\",\n",
    "        \"Property Damage Only\",\n",
    "        \"Property Damage\",\n",
    "        \"Property\",\n",
    "        \"Public Indecency\",\n",
    "        \"Public Peace Violation\",\n",
    "        \"Public Way\",\n",
    "        \"Reckless Conduct\",\n",
    "        \"Reckless Driving\",\n",
    "        \"Recovered Firearm\",\n",
    "        \"Recovered Motor Vehicle\",\n",
    "        \"Recovered Property\",\n",
    "        \"Recovered Stolen Motor Vehicle\",\n",
    "        \"Recovered Vehicle Plate\",\n",
    "        \"Recovered Vehicle\",\n",
    "        \"Recovery of Motor Vehicle\",\n",
    "        \"Recovery\",\n",
    "        \"Resisting Arrest\",\n",
    "        \"Resisting Police\",\n",
    "        \"Safety Hazard\",\n",
    "        \"Security Alarm\",\n",
    "        \"Senior Citizen\",\n",
    "        \"Sick Person\",\n",
    "        \"Simple\",\n",
    "        \"Smell of Gas\",\n",
    "        \"Smoke Alarm\",\n",
    "        \"Smoke\",\n",
    "        \"Stolen Motor Vehicle Recovery\",\n",
    "        \"Stolen Vehicle Recovery\",\n",
    "        \"Stuck Elevator\",\n",
    "        \"Suspicious Activity\",\n",
    "        \"Suspicious Letter\",\n",
    "        \"Suspicious Mail\",\n",
    "        \"Suspicious Package\",\n",
    "        \"Suspicious Person\",\n",
    "        \"Suspicious Phone Call\",\n",
    "        \"Suspicious Vehicle\",\n",
    "        \"Telephone Harassment\",\n",
    "        \"Telephone Scam\",\n",
    "        \"Telephone Threat\",\n",
    "        \"Theft and Recovery of Motor Vehicle\",\n",
    "        \"Theft by Deception\",\n",
    "        \"Theft from Motor Vehicle\",\n",
    "        \"Theft from Vehicle\",\n",
    "        \"Theft of Lost or Mislaid Property\",\n",
    "        \"Theft of Lost\",\n",
    "        \"Theft of Motor Vehicle\",\n",
    "        \"Theft of Motorcycle\",\n",
    "        \"Theft of Service\",\n",
    "        \"Theft\",\n",
    "        \"Threat by Electronic Means\",\n",
    "        \"Threatening Call\",\n",
    "        \"Threatening Phone Call\",\n",
    "        \"Traffic Accident\",\n",
    "        \"Traffic Arrest\",\n",
    "        \"Traffic Collision\",\n",
    "        \"Traffic Crash Arrest\",\n",
    "        \"Traffic Crash Hit and Run\",\n",
    "        \"Traffic Crash Property Damage\",\n",
    "        \"Traffic Crash Report\",\n",
    "        \"Traffic Crash\",\n",
    "        \"Traffic Offense\",\n",
    "        \"Traffic Violation Arrest\",\n",
    "        \"Traffic Violation and Warrant Arrest\",\n",
    "        \"Traffic Violation\",\n",
    "        \"Traffic and Warrant Arrest\",\n",
    "        \"Traffic\",\n",
    "        \"Trespass Warning\",\n",
    "        \"Trespass to Land\",\n",
    "        \"Trespass to Motor Vehicle\",\n",
    "        \"Trespass to Property\",\n",
    "        \"Trespass to Vehicle\",\n",
    "        \"Trespass\",\n",
    "        \"UCPD Arrest Warrant\",\n",
    "        \"Unauthorized Use of Computer\",\n",
    "        \"Unlawful Possession of Ammunition\",\n",
    "        \"Unlawful Possession of Firearm\",\n",
    "        \"Unlawful Possession of Weapon\",\n",
    "        \"Unlawful Possession of a Firearm\",\n",
    "        \"Unlawful Possession of a Handgun\",\n",
    "        \"Unlawful Possession of a Weapon\",\n",
    "        \"Unlawful Restraint\",\n",
    "        \"Vandalism\",\n",
    "        \"Vehicle Crash\",\n",
    "        \"Vehicle Fire\",\n",
    "        \"Vehicle Recovery\",\n",
    "        \"Warrant Arrest\",\n",
    "        \"Warrant\",\n",
    "        \"Weapon Arrest\",\n",
    "        \"Weapon Recovery\",\n",
    "        \"Weapon Turn-In\",\n",
    "        \"Weapon Violation\",\n",
    "        \"Well-Being Check\",\n",
    "        \"Well-Being\",\n",
    "    ]\n",
    ")"
   ]
  },
  {
   "cell_type": "code",
   "execution_count": 127,
   "id": "e6fcfd177160d7ce",
   "metadata": {
    "collapsed": false,
    "ExecuteTime": {
     "end_time": "2024-03-01T06:45:52.833359Z",
     "start_time": "2024-03-01T06:45:52.829117Z"
    }
   },
   "outputs": [],
   "source": [
    "categorized_total = []\n",
    "categorized_total.extend(VIOLENCE)\n",
    "categorized_total.extend(SEXUAL_ASSAULT_GENDER_BASED)\n",
    "categorized_total.extend(NARCOTICS)\n",
    "categorized_total.extend(OTHER)"
   ]
  },
  {
   "cell_type": "code",
   "execution_count": 128,
   "id": "c3081081bf7fdd8",
   "metadata": {
    "collapsed": false,
    "ExecuteTime": {
     "end_time": "2024-03-01T06:45:52.833524Z",
     "start_time": "2024-03-01T06:45:52.831058Z"
    }
   },
   "outputs": [
    {
     "name": "stdout",
     "output_type": "stream",
     "text": [
      "set()\n"
     ]
    }
   ],
   "source": [
    "# To make sure that all values are categorized\n",
    "print(type_set.difference(set(categorized_total)))"
   ]
  },
  {
   "cell_type": "code",
   "execution_count": 129,
   "id": "445caba5f8936c4e",
   "metadata": {
    "collapsed": false,
    "ExecuteTime": {
     "end_time": "2024-03-01T06:45:52.847905Z",
     "start_time": "2024-03-01T06:45:52.833200Z"
    }
   },
   "outputs": [],
   "source": [
    "def contains_violence(incident: str) -> bool:\n",
    "    incident = incident.split(\" / \")\n",
    "    for i in incident:\n",
    "        if i in VIOLENCE:\n",
    "            return True\n",
    "    return False\n",
    "\n",
    "\n",
    "def contains_sa_gb(incident: str) -> bool:\n",
    "    incident = incident.split(\" / \")\n",
    "    for i in incident:\n",
    "        if i in SEXUAL_ASSAULT_GENDER_BASED:\n",
    "            return True\n",
    "    return False\n",
    "\n",
    "\n",
    "def contains_narcotics(incident: str) -> bool:\n",
    "    incident = incident.split(\" / \")\n",
    "    for i in incident:\n",
    "        if i in NARCOTICS:\n",
    "            return True\n",
    "    return False"
   ]
  },
  {
   "cell_type": "code",
   "execution_count": 130,
   "id": "5f90e9c83af2ccbc",
   "metadata": {
    "collapsed": false,
    "ExecuteTime": {
     "end_time": "2024-03-01T06:45:52.853588Z",
     "start_time": "2024-03-01T06:45:52.845416Z"
    }
   },
   "outputs": [
    {
     "data": {
      "text/plain": "shape: (5, 14)\n┌───────────┬───────────┬───────────┬───────────┬───┬───────────┬───────────┬───────────┬──────────┐\n│ comments  ┆ dispositi ┆ incident  ┆ location  ┆ … ┆ validated ┆ validated ┆ longitude ┆ latitude │\n│ ---       ┆ on        ┆ ---       ┆ ---       ┆   ┆ _address  ┆ _location ┆ ---       ┆ ---      │\n│ str       ┆ ---       ┆ str       ┆ str       ┆   ┆ ---       ┆ ---       ┆ f64       ┆ f64      │\n│           ┆ str       ┆           ┆           ┆   ┆ str       ┆ list[f64] ┆           ┆          │\n╞═══════════╪═══════════╪═══════════╪═══════════╪═══╪═══════════╪═══════════╪═══════════╪══════════╡\n│ Two       ┆ CPD       ┆ Informati ┆ 1526 E.   ┆ … ┆ 1526 E    ┆ [41.79961 ┆ -87.58834 ┆ 41.79961 │\n│ unknown   ┆           ┆ on / Aggr ┆ 53rd St.  ┆   ┆ 53RD ST,  ┆ 1, -87.58 ┆ 3         ┆ 1        │\n│ suspects  ┆           ┆ avated    ┆ (Public   ┆   ┆ CHICAGO,  ┆ 8343]     ┆           ┆          │\n│ in a      ┆           ┆ Robbery   ┆ Way)      ┆   ┆ IL, 606…  ┆           ┆           ┆          │\n│ white …   ┆           ┆           ┆           ┆   ┆           ┆           ┆           ┆          │\n│ An        ┆ ISP       ┆ Informati ┆ 5656 S.   ┆ … ┆ 5656 S    ┆ [41.79213 ┆ -87.60503 ┆ 41.79213 │\n│ illegal   ┆           ┆ on /      ┆ Maryland  ┆   ┆ MARYLAND  ┆ 4, -87.60 ┆ 3         ┆ 4        │\n│ handgun   ┆           ┆ Unlawful  ┆ Ave.      ┆   ┆ AVE,      ┆ 5033]     ┆           ┆          │\n│ was found ┆           ┆ Use of    ┆ (UCMED)   ┆   ┆ CHICAGO,  ┆           ┆           ┆          │\n│ in …      ┆           ┆ We…       ┆           ┆   ┆ IL…       ┆           ┆           ┆          │\n│ Victim    ┆ Referred  ┆ Informati ┆ 5021 S.   ┆ … ┆ 5021 S    ┆ [41.80351 ┆ -87.59179 ┆ 41.80351 │\n│ walking   ┆           ┆ on /      ┆ Dorcheste ┆   ┆ DORCHESTE ┆ 9, -87.59 ┆ 4         ┆ 9        │\n│ on the    ┆           ┆ Robbery   ┆ r Ave.    ┆   ┆ R AVE,    ┆ 1794]     ┆           ┆          │\n│ sidewalk  ┆           ┆           ┆ (Public … ┆   ┆ CHICAGO,  ┆           ┆           ┆          │\n│ o…        ┆           ┆           ┆           ┆   ┆ …         ┆           ┆           ┆          │\n│ Unknown   ┆ Open      ┆ Traffic   ┆ 6054 S.   ┆ … ┆ 6054 S    ┆ [41.78512 ┆ -87.60448 ┆ 41.78512 │\n│ motorist  ┆           ┆ Crash /   ┆ Drexel    ┆   ┆ DREXEL    ┆ 6, -87.60 ┆ 9         ┆ 6        │\n│ struck a  ┆           ┆ Hit and   ┆ Ave.      ┆   ┆ AVE,      ┆ 4489]     ┆           ┆          │\n│ parked…   ┆           ┆ Run / Pr… ┆ (Parking  ┆   ┆ CHICAGO,  ┆           ┆           ┆          │\n│           ┆           ┆           ┆ Str…      ┆   ┆ IL, …     ┆           ┆           ┆          │\n│ Three     ┆ CPD       ┆ Informati ┆ 5601 S.   ┆ … ┆ 5601 S    ┆ [41.79325 ┆ -87.59318 ┆ 41.79325 │\n│ unknown   ┆           ┆ on /      ┆ Kenwood   ┆   ┆ KENWOOD   ┆ 4, -87.59 ┆ 1         ┆ 4        │\n│ suspects, ┆           ┆ Armed     ┆ Ave.      ┆   ┆ AVE,      ┆ 3181]     ┆           ┆          │\n│ armed wi… ┆           ┆ Robbery   ┆ (Public   ┆   ┆ CHICAGO,  ┆           ┆           ┆          │\n│           ┆           ┆           ┆ Way…      ┆   ┆ IL,…      ┆           ┆           ┆          │\n└───────────┴───────────┴───────────┴───────────┴───┴───────────┴───────────┴───────────┴──────────┘",
      "text/html": "<div><style>\n.dataframe > thead > tr > th,\n.dataframe > tbody > tr > td {\n  text-align: right;\n}\n</style>\n<small>shape: (5, 14)</small><table border=\"1\" class=\"dataframe\"><thead><tr><th>comments</th><th>disposition</th><th>incident</th><th>location</th><th>occurred</th><th>predicted_incident</th><th>reported</th><th>reported_date</th><th>season</th><th>ucpd_id</th><th>validated_address</th><th>validated_location</th><th>longitude</th><th>latitude</th></tr><tr><td>str</td><td>str</td><td>str</td><td>str</td><td>str</td><td>str</td><td>datetime[μs, America/Chicago]</td><td>date</td><td>str</td><td>str</td><td>str</td><td>list[f64]</td><td>f64</td><td>f64</td></tr></thead><tbody><tr><td>&quot;Two unknown su…</td><td>&quot;CPD&quot;</td><td>&quot;Information / …</td><td>&quot;1526 E. 53rd S…</td><td>&quot;2/26/24 10:30 …</td><td>null</td><td>2024-02-26 22:40:00 CST</td><td>2024-02-26</td><td>&quot;Winter&quot;</td><td>&quot;2024-007690&quot;</td><td>&quot;1526 E 53RD ST…</td><td>[41.799611, -87.588343]</td><td>-87.588343</td><td>41.799611</td></tr><tr><td>&quot;An illegal han…</td><td>&quot;ISP&quot;</td><td>&quot;Information / …</td><td>&quot;5656 S. Maryla…</td><td>&quot;2/24/24 6:15 A…</td><td>null</td><td>2024-02-24 06:15:00 CST</td><td>2024-02-24</td><td>&quot;Winter&quot;</td><td>&quot;24-00184&quot;</td><td>&quot;5656 S MARYLAN…</td><td>[41.792134, -87.605033]</td><td>-87.605033</td><td>41.792134</td></tr><tr><td>&quot;Victim walking…</td><td>&quot;Referred&quot;</td><td>&quot;Information / …</td><td>&quot;5021 S. Dorche…</td><td>&quot;2/23/24 2:09 P…</td><td>null</td><td>2024-02-23 14:12:00 CST</td><td>2024-02-23</td><td>&quot;Winter&quot;</td><td>&quot;2024-007152&quot;</td><td>&quot;5021 S DORCHES…</td><td>[41.803519, -87.591794]</td><td>-87.591794</td><td>41.803519</td></tr><tr><td>&quot;Unknown motori…</td><td>&quot;Open&quot;</td><td>&quot;Traffic Crash …</td><td>&quot;6054 S. Drexel…</td><td>&quot;2/22/24 5:45 A…</td><td>null</td><td>2024-02-22 14:49:00 CST</td><td>2024-02-22</td><td>&quot;Winter&quot;</td><td>&quot;24-00179&quot;</td><td>&quot;6054 S DREXEL …</td><td>[41.785126, -87.604489]</td><td>-87.604489</td><td>41.785126</td></tr><tr><td>&quot;Three unknown …</td><td>&quot;CPD&quot;</td><td>&quot;Information / …</td><td>&quot;5601 S. Kenwoo…</td><td>&quot;2/19/24 10:55 …</td><td>null</td><td>2024-02-19 23:02:00 CST</td><td>2024-02-19</td><td>&quot;Winter&quot;</td><td>&quot;2024-006689&quot;</td><td>&quot;5601 S KENWOOD…</td><td>[41.793254, -87.593181]</td><td>-87.593181</td><td>41.793254</td></tr></tbody></table></div>"
     },
     "execution_count": 130,
     "metadata": {},
     "output_type": "execute_result"
    }
   ],
   "source": [
    "all_df.filter(pl.col(\"incident\").apply(contains_violence)).head()"
   ]
  },
  {
   "cell_type": "code",
   "execution_count": 131,
   "id": "a92ba416bd74b12b",
   "metadata": {
    "collapsed": false,
    "ExecuteTime": {
     "end_time": "2024-03-01T06:45:52.920607Z",
     "start_time": "2024-03-01T06:45:52.850695Z"
    }
   },
   "outputs": [],
   "source": [
    "violence = {\n",
    "    \"All\": all_df.filter(pl.col(\"incident\").apply(contains_violence)),\n",
    "    \"Winter\": all_df.filter(pl.col(\"season\") == \"Winter\").filter(\n",
    "        pl.col(\"incident\").apply(contains_violence)\n",
    "    ),\n",
    "    \"Fall\": all_df.filter(pl.col(\"season\") == \"Fall\").filter(\n",
    "        pl.col(\"incident\").apply(contains_violence)\n",
    "    ),\n",
    "    \"Spring\": all_df.filter(pl.col(\"season\") == \"Spring\").filter(\n",
    "        pl.col(\"incident\").apply(contains_violence)\n",
    "    ),\n",
    "    \"Summer\": all_df.filter(pl.col(\"season\") == \"Summer\").filter(\n",
    "        pl.col(\"incident\").apply(contains_violence)\n",
    "    ),\n",
    "}\n",
    "\n",
    "sa_gb = {\n",
    "    \"All\": all_df.filter(pl.col(\"incident\").apply(contains_sa_gb)),\n",
    "    \"Winter\": all_df.filter(pl.col(\"season\") == \"Winter\").filter(\n",
    "        pl.col(\"incident\").apply(contains_sa_gb)\n",
    "    ),\n",
    "    \"Fall\": all_df.filter(pl.col(\"season\") == \"Fall\").filter(\n",
    "        pl.col(\"incident\").apply(contains_sa_gb)\n",
    "    ),\n",
    "    \"Spring\": all_df.filter(pl.col(\"season\") == \"Spring\").filter(\n",
    "        pl.col(\"incident\").apply(contains_sa_gb)\n",
    "    ),\n",
    "    \"Summer\": all_df.filter(pl.col(\"season\") == \"Summer\").filter(\n",
    "        pl.col(\"incident\").apply(contains_sa_gb)\n",
    "    ),\n",
    "}\n",
    "\n",
    "narcotics = {\n",
    "    \"All\": all_df.filter(pl.col(\"incident\").apply(contains_narcotics)),\n",
    "    \"Winter\": all_df.filter(pl.col(\"season\") == \"Winter\").filter(\n",
    "        pl.col(\"incident\").apply(contains_narcotics)\n",
    "    ),\n",
    "    \"Fall\": all_df.filter(pl.col(\"season\") == \"Fall\").filter(\n",
    "        pl.col(\"incident\").apply(contains_narcotics)\n",
    "    ),\n",
    "    \"Spring\": all_df.filter(pl.col(\"season\") == \"Spring\").filter(\n",
    "        pl.col(\"incident\").apply(contains_narcotics)\n",
    "    ),\n",
    "    \"Summer\": all_df.filter(pl.col(\"season\") == \"Summer\").filter(\n",
    "        pl.col(\"incident\").apply(contains_narcotics)\n",
    "    ),\n",
    "}"
   ]
  },
  {
   "cell_type": "code",
   "execution_count": 132,
   "outputs": [],
   "source": [
    "def polars_dicts_to_geopandas(pl_dict: {str: pl.DataFrame}) -> {str: gp.GeoDataFrame}:\n",
    "    gp_dict: {str: gp.GeoDataFrame} = {}\n",
    "    for key in pl_dict.keys():\n",
    "        gp_df = pl_dict[key].to_pandas()\n",
    "        gp_df = gp.GeoDataFrame(\n",
    "            gp_df,\n",
    "            geometry=gp.points_from_xy(gp_df[\"longitude\"], gp_df[\"latitude\"]),\n",
    "            crs=\"EPSG:4326\",\n",
    "        )\n",
    "        gp_dict[key] = gp_df\n",
    "\n",
    "    return gp_dict"
   ],
   "metadata": {
    "collapsed": false,
    "ExecuteTime": {
     "end_time": "2024-03-01T06:45:52.920738Z",
     "start_time": "2024-03-01T06:45:52.905897Z"
    }
   },
   "id": "91632ad6fe700424"
  },
  {
   "cell_type": "code",
   "execution_count": 133,
   "outputs": [],
   "source": [
    "violence = polars_dicts_to_geopandas(violence)\n",
    "sa_gb = polars_dicts_to_geopandas(sa_gb)\n",
    "narcotics = polars_dicts_to_geopandas(narcotics)"
   ],
   "metadata": {
    "collapsed": false,
    "ExecuteTime": {
     "end_time": "2024-03-01T06:45:53.007648Z",
     "start_time": "2024-03-01T06:45:52.908392Z"
    }
   },
   "id": "b2bf86bf0307ace2"
  },
  {
   "cell_type": "code",
   "execution_count": 134,
   "outputs": [
    {
     "data": {
      "text/plain": "                                            comments disposition  \\\n0  Two unknown suspects in a white Chrysler, one ...         CPD   \n1  An illegal handgun was found in the possession...         ISP   \n2  Victim walking on the sidewalk off-campus was ...    Referred   \n3  Unknown motorist struck a parked vehicle and l...        Open   \n4  Three unknown suspects, armed with handguns, t...         CPD   \n\n                                        incident  \\\n0               Information / Aggravated Robbery   \n1           Information / Unlawful Use of Weapon   \n2                          Information / Robbery   \n3  Traffic Crash / Hit and Run / Property Damage   \n4                    Information / Armed Robbery   \n\n                                  location                    occurred  \\\n0            1526 E. 53rd St. (Public Way)            2/26/24 10:30 PM   \n1            5656 S. Maryland Ave. (UCMED)             2/24/24 6:15 AM   \n2     5021 S. Dorchester Ave. (Public Way)             2/23/24 2:09 PM   \n3  6054 S. Drexel Ave. (Parking Structure)  2/22/24 5:45 AM to 2:35 PM   \n4        5601 S. Kenwood Ave. (Public Way)            2/19/24 10:55 PM   \n\n  predicted_incident                  reported reported_date  season  \\\n0               None 2024-02-26 22:40:00-06:00    2024-02-26  Winter   \n1               None 2024-02-24 06:15:00-06:00    2024-02-24  Winter   \n2               None 2024-02-23 14:12:00-06:00    2024-02-23  Winter   \n3               None 2024-02-22 14:49:00-06:00    2024-02-22  Winter   \n4               None 2024-02-19 23:02:00-06:00    2024-02-19  Winter   \n\n       ucpd_id                          validated_address  \\\n0  2024-007690         1526 E 53RD ST, CHICAGO, IL, 60615   \n1     24-00184    5656 S MARYLAND AVE, CHICAGO, IL, 60637   \n2  2024-007152  5021 S DORCHESTER AVE, CHICAGO, IL, 60615   \n3     24-00179      6054 S DREXEL AVE, CHICAGO, IL, 60637   \n4  2024-006689     5601 S KENWOOD AVE, CHICAGO, IL, 60637   \n\n                         validated_location  longitude   latitude  \\\n0  [41.799610597348355, -87.58834293219098] -87.588343  41.799611   \n1    [41.7921342041932, -87.60503296834291] -87.605033  41.792134   \n2   [41.80351924336873, -87.59179413712639] -87.591794  41.803519   \n3    [41.78512631784355, -87.6044892284141] -87.604489  41.785126   \n4   [41.79325375995883, -87.59318123528884] -87.593181  41.793254   \n\n                     geometry  \n0  POINT (-87.58834 41.79961)  \n1  POINT (-87.60503 41.79213)  \n2  POINT (-87.59179 41.80352)  \n3  POINT (-87.60449 41.78513)  \n4  POINT (-87.59318 41.79325)  ",
      "text/html": "<div>\n<style scoped>\n    .dataframe tbody tr th:only-of-type {\n        vertical-align: middle;\n    }\n\n    .dataframe tbody tr th {\n        vertical-align: top;\n    }\n\n    .dataframe thead th {\n        text-align: right;\n    }\n</style>\n<table border=\"1\" class=\"dataframe\">\n  <thead>\n    <tr style=\"text-align: right;\">\n      <th></th>\n      <th>comments</th>\n      <th>disposition</th>\n      <th>incident</th>\n      <th>location</th>\n      <th>occurred</th>\n      <th>predicted_incident</th>\n      <th>reported</th>\n      <th>reported_date</th>\n      <th>season</th>\n      <th>ucpd_id</th>\n      <th>validated_address</th>\n      <th>validated_location</th>\n      <th>longitude</th>\n      <th>latitude</th>\n      <th>geometry</th>\n    </tr>\n  </thead>\n  <tbody>\n    <tr>\n      <th>0</th>\n      <td>Two unknown suspects in a white Chrysler, one ...</td>\n      <td>CPD</td>\n      <td>Information / Aggravated Robbery</td>\n      <td>1526 E. 53rd St. (Public Way)</td>\n      <td>2/26/24 10:30 PM</td>\n      <td>None</td>\n      <td>2024-02-26 22:40:00-06:00</td>\n      <td>2024-02-26</td>\n      <td>Winter</td>\n      <td>2024-007690</td>\n      <td>1526 E 53RD ST, CHICAGO, IL, 60615</td>\n      <td>[41.799610597348355, -87.58834293219098]</td>\n      <td>-87.588343</td>\n      <td>41.799611</td>\n      <td>POINT (-87.58834 41.79961)</td>\n    </tr>\n    <tr>\n      <th>1</th>\n      <td>An illegal handgun was found in the possession...</td>\n      <td>ISP</td>\n      <td>Information / Unlawful Use of Weapon</td>\n      <td>5656 S. Maryland Ave. (UCMED)</td>\n      <td>2/24/24 6:15 AM</td>\n      <td>None</td>\n      <td>2024-02-24 06:15:00-06:00</td>\n      <td>2024-02-24</td>\n      <td>Winter</td>\n      <td>24-00184</td>\n      <td>5656 S MARYLAND AVE, CHICAGO, IL, 60637</td>\n      <td>[41.7921342041932, -87.60503296834291]</td>\n      <td>-87.605033</td>\n      <td>41.792134</td>\n      <td>POINT (-87.60503 41.79213)</td>\n    </tr>\n    <tr>\n      <th>2</th>\n      <td>Victim walking on the sidewalk off-campus was ...</td>\n      <td>Referred</td>\n      <td>Information / Robbery</td>\n      <td>5021 S. Dorchester Ave. (Public Way)</td>\n      <td>2/23/24 2:09 PM</td>\n      <td>None</td>\n      <td>2024-02-23 14:12:00-06:00</td>\n      <td>2024-02-23</td>\n      <td>Winter</td>\n      <td>2024-007152</td>\n      <td>5021 S DORCHESTER AVE, CHICAGO, IL, 60615</td>\n      <td>[41.80351924336873, -87.59179413712639]</td>\n      <td>-87.591794</td>\n      <td>41.803519</td>\n      <td>POINT (-87.59179 41.80352)</td>\n    </tr>\n    <tr>\n      <th>3</th>\n      <td>Unknown motorist struck a parked vehicle and l...</td>\n      <td>Open</td>\n      <td>Traffic Crash / Hit and Run / Property Damage</td>\n      <td>6054 S. Drexel Ave. (Parking Structure)</td>\n      <td>2/22/24 5:45 AM to 2:35 PM</td>\n      <td>None</td>\n      <td>2024-02-22 14:49:00-06:00</td>\n      <td>2024-02-22</td>\n      <td>Winter</td>\n      <td>24-00179</td>\n      <td>6054 S DREXEL AVE, CHICAGO, IL, 60637</td>\n      <td>[41.78512631784355, -87.6044892284141]</td>\n      <td>-87.604489</td>\n      <td>41.785126</td>\n      <td>POINT (-87.60449 41.78513)</td>\n    </tr>\n    <tr>\n      <th>4</th>\n      <td>Three unknown suspects, armed with handguns, t...</td>\n      <td>CPD</td>\n      <td>Information / Armed Robbery</td>\n      <td>5601 S. Kenwood Ave. (Public Way)</td>\n      <td>2/19/24 10:55 PM</td>\n      <td>None</td>\n      <td>2024-02-19 23:02:00-06:00</td>\n      <td>2024-02-19</td>\n      <td>Winter</td>\n      <td>2024-006689</td>\n      <td>5601 S KENWOOD AVE, CHICAGO, IL, 60637</td>\n      <td>[41.79325375995883, -87.59318123528884]</td>\n      <td>-87.593181</td>\n      <td>41.793254</td>\n      <td>POINT (-87.59318 41.79325)</td>\n    </tr>\n  </tbody>\n</table>\n</div>"
     },
     "execution_count": 134,
     "metadata": {},
     "output_type": "execute_result"
    }
   ],
   "source": [
    "violence[\"All\"].head()"
   ],
   "metadata": {
    "collapsed": false,
    "ExecuteTime": {
     "end_time": "2024-03-01T06:45:53.017557Z",
     "start_time": "2024-03-01T06:45:53.011076Z"
    }
   },
   "id": "d823f2c8437bc58f"
  },
  {
   "cell_type": "code",
   "execution_count": 135,
   "outputs": [
    {
     "data": {
      "text/plain": "<Axes: >"
     },
     "execution_count": 135,
     "metadata": {},
     "output_type": "execute_result"
    },
    {
     "data": {
      "text/plain": "<Figure size 640x480 with 1 Axes>",
      "image/png": "[encoded data removed]"
     },
     "metadata": {},
     "output_type": "display_data"
    }
   ],
   "source": [
    "chi_comm = gp.read_file(\"data/chicago_comm_utm/chicago_comm_utm.shp\")[\n",
    "    [\"NID\", \"geometry\"]\n",
    "]\n",
    "chi_comm.to_crs(epsg=4326).plot()"
   ],
   "metadata": {
    "collapsed": false,
    "ExecuteTime": {
     "end_time": "2024-03-01T06:45:53.150553Z",
     "start_time": "2024-03-01T06:45:53.013290Z"
    }
   },
   "id": "af0f1c46b6a2959c"
  },
  {
   "cell_type": "code",
   "execution_count": 138,
   "outputs": [
    {
     "data": {
      "text/plain": "<Axes: >"
     },
     "execution_count": 138,
     "metadata": {},
     "output_type": "execute_result"
    },
    {
     "data": {
      "text/plain": "<Figure size 1000x1000 with 1 Axes>",
      "image/png": "[encoded data removed]"
     },
     "metadata": {},
     "output_type": "display_data"
    }
   ],
   "source": [
    "fig, ax = plt.subplots(figsize=(10, 10))\n",
    "chi_comm.to_crs(epsg=4326).plot(ax=ax, color=\"lightgrey\")\n",
    "violence[\"All\"].plot(ax=ax)"
   ],
   "metadata": {
    "collapsed": false,
    "ExecuteTime": {
     "end_time": "2024-03-01T06:46:08.409974Z",
     "start_time": "2024-03-01T06:46:08.258169Z"
    }
   },
   "id": "5cf602ffd5bac17a"
  },
  {
   "cell_type": "code",
   "execution_count": 137,
   "outputs": [
    {
     "data": {
      "text/plain": "<Axes: >"
     },
     "execution_count": 137,
     "metadata": {},
     "output_type": "execute_result"
    },
    {
     "data": {
      "text/plain": "<Figure size 640x480 with 1 Axes>",
      "image/png": "[encoded data removed]"
     },
     "metadata": {},
     "output_type": "display_data"
    }
   ],
   "source": [
    "violence[\"All\"].plot()"
   ],
   "metadata": {
    "collapsed": false,
    "ExecuteTime": {
     "end_time": "2024-03-01T06:45:53.317141Z",
     "start_time": "2024-03-01T06:45:53.227276Z"
    }
   },
   "id": "77bb2a4ff182373c"
  },
  {
   "cell_type": "code",
   "execution_count": 137,
   "outputs": [],
   "source": [],
   "metadata": {
    "collapsed": false,
    "ExecuteTime": {
     "end_time": "2024-03-01T06:45:53.317285Z",
     "start_time": "2024-03-01T06:45:53.308876Z"
    }
   },
   "id": "8f8c27711fafc0d5"
  }
 ],
 "metadata": {
  "kernelspec": {
   "display_name": "Python 3",
   "language": "python",
   "name": "python3"
  },
  "language_info": {
   "codemirror_mode": {
    "name": "ipython",
    "version": 2
   },
   "file_extension": ".py",
   "mimetype": "text/x-python",
   "name": "python",
   "nbconvert_exporter": "python",
   "pygments_lexer": "ipython2",
   "version": "2.7.6"
  }
 },
 "nbformat": 4,
 "nbformat_minor": 5
}
