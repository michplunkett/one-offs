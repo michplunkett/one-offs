{
  "cells": [
    {
      "cell_type": "code",
      "execution_count": 5,
      "id": "initial_id",
      "metadata": {
        "ExecuteTime": {
          "end_time": "2024-02-27T23:40:08.581453Z",
          "start_time": "2024-02-27T23:40:08.578034Z"
        },
        "collapsed": true
      },
      "outputs": [],
      "source": [
        "import polars as pl\n",
        "\n",
        "from util.general import list_to_parsed_set"
      ]
    },
    {
      "cell_type": "code",
      "execution_count": 6,
      "id": "f3d88e1c116f6e29",
      "metadata": {
        "ExecuteTime": {
          "end_time": "2024-02-27T23:40:08.603462Z",
          "start_time": "2024-02-27T23:40:08.585675Z"
        },
        "collapsed": false
      },
      "outputs": [],
      "source": [
        "all_df = pl.read_csv(\n",
        "    \"./data/incident_dump.csv\",\n",
        ").with_columns(\n",
        "    pl.col(\"reported\")\n",
        "    .str.strptime(pl.Datetime, format=\"%Y-%m-%dT%H:%M:%S%z\")\n",
        "    .dt.convert_time_zone(\"America/Chicago\"),\n",
        "    pl.col(\"reported_date\").str.to_date(\"%Y-%m-%d\"),\n",
        "    pl.col(\"validated_location\").str.split(\",\").cast(pl.List(pl.Float64)),\n",
        ")\n",
        "all_df = all_df.filter(~pl.col(\"validated_address\").is_null()).filter(\n",
        "    pl.col(\"incident\") != \"Information\"\n",
        ")"
      ]
    },
    {
      "cell_type": "code",
      "execution_count": 7,
      "id": "9aaac11e147840e5",
      "metadata": {
        "ExecuteTime": {
          "end_time": "2024-02-27T23:40:08.612687Z",
          "start_time": "2024-02-27T23:40:08.610703Z"
        },
        "collapsed": false
      },
      "outputs": [
        {
          "name": "stdout",
          "output_type": "stream",
          "text": [
            "{'Possession of Crack Cocaine', 'Non-Criminal Informational Report', 'Animal Bite', 'Vehicular Hijacking', 'Recovered Property', 'Telephone Scam', 'Mental Transport', 'Other Deadly Weapon', 'Security Alarm', 'Criminal Damage to Vehicle', 'Recovered Stolen Motor Vehicle', 'Domestic Disturbance', 'Miscellaneous Incident Report', 'Lost Phone', 'Aggravated Robbery', 'Suspicious Mail', 'Order of Protection', 'Simple Battery', 'Theft from Vehicle', 'Non-Criminal Incident', 'Well-Being', 'Injured Person', 'Aggravated Vehicular Hijacking', 'Aggravated Domestic Battery', 'Found Person', 'Intimidation', 'Damage', 'Dating Violence', 'Recovered Vehicle Plate', 'Forgery', 'Traffic Crash', 'Threatening Phone Call', 'Criminal Trespass', 'Traffic Crash Property Damage', 'Suspicious Person', 'Found Suspect Marijuana', 'Motor Vehicle Theft Recovery', 'Non-Criminal', 'Stalking', 'Reckless Discharge of a Firearm', 'Trespass to Property', 'Attempted Theft of Motor Vehicle', 'Battery of Police Officer', 'Attempted Theft from Person', 'Hazardous Material Event', 'Information Criminal Damage to Property', 'Attempted Strong Arm', 'Suspicious Phone Call', 'Electronic Means', 'Identity Theft', 'Well-Being Check', 'False Fire Alarm', 'Aggravated Battery of Police Officer', 'Defacement', 'Notice of Order of Protection', 'Criminal Sexual Abuse', 'Fleeing or Attempting to Elude Police', 'Harassment', 'Deceptive Practice', 'Public Peace Violation', 'Traffic Accident', 'Harassing Telephone Call', 'Battery to Police Officer', 'Unlawful Possession of a Firearm', 'Vandalism', 'Cyberstalking', 'Domestic Assault', 'Accidental Shooting', 'Delayed Report', 'Aggravated Discharge of a Firearm', 'Illness', 'Weapon Turn-In', 'Sick Person', 'Unlawful Restraint', 'Armed Robbery Arrest', 'Found Narcotic Paraphernalia', 'Assault', 'Alarm', 'Elevator Entrapment', 'Unlawful Use of a Weapon Arrest', 'Sex Offender', 'Shot Fired', 'Unlawful Use of Weapon', 'Stolen Motor Vehicle Recovery', 'Domestic Battery', 'Minor Personal Injury', 'Counterfeit Check', 'Battery', 'Information', 'Non-Forcible', 'Strong Arm', 'Found Property', 'Ill Person', 'Found Weapon', 'Other Vehicle Offense', 'Stolen Vehicle Recovery', 'Traffic Violation', 'Criminal Trespass to Residence', 'Order of Protection Notification', 'Medical Transport', 'Interference with Public Officer', 'Aggravated Battery to Police Officer', 'Domestic Issue', 'Damage to UC Vehicle', 'Recovery of Motor Vehicle', 'Non-Criminal Offense', 'Cyber Stalking', 'Motor Vehicle Recovery', 'Traffic Violation Arrest', 'Harassment by Electronic Means', 'Domestic Aggravated Assault', 'Narcotic', 'Mislaid Property', 'Traffic Arrest', 'Smoke Alarm', 'Sex Offense', 'Aggravated Battery', 'Criminal Trespass to Property', 'Smell of Gas', 'Aggravated Battery of a Police Officer', 'Suspicious Letter', 'Order of Protection Arrest', 'Interfering', 'Traffic Crash Arrest', 'Theft of Lost or Mislaid Property', 'Purse Snatch', 'Obstruct Police Officer', 'Robbery-Aggravated', 'Fraud', 'Lost Property', 'Police Officer', 'Non- Criminal', 'Aggravated Criminal Sexual Assault', 'Possession of Lost', 'Resisting Arrest', 'Weapon Recovery', 'Hazardous Material Incident', 'Expired License', 'Arson', 'Harassing Message', 'Found Suspect Narcotic', 'Fire Alarm', 'Burglary', 'Possession of Stolen Motor Vehicle', 'Unlawful Discharge of a Weapon', 'Medical Call', 'Sexual Assault', 'Hit and Run Property Damage', 'Other Offense', 'Deceptive', 'Unlawful Discharge of Firearm', 'Possession of Narcotic', 'Simple Assault', 'DUI', 'Possession of a Controlled Substance', 'Battery-Simple', 'Non-Criminal Damage', 'Assist Other Agency', 'Traffic and Warrant Arrest', 'Miscellaneous Incident', 'Recovered Vehicle', 'Information Harassment', 'Damage to City Property', 'Mental Health Call', 'Aggravated Assault', 'Counterfeit Document', 'Accidental', 'Impersonation', 'Threat', 'Interference with Police Officer', 'Criminal Trespass to Land', 'Damage to Vehicle', 'Disturbance', 'Recovered Motor Vehicle', 'Aggravated Battery of a Protected Employee', 'Narcotic Arrest', 'Reckless Conduct', 'Lost Wallet', 'Traffic Collision', 'UCPD Arrest Warrant', 'Luring a Minor', 'Motor Vehicle Accident', 'Found Key', 'Forged Prescription', 'Lost', 'Accidental Injury', 'Non-Criminal Damage to Vehicle', 'Notification of Order of Protection', 'Non-Criminal Report', 'Stuck Elevator', 'Trespass to Vehicle', 'Possession of Stolen Property', 'Attempted Aggravated Vehicular Hijacking', 'Public Way', 'Attempted Home Invasion', 'Attempted Burglary', 'Telephone Threat', 'Outside Agency Warrant Arrest', 'Attempted Theft from Motor Vehicle', 'Domestic', 'Obstructing a Peace Officer', 'Home Invasion', 'Mental Health', 'Possession of Cannabis', 'Motor Vehicle Theft and Recovery', 'Criminal Defacement', 'Theft of Motor Vehicle', 'Recovery', 'Delayed Robbery', 'Foreign Steal', 'Failure to Register', 'Death Investigation', 'Arrest on Warrant', 'False Police Report', 'Cyber Scam', 'Information Report', 'Possession of Marijuana', 'Noise Complaint', 'Public Indecency', 'Theft of Motorcycle', 'Extortion', 'Recovered Firearm', 'Attempted Theft', 'Other', 'Damage to Personal Property', 'Suspicious Activity', 'Harassing Phone Call', 'Vehicle Recovery', 'Assist Other Agency Motor Vehicle Theft and Recovery', 'Other Crime Vs. Person', 'Aggravated Assault of Police Officer', 'Accidental Fire', 'Motor Vehicle Theft', 'Harassment Via Electronic Means', 'Vehicle Crash', 'Automobile', 'Credit Card Fraud', 'Theft of Service', 'Arson by Fire', 'Reckless Discharge of Firearm', 'Domestic Dispute', 'Disorderly Conduct', 'Personal Injury', 'Robbery Arrest', 'Criminal Damage to Property', 'Attempted', 'Traffic', 'Hit Tand Run', 'Irregular Condition', 'Haz Mat Incident', 'Attempted Armed Robbery', 'Damage to UC Property', 'Weapon Arrest', 'Chemical Spill', 'Other Non-Criminal Property', 'Attempted Robbery', 'Possession of Narcotic with Intent to Deliver', 'Non-Criminal Event', 'Reckless Driving', 'Suspect Narcotic Found', 'Property Damage Only', 'Unlawful Possession of Firearm', 'Illegal Consumption by Minor', 'Attempted Vehicular Hijacking', 'Harassing Email', 'Threat by Electronic Means', 'Harassing Email Message', 'Attempted Motor Vehicle Theft', 'Eavesdropping', 'Bomb Threat', 'Telephone Harassment', 'Reckless Discharge of a Weapon', 'Criminal Damage to Motor Vehicle', 'Theft of Lost', 'Unlawful Discharge of Weapon', 'Non-Criminal Complaint', 'Non-Criminal Damage to Property', 'Armed Robbery', 'Miscellaneous', 'Prohibited Zone', 'Violation of Order of Protection', 'Theft', 'Aggravated Domestic Assault', 'Unlawful Possession of a Handgun', 'Found Narcotic', 'Missing Person', 'Pedestrian', 'Fraudulent Check', 'Trespass Warning', 'Person Down', 'Indecent Exposure', 'Strong Armed', 'Resisting Police', 'Unauthorized Use of Computer', 'Obstructing Police', 'Drug Law Violation', 'Safety Hazard', 'Sex Related', 'Unlawful Possession of Weapon', 'Simple Assault Battery', 'Warrant', 'Hit and Run Traffic Crash', 'Missing Person Found', 'Other Crime', 'Ambulance Request', 'Found Wallet', 'Trespass to Land', 'Other Violation', 'Non-Criminal Fire', 'Other Crime against Person', 'Attempted Sexual Assault', 'Suspicious Vehicle', 'Senior Citizen', 'Damaged Property', 'Possession of Controlled Substance', 'Traffic Violation and Warrant Arrest', 'Sexual Abuse', 'Accident Report', 'Criminal Sexual Assault', 'Attempted Aggravated Robbery', 'Property Damage', 'Haz-Mat Incident', 'Unlawful Possession of Ammunition', 'Property', 'Fondling', 'Vehicle Fire', 'Possession of Drug Paraphernalia', 'Trespass to Motor Vehicle', 'Warrant Arrest', 'Liquor Law Violation', 'Hate Crime', 'Obscene Phone Call', 'Narcotic Delivery', 'Non-Criminal Other', 'Suspicious Package', 'Aggravated Vehicular Carjacking', 'Robbery', 'Suspect Narcotic', 'Haz Mat', 'Weapon Violation', 'Found', 'Criminal Trespass to Motor Vehicle', 'Vehicular Carjacking', 'Non-Criminal Property', 'Assault and Harassment by Electronic Means', 'Murder', 'Simple', 'Traffic Crash Report', 'Domestic Aggravated Battery', 'Computer Fraud', 'Threatening Call', 'Personation of Peace Officer', 'Theft from Person', 'Delayed Burglary', 'Delayed', 'Fire', 'Damage to Property', 'Arrest', 'Non-Criminal Property Damage', 'Deliver Narcotic', 'Traffic Crash Hit and Run', 'Traffic Offense', 'Found Drug Paraphernalia', 'Robbery-Strong Arm', 'Theft from Motor Vehicle', 'Haz Mat Event', 'Minor Injury', 'Mental Health Transport', 'Missing Property', 'Trespass', 'Theft by Deception', 'Homicide', 'Other Dangerous Weapon', 'Financial Identity Theft', 'Theft and Recovery of Motor Vehicle', 'Obstructing Peace Officer', 'Harassment by Telephone', 'Vehicle Hijacking', 'Non-Criminal Missing Property', 'Sex Crime', 'Unlawful Use of a Weapon', 'DUI Arrest', 'Unlawful Discharge of a Firearm', 'Dog Bite', 'Smoke', 'Hit and Run', 'Cutting Instrument', 'Criminal Trespass to Vehicle', 'Unlawful Possession of a Weapon', 'Carjacking'}\n"
          ]
        }
      ],
      "source": [
        "print(list_to_parsed_set(all_df[\"incident\"].to_list()))"
      ]
    },
    {
      "cell_type": "code",
      "execution_count": 8,
      "id": "b897d37c17645dd0",
      "metadata": {
        "ExecuteTime": {
          "end_time": "2024-02-27T23:40:08.618055Z",
          "start_time": "2024-02-27T23:40:08.615392Z"
        },
        "collapsed": false
      },
      "outputs": [],
      "source": [
        "winter_df = all_df.filter(pl.col(\"season\") == \"Winter\")\n",
        "fall_df = all_df.filter(pl.col(\"season\") == \"Fall\")\n",
        "summer_df = all_df.filter(pl.col(\"season\") == \"Summer\")\n",
        "spring_df = all_df.filter(pl.col(\"season\") == \"Spring\")"
      ]
    },
    {
      "cell_type": "code",
      "execution_count": 8,
      "id": "be9d7e09c68101ee",
      "metadata": {
        "ExecuteTime": {
          "end_time": "2024-02-27T23:40:08.628715Z",
          "start_time": "2024-02-27T23:40:08.618145Z"
        },
        "collapsed": false
      },
      "outputs": [],
      "source": []
    }
  ],
  "metadata": {
    "kernelspec": {
      "display_name": "Python 3",
      "language": "python",
      "name": "python3"
    },
    "language_info": {
      "codemirror_mode": {
        "name": "ipython",
        "version": 2
      },
      "file_extension": ".py",
      "mimetype": "text/x-python",
      "name": "python",
      "nbconvert_exporter": "python",
      "pygments_lexer": "ipython2",
      "version": "2.7.6"
    }
  },
  "nbformat": 4,
  "nbformat_minor": 5
}
