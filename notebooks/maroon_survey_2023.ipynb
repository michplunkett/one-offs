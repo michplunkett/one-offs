{
 "cells": [
  {
   "cell_type": "markdown",
   "source": [
    "# Maroon Demographic Information"
   ],
   "metadata": {
    "collapsed": false
   }
  },
  {
   "cell_type": "code",
   "execution_count": 44,
   "outputs": [],
   "source": [
    "# Imports\n",
    "from inflection import pluralize, singularize, underscore\n",
    "import polars as pl\n",
    "\n",
    "from util.files import write_to_json\n",
    "\n",
    "# Constants\n",
    "BASE_DIR = \"../scratch\"\n",
    "COUNTS_COLUMN = \"counts\"\n",
    "EMPTY_STRING = \"\"\n",
    "NOT_APPLICABLE = \"n/a\""
   ],
   "metadata": {
    "collapsed": false
   }
  },
  {
   "cell_type": "code",
   "execution_count": 45,
   "outputs": [],
   "source": [
    "# Helper functions\n",
    "def list_to_parsed_list(unparsed_list, fuzzy_func):\n",
    "    parsed_list = []\n",
    "    for element in unparsed_list:\n",
    "        if (\n",
    "            element == EMPTY_STRING\n",
    "            or element.lower() == NOT_APPLICABLE\n",
    "            or element.lower() == \"undecided\"\n",
    "        ):\n",
    "            continue\n",
    "        if \",\" in element:\n",
    "            for p in element.lower().split(\",\"):\n",
    "                fmt_element = element.lower().strip()\n",
    "                if p != EMPTY_STRING:\n",
    "                    if fuzzy_func:\n",
    "                        parsed_list.append(fuzzy_func(fmt_element).title())\n",
    "                    else:\n",
    "                        parsed_list.append(fmt_element.title())\n",
    "        else:\n",
    "            fmt_element = element.lower().strip()\n",
    "            if fuzzy_func:\n",
    "                parsed_list.append(fuzzy_func(fmt_element).title())\n",
    "            else:\n",
    "                parsed_list.append(fmt_element.title())\n",
    "    return parsed_list\n",
    "\n",
    "\n",
    "def list_to_parsed_list_non_split(unparsed_list, fuzzy_func):\n",
    "    parsed_list = []\n",
    "    for element in unparsed_list:\n",
    "        if element == EMPTY_STRING or element.lower() == NOT_APPLICABLE:\n",
    "            continue\n",
    "\n",
    "        fmt_element = element.lower().strip()\n",
    "        if fuzzy_func:\n",
    "            parsed_list.append(fuzzy_func(fmt_element).title())\n",
    "        else:\n",
    "            parsed_list.append(fmt_element.title())\n",
    "    return parsed_list\n",
    "\n",
    "\n",
    "def fuzzy_study_match(major):\n",
    "    if major == \"cs\":\n",
    "        major = \"computer science\"\n",
    "    elif major in [\"lls\", \"llso\", \"law letters & society\"]:\n",
    "        major = \"law letters and society\"\n",
    "    elif \"econ\" in major:\n",
    "        major = \"economics\"\n",
    "    elif \"public policy\" in major:\n",
    "        major = \"public policy\"\n",
    "    elif \"history\" in major:\n",
    "        major = \"history\"\n",
    "    elif \"visual art\" in major:\n",
    "        major = \"visual art\"\n",
    "    elif \"creative writing\" in major:\n",
    "        major = \"english and creative writing\"\n",
    "    elif major == \"taps\":\n",
    "        major = \"theater and performance studies\"\n",
    "\n",
    "    return major\n",
    "\n",
    "\n",
    "def fuzzy_language_match(lang):\n",
    "    if \"cantonese\" in lang:\n",
    "        lang = \"cantonese\"\n",
    "    elif \"mandarin\" in lang:\n",
    "        lang = \"mandarin\"\n",
    "\n",
    "    return lang\n",
    "\n",
    "\n",
    "def pl_count_to_obj_list(pl_dict):\n",
    "    column_name = \"\"\n",
    "    for k in [k for k in pl_dict.keys() if k != COUNTS_COLUMN]:\n",
    "        column_name = k\n",
    "\n",
    "    obj_list = []\n",
    "    for i in range(len(pl_dict[COUNTS_COLUMN])):\n",
    "        obj_list.append(\n",
    "            {\n",
    "                column_name: pl_dict[column_name][i],\n",
    "                \"weight\": pl_dict[COUNTS_COLUMN][i],\n",
    "            }\n",
    "        )\n",
    "\n",
    "    return obj_list\n",
    "\n",
    "def isolate_column_counts(original_col_name:str, file_name:str = \"\"):\n",
    "    new_col_name = underscore(singularize(original_col_name))\n",
    "\n",
    "    col_value_counts = pl.Series(\n",
    "        list_to_parsed_list(df[original_col_name].to_list(), fuzzy_study_match)\n",
    "    ).value_counts()\n",
    "    col_value_counts.columns = [new_col_name, COUNTS_COLUMN]\n",
    "\n",
    "    if file_name == \"\":\n",
    "        file_name = pluralize(new_col_name)\n",
    "\n",
    "    write_to_json(\n",
    "        f\"{BASE_DIR}/{file_name}.json\",\n",
    "        pl_count_to_obj_list(col_value_counts.to_dict(as_series=False)),\n",
    "    )"
   ],
   "metadata": {
    "collapsed": false
   }
  },
  {
   "cell_type": "code",
   "execution_count": 46,
   "id": "99394851",
   "metadata": {},
   "outputs": [],
   "source": [
    "# Dealing with and parsing data\n",
    "# Read file\n",
    "df = pl.read_csv(f\"{BASE_DIR}/Maroon_2023_Staff_Survey.csv\")\n",
    "\n",
    "# Make Timestamp a DateTime\n",
    "df = df.with_columns(\n",
    "    pl.col(\"Timestamp\")\n",
    "    .str.strptime(\n",
    "        dtype=pl.Datetime, format=\"%Y/%m/%d %l:%M:%S %p %Z\", strict=False\n",
    "    )\n",
    "    .cast(pl.Datetime)\n",
    ")"
   ]
  },
  {
   "cell_type": "code",
   "execution_count": 47,
   "outputs": [],
   "source": [
    "isolate_column_counts(\"Majors\")"
   ],
   "metadata": {
    "collapsed": false
   }
  },
  {
   "cell_type": "code",
   "execution_count": 48,
   "outputs": [],
   "source": [
    "isolate_column_counts(\"Minors\")"
   ],
   "metadata": {
    "collapsed": false
   }
  },
  {
   "cell_type": "code",
   "execution_count": 49,
   "outputs": [],
   "source": [
    "isolate_column_counts(\"FluentLanguages\")"
   ],
   "metadata": {
    "collapsed": false
   }
  },
  {
   "cell_type": "code",
   "execution_count": 50,
   "outputs": [],
   "source": [
    "isolate_column_counts(\"MaroonInAWord\", \"maroon_in_a_word\")"
   ],
   "metadata": {
    "collapsed": false
   }
  },
  {
   "cell_type": "code",
   "execution_count": 51,
   "outputs": [],
   "source": [
    "isolate_column_counts(\"RaceEthnicity\", \"race_ethnicity\")"
   ],
   "metadata": {
    "collapsed": false
   }
  },
  {
   "cell_type": "code",
   "execution_count": 52,
   "outputs": [],
   "source": [
    "isolate_column_counts(\"HispanicLatino\", \"hispanic_latino\")"
   ],
   "metadata": {
    "collapsed": false
   }
  },
  {
   "cell_type": "code",
   "execution_count": 53,
   "outputs": [],
   "source": [
    "isolate_column_counts(\"HighSchoolType\")"
   ],
   "metadata": {
    "collapsed": false
   }
  },
  {
   "cell_type": "code",
   "execution_count": 54,
   "outputs": [],
   "source": [
    "isolate_column_counts(\"USRegion\", \"us_region\")"
   ],
   "metadata": {
    "collapsed": false
   }
  },
  {
   "cell_type": "code",
   "execution_count": 55,
   "outputs": [],
   "source": [
    "isolate_column_counts(\"GenderIdentity\")"
   ],
   "metadata": {
    "collapsed": false
   }
  },
  {
   "cell_type": "code",
   "execution_count": 56,
   "outputs": [],
   "source": [
    "isolate_column_counts(\"SexualOrientation\")"
   ],
   "metadata": {
    "collapsed": false
   }
  },
  {
   "cell_type": "code",
   "execution_count": 57,
   "outputs": [],
   "source": [
    "isolate_column_counts(\"FGLI\", \"fgli\")"
   ],
   "metadata": {
    "collapsed": false
   }
  },
  {
   "cell_type": "code",
   "execution_count": 58,
   "outputs": [],
   "source": [
    "isolate_column_counts(\"FederalFinancialAide\", \"federal_aide\")"
   ],
   "metadata": {
    "collapsed": false
   }
  },
  {
   "cell_type": "code",
   "execution_count": 59,
   "outputs": [],
   "source": [
    "isolate_column_counts(\"FamilyIncome\")"
   ],
   "metadata": {
    "collapsed": false
   }
  },
  {
   "cell_type": "code",
   "execution_count": 60,
   "outputs": [],
   "source": [
    "isolate_column_counts(\"RSOsExternalOrgs\", \"rsos\")"
   ],
   "metadata": {
    "collapsed": false
   }
  },
  {
   "cell_type": "code",
   "execution_count": 61,
   "outputs": [],
   "source": [
    "isolate_column_counts(\"CanVoteAtMaroon\", \"can_vote\")"
   ],
   "metadata": {
    "collapsed": false
   }
  },
  {
   "cell_type": "code",
   "execution_count": 62,
   "outputs": [],
   "source": [
    "isolate_column_counts(\"MaroonHelpApplications\", \"helps_applications\")"
   ],
   "metadata": {
    "collapsed": false
   }
  },
  {
   "cell_type": "code",
   "execution_count": 63,
   "outputs": [],
   "source": [
    "isolate_column_counts(\"CitizenshipStatus\")"
   ],
   "metadata": {
    "collapsed": false
   }
  },
  {
   "cell_type": "code",
   "execution_count": 63,
   "outputs": [],
   "source": [],
   "metadata": {
    "collapsed": false
   }
  }
 ],
 "metadata": {
  "kernelspec": {
   "display_name": "Python 3 (ipykernel)",
   "language": "python",
   "name": "python3"
  },
  "language_info": {
   "codemirror_mode": {
    "name": "ipython",
    "version": 3
   },
   "file_extension": ".py",
   "mimetype": "text/x-python",
   "name": "python",
   "nbconvert_exporter": "python",
   "pygments_lexer": "ipython3",
   "version": "3.11.3"
  }
 },
 "nbformat": 4,
 "nbformat_minor": 5
}
