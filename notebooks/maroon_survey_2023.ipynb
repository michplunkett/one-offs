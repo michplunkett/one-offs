{
 "cells": [
  {
   "cell_type": "markdown",
   "source": [
    "# Maroon Demographic Information"
   ],
   "metadata": {
    "collapsed": false
   },
   "id": "c4fbf9ef8ba8d6a9"
  },
  {
   "cell_type": "code",
   "execution_count": 31,
   "outputs": [],
   "source": [
    "import polars as pl\n",
    "\n",
    "from util.files import write_to_json\n",
    "\n",
    "# Constants\n",
    "BASE_DIR = \"./data\"\n",
    "COUNTS_COLUMN = \"counts\"\n",
    "EMPTY_STRING = \"\"\n",
    "NOT_APPLICABLE = \"n/a\""
   ],
   "metadata": {
    "collapsed": false
   },
   "id": "82c7610c3b5679d4"
  },
  {
   "cell_type": "code",
   "execution_count": 32,
   "outputs": [],
   "source": [
    "# Helper functions\n",
    "def list_to_parsed_list(unparsed_list, fuzzy_func, delimiter=\",\"):\n",
    "    parsed_list = []\n",
    "    for element in unparsed_list:\n",
    "        if (\n",
    "            element == EMPTY_STRING\n",
    "            or element.lower() == NOT_APPLICABLE\n",
    "            or element.lower() == \"undecided\"\n",
    "        ):\n",
    "            continue\n",
    "        if delimiter in element:\n",
    "            for p in element.lower().split(delimiter):\n",
    "                fmt_element = p.lower().strip()\n",
    "                if p != EMPTY_STRING:\n",
    "                    if fuzzy_func:\n",
    "                        parsed_list.append(fuzzy_func(fmt_element).title())\n",
    "                    else:\n",
    "                        parsed_list.append(fmt_element.title())\n",
    "        else:\n",
    "            fmt_element = element.lower().strip()\n",
    "            if fuzzy_func:\n",
    "                parsed_list.append(fuzzy_func(fmt_element).title())\n",
    "            else:\n",
    "                parsed_list.append(fmt_element.title())\n",
    "    return parsed_list\n",
    "\n",
    "\n",
    "def list_to_parsed_list_non_split(unparsed_list, fuzzy_func):\n",
    "    parsed_list = []\n",
    "    for element in unparsed_list:\n",
    "        if element == EMPTY_STRING or element.lower() == NOT_APPLICABLE:\n",
    "            continue\n",
    "\n",
    "        fmt_element = element.lower().strip()\n",
    "        if fuzzy_func:\n",
    "            parsed_list.append(fuzzy_func(fmt_element).title())\n",
    "        else:\n",
    "            parsed_list.append(fmt_element.title())\n",
    "    return parsed_list\n",
    "\n",
    "\n",
    "def fuzzy_study_match(major):\n",
    "    if major == \"cs\":\n",
    "        major = \"computer science\"\n",
    "    elif major in [\"lls\", \"llso\", \"law letters & society\"]:\n",
    "        major = \"law letters and society\"\n",
    "    elif \"econ\" in major:\n",
    "        major = \"economics\"\n",
    "    elif \"public policy\" in major:\n",
    "        major = \"public policy\"\n",
    "    elif \"history\" in major:\n",
    "        major = \"history\"\n",
    "    elif \"visual art\" in major:\n",
    "        major = \"visual art\"\n",
    "    elif \"creative writing\" in major:\n",
    "        major = \"english and creative writing\"\n",
    "    elif major == \"taps\":\n",
    "        major = \"theater and performance studies\"\n",
    "\n",
    "    return major\n",
    "\n",
    "\n",
    "def fuzzy_language_match(lang):\n",
    "    if \"cantonese\" in lang:\n",
    "        lang = \"cantonese\"\n",
    "    elif \"mandarin\" in lang:\n",
    "        lang = \"mandarin\"\n",
    "\n",
    "    return lang\n",
    "\n",
    "\n",
    "def pl_count_to_obj_list(pl_dict):\n",
    "    column_name = \"\"\n",
    "    for k in [k for k in pl_dict.keys() if k != COUNTS_COLUMN]:\n",
    "        column_name = k\n",
    "\n",
    "    obj_list = []\n",
    "    for i in range(len(pl_dict[COUNTS_COLUMN])):\n",
    "        obj_list.append(\n",
    "            {\n",
    "                column_name: pl_dict[column_name][i],\n",
    "                \"weight\": pl_dict[COUNTS_COLUMN][i],\n",
    "            }\n",
    "        )\n",
    "\n",
    "    return obj_list"
   ],
   "metadata": {
    "collapsed": false
   },
   "id": "f4c24f0eec39c7e7"
  },
  {
   "cell_type": "code",
   "execution_count": 33,
   "id": "99394851",
   "metadata": {},
   "outputs": [],
   "source": [
    "# Dealing with and parsing data\n",
    "# Read file\n",
    "df = pl.read_csv(f\"{BASE_DIR}/Maroon_2023_Staff_Survey.csv\")\n",
    "\n",
    "# Make Timestamp a DateTime\n",
    "df = df.with_columns(\n",
    "    pl.col(\"Timestamp\")\n",
    "    .str.strptime(\n",
    "        dtype=pl.Datetime, format=\"%Y/%m/%d %l:%M:%S %p %Z\", strict=False\n",
    "    )\n",
    "    .cast(pl.Datetime)\n",
    ")"
   ]
  },
  {
   "cell_type": "code",
   "execution_count": 34,
   "outputs": [],
   "source": [
    "majors = pl.Series(\n",
    "    list_to_parsed_list(df[\"Majors\"].to_list(), fuzzy_study_match)\n",
    ").value_counts()\n",
    "majors.columns = [\"major\", COUNTS_COLUMN]\n",
    "write_to_json(\n",
    "    f\"{BASE_DIR}/majors.json\",\n",
    "    pl_count_to_obj_list(majors.to_dict(as_series=False)),\n",
    ")"
   ],
   "metadata": {
    "collapsed": false
   },
   "id": "38bd9c59d7ab49dc"
  },
  {
   "cell_type": "code",
   "execution_count": 35,
   "outputs": [],
   "source": [
    "minors = pl.Series(\n",
    "    list_to_parsed_list(df[\"Minors\"].to_list(), fuzzy_study_match)\n",
    ").value_counts()\n",
    "minors.columns = [\"minor\", COUNTS_COLUMN]\n",
    "write_to_json(\n",
    "    f\"{BASE_DIR}/minors.json\",\n",
    "    pl_count_to_obj_list(minors.to_dict(as_series=False)),\n",
    ")"
   ],
   "metadata": {
    "collapsed": false
   },
   "id": "de462fad26b9558e"
  },
  {
   "cell_type": "code",
   "execution_count": 36,
   "outputs": [],
   "source": [
    "languages = pl.Series(\n",
    "    list_to_parsed_list(\n",
    "        [v for v in df[\"FluentLanguages\"].to_list() if v != EMPTY_STRING],\n",
    "        fuzzy_language_match,\n",
    "    )\n",
    ").value_counts()\n",
    "languages.columns = [\"fluent_language\", COUNTS_COLUMN]\n",
    "write_to_json(\n",
    "    f\"{BASE_DIR}/fluent_languages.json\",\n",
    "    pl_count_to_obj_list(languages.to_dict(as_series=False)),\n",
    ")"
   ],
   "metadata": {
    "collapsed": false
   },
   "id": "13e0b1e5917a55bd"
  },
  {
   "cell_type": "code",
   "execution_count": 37,
   "outputs": [],
   "source": [
    "maroon_in_word = pl.Series(\n",
    "    list_to_parsed_list(\n",
    "        [v for v in df[\"MaroonInAWord\"].to_list() if v != EMPTY_STRING], None\n",
    "    )\n",
    ").value_counts()\n",
    "maroon_in_word.columns = [\"maroon_in_a_word\", COUNTS_COLUMN]\n",
    "write_to_json(\n",
    "    f\"{BASE_DIR}/maroon_in_a_word.json\",\n",
    "    pl_count_to_obj_list(maroon_in_word.to_dict(as_series=False)),\n",
    ")"
   ],
   "metadata": {
    "collapsed": false
   },
   "id": "f5bdf4fea24f29a1"
  },
  {
   "cell_type": "code",
   "execution_count": 38,
   "outputs": [],
   "source": [
    "race_ethnicity = pl.Series(\n",
    "    list_to_parsed_list_non_split(\n",
    "        [v for v in df[\"RaceEthnicity\"].to_list() if v != EMPTY_STRING], None\n",
    "    )\n",
    ").value_counts()\n",
    "race_ethnicity.columns = [\"race_ethnicity\", COUNTS_COLUMN]\n",
    "write_to_json(\n",
    "    f\"{BASE_DIR}/race_ethnicity.json\",\n",
    "    pl_count_to_obj_list(race_ethnicity.to_dict(as_series=False)),\n",
    ")"
   ],
   "metadata": {
    "collapsed": false
   },
   "id": "3e77f8b0ffd50c3c"
  },
  {
   "cell_type": "code",
   "execution_count": 39,
   "outputs": [],
   "source": [
    "hispanic_latino = pl.Series(\n",
    "    list_to_parsed_list_non_split(\n",
    "        [v for v in df[\"HispanicLatino\"].to_list() if v != EMPTY_STRING], None\n",
    "    )\n",
    ").value_counts()\n",
    "hispanic_latino.columns = [\"hispanic_latino\", COUNTS_COLUMN]\n",
    "write_to_json(\n",
    "    f\"{BASE_DIR}/hispanic_latino.json\",\n",
    "    pl_count_to_obj_list(hispanic_latino.to_dict(as_series=False)),\n",
    ")"
   ],
   "metadata": {
    "collapsed": false
   },
   "id": "50e44535dd1a053d"
  },
  {
   "cell_type": "code",
   "execution_count": 40,
   "outputs": [],
   "source": [
    "high_school = pl.Series(\n",
    "    list_to_parsed_list_non_split(\n",
    "        [v for v in df[\"HighSchoolType\"].to_list() if v != EMPTY_STRING], None\n",
    "    )\n",
    ").value_counts()\n",
    "high_school.columns = [\"high_school_type\", COUNTS_COLUMN]\n",
    "write_to_json(\n",
    "    f\"{BASE_DIR}/high_school_type.json\",\n",
    "    pl_count_to_obj_list(high_school.to_dict(as_series=False)),\n",
    ")"
   ],
   "metadata": {
    "collapsed": false
   },
   "id": "7cbb543c673e2514"
  },
  {
   "cell_type": "code",
   "execution_count": 41,
   "outputs": [],
   "source": [
    "region = pl.Series(\n",
    "    list_to_parsed_list_non_split(\n",
    "        [v for v in df[\"USRegion\"].to_list() if v != EMPTY_STRING], None\n",
    "    )\n",
    ").value_counts()\n",
    "region.columns = [\"us_region\", COUNTS_COLUMN]\n",
    "write_to_json(\n",
    "    f\"{BASE_DIR}/us_region.json\",\n",
    "    pl_count_to_obj_list(region.to_dict(as_series=False)),\n",
    ")"
   ],
   "metadata": {
    "collapsed": false
   },
   "id": "c09a4a6b6e864770"
  },
  {
   "cell_type": "code",
   "execution_count": 42,
   "outputs": [],
   "source": [
    "gender = pl.Series(\n",
    "    list_to_parsed_list_non_split(\n",
    "        [v for v in df[\"GenderIdentity\"].to_list() if v != EMPTY_STRING], None\n",
    "    )\n",
    ").value_counts()\n",
    "gender.columns = [\"gender\", COUNTS_COLUMN]\n",
    "write_to_json(\n",
    "    f\"{BASE_DIR}/gender.json\",\n",
    "    pl_count_to_obj_list(gender.to_dict(as_series=False)),\n",
    ")"
   ],
   "metadata": {
    "collapsed": false
   },
   "id": "7faabc6574a4a760"
  },
  {
   "cell_type": "code",
   "execution_count": 43,
   "outputs": [],
   "source": [
    "# TODO: FIX THIS\n",
    "orientation = pl.Series(\n",
    "    list_to_parsed_list(\n",
    "        [v for v in df[\"SexualOrientation\"].to_list() if v != EMPTY_STRING],\n",
    "        None,\n",
    "        \";\",\n",
    "    )\n",
    ").value_counts()\n",
    "orientation.columns = [\"sexual_orientation\", COUNTS_COLUMN]\n",
    "write_to_json(\n",
    "    f\"{BASE_DIR}/sexual_orientations.json\",\n",
    "    pl_count_to_obj_list(orientation.to_dict(as_series=False)),\n",
    ")"
   ],
   "metadata": {
    "collapsed": false
   },
   "id": "53d286350c189156"
  },
  {
   "cell_type": "code",
   "execution_count": 44,
   "outputs": [],
   "source": [
    "fgli = pl.Series(\n",
    "    list_to_parsed_list_non_split(\n",
    "        [v for v in df[\"FGLI\"].to_list() if v != EMPTY_STRING], None\n",
    "    )\n",
    ").value_counts()\n",
    "fgli.columns = [\"fgli\", COUNTS_COLUMN]\n",
    "write_to_json(\n",
    "    f\"{BASE_DIR}/fgli.json\",\n",
    "    pl_count_to_obj_list(fgli.to_dict(as_series=False)),\n",
    ")"
   ],
   "metadata": {
    "collapsed": false
   },
   "id": "f5fd2ea62fe281ce"
  },
  {
   "cell_type": "code",
   "execution_count": 45,
   "outputs": [],
   "source": [
    "federal_aid = pl.Series(\n",
    "    list_to_parsed_list_non_split(\n",
    "        [v for v in df[\"FederalFinancialAide\"].to_list() if v != EMPTY_STRING],\n",
    "        None,\n",
    "    )\n",
    ").value_counts()\n",
    "federal_aid.columns = [\"federal_financial_aide\", COUNTS_COLUMN]\n",
    "write_to_json(\n",
    "    f\"{BASE_DIR}/federal_financial_aide.json\",\n",
    "    pl_count_to_obj_list(federal_aid.to_dict(as_series=False)),\n",
    ")"
   ],
   "metadata": {
    "collapsed": false
   },
   "id": "bfdd7f824d0fb33c"
  },
  {
   "cell_type": "code",
   "execution_count": 46,
   "outputs": [],
   "source": [
    "family_income = pl.Series(\n",
    "    list_to_parsed_list_non_split(\n",
    "        [v for v in df[\"FamilyIncome\"].to_list() if v != EMPTY_STRING], None\n",
    "    )\n",
    ").value_counts()\n",
    "family_income.columns = [\"family_income\", COUNTS_COLUMN]\n",
    "write_to_json(\n",
    "    f\"{BASE_DIR}/family_income.json\",\n",
    "    pl_count_to_obj_list(family_income.to_dict(as_series=False)),\n",
    ")"
   ],
   "metadata": {
    "collapsed": false
   },
   "id": "d89ee61c08648a84"
  },
  {
   "cell_type": "code",
   "execution_count": 47,
   "outputs": [],
   "source": [
    "rsos = pl.Series(\n",
    "    list_to_parsed_list_non_split(\n",
    "        [v for v in df[\"RSOsExternalOrgs\"].to_list() if v != EMPTY_STRING], None\n",
    "    )\n",
    ").value_counts()\n",
    "rsos.columns = [\"rsos\", COUNTS_COLUMN]\n",
    "write_to_json(\n",
    "    f\"{BASE_DIR}/rsos.json\",\n",
    "    pl_count_to_obj_list(rsos.to_dict(as_series=False)),\n",
    ")"
   ],
   "metadata": {
    "collapsed": false
   },
   "id": "6b33740aa99800ab"
  },
  {
   "cell_type": "code",
   "execution_count": 48,
   "outputs": [],
   "source": [
    "can_vote = pl.Series(\n",
    "    list_to_parsed_list_non_split(\n",
    "        [v for v in df[\"CanVoteAtMaroon\"].to_list() if v != EMPTY_STRING], None\n",
    "    )\n",
    ").value_counts()\n",
    "can_vote.columns = [\"can_vote_at_maroon\", COUNTS_COLUMN]\n",
    "write_to_json(\n",
    "    f\"{BASE_DIR}/can_vote_at_maroon.json\",\n",
    "    pl_count_to_obj_list(can_vote.to_dict(as_series=False)),\n",
    ")"
   ],
   "metadata": {
    "collapsed": false
   },
   "id": "2b311c093c8881e6"
  },
  {
   "cell_type": "code",
   "execution_count": 49,
   "outputs": [],
   "source": [
    "help_applications = pl.Series(\n",
    "    list_to_parsed_list_non_split(\n",
    "        [\n",
    "            v\n",
    "            for v in df[\"MaroonHelpApplications\"].to_list()\n",
    "            if v != EMPTY_STRING\n",
    "        ],\n",
    "        None,\n",
    "    )\n",
    ").value_counts()\n",
    "help_applications.columns = [\"maroon_helps_applications\", COUNTS_COLUMN]\n",
    "write_to_json(\n",
    "    f\"{BASE_DIR}/helps_applications.json\",\n",
    "    pl_count_to_obj_list(help_applications.to_dict(as_series=False)),\n",
    ")"
   ],
   "metadata": {
    "collapsed": false
   },
   "id": "c3fc91cbd0f844cd"
  },
  {
   "cell_type": "code",
   "execution_count": 50,
   "outputs": [],
   "source": [
    "can_vote = pl.Series(\n",
    "    list_to_parsed_list_non_split(\n",
    "        [v for v in df[\"CitizenshipStatus\"].to_list() if v != EMPTY_STRING],\n",
    "        None,\n",
    "    )\n",
    ").value_counts()\n",
    "can_vote.columns = [\"citizenship_status\", COUNTS_COLUMN]\n",
    "write_to_json(\n",
    "    f\"{BASE_DIR}/citizenship_statuses.json\",\n",
    "    pl_count_to_obj_list(can_vote.to_dict(as_series=False)),\n",
    ")"
   ],
   "metadata": {
    "collapsed": false
   },
   "id": "b202e7795aecfd59"
  },
  {
   "cell_type": "code",
   "execution_count": 51,
   "outputs": [],
   "source": [
    "can_vote = pl.Series(\n",
    "    list_to_parsed_list_non_split(\n",
    "        [v for v in df[\"USGeneration\"].to_list() if v != EMPTY_STRING], None\n",
    "    )\n",
    ").value_counts()\n",
    "can_vote.columns = [\"us_generation_status\", COUNTS_COLUMN]\n",
    "write_to_json(\n",
    "    f\"{BASE_DIR}/us_generation_statuses.json\",\n",
    "    pl_count_to_obj_list(can_vote.to_dict(as_series=False)),\n",
    ")"
   ],
   "metadata": {
    "collapsed": false
   },
   "id": "209ba07000524404"
  },
  {
   "cell_type": "code",
   "execution_count": 52,
   "outputs": [],
   "source": [
    "can_vote = pl.Series(\n",
    "    list_to_parsed_list_non_split(\n",
    "        [v for v in df[\"YearsAtMaroon\"].to_list() if v != EMPTY_STRING], None\n",
    "    )\n",
    ").value_counts()\n",
    "can_vote.columns = [\"years_at_maroon\", COUNTS_COLUMN]\n",
    "write_to_json(\n",
    "    f\"{BASE_DIR}/years_at_maroon.json\",\n",
    "    pl_count_to_obj_list(can_vote.to_dict(as_series=False)),\n",
    ")"
   ],
   "metadata": {
    "collapsed": false
   },
   "id": "d6a255dd4535ac2a"
  },
  {
   "cell_type": "code",
   "execution_count": 52,
   "outputs": [],
   "source": [],
   "metadata": {
    "collapsed": false
   },
   "id": "a3689d44e1bcc1a2"
  }
 ],
 "metadata": {
  "kernelspec": {
   "display_name": "Python 3 (ipykernel)",
   "language": "python",
   "name": "python3"
  },
  "language_info": {
   "codemirror_mode": {
    "name": "ipython",
    "version": 3
   },
   "file_extension": ".py",
   "mimetype": "text/x-python",
   "name": "python",
   "nbconvert_exporter": "python",
   "pygments_lexer": "ipython3",
   "version": "3.11.3"
  }
 },
 "nbformat": 4,
 "nbformat_minor": 5
}
