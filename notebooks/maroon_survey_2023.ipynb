{
 "cells": [
  {
   "cell_type": "markdown",
   "source": [
    "# Maroon Demographic Information"
   ],
   "metadata": {
    "collapsed": false
   }
  },
  {
   "cell_type": "code",
   "execution_count": 9,
   "outputs": [],
   "source": [
    "# Imports\n",
    "import polars as pl\n",
    "\n",
    "from util.files import write_to_json\n",
    "\n",
    "# Constants\n",
    "BASE_DIR = \"../scratch\"\n",
    "COUNTS_COLUMN = \"counts\"\n",
    "EMPTY_STRING = \"\"\n",
    "NOT_APPLICABLE = \"n/a\""
   ],
   "metadata": {
    "collapsed": false
   }
  },
  {
   "cell_type": "code",
   "execution_count": 10,
   "outputs": [],
   "source": [
    "# Helper functions\n",
    "def list_to_parsed_list(unparsed_list, fuzzy_func):\n",
    "    parsed_list = []\n",
    "    for element in unparsed_list:\n",
    "        if (\n",
    "            element == EMPTY_STRING\n",
    "            or element.lower() == NOT_APPLICABLE\n",
    "            or element.lower() == \"undecided\"\n",
    "        ):\n",
    "            continue\n",
    "        if \",\" in element:\n",
    "            for p in element.lower().split(\",\"):\n",
    "                fmt_element = element.lower().strip()\n",
    "                if p != EMPTY_STRING:\n",
    "                    if fuzzy_func:\n",
    "                        parsed_list.append(fuzzy_func(fmt_element).title())\n",
    "                    else:\n",
    "                        parsed_list.append(fmt_element.title())\n",
    "        else:\n",
    "            fmt_element = element.lower().strip()\n",
    "            if fuzzy_func:\n",
    "                parsed_list.append(fuzzy_func(fmt_element).title())\n",
    "            else:\n",
    "                parsed_list.append(fmt_element.title())\n",
    "    return parsed_list\n",
    "\n",
    "\n",
    "def list_to_parsed_list_non_split(unparsed_list, fuzzy_func):\n",
    "    parsed_list = []\n",
    "    for element in unparsed_list:\n",
    "        if element == EMPTY_STRING or element.lower() == NOT_APPLICABLE:\n",
    "            continue\n",
    "\n",
    "        fmt_element = element.lower().strip()\n",
    "        if fuzzy_func:\n",
    "            parsed_list.append(fuzzy_func(fmt_element).title())\n",
    "        else:\n",
    "            parsed_list.append(fmt_element.title())\n",
    "    return parsed_list\n",
    "\n",
    "\n",
    "def fuzzy_study_match(major):\n",
    "    if major == \"cs\":\n",
    "        major = \"computer science\"\n",
    "    elif major in [\"lls\", \"llso\", \"law letters & society\"]:\n",
    "        major = \"law letters and society\"\n",
    "    elif \"econ\" in major:\n",
    "        major = \"economics\"\n",
    "    elif \"public policy\" in major:\n",
    "        major = \"public policy\"\n",
    "    elif \"history\" in major:\n",
    "        major = \"history\"\n",
    "    elif \"visual art\" in major:\n",
    "        major = \"visual art\"\n",
    "    elif \"creative writing\" in major:\n",
    "        major = \"english and creative writing\"\n",
    "    elif major == \"taps\":\n",
    "        major = \"theater and performance studies\"\n",
    "\n",
    "    return major\n",
    "\n",
    "\n",
    "def fuzzy_language_match(lang):\n",
    "    if \"cantonese\" in lang:\n",
    "        lang = \"cantonese\"\n",
    "    elif \"mandarin\" in lang:\n",
    "        lang = \"mandarin\"\n",
    "\n",
    "    return lang\n",
    "\n",
    "\n",
    "def pl_count_to_obj_list(pl_dict):\n",
    "    column_name = \"\"\n",
    "    for k in [k for k in pl_dict.keys() if k != COUNTS_COLUMN]:\n",
    "        column_name = k\n",
    "\n",
    "    obj_list = []\n",
    "    for i in range(len(pl_dict[COUNTS_COLUMN])):\n",
    "        obj_list.append(\n",
    "            {\n",
    "                column_name: pl_dict[column_name][i],\n",
    "                \"weight\": pl_dict[COUNTS_COLUMN][i],\n",
    "            }\n",
    "        )\n",
    "\n",
    "    return obj_list"
   ],
   "metadata": {
    "collapsed": false
   }
  },
  {
   "cell_type": "code",
   "execution_count": 11,
   "id": "99394851",
   "metadata": {},
   "outputs": [],
   "source": [
    "# Dealing with and parsing data\n",
    "# Read file\n",
    "df = pl.read_csv(f\"{BASE_DIR}/Maroon_2023_Staff_Survey.csv\")\n",
    "\n",
    "# Make Timestamp a DateTime\n",
    "df = df.with_columns(\n",
    "    pl.col(\"Timestamp\")\n",
    "    .str.strptime(\n",
    "        dtype=pl.Datetime, format=\"%Y/%m/%d %l:%M:%S %p %Z\", strict=False\n",
    "    )\n",
    "    .cast(pl.Datetime)\n",
    ")"
   ]
  },
  {
   "cell_type": "code",
   "execution_count": 12,
   "outputs": [],
   "source": [
    "majors = pl.Series(\n",
    "    list_to_parsed_list(df[\"Majors\"].to_list(), fuzzy_study_match)\n",
    ").value_counts()\n",
    "majors.columns = [\"major\", COUNTS_COLUMN]\n",
    "write_to_json(\n",
    "    f\"{BASE_DIR}/majors.json\",\n",
    "    pl_count_to_obj_list(majors.to_dict(as_series=False)),\n",
    ")"
   ],
   "metadata": {
    "collapsed": false
   }
  },
  {
   "cell_type": "code",
   "execution_count": null,
   "outputs": [],
   "source": [
    "minors = pl.Series(\n",
    "    list_to_parsed_list(df[\"Minors\"].to_list(), fuzzy_study_match)\n",
    ").value_counts()\n",
    "minors.columns = [\"minor\", COUNTS_COLUMN]\n",
    "write_to_json(\n",
    "    f\"{BASE_DIR}/minors.json\",\n",
    "    pl_count_to_obj_list(minors.to_dict(as_series=False)),\n",
    ")"
   ],
   "metadata": {
    "collapsed": false
   }
  },
  {
   "cell_type": "code",
   "execution_count": null,
   "outputs": [],
   "source": [
    "languages = pl.Series(\n",
    "    list_to_parsed_list(\n",
    "        [v for v in df[\"FluentLanguages\"].to_list() if v != EMPTY_STRING],\n",
    "        fuzzy_language_match,\n",
    "    )\n",
    ").value_counts()\n",
    "languages.columns = [\"language\", COUNTS_COLUMN]\n",
    "write_to_json(\n",
    "    f\"{BASE_DIR}/languages.json\",\n",
    "    pl_count_to_obj_list(languages.to_dict(as_series=False)),\n",
    ")"
   ],
   "metadata": {
    "collapsed": false
   }
  },
  {
   "cell_type": "code",
   "execution_count": null,
   "outputs": [],
   "source": [
    "maroon_in_word = pl.Series(\n",
    "    list_to_parsed_list(\n",
    "        [v for v in df[\"MaroonInAWord\"].to_list() if v != EMPTY_STRING], None\n",
    "    )\n",
    ").value_counts()\n",
    "maroon_in_word.columns = [\"descriptiveWord\", COUNTS_COLUMN]\n",
    "write_to_json(\n",
    "    f\"{BASE_DIR}/maroon_in_a_word.json\",\n",
    "    pl_count_to_obj_list(maroon_in_word.to_dict(as_series=False)),\n",
    ")"
   ],
   "metadata": {
    "collapsed": false
   }
  },
  {
   "cell_type": "code",
   "execution_count": null,
   "outputs": [],
   "source": [
    "race_ethnicity = pl.Series(\n",
    "    list_to_parsed_list_non_split(\n",
    "        [v for v in df[\"RaceEthnicity\"].to_list() if v != EMPTY_STRING], None\n",
    "    )\n",
    ").value_counts()\n",
    "race_ethnicity.columns = [\"raceEthnicity\", COUNTS_COLUMN]\n",
    "write_to_json(\n",
    "    f\"{BASE_DIR}/race_ethnicity.json\",\n",
    "    pl_count_to_obj_list(race_ethnicity.to_dict(as_series=False)),\n",
    ")"
   ],
   "metadata": {
    "collapsed": false
   }
  },
  {
   "cell_type": "code",
   "execution_count": null,
   "outputs": [],
   "source": [
    "hispanic_latino = pl.Series(\n",
    "    list_to_parsed_list_non_split(\n",
    "        [v for v in df[\"HispanicLatino\"].to_list() if v != EMPTY_STRING], None\n",
    "    )\n",
    ").value_counts()\n",
    "hispanic_latino.columns = [\"hispanicLatino\", COUNTS_COLUMN]\n",
    "write_to_json(\n",
    "    f\"{BASE_DIR}/hispanic_latino.json\",\n",
    "    pl_count_to_obj_list(hispanic_latino.to_dict(as_series=False)),\n",
    ")"
   ],
   "metadata": {
    "collapsed": false
   }
  },
  {
   "cell_type": "code",
   "execution_count": null,
   "outputs": [],
   "source": [
    "high_school = pl.Series(\n",
    "    list_to_parsed_list_non_split(\n",
    "        [v for v in df[\"HighSchoolType\"].to_list() if v != EMPTY_STRING], None\n",
    "    )\n",
    ").value_counts()\n",
    "high_school.columns = [\"highSchoolType\", COUNTS_COLUMN]\n",
    "write_to_json(\n",
    "    f\"{BASE_DIR}/high_school_type.json\",\n",
    "    pl_count_to_obj_list(high_school.to_dict(as_series=False)),\n",
    ")"
   ],
   "metadata": {
    "collapsed": false
   }
  },
  {
   "cell_type": "code",
   "execution_count": null,
   "outputs": [],
   "source": [
    "region = pl.Series(\n",
    "    list_to_parsed_list_non_split(\n",
    "        [v for v in df[\"USRegion\"].to_list() if v != EMPTY_STRING], None\n",
    "    )\n",
    ").value_counts()\n",
    "region.columns = [\"us_region\", COUNTS_COLUMN]\n",
    "write_to_json(\n",
    "    f\"{BASE_DIR}/us_region.json\",\n",
    "    pl_count_to_obj_list(region.to_dict(as_series=False)),\n",
    ")"
   ],
   "metadata": {
    "collapsed": false
   }
  },
  {
   "cell_type": "code",
   "execution_count": null,
   "outputs": [],
   "source": [
    "region = pl.Series(\n",
    "    list_to_parsed_list_non_split(\n",
    "        [v for v in df[\"USRegion\"].to_list() if v != EMPTY_STRING], None\n",
    "    )\n",
    ").value_counts()\n",
    "region.columns = [\"us_region\", COUNTS_COLUMN]\n",
    "write_to_json(\n",
    "    f\"{BASE_DIR}/us_region.json\",\n",
    "    pl_count_to_obj_list(region.to_dict(as_series=False)),\n",
    ")"
   ],
   "metadata": {
    "collapsed": false
   }
  },
  {
   "cell_type": "code",
   "execution_count": null,
   "outputs": [],
   "source": [
    "gender = pl.Series(\n",
    "    list_to_parsed_list_non_split(\n",
    "        [v for v in df[\"GenderIdentity\"].to_list() if v != EMPTY_STRING], None\n",
    "    )\n",
    ").value_counts()\n",
    "gender.columns = [\"gender\", COUNTS_COLUMN]\n",
    "write_to_json(\n",
    "    f\"{BASE_DIR}/gender.json\",\n",
    "    pl_count_to_obj_list(gender.to_dict(as_series=False)),\n",
    ")"
   ],
   "metadata": {
    "collapsed": false
   }
  },
  {
   "cell_type": "code",
   "execution_count": null,
   "outputs": [],
   "source": [
    "orientation = pl.Series(\n",
    "    list_to_parsed_list_non_split(\n",
    "        [v for v in df[\"SexualOrientation\"].to_list() if v != EMPTY_STRING],\n",
    "        None,\n",
    "    )\n",
    ").value_counts()\n",
    "orientation.columns = [\"orientation\", COUNTS_COLUMN]\n",
    "write_to_json(\n",
    "    f\"{BASE_DIR}/orientation.json\",\n",
    "    pl_count_to_obj_list(orientation.to_dict(as_series=False)),\n",
    ")"
   ],
   "metadata": {
    "collapsed": false
   }
  },
  {
   "cell_type": "code",
   "execution_count": null,
   "outputs": [],
   "source": [
    "fgli = pl.Series(\n",
    "    list_to_parsed_list_non_split(\n",
    "        [v for v in df[\"FGLI\"].to_list() if v != EMPTY_STRING], None\n",
    "    )\n",
    ").value_counts()\n",
    "fgli.columns = [\"fgli\", COUNTS_COLUMN]\n",
    "write_to_json(\n",
    "    f\"{BASE_DIR}/fgli.json\",\n",
    "    pl_count_to_obj_list(fgli.to_dict(as_series=False)),\n",
    ")"
   ],
   "metadata": {
    "collapsed": false
   }
  },
  {
   "cell_type": "code",
   "execution_count": null,
   "outputs": [],
   "source": [
    "federal_aid = pl.Series(\n",
    "    list_to_parsed_list_non_split(\n",
    "        [v for v in df[\"FederalFinancialAide\"].to_list() if v != EMPTY_STRING],\n",
    "        None,\n",
    "    )\n",
    ").value_counts()\n",
    "federal_aid.columns = [\"federal_fa\", COUNTS_COLUMN]\n",
    "write_to_json(\n",
    "    f\"{BASE_DIR}/federal_aid.json\",\n",
    "    pl_count_to_obj_list(federal_aid.to_dict(as_series=False)),\n",
    ")"
   ],
   "metadata": {
    "collapsed": false
   }
  },
  {
   "cell_type": "code",
   "execution_count": null,
   "outputs": [],
   "source": [
    "family_income = pl.Series(\n",
    "    list_to_parsed_list_non_split(\n",
    "        [v for v in df[\"FamilyIncome\"].to_list() if v != EMPTY_STRING], None\n",
    "    )\n",
    ").value_counts()\n",
    "family_income.columns = [\"family_income\", COUNTS_COLUMN]\n",
    "write_to_json(\n",
    "    f\"{BASE_DIR}/family_income.json\",\n",
    "    pl_count_to_obj_list(family_income.to_dict(as_series=False)),\n",
    ")"
   ],
   "metadata": {
    "collapsed": false
   }
  },
  {
   "cell_type": "code",
   "execution_count": null,
   "outputs": [],
   "source": [
    "rsos = pl.Series(\n",
    "    list_to_parsed_list_non_split(\n",
    "        [v for v in df[\"RSOsExternalOrgs\"].to_list() if v != EMPTY_STRING], None\n",
    "    )\n",
    ").value_counts()\n",
    "rsos.columns = [\"rsos\", COUNTS_COLUMN]\n",
    "write_to_json(\n",
    "    f\"{BASE_DIR}/rsos.json\",\n",
    "    pl_count_to_obj_list(rsos.to_dict(as_series=False)),\n",
    ")"
   ],
   "metadata": {
    "collapsed": false
   }
  },
  {
   "cell_type": "code",
   "execution_count": null,
   "outputs": [],
   "source": [
    "rsos = pl.Series(\n",
    "    list_to_parsed_list_non_split(\n",
    "        [v for v in df[\"RSOsExternalOrgs\"].to_list() if v != EMPTY_STRING], None\n",
    "    )\n",
    ").value_counts()\n",
    "rsos.columns = [\"rsos\", COUNTS_COLUMN]\n",
    "write_to_json(\n",
    "    f\"{BASE_DIR}/rsos.json\",\n",
    "    pl_count_to_obj_list(rsos.to_dict(as_series=False)),\n",
    ")"
   ],
   "metadata": {
    "collapsed": false
   }
  },
  {
   "cell_type": "code",
   "execution_count": null,
   "outputs": [],
   "source": [
    "can_vote = pl.Series(\n",
    "    list_to_parsed_list_non_split(\n",
    "        [v for v in df[\"CanVoteAtMaroon\"].to_list() if v != EMPTY_STRING], None\n",
    "    )\n",
    ").value_counts()\n",
    "can_vote.columns = [\"can_vote\", COUNTS_COLUMN]\n",
    "write_to_json(\n",
    "    f\"{BASE_DIR}/can_vote.json\",\n",
    "    pl_count_to_obj_list(can_vote.to_dict(as_series=False)),\n",
    ")"
   ],
   "metadata": {
    "collapsed": false
   }
  },
  {
   "cell_type": "code",
   "execution_count": null,
   "outputs": [],
   "source": [
    "help_applications = pl.Series(\n",
    "    list_to_parsed_list_non_split(\n",
    "        [\n",
    "            v\n",
    "            for v in df[\"MaroonHelpApplications\"].to_list()\n",
    "            if v != EMPTY_STRING\n",
    "        ],\n",
    "        None,\n",
    "    )\n",
    ").value_counts()\n",
    "help_applications.columns = [\"help_applications\", COUNTS_COLUMN]\n",
    "write_to_json(\n",
    "    f\"{BASE_DIR}/help_applications.json\",\n",
    "    pl_count_to_obj_list(help_applications.to_dict(as_series=False)),\n",
    ")"
   ],
   "metadata": {
    "collapsed": false
   }
  },
  {
   "cell_type": "code",
   "execution_count": null,
   "outputs": [],
   "source": [],
   "metadata": {
    "collapsed": false
   }
  }
 ],
 "metadata": {
  "kernelspec": {
   "display_name": "Python 3 (ipykernel)",
   "language": "python",
   "name": "python3"
  },
  "language_info": {
   "codemirror_mode": {
    "name": "ipython",
    "version": 3
   },
   "file_extension": ".py",
   "mimetype": "text/x-python",
   "name": "python",
   "nbconvert_exporter": "python",
   "pygments_lexer": "ipython3",
   "version": "3.11.3"
  }
 },
 "nbformat": 4,
 "nbformat_minor": 5
}
